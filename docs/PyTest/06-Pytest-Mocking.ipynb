{
 "cells": [
  {
   "cell_type": "markdown",
   "metadata": {},
   "source": [
    "## Mocking\n",
    "\n",
    "In `pytest`, `mocking` is a technique used to isolate test environments by replacing complex, unpredictable, or external system dependencies with objects that mimic the behavior of these dependencies in a controlled way.\n",
    "\n",
    "When We Need `Mocking`\n",
    "`Mocking` is particularly useful in the following scenarios:\n",
    "\n",
    "1. **External Dependencies**: When your code interacts with external systems like `web APIs`, `databases`, or `external libraries`, mocking these can help you test your code without the overhead or unpredictability of these systems.\n",
    "2. **Complex Internal Dependencies**: For complex modules or classes that your code depends on, mocking can help you simplify these dependencies to test specific functionality without the complexity.\n",
    "3. **Unpredictable Outcomes**: When dealing with dependencies that can produce unpredictable results (e.g., current date, random numbers), mocking can be used to produce predictable and testable outputs.\n",
    "4. **Side Effects**: If a function or method has side effects like modifying a file or database, mocking can be used to simulate these side effects without making actual changes.\n"
   ]
  },
  {
   "cell_type": "markdown",
   "metadata": {},
   "source": [
    "## Example with database\n",
    "\n",
    "1. In `service.py`, construct a function to get user from db\n"
   ]
  },
  {
   "cell_type": "code",
   "execution_count": null,
   "metadata": {},
   "outputs": [],
   "source": [
    "database = {\n",
    "    1: \"Alice\",\n",
    "    2: \"Bob\",    \n",
    "    3: \"Charlie\"\n",
    "}\n",
    "\n",
    "def get_user_from_db(user_id):\n",
    "    return database.get(user_id)"
   ]
  },
  {
   "cell_type": "markdown",
   "metadata": {},
   "source": [
    "2. Mock `get_user_from_db`\n",
    "\n",
    "```\n",
    "import service\n",
    "import pytest\n",
    "import unittest.mock as mock\n",
    "\n",
    "\n",
    "@mock.patch(\"service.get_user_from_db\")\n",
    "def test_get_user_from_db(mock_get_user_from_db):\n",
    "    mock_get_user_from_db.return_value = \"Mocked Alice\"\n",
    "    user_name = service.get_user_from_db(1)\n",
    "\n",
    "    assert user_name == \"Mocked Alice\"\n",
    "\n",
    "```\n",
    "\n",
    "1. `@mock.patch(\"service.get_user_from_db\")`: This is a decorator from the mock module used to replace the `get_user_from_db` function in the service module with a mock object during this test.\n",
    "\n",
    "   1. The original function is restored after the test completes. The mock object is passed as an argument to the test function, named `mock_get_user_from_db` here.\n",
    "\n",
    "2. Inside the function, `mock_get_user_from_db.return_value = \"Mocked Alice\"` sets the return value of the mock object.\n",
    "\n",
    "   1. When the `get_user_from_db` function is called within this test, it will return \"`Mocked Alice\"` instead of executing its real logic.\n",
    "   2. `user_name = service.get_user_from_db(1)`: Calls the mocked `get_user_from_db` function with an argument (1), which would typically represent a user ID. Due to mocking, the function returns `\"Mocked Alice\"`.\n",
    "\n",
    "3. assert `user_name == \"Mocked_Alice\"`: This assertion checks that the user_name variable equals `\"Mocked_Alice\"`. However, there's a typo here; the expected string should be `\"Mocked Alice\"` (with a space, not an underscore), matching the return_value set on the mock object.\n"
   ]
  },
  {
   "cell_type": "markdown",
   "metadata": {},
   "source": [
    "## Example with API\n"
   ]
  },
  {
   "cell_type": "markdown",
   "metadata": {},
   "source": [
    "1. Write the `get_user` function to be test\n",
    "\n",
    "   ```\n",
    "   def get_users():\n",
    "       response = requests.get(\"https://jsonplaceholder.typicode.com/users\")\n",
    "       if response.status_code == 200:\n",
    "           return response.json()\n",
    "\n",
    "       raise requests.HTTPError\n",
    "   ```\n",
    "\n",
    "2. Mock `requests.get` since we do not want to get data from online in this test\n",
    "\n",
    "   ```\n",
    "   @mock.patch(\"requests.get\")\n",
    "   def test_get_user(mock_get):\n",
    "       mock_response = mock.Mock()\n",
    "       mock_response.status_code = 200\n",
    "       mock_response.json.return_value = {\"id\":1,\"name\":\"Eric Yang\"}\n",
    "       mock_get.return_value = mock_response\n",
    "\n",
    "       data = service.get_users()\n",
    "       assert data == {\"id\":1,\"name\":\"Eric Yang\"}\n",
    "\n",
    "   @mock.patch(\"requests.get\")\n",
    "   def test_get_user_httperror(mock_get):\n",
    "       mock_response = mock.Mock()\n",
    "       mock_response.status_code = 404\n",
    "       mock_get.return_value = mock_response\n",
    "\n",
    "       with pytest.raises(requests.HTTPError):\n",
    "           service.get_users()\n",
    "   ```\n"
   ]
  }
 ],
 "metadata": {
  "language_info": {
   "name": "python"
  }
 },
 "nbformat": 4,
 "nbformat_minor": 2
}
