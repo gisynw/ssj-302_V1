{
 "cells": [
  {
   "cell_type": "markdown",
   "metadata": {},
   "source": [
    "## `Requesting` fixtures\n",
    "\n",
    "At a basic level, test functions request fixtures they require by declaring them as arguments.\n",
    "\n",
    "When `pytest` goes to run a test, it looks at the parameters in that test function’s signature, and then searches for `fixtures` that have the same names as those parameters. Once pytest finds them, it runs those fixtures, captures what they returned (if anything), and passes those objects into the test function as arguments.\n"
   ]
  },
  {
   "cell_type": "markdown",
   "metadata": {},
   "source": [
    "## `@pytest.fixture`\n"
   ]
  },
  {
   "cell_type": "markdown",
   "metadata": {},
   "source": [
    "Assume we add another class `Rectangle` into the `shapes.py`\n"
   ]
  },
  {
   "cell_type": "code",
   "execution_count": 3,
   "metadata": {},
   "outputs": [],
   "source": [
    "# code in shapes.py\n",
    "import math\n",
    "\n",
    "class Shape:\n",
    "    def area(self):\n",
    "        pass\n",
    "    def perimeter(self):\n",
    "        pass\n",
    "    \n",
    "class Circle(Shape):\n",
    "    def __init__(self, radius) -> None:\n",
    "        self.radius = radius\n",
    "    \n",
    "    def area(self):\n",
    "        return math.pi * (self.radius**2)\n",
    "    \n",
    "    def perimeter(self):\n",
    "        return 2 * math.pi * self.radius\n",
    "    \n",
    "class Rectangle(Shape):\n",
    "    def __init__(self,length,width) -> None:\n",
    "        self.length = length\n",
    "        self.width = width\n",
    "        \n",
    "    def area(self):\n",
    "        return self.length * self.width\n",
    "    \n",
    "    def perimeter(self):\n",
    "        return 2 * (self.length + self.width)\n",
    "    \n",
    "    def __eq__(self, other: object) -> bool:\n",
    "        if not isinstance(other,Rectangle):\n",
    "            return False\n",
    "        \n",
    "        return self.width == other.width and self.length == self.length"
   ]
  },
  {
   "attachments": {
    "image.png": {
     "image/png": "[encoded data removed]"
    }
   },
   "cell_type": "markdown",
   "metadata": {},
   "source": [
    "We can write a class-based test file, for example:\n",
    "\n",
    "```\n",
    "import pytest\n",
    "import shapes\n",
    "import math\n",
    "\n",
    "class TestRectangle:\n",
    "    def setup_rec(self):\n",
    "        self.rec = shapes.Rectangle(10,20)\n",
    "\n",
    "    def test_area(self):\n",
    "        assert self.rec.area == self.rec.length * self.rec.width\n",
    "\n",
    "    def test_perimeter(self):\n",
    "        assert self.rec.perimeter == 2 * (self.rec.length + self.rec.width)\n",
    "```\n",
    "\n",
    "In here, we use `setup` function to create a instance, but it only work in class-based test, what if we want to write function-based test?\n",
    "\n",
    "We use `@pytest.fixture`\n",
    "\n",
    "```\n",
    "@pytest.fixture\n",
    "def my_rec():\n",
    "    return shapes.Rectangle(10,20)\n",
    "\n",
    "@pytest.fixture\n",
    "def weird_rectangle():\n",
    "    return shapes.Rectangle(5,6)\n",
    "\n",
    "def test_area(my_rec):\n",
    "    assert my_rec.area() == my_rec.length * my_rec.width\n",
    "\n",
    "def test_perimeter(my_rec):\n",
    "    assert my_rec.perimeter() == 2 * (my_rec.length + my_rec.width)\n",
    "\n",
    "def test_not_equal(my_rec,weird_rectangle):\n",
    "    assert my_rec!= weird_rectangle\n",
    "\n",
    "```\n",
    "\n",
    "![image.png](attachment:image.png)\n"
   ]
  },
  {
   "cell_type": "markdown",
   "metadata": {},
   "source": [
    "## `conftest.py`\n",
    "\n",
    "- If we write multiple test files, and do not want to create these test instances over and over again, we can put them into a file named `conftest.py`\n",
    "  - `pytest` will automatically detect it and load script inside to every test file\n",
    "- The code of `conftest.py` from above example\n",
    "\n",
    "```\n",
    "import pytest\n",
    "import shapes\n",
    "\n",
    "@pytest.fixture\n",
    "def my_rec():\n",
    "    return shapes.Rectangle(10,20)\n",
    "\n",
    "@pytest.fixture\n",
    "def weird_rectangle():\n",
    "    return shapes.Rectangle(5,6)\n",
    "```\n"
   ]
  },
  {
   "cell_type": "markdown",
   "metadata": {},
   "source": [
    "## Application\n",
    "\n",
    "Fixtures are needed when you have **some setup operations that need to be done several times before tests**. Instead of writing the same code over and over for each test, you can use `fixtures` to provide **a fixed baseline** so that tests execute in a predictable environment.\n",
    "\n",
    "This is particularly useful in the following scenarios:\n",
    "\n",
    "1. **Data Preparation**: When tests require **a specific set of data to work with**, fixtures can be used to create and tear down this data before and after the tests run.\n",
    "2. **Environment Configuration**: If your tests need the **application or environment to be in a certain state**, fixtures can ensure this state is achieved before tests start.\n",
    "3. **Resource Allocation and Cleanup**: For tests that involve external resources like `database connections`, `network sockets`, or `temporary files`, `fixtures` can handle the allocation and release of these resources safely and efficiently.\n",
    "4. **Dependency Injection**: Fixtures can also be used to inject dependencies into your test functions, making it easier to manage test dependencies.\n"
   ]
  },
  {
   "cell_type": "markdown",
   "metadata": {},
   "source": [
    "### Example\n",
    "\n",
    "In this example, `sample_data` is a `fixture` function that returns a dictionary.\n",
    "\n",
    "- This `fixture` is then `injected` into the `test_version` function as an argument.\n",
    "- `Pytest` ensures that the `sample_data` `fixture` is called before the test function, and **the returned value is passed to the test**.\n"
   ]
  },
  {
   "cell_type": "code",
   "execution_count": 4,
   "metadata": {},
   "outputs": [],
   "source": [
    "import pytest\n",
    "\n",
    "@pytest.fixture\n",
    "def sample_data():\n",
    "    # Setup: Code to prepare test data\n",
    "    data = {'Python': '3.8', 'pytest': '6.2'}\n",
    "    return data\n",
    "\n",
    "def test_version(sample_data):\n",
    "    # This test will use the sample data provided by the fixture\n",
    "    assert sample_data['Python'] == '3.8'"
   ]
  }
 ],
 "metadata": {
  "kernelspec": {
   "display_name": "mybase",
   "language": "python",
   "name": "python3"
  },
  "language_info": {
   "codemirror_mode": {
    "name": "ipython",
    "version": 3
   },
   "file_extension": ".py",
   "mimetype": "text/x-python",
   "name": "python",
   "nbconvert_exporter": "python",
   "pygments_lexer": "ipython3",
   "version": "3.11.4"
  }
 },
 "nbformat": 4,
 "nbformat_minor": 2
}
