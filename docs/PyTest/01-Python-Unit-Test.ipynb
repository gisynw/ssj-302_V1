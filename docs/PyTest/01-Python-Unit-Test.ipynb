{
 "cells": [
  {
   "cell_type": "markdown",
   "metadata": {},
   "source": [
    "# Python Unit Testing\n",
    "* [Reference](https://www.youtube.com/watch?v=6tNS--WetLI&ab_channel=CoreySchafer)\n",
    "## What is Unit Testing?\n",
    "Unit testing is a software testing technique where individual units or components of a software are tested in isolation to ensure that they function correctly. \n",
    "* A unit typically corresponds to a **single function, method, or class**."
   ]
  },
  {
   "cell_type": "code",
   "execution_count": 1,
   "metadata": {},
   "outputs": [],
   "source": [
    "import unittest"
   ]
  },
  {
   "cell_type": "markdown",
   "metadata": {},
   "source": [
    "## Set some demo function waiting to test"
   ]
  },
  {
   "cell_type": "code",
   "execution_count": 2,
   "metadata": {},
   "outputs": [],
   "source": [
    "def add(x,y):\n",
    "    \"\"\"Add Function\"\"\"\n",
    "    return x + y\n",
    "\n",
    "def subtract(x,y):\n",
    "    \"\"\"Subtract Function\"\"\"\n",
    "    return x - y\n",
    "\n",
    "def multiply(x,y):\n",
    "    \"\"\"Multiply Function\"\"\"\n",
    "    return x * y\n",
    "\n",
    "def divide(x,y):\n",
    "    \"\"\"Divide Function\"\"\"\n",
    "    if y == 0:\n",
    "        raise ValueError('Can not divide by zero!')\n",
    "    return x / y"
   ]
  },
  {
   "cell_type": "markdown",
   "metadata": {},
   "source": [
    "## Writing Unit Tests\n",
    "* [`unittest` assert method](https://docs.python.org/3/library/unittest.html#unittest.TestCase.debug)"
   ]
  },
  {
   "cell_type": "markdown",
   "metadata": {},
   "source": [
    "1. Create a Python File `test_calc.py`\n",
    "2. Make a class inherent by `unittest`\n",
    "3. Write a `test_[your function]` named function for testing purpose\n",
    "    * Example\n",
    "    ```\n",
    "    import unittest\n",
    "    import calc\n",
    "\n",
    "    class TestCalc(unittest.TestCase):\n",
    "        \n",
    "        def test_add(self):\n",
    "            self.assertEqual(calc.add(10, 5),15)\n",
    "            self.assertEqual(calc.add(-1, 1), 0)\n",
    "            \n",
    "        def test_subtract(self):\n",
    "            self.assertEqual(calc.subtract(3, 1), 2)\n",
    "            self.assertEqual(calc.subtract(5, 5), 0)\n",
    "            \n",
    "        def test_multiply(self):\n",
    "            self.assertEqual(calc.multiply(10, 5), 50)\n",
    "            self.assertEqual(calc.multiply(-1, -1), 1)\n",
    "            \n",
    "        def test_divide(self):\n",
    "            self.assertEqual(calc.divide(10, 5), 2)\n",
    "            self.assertEqual(calc.subtract(-1, 1), -1)\n",
    "            \n",
    "            ## Test Raise Error is right or not\n",
    "            self.assertRaises(ValueError,calc.divide,10,0)\n",
    "            \n",
    "            ## Same to above but different format\n",
    "            with self.assertRaises(ValueError):\n",
    "                calc.divide(1,0)\n",
    "                    \n",
    "    if __name__ == \"__main__\":\n",
    "        unittest.main()         \n",
    "    ```\n",
    "4. Run `python -m unittest [your test module]`\n",
    "\n"
   ]
  },
  {
   "cell_type": "code",
   "execution_count": 3,
   "metadata": {},
   "outputs": [
    {
     "name": "stderr",
     "output_type": "stream",
     "text": [
      ".F..\n",
      "======================================================================\n",
      "FAIL: test_divide (test_calc.TestCalc)\n",
      "----------------------------------------------------------------------\n",
      "Traceback (most recent call last):\n",
      "  File \"c:\\Users\\yxy180050\\Box\\2024\\github\\notes\\docs\\Computer-Science\\Software-Design\\test_calc.py\", line 20, in test_divide\n",
      "    self.assertEqual(calc.subtract(-1, 1), -1)\n",
      "AssertionError: -2 != -1\n",
      "\n",
      "----------------------------------------------------------------------\n",
      "Ran 4 tests in 0.002s\n",
      "\n",
      "FAILED (failures=1)\n"
     ]
    }
   ],
   "source": [
    "!python -m unittest test_calc.py"
   ]
  },
  {
   "cell_type": "markdown",
   "metadata": {},
   "source": [
    "## Another Example"
   ]
  },
  {
   "cell_type": "code",
   "execution_count": 4,
   "metadata": {},
   "outputs": [],
   "source": [
    "class Employee:\n",
    "    \"\"\"A sample Employee class\"\"\"\n",
    "    raise_amt = 1.05\n",
    "    \n",
    "    def __init__(self, first, last, pay) -> None:\n",
    "        self.first = first\n",
    "        self.last = last\n",
    "        self.pay = pay\n",
    "        \n",
    "    @property\n",
    "    def email(self):\n",
    "        return f\"{self.first}.{self.last}@email.com\"\n",
    "    \n",
    "    @property\n",
    "    def fullname(self):\n",
    "        return f\"{self.first} {self.last}\"\n",
    "    \n",
    "    def apply_raise(self):\n",
    "        self.pay = int(self.pay * self.raise_amt)"
   ]
  },
  {
   "cell_type": "markdown",
   "metadata": {},
   "source": [
    "### SetUp and TearDown (function and class)\n",
    "1. `setUp` Function\n",
    "    * The `setUp` function is called **before each test** method in your test case class. \n",
    "    * It's typically used to set up any **resources or state needed for the tests** to run. \n",
    "    * This could include `creating objects`, `opening files`, `initializing databases`, or any other necessary preparations.\n",
    "    * Example:\n",
    "    ```\n",
    "        import unittest\n",
    "\n",
    "        class TestMyClass(unittest.TestCase):\n",
    "\n",
    "            def setUp(self):\n",
    "                # Set up resources or state needed for tests\n",
    "                self.my_list = [1, 2, 3]\n",
    "\n",
    "            def test_my_method(self):\n",
    "                # Access resources initialized in setUp\n",
    "                self.assertEqual(len(self.my_list), 3)\n",
    "                self.assertEqual(self.my_list[0], 1)\n",
    "\n",
    "            def test_another_method(self):\n",
    "                # Access resources initialized in setUp\n",
    "                self.assertIn(2, self.my_list)\n",
    "\n",
    "    ```"
   ]
  },
  {
   "cell_type": "markdown",
   "metadata": {},
   "source": [
    "2. `tearDown` Function\n",
    "    * The `tearDown` function is called **after each test method** in your test case class has been run.\n",
    "    *  It's used to **clean up any resources** that were set up in the setUp method to ensure that your tests leave no side effects.\n",
    "    * Example:\n",
    "    ```\n",
    "        import unittest\n",
    "\n",
    "        class TestMyClass(unittest.TestCase):\n",
    "\n",
    "            def setUp(self):\n",
    "                # Set up resources or state needed for tests\n",
    "                self.file = open('test_file.txt', 'w')\n",
    "\n",
    "            def tearDown(self):\n",
    "                # Clean up resources created in setUp\n",
    "                self.file.close()\n",
    "                # Optionally, delete any temporary files or reset state\n",
    "\n",
    "            def test_file_write(self):\n",
    "                self.file.write('Test data')\n",
    "                self.assertEqual(self.file.tell(), len('Test data'))\n",
    "    ```"
   ]
  },
  {
   "cell_type": "markdown",
   "metadata": {},
   "source": [
    "3. Class-Level `setUp` and `tearDown`\n",
    "* Additionally, you can define `setUpClass` and `tearDownClass` methods in your test case class to **set up and tear down resources once for all test methods** in the class. \n",
    "* These methods are called before the first test method is executed and after the last test method is executed, respectively.\n",
    "* Example:\n",
    "    ```\n",
    "        import unittest\n",
    "\n",
    "        class TestMyClass(unittest.TestCase):\n",
    "\n",
    "            @classmethod\n",
    "            def setUpClass(cls):\n",
    "                # Set up resources needed for all test methods in the class\n",
    "                cls.db = connect_to_database()\n",
    "\n",
    "            @classmethod\n",
    "            def tearDownClass(cls):\n",
    "                # Clean up resources after all test methods in the class have run\n",
    "                cls.db.close()\n",
    "\n",
    "            def test_method1(self):\n",
    "                # Test method 1\n",
    "                pass\n",
    "\n",
    "            def test_method2(self):\n",
    "                # Test method 2\n",
    "                pass\n",
    "\n",
    "    ```"
   ]
  },
  {
   "cell_type": "markdown",
   "metadata": {},
   "source": [
    "### Test class for Employee"
   ]
  },
  {
   "cell_type": "code",
   "execution_count": 5,
   "metadata": {},
   "outputs": [],
   "source": [
    "class TestEmployee(unittest.TestCase):\n",
    "    \n",
    "    @classmethod\n",
    "    def setUpClass(cls) -> None:\n",
    "        # Run before all test\n",
    "        print(\"setupClass\")\n",
    "        # return super().setUpClass()\n",
    "    \n",
    "    @classmethod\n",
    "    def tearDownClass(cls) -> None:\n",
    "        # Run after all test\n",
    "        print(\"teardownClass\")\n",
    "        # return super().tearDownClass()\n",
    "    \n",
    "    def setUp(self) -> None:\n",
    "        print(\"setUp\")\n",
    "        ## setUp code will run before every test\n",
    "        self.emp_1 = Employee(\"Corey\", \"Schafer\", 50000)\n",
    "        self.emp_2 = Employee(\"Sue\", \"Smith\", 60000)\n",
    "        # return super().setUp()\n",
    "    \n",
    "    def tearDown(self) -> None:\n",
    "        ## tearDown code will run after every test\n",
    "        print('tearDown\\n')\n",
    "        # return super().tearDown()\n",
    "    \n",
    "    def test_email(self):\n",
    "        print(\"test_email\")\n",
    "        self.assertEqual(self.emp_1.email, \"Corey.Schafer@email.com\")\n",
    "        self.assertEqual(self.emp_2.email, \"Sue.Smith@email.com\")\n",
    "        \n",
    "        self.emp_1.first = \"John\"\n",
    "        self.emp_2.first = \"Jane\"\n",
    "        \n",
    "        self.assertEqual(self.emp_1.email, \"John.Schafer@email.com\")\n",
    "        self.assertEqual(self.emp_2.email, \"Jane.Smith@email.com\")    \n",
    "    \n",
    "    def test_fullname(self):\n",
    "        print(\"test_fullname\")\n",
    "        self.assertEqual(self.emp_1.fullname, \"Corey Schafer\")\n",
    "        self.assertEqual(self.emp_2.fullname, \"Sue Smith\")  \n",
    "        \n",
    "        self.emp_1.first = \"John\"\n",
    "        self.emp_2.first = \"Jane\"\n",
    "        \n",
    "        self.assertEqual(self.emp_1.fullname, \"John Schafer\")\n",
    "        self.assertEqual(self.emp_2.fullname, \"Jane Smith\")  \n",
    "        \n",
    "    def test_apply_raise(self):\n",
    "        print(\"test_apply_raise\")\n",
    "        self.emp_1.apply_raise()\n",
    "        self.emp_2.apply_raise()\n",
    "        \n",
    "        self.assertEqual(self.emp_1.pay, 52500)\n",
    "        self.assertEqual(self.emp_2.pay, 63000)"
   ]
  },
  {
   "cell_type": "code",
   "execution_count": 6,
   "metadata": {},
   "outputs": [
    {
     "name": "stdout",
     "output_type": "stream",
     "text": [
      "setupClass"
     ]
    },
    {
     "name": "stderr",
     "output_type": "stream",
     "text": [
      "...\n",
      "----------------------------------------------------------------------\n",
      "Ran 3 tests in 0.000s\n",
      "\n",
      "OK\n"
     ]
    },
    {
     "name": "stdout",
     "output_type": "stream",
     "text": [
      "\n",
      "setUp\n",
      "test_apply_raise\n",
      "tearDown\n",
      "\n",
      "setUp\n",
      "test_email\n",
      "tearDown\n",
      "\n",
      "setUp\n",
      "test_fullname\n",
      "tearDown\n",
      "\n",
      "teardownClass\n"
     ]
    }
   ],
   "source": [
    "!python -m unittest test_employee.py"
   ]
  },
  {
   "cell_type": "markdown",
   "metadata": {},
   "source": [
    "## Mock (Dealing with online materials)\n",
    "* Sometime we and dealing with some online data, our method might work well but their webpage might shutdown, we do not our code test failed in this situation since there's nothing we can do about it, we need to use `mock`\n",
    "*  It allows you to **replace parts of your code with mock objects**, enabling you to isolate the code you're testing from its dependencies.\n",
    "* In the following example, we will use `patch` from `unittest.mock` to mock the `requests.get` function. \n",
    "    * This allows us to **simulate a successful HTTP GET request** without actually making a network call."
   ]
  },
  {
   "cell_type": "code",
   "execution_count": 7,
   "metadata": {},
   "outputs": [],
   "source": [
    "import requests\n",
    "\n",
    "class Employee:\n",
    "    \"\"\"A sample Employee class\"\"\"\n",
    "    raise_amt = 1.05\n",
    "    \n",
    "    def __init__(self, first, last, pay) -> None:\n",
    "        self.first = first\n",
    "        self.last = last\n",
    "        self.pay = pay\n",
    "        \n",
    "    @property\n",
    "    def email(self):\n",
    "        return f\"{self.first}.{self.last}@email.com\"\n",
    "    \n",
    "    @property\n",
    "    def fullname(self):\n",
    "        return f\"{self.first} {self.last}\"\n",
    "    \n",
    "    def apply_raise(self):\n",
    "        self.pay = int(self.pay * self.raise_amt)\n",
    "        \n",
    "    ## get info from url   \n",
    "    def monthly_schedule(self, month):\n",
    "        response = requests.get(f\"http://company.com/{self.last}/{month}\")\n",
    "        if response.ok:\n",
    "            return response.text\n",
    "        else:\n",
    "            return \"Bad Response!\""
   ]
  },
  {
   "cell_type": "code",
   "execution_count": 8,
   "metadata": {},
   "outputs": [],
   "source": [
    "from unittest.mock import patch\n",
    "\n",
    "class TestEmployee(unittest.TestCase):\n",
    "\n",
    "    def setUp(self):\n",
    "        # Create an instance of the Employee class for testing\n",
    "        self.emp_1 = Employee(\"John\", \"Doe\")\n",
    "\n",
    "    def test_monthly_schedule(self):\n",
    "        # Patching requests.get to mock the HTTP GET request\n",
    "        with patch(\"employee02.requests.get\") as mocked_get:\n",
    "            # Configure the mock object's behavior\n",
    "            mocked_get.return_value.ok = True\n",
    "            mocked_get.return_value.text = \"Success\"\n",
    "            \n",
    "            # Call the method being tested\n",
    "            schedule = self.emp_1.monthly_schedule(\"May\")\n",
    "            # Assert that requests.get was called with the correct URL\n",
    "            mocked_get.assert_called_with(\"http://company.com/Doe/May\")\n",
    "            # Assert the expected result\n",
    "            self.assertEqual(schedule, \"Success\")\n",
    "            \n",
    "            ## simulate connect failed\n",
    "            mocked_get.return_value.ok = False\n",
    "            \n",
    "            schedule = self.emp_2.monthly_schedule(\"June\")\n",
    "            mocked_get.assert_called_with(\"http://company.com/Smith/June\")\n",
    "            self.assertEqual(schedule,\"Bad Response!\")"
   ]
  },
  {
   "cell_type": "code",
   "execution_count": 9,
   "metadata": {},
   "outputs": [
    {
     "name": "stdout",
     "output_type": "stream",
     "text": [
      "setupClass\n",
      "setUp\n",
      "test_apply_raise\n",
      "tearDown\n",
      "\n",
      "setUp\n",
      "test_email\n",
      "tearDown\n",
      "\n",
      "setUp\n",
      "test_fullname\n",
      "tearDown\n",
      "\n",
      "setUp\n",
      "tearDown\n",
      "\n",
      "teardownClass\n"
     ]
    },
    {
     "name": "stderr",
     "output_type": "stream",
     "text": [
      "....\n",
      "----------------------------------------------------------------------\n",
      "Ran 4 tests in 0.002s\n",
      "\n",
      "OK\n"
     ]
    }
   ],
   "source": [
    "!python -m unittest test_employee2.py"
   ]
  }
 ],
 "metadata": {
  "kernelspec": {
   "display_name": "mybase",
   "language": "python",
   "name": "python3"
  },
  "language_info": {
   "codemirror_mode": {
    "name": "ipython",
    "version": 3
   },
   "file_extension": ".py",
   "mimetype": "text/x-python",
   "name": "python",
   "nbconvert_exporter": "python",
   "pygments_lexer": "ipython3",
   "version": "3.8.18"
  }
 },
 "nbformat": 4,
 "nbformat_minor": 2
}
