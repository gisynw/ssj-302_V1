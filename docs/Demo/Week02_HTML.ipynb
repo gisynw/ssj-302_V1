{
 "cells": [
  {
   "cell_type": "markdown",
   "metadata": {},
   "source": [
    "<a href=\"https://colab.research.google.com/github/gisynw/ssj-30262/blob/main/docs/Demo/Week02_HTML.ipynb\" target=\"_blank\">\n",
    "  <img src=\"https://colab.research.google.com/assets/colab-badge.svg\" alt=\"Open in Colab\" style=\"height: 30px;\"/>\n",
    "</a>\n",
    "&nbsp &nbsp\n",
    "<a href=\"./Week02_HTML.ipynb\" target=\"_blank\"> \n",
    "  <img src=\"https://img.icons8.com/?size=100&id=108635&format=png&color=000000\" alt=\"Download\" style=\"height: 40px;\"/>\n",
    " </a>"
   ]
  },
  {
   "cell_type": "markdown",
   "metadata": {},
   "source": [
    "1. Make connections between main page and side page of your personal website\n",
    "\n",
    "- Main page: The homepage that includes links to all the side pages (e.g., project, research)\n",
    "\n",
    "- Side pages: Side page contain the specific content for the topics\n",
    "\n",
    "1.1 Create a new html in your personal website repo (e.g., named 'projects.html')\n",
    "\n",
    "1.2 Insert projects.html to main page \n",
    "\n",
    "` <a href=\"projects.html\"></a>`"
   ]
  },
  {
   "cell_type": "markdown",
   "metadata": {},
   "source": [
    "2. Insert Contact ME section\n",
    "\n",
    "- Google Forms\n",
    "1. Create a New Form in [google forms](https://docs.google.com/forms/u/0/)\n",
    "\n",
    "2. Design your form\n",
    "\n",
    "3. Get the embed code\n",
    "Click the 'Send' button at the top right\n",
    "\n",
    "Select the \"<>\" (Embed) option\n",
    "\n",
    "Copy the HTML iframe code provided\n",
    "\n",
    "4. Insert the embed code into the HTML where you want the form to appear\n"
   ]
  }
 ],
 "metadata": {
  "language_info": {
   "name": "python"
  }
 },
 "nbformat": 4,
 "nbformat_minor": 2
}
