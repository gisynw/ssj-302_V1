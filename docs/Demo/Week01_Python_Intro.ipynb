{
 "cells": [
  {
   "cell_type": "markdown",
   "metadata": {},
   "source": [
    "<a href=\"https://colab.research.google.com/github/gisynw/ssj-302/blob/main/docs/Demo/Week01_Python_Intro.ipynb\" target=\"_blank\">\n",
    "  <img src=\"https://colab.research.google.com/assets/colab-badge.svg\" alt=\"Open in Colab\" style=\"height: 30px;\"/>\n",
    "</a>"
   ]
  },
  {
   "cell_type": "markdown",
   "metadata": {},
   "source": [
    "### 1. Install the Visual Studio Code (VS Code)\n",
    "Install [Visual Studio Code](https://code.visualstudio.com/)"
   ]
  },
  {
   "cell_type": "markdown",
   "metadata": {},
   "source": [
    "### 2. Install Anaconda\n",
    "More detail please see _software/Anaconda_"
   ]
  },
  {
   "attachments": {
    "image.png": {
     "image/png": "[encoded data removed]"
    }
   },
   "cell_type": "markdown",
   "metadata": {},
   "source": [
    "### 3. Select interpreter\n",
    "The Python:Select Interpreter **(Ctrl+Ship+P)** command displays a list of available gloabl environments, conda environments, and virtual environments. \n",
    "![image.png](attachment:image.png)"
   ]
  },
  {
   "cell_type": "markdown",
   "metadata": {},
   "source": [
    "### 4. Create a Juputer Notebook\n",
    "You can create a Jupyter Notebook by running the Create: New Jupyter Notebook command from the Command Palette **(Ctrl+Shift+P)** or by creating a new .ipynb file in your workspace."
   ]
  },
  {
   "cell_type": "markdown",
   "metadata": {},
   "source": [
    "### 5. Start your first Jupyter Notebook \n",
    "- Deeloped originally by UC Berkeley's Ferando Perez\n",
    "- Contain code & rich text elements\n",
    "- Perfect for sharing your analysis with others\n",
    "- Gret for sharing your analysis with others"
   ]
  },
  {
   "cell_type": "markdown",
   "metadata": {},
   "source": [
    "#### 5.1 Formtted text\n",
    "- Different styling (bold/italic), bulleted lists, etc\n",
    "- In Jupyter, we call these text elements __markdown__\n",
    "Note: when you edit in VS Code, you can open __Auto Save__ under __File__"
   ]
  },
  {
   "cell_type": "markdown",
   "metadata": {},
   "source": [
    "### 6. Writing in Markdown\n",
    "\n",
    "#### 6.1 Change font size\n",
    "* In markdown, we talk about headings instead of font size \n",
    "   * use # to adjust the size\n",
    "# Heading 1\n",
    "## Heading 2\n",
    "### Heading 3\n",
    "sentence"
   ]
  },
  {
   "cell_type": "markdown",
   "metadata": {},
   "source": [
    "#### 6.2 Bold/Italic\n",
    "Thi is __bold__ and this is _italic_\n",
    "\n",
    "#### 6.3 Bullted lists\n",
    "The asterisk symbol can be used to created bulleted lists as follows (use tabs to indent)\n",
    "* Point one\n",
    "    * Point two\n",
    "* Point Three\n",
    "\n",
    "#### 6.4 Creating a new line\n",
    "Include __two__ spaces at the end of the line\n",
    "\n",
    "### 7. Code cells\n"
   ]
  },
  {
   "cell_type": "code",
   "execution_count": 4,
   "metadata": {},
   "outputs": [
    {
     "name": "stdout",
     "output_type": "stream",
     "text": [
      "Hello, python\n"
     ]
    }
   ],
   "source": [
    "print(\"Hello, python\")"
   ]
  },
  {
   "cell_type": "code",
   "execution_count": 5,
   "metadata": {},
   "outputs": [
    {
     "data": {
      "text/plain": [
       "8"
      ]
     },
     "execution_count": 5,
     "metadata": {},
     "output_type": "execute_result"
    }
   ],
   "source": [
    "# This is comment: get result of 3+5\n",
    "3+5"
   ]
  },
  {
   "cell_type": "markdown",
   "metadata": {},
   "source": [
    "### 8. Save your Jupyter Notebook\n",
    "You can save your Jupyter Notebook using the keyboard shortcut **(Ctrl+S)** or **File > Save**.\n",
    "\n"
   ]
  },
  {
   "cell_type": "markdown",
   "metadata": {},
   "source": [
    "### 9. Export your Jupyter Notebook"
   ]
  },
  {
   "cell_type": "markdown",
   "metadata": {},
   "source": [
    "You can export a Jupyter Notebook as a Python file (.py), a PDF, or an HTML file. To export, select ... > **Export** on the main toolbar. You're then presented with a dropdown of file format options."
   ]
  },
  {
   "cell_type": "markdown",
   "metadata": {},
   "source": [
    "---"
   ]
  },
  {
   "cell_type": "markdown",
   "metadata": {},
   "source": [
    "## Setting up virtual environment\n",
    "### Create a virtual environment\n",
    "\n",
    "Right click the Anaconda prompt and __Run as Administrator__ (This step will ensure that your package is installed in _Anaconda/env_ folder) \n",
    "\n",
    "Create a virtual environment named as 'np' with python version 3.9\n",
    "```bash\n",
    "conda create -n np python=3.9\n",
    "```\n",
    "\n",
    "### List virtual environment\n",
    "now if you list virgual envionment, you can see the virtual environment that you just create \n",
    "```bash\n",
    "conda env list\n",
    "```\n",
    "\n",
    "### Activate virtual environment\n",
    "if you virtual environment named as 'arcgis_python'\n",
    "```bash\n",
    "activate np\n",
    "```\n",
    "\n",
    "### Install packages (e.g., numpy)\n",
    "```bash\n",
    "conda install numpy\n",
    "```"
   ]
  },
  {
   "cell_type": "markdown",
   "metadata": {},
   "source": [
    "### Remove a virtual environment named 'np'\n",
    "```bash\n",
    "conda remove -n np --all -y\n",
    "```"
   ]
  }
 ],
 "metadata": {
  "kernelspec": {
   "display_name": "arcgispro-py3",
   "language": "python",
   "name": "python3"
  },
  "language_info": {
   "codemirror_mode": {
    "name": "ipython",
    "version": 3
   },
   "file_extension": ".py",
   "mimetype": "text/x-python",
   "name": "python",
   "nbconvert_exporter": "python",
   "pygments_lexer": "ipython3",
   "version": "3.12.5"
  }
 },
 "nbformat": 4,
 "nbformat_minor": 2
}
