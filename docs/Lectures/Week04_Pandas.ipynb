{
 "cells": [
  {
   "cell_type": "markdown",
   "metadata": {},
   "source": [
    "### What is pandas?\n",
    "\n",
    "pandas is a Python library used for data manipulation and analysis that buil on top of the Python programming language.\n",
    "\n",
    "Pandas work well with CSV file (e.g., excel, SQL)"
   ]
  },
  {
   "cell_type": "markdown",
   "metadata": {},
   "source": [
    "### What is Pandas used for?\n",
    "#### Data cleaning\n",
    "#### Data Transformation"
   ]
  },
  {
   "cell_type": "markdown",
   "metadata": {},
   "source": [
    "### Installation of pandas"
   ]
  },
  {
   "cell_type": "code",
   "execution_count": null,
   "metadata": {},
   "outputs": [],
   "source": []
  },
  {
   "cell_type": "markdown",
   "metadata": {},
   "source": [
    "### Download data in CSV and Shapefile format"
   ]
  },
  {
   "cell_type": "markdown",
   "metadata": {},
   "source": [
    "[Data Source: The city of Worcester](https://opendata.worcesterma.gov/search?collection=dataset&sort=Date%20Updated%7Cmodified%7Cdesc)\n",
    "\n",
    "Search: Worcester Police Use of Force Incidents (July 2024)\n",
    "\n",
    "Download CSV and Shapefile"
   ]
  },
  {
   "cell_type": "markdown",
   "metadata": {},
   "source": [
    "### Loading a Pandas DataFrame from CSV file"
   ]
  },
  {
   "cell_type": "code",
   "execution_count": 3,
   "metadata": {},
   "outputs": [],
   "source": [
    "import pandas as pd"
   ]
  },
  {
   "cell_type": "code",
   "execution_count": 4,
   "metadata": {},
   "outputs": [
    {
     "name": "stdout",
     "output_type": "stream",
     "text": [
      "['ArrowDtype', 'BooleanDtype', 'Categorical', 'CategoricalDtype', 'CategoricalIndex', 'DataFrame', 'DateOffset', 'DatetimeIndex', 'DatetimeTZDtype', 'ExcelFile', 'ExcelWriter', 'Flags', 'Float32Dtype', 'Float64Dtype', 'Grouper', 'HDFStore', 'Index', 'IndexSlice', 'Int16Dtype', 'Int32Dtype', 'Int64Dtype', 'Int8Dtype', 'Interval', 'IntervalDtype', 'IntervalIndex', 'MultiIndex', 'NA', 'NaT', 'NamedAgg', 'Period', 'PeriodDtype', 'PeriodIndex', 'RangeIndex', 'Series', 'SparseDtype', 'StringDtype', 'Timedelta', 'TimedeltaIndex', 'Timestamp', 'UInt16Dtype', 'UInt32Dtype', 'UInt64Dtype', 'UInt8Dtype', '__all__', '__builtins__', '__cached__', '__doc__', '__docformat__', '__file__', '__git_version__', '__loader__', '__name__', '__package__', '__path__', '__spec__', '__version__', '_built_with_meson', '_config', '_is_numpy_dev', '_libs', '_pandas_datetime_CAPI', '_pandas_parser_CAPI', '_testing', '_typing', '_version_meson', 'annotations', 'api', 'array', 'arrays', 'bdate_range', 'compat', 'concat', 'core', 'crosstab', 'cut', 'date_range', 'describe_option', 'errors', 'eval', 'factorize', 'from_dummies', 'get_dummies', 'get_option', 'infer_freq', 'interval_range', 'io', 'isna', 'isnull', 'json_normalize', 'lreshape', 'melt', 'merge', 'merge_asof', 'merge_ordered', 'notna', 'notnull', 'offsets', 'option_context', 'options', 'pandas', 'period_range', 'pivot', 'pivot_table', 'plotting', 'qcut', 'read_clipboard', 'read_csv', 'read_excel', 'read_feather', 'read_fwf', 'read_gbq', 'read_hdf', 'read_html', 'read_json', 'read_orc', 'read_parquet', 'read_pickle', 'read_sas', 'read_spss', 'read_sql', 'read_sql_query', 'read_sql_table', 'read_stata', 'read_table', 'read_xml', 'reset_option', 'set_eng_float_format', 'set_option', 'show_versions', 'test', 'testing', 'timedelta_range', 'to_datetime', 'to_numeric', 'to_pickle', 'to_timedelta', 'tseries', 'unique', 'util', 'value_counts', 'wide_to_long']\n"
     ]
    }
   ],
   "source": [
    "## use the dir() function to list all the attributes (include functions) in python\n",
    "print(dir(pd))"
   ]
  },
  {
   "cell_type": "markdown",
   "metadata": {},
   "source": [
    "#### read csv"
   ]
  },
  {
   "cell_type": "code",
   "execution_count": 4,
   "metadata": {},
   "outputs": [
    {
     "data": {
      "text/html": [
       "<div>\n",
       "<style scoped>\n",
       "    .dataframe tbody tr th:only-of-type {\n",
       "        vertical-align: middle;\n",
       "    }\n",
       "\n",
       "    .dataframe tbody tr th {\n",
       "        vertical-align: top;\n",
       "    }\n",
       "\n",
       "    .dataframe thead th {\n",
       "        text-align: right;\n",
       "    }\n",
       "</style>\n",
       "<table border=\"1\" class=\"dataframe\">\n",
       "  <thead>\n",
       "    <tr style=\"text-align: right;\">\n",
       "      <th></th>\n",
       "      <th>Incident_No</th>\n",
       "      <th>Date___Time</th>\n",
       "      <th>Location</th>\n",
       "      <th>Officer</th>\n",
       "      <th>Narr</th>\n",
       "      <th>Implement</th>\n",
       "      <th>Injury</th>\n",
       "      <th>Supervisor</th>\n",
       "      <th>Notified</th>\n",
       "      <th>ObjectId</th>\n",
       "    </tr>\n",
       "  </thead>\n",
       "  <tbody>\n",
       "    <tr>\n",
       "      <th>0</th>\n",
       "      <td>2024000078279</td>\n",
       "      <td>7/29/24 1:09 PM</td>\n",
       "      <td>9 LINCOLN SQ Worcester, MA</td>\n",
       "      <td>Daniel Adjei</td>\n",
       "      <td>1</td>\n",
       "      <td>R. Empty Hand Compliance Techniques / Level 3</td>\n",
       "      <td>Visible Injury</td>\n",
       "      <td>Neil F O'Connor</td>\n",
       "      <td>7/29/24 4:27 PM</td>\n",
       "      <td>1</td>\n",
       "    </tr>\n",
       "    <tr>\n",
       "      <th>1</th>\n",
       "      <td>2024000078796</td>\n",
       "      <td>7/30/24 4:38 PM</td>\n",
       "      <td>6 SHANNON ST Apt #: 2 Worcester, MA</td>\n",
       "      <td>Rachel E Frisch</td>\n",
       "      <td>3</td>\n",
       "      <td>R. Empty Hand Compliance Techniques / Level 3</td>\n",
       "      <td>_None</td>\n",
       "      <td>Michael A Cappabianca Jr</td>\n",
       "      <td>7/30/24 6:57 PM</td>\n",
       "      <td>2</td>\n",
       "    </tr>\n",
       "    <tr>\n",
       "      <th>2</th>\n",
       "      <td>2024000078796</td>\n",
       "      <td>7/30/24 4:38 PM</td>\n",
       "      <td>6 SHANNON ST Apt #: 2 Worcester, MA</td>\n",
       "      <td>Michael Genese</td>\n",
       "      <td>2</td>\n",
       "      <td>R. Empty Hand Compliance Techniques / Level 3</td>\n",
       "      <td>_None</td>\n",
       "      <td>Michael A Cappabianca Jr</td>\n",
       "      <td>7/30/24 6:55 PM</td>\n",
       "      <td>3</td>\n",
       "    </tr>\n",
       "    <tr>\n",
       "      <th>3</th>\n",
       "      <td>2024000078953</td>\n",
       "      <td>7/30/24 9:50 PM</td>\n",
       "      <td>79 MAYFIELD ST Worcester, MA</td>\n",
       "      <td>David Green</td>\n",
       "      <td>3</td>\n",
       "      <td>I. Display of Firearm</td>\n",
       "      <td>_None</td>\n",
       "      <td>Stephen L Roche</td>\n",
       "      <td>7/30/24 10:26 PM</td>\n",
       "      <td>4</td>\n",
       "    </tr>\n",
       "    <tr>\n",
       "      <th>4</th>\n",
       "      <td>2024000079115</td>\n",
       "      <td>7/31/24 11:05 AM</td>\n",
       "      <td>70 JACKSON ST Worcester, MA</td>\n",
       "      <td>DUY CHAU</td>\n",
       "      <td>6</td>\n",
       "      <td>I. Display of Firearm</td>\n",
       "      <td>_None</td>\n",
       "      <td>Shawn M Barbale</td>\n",
       "      <td>7/31/24 1:20 PM</td>\n",
       "      <td>5</td>\n",
       "    </tr>\n",
       "  </tbody>\n",
       "</table>\n",
       "</div>"
      ],
      "text/plain": [
       "     Incident_No       Date___Time                              Location  \\\n",
       "0  2024000078279   7/29/24 1:09 PM           9 LINCOLN SQ Worcester, MA    \n",
       "1  2024000078796   7/30/24 4:38 PM  6 SHANNON ST Apt #: 2 Worcester, MA    \n",
       "2  2024000078796   7/30/24 4:38 PM  6 SHANNON ST Apt #: 2 Worcester, MA    \n",
       "3  2024000078953   7/30/24 9:50 PM         79 MAYFIELD ST Worcester, MA    \n",
       "4  2024000079115  7/31/24 11:05 AM          70 JACKSON ST Worcester, MA    \n",
       "\n",
       "            Officer  Narr                                      Implement  \\\n",
       "0     Daniel Adjei      1  R. Empty Hand Compliance Techniques / Level 3   \n",
       "1  Rachel E Frisch      3  R. Empty Hand Compliance Techniques / Level 3   \n",
       "2   Michael Genese      2  R. Empty Hand Compliance Techniques / Level 3   \n",
       "3      David Green      3                          I. Display of Firearm   \n",
       "4         DUY CHAU      6                          I. Display of Firearm   \n",
       "\n",
       "           Injury                Supervisor          Notified  ObjectId  \n",
       "0  Visible Injury          Neil F O'Connor    7/29/24 4:27 PM         1  \n",
       "1           _None  Michael A Cappabianca Jr   7/30/24 6:57 PM         2  \n",
       "2           _None  Michael A Cappabianca Jr   7/30/24 6:55 PM         3  \n",
       "3           _None          Stephen L Roche   7/30/24 10:26 PM         4  \n",
       "4           _None          Shawn M Barbale    7/31/24 1:20 PM         5  "
      ]
     },
     "execution_count": 4,
     "metadata": {},
     "output_type": "execute_result"
    }
   ],
   "source": [
    "incidents = pd.read_csv(r'D:\\Teaching_Data\\Worcester_Police_Use_of_Force_Incidents_July_2024.csv')\n",
    "incidents.head()"
   ]
  },
  {
   "cell_type": "code",
   "execution_count": 5,
   "metadata": {},
   "outputs": [
    {
     "name": "stdout",
     "output_type": "stream",
     "text": [
      "<class 'pandas.core.frame.DataFrame'>\n",
      "RangeIndex: 74 entries, 0 to 73\n",
      "Data columns (total 10 columns):\n",
      " #   Column       Non-Null Count  Dtype \n",
      "---  ------       --------------  ----- \n",
      " 0   Incident_No  74 non-null     int64 \n",
      " 1   Date___Time  74 non-null     object\n",
      " 2   Location     74 non-null     object\n",
      " 3   Officer      74 non-null     object\n",
      " 4   Narr         74 non-null     int64 \n",
      " 5   Implement    74 non-null     object\n",
      " 6   Injury       74 non-null     object\n",
      " 7   Supervisor   74 non-null     object\n",
      " 8   Notified     74 non-null     object\n",
      " 9   ObjectId     74 non-null     int64 \n",
      "dtypes: int64(3), object(7)\n",
      "memory usage: 5.9+ KB\n"
     ]
    }
   ],
   "source": [
    "incidents.info()"
   ]
  },
  {
   "cell_type": "code",
   "execution_count": 6,
   "metadata": {},
   "outputs": [
    {
     "data": {
      "text/plain": [
       "(74, 10)"
      ]
     },
     "execution_count": 6,
     "metadata": {},
     "output_type": "execute_result"
    }
   ],
   "source": [
    "incidents.shape"
   ]
  },
  {
   "cell_type": "markdown",
   "metadata": {},
   "source": [
    "#### Series and DataFrame"
   ]
  },
  {
   "cell_type": "markdown",
   "metadata": {},
   "source": [
    "Series: A one-dimensional labeled array capable of holding data of any type (integers, strings, floating-point numbers, etc.).\n",
    "\n",
    "DataFrame: A two-dimensional tabular data structure with labeled axes (rows and columns)."
   ]
  },
  {
   "cell_type": "markdown",
   "metadata": {},
   "source": [
    "#### Access a column"
   ]
  },
  {
   "cell_type": "code",
   "execution_count": 28,
   "metadata": {},
   "outputs": [
    {
     "name": "stdout",
     "output_type": "stream",
     "text": [
      "0     1\n",
      "1     3\n",
      "2     2\n",
      "3     3\n",
      "4     6\n",
      "     ..\n",
      "69    5\n",
      "70    2\n",
      "71    1\n",
      "72    4\n",
      "73    2\n",
      "Name: Narr, Length: 74, dtype: int64\n"
     ]
    },
    {
     "data": {
      "text/plain": [
       "pandas.core.series.Series"
      ]
     },
     "execution_count": 28,
     "metadata": {},
     "output_type": "execute_result"
    }
   ],
   "source": [
    "# Access a column as series\n",
    "col_series = incidents['Narr']\n",
    "print(col_series)\n",
    "type(col_series)"
   ]
  },
  {
   "cell_type": "code",
   "execution_count": 38,
   "metadata": {},
   "outputs": [
    {
     "name": "stdout",
     "output_type": "stream",
     "text": [
      "<class 'pandas.core.series.Series'>\n"
     ]
    },
    {
     "data": {
      "text/plain": [
       "0     1\n",
       "1     3\n",
       "2     2\n",
       "3     3\n",
       "4     6\n",
       "     ..\n",
       "69    5\n",
       "70    2\n",
       "71    1\n",
       "72    4\n",
       "73    2\n",
       "Name: Narr, Length: 74, dtype: int64"
      ]
     },
     "execution_count": 38,
     "metadata": {},
     "output_type": "execute_result"
    }
   ],
   "source": [
    "# Access a column as Series (2nd syntax)\n",
    "col_series02 = incidents.Narr\n",
    "print(type(col_series02))\n",
    "col_series02"
   ]
  },
  {
   "cell_type": "code",
   "execution_count": 26,
   "metadata": {},
   "outputs": [
    {
     "name": "stdout",
     "output_type": "stream",
     "text": [
      "    Narr\n",
      "0      1\n",
      "1      3\n",
      "2      2\n",
      "3      3\n",
      "4      6\n",
      "..   ...\n",
      "69     5\n",
      "70     2\n",
      "71     1\n",
      "72     4\n",
      "73     2\n",
      "\n",
      "[74 rows x 1 columns]\n"
     ]
    },
    {
     "data": {
      "text/plain": [
       "3"
      ]
     },
     "execution_count": 26,
     "metadata": {},
     "output_type": "execute_result"
    }
   ],
   "source": [
    "## Access a column as DataFrame\n",
    "col_df = incidents[['Narr']]\n",
    "print(col_df)\n",
    "type(col_df)"
   ]
  },
  {
   "cell_type": "markdown",
   "metadata": {},
   "source": [
    "#### Access a row\n",
    "The iloc() function is an indexed-based selecting method which means that we have to pass an integer index in the method to select a specific row/column."
   ]
  },
  {
   "cell_type": "code",
   "execution_count": 30,
   "metadata": {},
   "outputs": [
    {
     "name": "stdout",
     "output_type": "stream",
     "text": [
      "Incident_No                                    2024000078279\n",
      "Date___Time                                  7/29/24 1:09 PM\n",
      "Location                         9 LINCOLN SQ Worcester, MA \n",
      "Officer                                        Daniel Adjei \n",
      "Narr                                                       1\n",
      "Implement      R. Empty Hand Compliance Techniques / Level 3\n",
      "Injury                                        Visible Injury\n",
      "Supervisor                                  Neil F O'Connor \n",
      "Notified                                     7/29/24 4:27 PM\n",
      "ObjectId                                                   1\n",
      "Name: 0, dtype: object\n"
     ]
    },
    {
     "data": {
      "text/plain": [
       "pandas.core.series.Series"
      ]
     },
     "execution_count": 30,
     "metadata": {},
     "output_type": "execute_result"
    }
   ],
   "source": [
    "# Access a row as Series\n",
    "row_series = incidents.iloc[0,:] \n",
    "print(row_series)\n",
    "type(row_series)"
   ]
  },
  {
   "cell_type": "code",
   "execution_count": 33,
   "metadata": {},
   "outputs": [
    {
     "name": "stdout",
     "output_type": "stream",
     "text": [
      "<class 'pandas.core.frame.DataFrame'>\n"
     ]
    },
    {
     "data": {
      "text/html": [
       "<div>\n",
       "<style scoped>\n",
       "    .dataframe tbody tr th:only-of-type {\n",
       "        vertical-align: middle;\n",
       "    }\n",
       "\n",
       "    .dataframe tbody tr th {\n",
       "        vertical-align: top;\n",
       "    }\n",
       "\n",
       "    .dataframe thead th {\n",
       "        text-align: right;\n",
       "    }\n",
       "</style>\n",
       "<table border=\"1\" class=\"dataframe\">\n",
       "  <thead>\n",
       "    <tr style=\"text-align: right;\">\n",
       "      <th></th>\n",
       "      <th>Incident_No</th>\n",
       "      <th>Date___Time</th>\n",
       "      <th>Location</th>\n",
       "      <th>Officer</th>\n",
       "      <th>Narr</th>\n",
       "      <th>Implement</th>\n",
       "      <th>Injury</th>\n",
       "      <th>Supervisor</th>\n",
       "      <th>Notified</th>\n",
       "      <th>ObjectId</th>\n",
       "    </tr>\n",
       "  </thead>\n",
       "  <tbody>\n",
       "    <tr>\n",
       "      <th>0</th>\n",
       "      <td>2024000078279</td>\n",
       "      <td>7/29/24 1:09 PM</td>\n",
       "      <td>9 LINCOLN SQ Worcester, MA</td>\n",
       "      <td>Daniel Adjei</td>\n",
       "      <td>1</td>\n",
       "      <td>R. Empty Hand Compliance Techniques / Level 3</td>\n",
       "      <td>Visible Injury</td>\n",
       "      <td>Neil F O'Connor</td>\n",
       "      <td>7/29/24 4:27 PM</td>\n",
       "      <td>1</td>\n",
       "    </tr>\n",
       "  </tbody>\n",
       "</table>\n",
       "</div>"
      ],
      "text/plain": [
       "     Incident_No      Date___Time                     Location        Officer  \\\n",
       "0  2024000078279  7/29/24 1:09 PM  9 LINCOLN SQ Worcester, MA   Daniel Adjei    \n",
       "\n",
       "   Narr                                      Implement          Injury  \\\n",
       "0     1  R. Empty Hand Compliance Techniques / Level 3  Visible Injury   \n",
       "\n",
       "         Supervisor         Notified  ObjectId  \n",
       "0  Neil F O'Connor   7/29/24 4:27 PM         1  "
      ]
     },
     "execution_count": 33,
     "metadata": {},
     "output_type": "execute_result"
    }
   ],
   "source": [
    "# Access a row as DataFrame\n",
    "row_df = incidents.iloc[[0],:] \n",
    "print(type(row_df))\n",
    "row_df"
   ]
  },
  {
   "cell_type": "markdown",
   "metadata": {},
   "source": [
    "### Access multiple rows and columns"
   ]
  },
  {
   "cell_type": "code",
   "execution_count": 40,
   "metadata": {},
   "outputs": [
    {
     "name": "stdout",
     "output_type": "stream",
     "text": [
      "<class 'pandas.core.frame.DataFrame'>\n"
     ]
    },
    {
     "data": {
      "text/html": [
       "<div>\n",
       "<style scoped>\n",
       "    .dataframe tbody tr th:only-of-type {\n",
       "        vertical-align: middle;\n",
       "    }\n",
       "\n",
       "    .dataframe tbody tr th {\n",
       "        vertical-align: top;\n",
       "    }\n",
       "\n",
       "    .dataframe thead th {\n",
       "        text-align: right;\n",
       "    }\n",
       "</style>\n",
       "<table border=\"1\" class=\"dataframe\">\n",
       "  <thead>\n",
       "    <tr style=\"text-align: right;\">\n",
       "      <th></th>\n",
       "      <th>Incident_No</th>\n",
       "      <th>Date___Time</th>\n",
       "      <th>Location</th>\n",
       "    </tr>\n",
       "  </thead>\n",
       "  <tbody>\n",
       "    <tr>\n",
       "      <th>0</th>\n",
       "      <td>2024000078279</td>\n",
       "      <td>7/29/24 1:09 PM</td>\n",
       "      <td>9 LINCOLN SQ Worcester, MA</td>\n",
       "    </tr>\n",
       "    <tr>\n",
       "      <th>1</th>\n",
       "      <td>2024000078796</td>\n",
       "      <td>7/30/24 4:38 PM</td>\n",
       "      <td>6 SHANNON ST Apt #: 2 Worcester, MA</td>\n",
       "    </tr>\n",
       "    <tr>\n",
       "      <th>2</th>\n",
       "      <td>2024000078796</td>\n",
       "      <td>7/30/24 4:38 PM</td>\n",
       "      <td>6 SHANNON ST Apt #: 2 Worcester, MA</td>\n",
       "    </tr>\n",
       "    <tr>\n",
       "      <th>3</th>\n",
       "      <td>2024000078953</td>\n",
       "      <td>7/30/24 9:50 PM</td>\n",
       "      <td>79 MAYFIELD ST Worcester, MA</td>\n",
       "    </tr>\n",
       "    <tr>\n",
       "      <th>4</th>\n",
       "      <td>2024000079115</td>\n",
       "      <td>7/31/24 11:05 AM</td>\n",
       "      <td>70 JACKSON ST Worcester, MA</td>\n",
       "    </tr>\n",
       "  </tbody>\n",
       "</table>\n",
       "</div>"
      ],
      "text/plain": [
       "     Incident_No       Date___Time                              Location\n",
       "0  2024000078279   7/29/24 1:09 PM           9 LINCOLN SQ Worcester, MA \n",
       "1  2024000078796   7/30/24 4:38 PM  6 SHANNON ST Apt #: 2 Worcester, MA \n",
       "2  2024000078796   7/30/24 4:38 PM  6 SHANNON ST Apt #: 2 Worcester, MA \n",
       "3  2024000078953   7/30/24 9:50 PM         79 MAYFIELD ST Worcester, MA \n",
       "4  2024000079115  7/31/24 11:05 AM          70 JACKSON ST Worcester, MA "
      ]
     },
     "execution_count": 40,
     "metadata": {},
     "output_type": "execute_result"
    }
   ],
   "source": [
    "##### Access multiple row using iloc()\n",
    "sub_inci = incidents.iloc[0:5,0:3]\n",
    "print(type(sub_inci))\n",
    "sub_inci"
   ]
  },
  {
   "cell_type": "markdown",
   "metadata": {},
   "source": [
    "#### Access columns or rows using loc()\n",
    "The loc() function is label based data selecting method which means that we have to pass the name of the row or column which we want to select."
   ]
  },
  {
   "cell_type": "code",
   "execution_count": 15,
   "metadata": {},
   "outputs": [
    {
     "data": {
      "text/html": [
       "<div>\n",
       "<style scoped>\n",
       "    .dataframe tbody tr th:only-of-type {\n",
       "        vertical-align: middle;\n",
       "    }\n",
       "\n",
       "    .dataframe tbody tr th {\n",
       "        vertical-align: top;\n",
       "    }\n",
       "\n",
       "    .dataframe thead th {\n",
       "        text-align: right;\n",
       "    }\n",
       "</style>\n",
       "<table border=\"1\" class=\"dataframe\">\n",
       "  <thead>\n",
       "    <tr style=\"text-align: right;\">\n",
       "      <th></th>\n",
       "      <th>Incident_No</th>\n",
       "      <th>Date___Time</th>\n",
       "      <th>Location</th>\n",
       "    </tr>\n",
       "  </thead>\n",
       "  <tbody>\n",
       "    <tr>\n",
       "      <th>0</th>\n",
       "      <td>2024000078279</td>\n",
       "      <td>7/29/24 1:09 PM</td>\n",
       "      <td>9 LINCOLN SQ Worcester, MA</td>\n",
       "    </tr>\n",
       "    <tr>\n",
       "      <th>1</th>\n",
       "      <td>2024000078796</td>\n",
       "      <td>7/30/24 4:38 PM</td>\n",
       "      <td>6 SHANNON ST Apt #: 2 Worcester, MA</td>\n",
       "    </tr>\n",
       "  </tbody>\n",
       "</table>\n",
       "</div>"
      ],
      "text/plain": [
       "     Incident_No      Date___Time                              Location\n",
       "0  2024000078279  7/29/24 1:09 PM           9 LINCOLN SQ Worcester, MA \n",
       "1  2024000078796  7/30/24 4:38 PM  6 SHANNON ST Apt #: 2 Worcester, MA "
      ]
     },
     "execution_count": 15,
     "metadata": {},
     "output_type": "execute_result"
    }
   ],
   "source": [
    "rst = incidents.loc[0:1,['Incident_No', 'Date___Time', 'Location']]\n",
    "rst"
   ]
  },
  {
   "cell_type": "markdown",
   "metadata": {},
   "source": [
    "### Exercise 1: Get record from DataFrame\n",
    "Get the "
   ]
  },
  {
   "cell_type": "markdown",
   "metadata": {},
   "source": [
    "### Data cleaning\n",
    "#### Rename the column name\n"
   ]
  },
  {
   "cell_type": "code",
   "execution_count": 41,
   "metadata": {},
   "outputs": [
    {
     "name": "stdout",
     "output_type": "stream",
     "text": [
      "column name are Index(['Incident_No', 'Date___Time', 'Location', 'Officer', 'Narr',\n",
      "       'Implement', 'Injury', 'Supervisor', 'Notified', 'ObjectId'],\n",
      "      dtype='object') \n",
      "updated column name are Index(['IncidentNo', 'DateTime', 'Location', 'Officer', 'Narr', 'Implement',\n",
      "       'Injury', 'Supervisor', 'Notified', 'ObjectId'],\n",
      "      dtype='object') \n"
     ]
    }
   ],
   "source": [
    "#format of columns can be the dictionary: old column name: new column name\n",
    "print('column name are {} '.format(incidents.columns))\n",
    "incidents.rename(columns={'Date___Time':'DateTime', 'Incident_No':\"IncidentNo\"}, inplace=True)\n",
    "print('updated column name are {} '.format(incidents.columns))"
   ]
  },
  {
   "cell_type": "markdown",
   "metadata": {},
   "source": [
    "#### Check None value\n",
    "[pandas.DataFrame.isnull](https://pandas.pydata.org/docs/reference/api/pandas.DataFrame.isnull.html) check missing value\n",
    "\n",
    "[pandas.DataFrame.sum](https://pandas.pydata.org/docs/reference/api/pandas.DataFrame.sum.html) the sum of the values over the requested axis."
   ]
  },
  {
   "cell_type": "code",
   "execution_count": 50,
   "metadata": {},
   "outputs": [
    {
     "data": {
      "text/html": [
       "<div>\n",
       "<style scoped>\n",
       "    .dataframe tbody tr th:only-of-type {\n",
       "        vertical-align: middle;\n",
       "    }\n",
       "\n",
       "    .dataframe tbody tr th {\n",
       "        vertical-align: top;\n",
       "    }\n",
       "\n",
       "    .dataframe thead th {\n",
       "        text-align: right;\n",
       "    }\n",
       "</style>\n",
       "<table border=\"1\" class=\"dataframe\">\n",
       "  <thead>\n",
       "    <tr style=\"text-align: right;\">\n",
       "      <th></th>\n",
       "      <th>IncidentNo</th>\n",
       "      <th>DateTime</th>\n",
       "      <th>Location</th>\n",
       "      <th>Officer</th>\n",
       "      <th>Narr</th>\n",
       "      <th>Implement</th>\n",
       "      <th>Injury</th>\n",
       "      <th>Supervisor</th>\n",
       "      <th>Notified</th>\n",
       "      <th>ObjectId</th>\n",
       "    </tr>\n",
       "  </thead>\n",
       "  <tbody>\n",
       "    <tr>\n",
       "      <th>0</th>\n",
       "      <td>False</td>\n",
       "      <td>False</td>\n",
       "      <td>False</td>\n",
       "      <td>False</td>\n",
       "      <td>False</td>\n",
       "      <td>False</td>\n",
       "      <td>False</td>\n",
       "      <td>False</td>\n",
       "      <td>False</td>\n",
       "      <td>False</td>\n",
       "    </tr>\n",
       "    <tr>\n",
       "      <th>1</th>\n",
       "      <td>False</td>\n",
       "      <td>False</td>\n",
       "      <td>False</td>\n",
       "      <td>False</td>\n",
       "      <td>False</td>\n",
       "      <td>False</td>\n",
       "      <td>False</td>\n",
       "      <td>False</td>\n",
       "      <td>False</td>\n",
       "      <td>False</td>\n",
       "    </tr>\n",
       "    <tr>\n",
       "      <th>2</th>\n",
       "      <td>False</td>\n",
       "      <td>False</td>\n",
       "      <td>False</td>\n",
       "      <td>False</td>\n",
       "      <td>False</td>\n",
       "      <td>False</td>\n",
       "      <td>False</td>\n",
       "      <td>False</td>\n",
       "      <td>False</td>\n",
       "      <td>False</td>\n",
       "    </tr>\n",
       "    <tr>\n",
       "      <th>3</th>\n",
       "      <td>False</td>\n",
       "      <td>False</td>\n",
       "      <td>False</td>\n",
       "      <td>False</td>\n",
       "      <td>False</td>\n",
       "      <td>False</td>\n",
       "      <td>False</td>\n",
       "      <td>False</td>\n",
       "      <td>False</td>\n",
       "      <td>False</td>\n",
       "    </tr>\n",
       "    <tr>\n",
       "      <th>4</th>\n",
       "      <td>False</td>\n",
       "      <td>False</td>\n",
       "      <td>False</td>\n",
       "      <td>False</td>\n",
       "      <td>False</td>\n",
       "      <td>False</td>\n",
       "      <td>False</td>\n",
       "      <td>False</td>\n",
       "      <td>False</td>\n",
       "      <td>False</td>\n",
       "    </tr>\n",
       "  </tbody>\n",
       "</table>\n",
       "</div>"
      ],
      "text/plain": [
       "   IncidentNo  DateTime  Location  Officer   Narr  Implement  Injury  \\\n",
       "0       False     False     False    False  False      False   False   \n",
       "1       False     False     False    False  False      False   False   \n",
       "2       False     False     False    False  False      False   False   \n",
       "3       False     False     False    False  False      False   False   \n",
       "4       False     False     False    False  False      False   False   \n",
       "\n",
       "   Supervisor  Notified  ObjectId  \n",
       "0       False     False     False  \n",
       "1       False     False     False  \n",
       "2       False     False     False  \n",
       "3       False     False     False  \n",
       "4       False     False     False  "
      ]
     },
     "execution_count": 50,
     "metadata": {},
     "output_type": "execute_result"
    }
   ],
   "source": [
    "# check null value in each cell\n",
    "incidents.isnull().head()"
   ]
  },
  {
   "cell_type": "code",
   "execution_count": 54,
   "metadata": {},
   "outputs": [
    {
     "data": {
      "text/plain": [
       "IncidentNo    0\n",
       "DateTime      0\n",
       "Location      0\n",
       "Officer       0\n",
       "Narr          0\n",
       "Implement     0\n",
       "Injury        0\n",
       "Supervisor    0\n",
       "Notified      0\n",
       "ObjectId      0\n",
       "dtype: int64"
      ]
     },
     "execution_count": 54,
     "metadata": {},
     "output_type": "execute_result"
    }
   ],
   "source": [
    "# calcualte the sum for each column\n",
    "incidents.isnull().sum()"
   ]
  },
  {
   "cell_type": "markdown",
   "metadata": {},
   "source": [
    "#### Get unique value of the columns"
   ]
  },
  {
   "cell_type": "code",
   "execution_count": 57,
   "metadata": {},
   "outputs": [
    {
     "ename": "AttributeError",
     "evalue": "'DataFrame' object has no attribute 'unique'",
     "output_type": "error",
     "traceback": [
      "\u001b[1;31m---------------------------------------------------------------------------\u001b[0m",
      "\u001b[1;31mAttributeError\u001b[0m                            Traceback (most recent call last)",
      "\u001b[1;32m~\\AppData\\Local\\Temp\\ipykernel_17336\\2127229734.py\u001b[0m in \u001b[0;36m?\u001b[1;34m()\u001b[0m\n\u001b[1;32m----> 1\u001b[1;33m \u001b[0mincidents\u001b[0m\u001b[1;33m.\u001b[0m\u001b[0mloc\u001b[0m\u001b[1;33m[\u001b[0m\u001b[1;33m:\u001b[0m\u001b[1;33m,\u001b[0m\u001b[1;33m[\u001b[0m\u001b[1;34m'Officer'\u001b[0m\u001b[1;33m,\u001b[0m \u001b[1;34m'Narr'\u001b[0m\u001b[1;33m,\u001b[0m \u001b[1;34m'Injury'\u001b[0m\u001b[1;33m,\u001b[0m \u001b[1;34m'Notified'\u001b[0m\u001b[1;33m]\u001b[0m\u001b[1;33m]\u001b[0m\u001b[1;33m.\u001b[0m\u001b[0munique\u001b[0m\u001b[1;33m(\u001b[0m\u001b[1;33m)\u001b[0m\u001b[1;33m\u001b[0m\u001b[1;33m\u001b[0m\u001b[0m\n\u001b[0m",
      "\u001b[1;32md:\\Anaconda\\Lib\\site-packages\\pandas\\core\\generic.py\u001b[0m in \u001b[0;36m?\u001b[1;34m(self, name)\u001b[0m\n\u001b[0;32m   6295\u001b[0m             \u001b[1;32mand\u001b[0m \u001b[0mname\u001b[0m \u001b[1;32mnot\u001b[0m \u001b[1;32min\u001b[0m \u001b[0mself\u001b[0m\u001b[1;33m.\u001b[0m\u001b[0m_accessors\u001b[0m\u001b[1;33m\u001b[0m\u001b[1;33m\u001b[0m\u001b[0m\n\u001b[0;32m   6296\u001b[0m             \u001b[1;32mand\u001b[0m \u001b[0mself\u001b[0m\u001b[1;33m.\u001b[0m\u001b[0m_info_axis\u001b[0m\u001b[1;33m.\u001b[0m\u001b[0m_can_hold_identifiers_and_holds_name\u001b[0m\u001b[1;33m(\u001b[0m\u001b[0mname\u001b[0m\u001b[1;33m)\u001b[0m\u001b[1;33m\u001b[0m\u001b[1;33m\u001b[0m\u001b[0m\n\u001b[0;32m   6297\u001b[0m         \u001b[1;33m)\u001b[0m\u001b[1;33m:\u001b[0m\u001b[1;33m\u001b[0m\u001b[1;33m\u001b[0m\u001b[0m\n\u001b[0;32m   6298\u001b[0m             \u001b[1;32mreturn\u001b[0m \u001b[0mself\u001b[0m\u001b[1;33m[\u001b[0m\u001b[0mname\u001b[0m\u001b[1;33m]\u001b[0m\u001b[1;33m\u001b[0m\u001b[1;33m\u001b[0m\u001b[0m\n\u001b[1;32m-> 6299\u001b[1;33m         \u001b[1;32mreturn\u001b[0m \u001b[0mobject\u001b[0m\u001b[1;33m.\u001b[0m\u001b[0m__getattribute__\u001b[0m\u001b[1;33m(\u001b[0m\u001b[0mself\u001b[0m\u001b[1;33m,\u001b[0m \u001b[0mname\u001b[0m\u001b[1;33m)\u001b[0m\u001b[1;33m\u001b[0m\u001b[1;33m\u001b[0m\u001b[0m\n\u001b[0m",
      "\u001b[1;31mAttributeError\u001b[0m: 'DataFrame' object has no attribute 'unique'"
     ]
    }
   ],
   "source": [
    "incidents.loc[:,['Officer', 'Narr', 'Injury', 'Notified']].unique()\n"
   ]
  },
  {
   "cell_type": "markdown",
   "metadata": {},
   "source": [
    "### DataFrame Manipulation\n",
    "#### Data sorting"
   ]
  },
  {
   "cell_type": "code",
   "execution_count": 13,
   "metadata": {},
   "outputs": [
    {
     "data": {
      "text/html": [
       "<div>\n",
       "<style scoped>\n",
       "    .dataframe tbody tr th:only-of-type {\n",
       "        vertical-align: middle;\n",
       "    }\n",
       "\n",
       "    .dataframe tbody tr th {\n",
       "        vertical-align: top;\n",
       "    }\n",
       "\n",
       "    .dataframe thead th {\n",
       "        text-align: right;\n",
       "    }\n",
       "</style>\n",
       "<table border=\"1\" class=\"dataframe\">\n",
       "  <thead>\n",
       "    <tr style=\"text-align: right;\">\n",
       "      <th></th>\n",
       "      <th>IncidentNo</th>\n",
       "      <th>DateTime</th>\n",
       "      <th>Location</th>\n",
       "      <th>Officer</th>\n",
       "      <th>Narr</th>\n",
       "      <th>Implement</th>\n",
       "      <th>Injury</th>\n",
       "      <th>Supervisor</th>\n",
       "      <th>Notified</th>\n",
       "      <th>ObjectId</th>\n",
       "    </tr>\n",
       "  </thead>\n",
       "  <tbody>\n",
       "    <tr>\n",
       "      <th>24</th>\n",
       "      <td>2024000067866</td>\n",
       "      <td>7/6/24 12:33 AM</td>\n",
       "      <td>466 HARDING ST Worcester, MA</td>\n",
       "      <td>Santino Simone</td>\n",
       "      <td>12</td>\n",
       "      <td>G. Display of Taser or Sparks Display</td>\n",
       "      <td>_None</td>\n",
       "      <td>Terrence G Cahill</td>\n",
       "      <td>8/18/24 12:39 AM</td>\n",
       "      <td>25</td>\n",
       "    </tr>\n",
       "    <tr>\n",
       "      <th>55</th>\n",
       "      <td>2024000074652</td>\n",
       "      <td>7/20/24 11:52 PM</td>\n",
       "      <td>3 JEFFERSON ST Worcester, MA</td>\n",
       "      <td>Tyler R Sterner</td>\n",
       "      <td>10</td>\n",
       "      <td>G. Display of Taser or Sparks Display</td>\n",
       "      <td>_None</td>\n",
       "      <td>Michael A Cappabianca Jr</td>\n",
       "      <td>7/24/24 9:23 PM</td>\n",
       "      <td>56</td>\n",
       "    </tr>\n",
       "    <tr>\n",
       "      <th>47</th>\n",
       "      <td>2024000072086</td>\n",
       "      <td>7/15/24 10:27 AM</td>\n",
       "      <td>442 GRAFTON ST Worcester, MA</td>\n",
       "      <td>Dimitrios Gaitanidis</td>\n",
       "      <td>9</td>\n",
       "      <td>I. Display of Firearm</td>\n",
       "      <td>_None</td>\n",
       "      <td>Jeffrey P Carlson</td>\n",
       "      <td>7/15/24 1:05 PM</td>\n",
       "      <td>48</td>\n",
       "    </tr>\n",
       "    <tr>\n",
       "      <th>48</th>\n",
       "      <td>2024000072443</td>\n",
       "      <td>7/16/24 6:23 AM</td>\n",
       "      <td>5 TOWNSEND ST Apt #: 2 Worcester, MA</td>\n",
       "      <td>Terrence O Gaffney</td>\n",
       "      <td>9</td>\n",
       "      <td>I. Display of Firearm</td>\n",
       "      <td>_None</td>\n",
       "      <td>Terrence G Cahill</td>\n",
       "      <td>7/16/24 7:41 PM</td>\n",
       "      <td>49</td>\n",
       "    </tr>\n",
       "    <tr>\n",
       "      <th>43</th>\n",
       "      <td>2024000072086</td>\n",
       "      <td>7/15/24 10:27 AM</td>\n",
       "      <td>442 GRAFTON ST Worcester, MA</td>\n",
       "      <td>Jose M Lugo-Gardner</td>\n",
       "      <td>8</td>\n",
       "      <td>I. Display of Firearm</td>\n",
       "      <td>_None</td>\n",
       "      <td>Shawn M Barbale</td>\n",
       "      <td>7/15/24 2:01 PM</td>\n",
       "      <td>44</td>\n",
       "    </tr>\n",
       "  </tbody>\n",
       "</table>\n",
       "</div>"
      ],
      "text/plain": [
       "       IncidentNo          DateTime                               Location  \\\n",
       "24  2024000067866   7/6/24 12:33 AM          466 HARDING ST Worcester, MA    \n",
       "55  2024000074652  7/20/24 11:52 PM          3 JEFFERSON ST Worcester, MA    \n",
       "47  2024000072086  7/15/24 10:27 AM          442 GRAFTON ST Worcester, MA    \n",
       "48  2024000072443   7/16/24 6:23 AM  5 TOWNSEND ST Apt #: 2 Worcester, MA    \n",
       "43  2024000072086  7/15/24 10:27 AM          442 GRAFTON ST Worcester, MA    \n",
       "\n",
       "                  Officer  Narr                              Implement Injury  \\\n",
       "24        Santino Simone     12  G. Display of Taser or Sparks Display  _None   \n",
       "55       Tyler R Sterner     10  G. Display of Taser or Sparks Display  _None   \n",
       "47  Dimitrios Gaitanidis      9                  I. Display of Firearm  _None   \n",
       "48    Terrence O Gaffney      9                  I. Display of Firearm  _None   \n",
       "43   Jose M Lugo-Gardner      8                  I. Display of Firearm  _None   \n",
       "\n",
       "                  Supervisor          Notified  ObjectId  \n",
       "24        Terrence G Cahill   8/18/24 12:39 AM        25  \n",
       "55  Michael A Cappabianca Jr   7/24/24 9:23 PM        56  \n",
       "47        Jeffrey P Carlson    7/15/24 1:05 PM        48  \n",
       "48        Terrence G Cahill    7/16/24 7:41 PM        49  \n",
       "43          Shawn M Barbale    7/15/24 2:01 PM        44  "
      ]
     },
     "execution_count": 13,
     "metadata": {},
     "output_type": "execute_result"
    }
   ],
   "source": [
    "incidents.sort_values(by=\"Narr\", ascending=False).head()"
   ]
  },
  {
   "cell_type": "markdown",
   "metadata": {},
   "source": [
    "#### Data query:single condition"
   ]
  },
  {
   "cell_type": "code",
   "execution_count": 18,
   "metadata": {},
   "outputs": [
    {
     "name": "stdout",
     "output_type": "stream",
     "text": [
      "unique value: ['Visible Injury' '_None' 'Complaint of Injury']\n"
     ]
    }
   ],
   "source": [
    "unique_injury = incidents.loc[:,\"Injury\"].unique()\n",
    "print('unique value: {}'.format(unique_injury))\n",
    "\n",
    "none_incident = incidents.query('Injury == \"_None\"')"
   ]
  },
  {
   "cell_type": "code",
   "execution_count": 20,
   "metadata": {},
   "outputs": [
    {
     "data": {
      "text/plain": [
       "(68, 10)"
      ]
     },
     "execution_count": 20,
     "metadata": {},
     "output_type": "execute_result"
    }
   ],
   "source": [
    "none_incident.shape"
   ]
  },
  {
   "cell_type": "markdown",
   "metadata": {},
   "source": [
    "Exercise : How many incidents' injury type are 'Visible Injury'"
   ]
  },
  {
   "cell_type": "code",
   "execution_count": 22,
   "metadata": {},
   "outputs": [
    {
     "data": {
      "text/plain": [
       "(5, 10)"
      ]
     },
     "execution_count": 22,
     "metadata": {},
     "output_type": "execute_result"
    }
   ],
   "source": [
    "incidents.query('Injury == \"Visible Injury\"').shape"
   ]
  },
  {
   "cell_type": "markdown",
   "metadata": {},
   "source": [
    "#### Data query: multiple condition\n",
    "Query how many incidents's injury type are '_None' and 'Implement' are 'I. Display of Firearm'"
   ]
  },
  {
   "cell_type": "code",
   "execution_count": 24,
   "metadata": {},
   "outputs": [
    {
     "data": {
      "text/plain": [
       "(33, 10)"
      ]
     },
     "execution_count": 24,
     "metadata": {},
     "output_type": "execute_result"
    }
   ],
   "source": [
    "none_firearm = incidents.query('Injury == \"_None\" & Implement == \"I. Display of Firearm\"')\n",
    "none_firearm.shape"
   ]
  },
  {
   "cell_type": "markdown",
   "metadata": {},
   "source": [
    "### DateTime"
   ]
  },
  {
   "cell_type": "code",
   "execution_count": 32,
   "metadata": {},
   "outputs": [
    {
     "data": {
      "text/plain": [
       "0      7/29/24 1:09 PM\n",
       "1      7/30/24 4:38 PM\n",
       "2      7/30/24 4:38 PM\n",
       "3      7/30/24 9:50 PM\n",
       "4     7/31/24 11:05 AM\n",
       "            ...       \n",
       "69    7/27/24 12:43 AM\n",
       "70    7/29/24 11:41 AM\n",
       "71    7/29/24 11:41 AM\n",
       "72     7/29/24 1:09 PM\n",
       "73     7/29/24 1:09 PM\n",
       "Name: DateTime, Length: 74, dtype: object"
      ]
     },
     "execution_count": 32,
     "metadata": {},
     "output_type": "execute_result"
    }
   ],
   "source": [
    "incidents['DateTime']"
   ]
  },
  {
   "cell_type": "code",
   "execution_count": 34,
   "metadata": {},
   "outputs": [],
   "source": [
    "incidents['DT'] = pd.to_datetime(incidents['DateTime'], format = \"%m/%d/%y %I:%M %p\")"
   ]
  },
  {
   "cell_type": "code",
   "execution_count": 41,
   "metadata": {},
   "outputs": [
    {
     "data": {
      "text/html": [
       "<div>\n",
       "<style scoped>\n",
       "    .dataframe tbody tr th:only-of-type {\n",
       "        vertical-align: middle;\n",
       "    }\n",
       "\n",
       "    .dataframe tbody tr th {\n",
       "        vertical-align: top;\n",
       "    }\n",
       "\n",
       "    .dataframe thead th {\n",
       "        text-align: right;\n",
       "    }\n",
       "</style>\n",
       "<table border=\"1\" class=\"dataframe\">\n",
       "  <thead>\n",
       "    <tr style=\"text-align: right;\">\n",
       "      <th></th>\n",
       "      <th>IncidentNo</th>\n",
       "      <th>DateTime</th>\n",
       "      <th>Location</th>\n",
       "      <th>Officer</th>\n",
       "      <th>Narr</th>\n",
       "      <th>Implement</th>\n",
       "      <th>Injury</th>\n",
       "      <th>Supervisor</th>\n",
       "      <th>Notified</th>\n",
       "      <th>ObjectId</th>\n",
       "      <th>DT</th>\n",
       "    </tr>\n",
       "  </thead>\n",
       "  <tbody>\n",
       "    <tr>\n",
       "      <th>7</th>\n",
       "      <td>2024000065816</td>\n",
       "      <td>7/1/24 9:46 AM</td>\n",
       "      <td>25 QUEEN ST Worcester, MA</td>\n",
       "      <td>Joseph L Ford</td>\n",
       "      <td>1</td>\n",
       "      <td>R. Empty Hand Compliance Techniques / Level 3</td>\n",
       "      <td>_None</td>\n",
       "      <td>Justin Bennes</td>\n",
       "      <td>7/1/24 4:00 PM</td>\n",
       "      <td>8</td>\n",
       "      <td>2024-07-01 09:46:00</td>\n",
       "    </tr>\n",
       "    <tr>\n",
       "      <th>9</th>\n",
       "      <td>2024000066207</td>\n",
       "      <td>7/2/24 10:11 AM</td>\n",
       "      <td>275 PLEASANT ST Apt #: 713 Worcester, MA</td>\n",
       "      <td>John Biancaniello</td>\n",
       "      <td>1</td>\n",
       "      <td>G. Display of Taser or Sparks Display</td>\n",
       "      <td>_None</td>\n",
       "      <td>MIGUEL DIAZ</td>\n",
       "      <td>7/2/24 11:45 AM</td>\n",
       "      <td>10</td>\n",
       "      <td>2024-07-02 10:11:00</td>\n",
       "    </tr>\n",
       "    <tr>\n",
       "      <th>8</th>\n",
       "      <td>2024000066207</td>\n",
       "      <td>7/2/24 10:11 AM</td>\n",
       "      <td>275 PLEASANT ST Apt #: 713 Worcester, MA</td>\n",
       "      <td>David C McAtee</td>\n",
       "      <td>2</td>\n",
       "      <td>I. Display of Firearm</td>\n",
       "      <td>_None</td>\n",
       "      <td>MIGUEL DIAZ</td>\n",
       "      <td>7/2/24 12:11 PM</td>\n",
       "      <td>9</td>\n",
       "      <td>2024-07-02 10:11:00</td>\n",
       "    </tr>\n",
       "    <tr>\n",
       "      <th>10</th>\n",
       "      <td>2024000066256</td>\n",
       "      <td>7/2/24 12:02 PM</td>\n",
       "      <td>25 TOBIAS BOLAND WAY Worcester, MA</td>\n",
       "      <td>James P Ciru</td>\n",
       "      <td>1</td>\n",
       "      <td>R. Empty Hand Compliance Techniques / Level 3</td>\n",
       "      <td>_None</td>\n",
       "      <td>Jeffrey P Carlson</td>\n",
       "      <td>7/2/24 1:04 PM</td>\n",
       "      <td>11</td>\n",
       "      <td>2024-07-02 12:02:00</td>\n",
       "    </tr>\n",
       "    <tr>\n",
       "      <th>11</th>\n",
       "      <td>2024000066380</td>\n",
       "      <td>7/2/24 5:16 PM</td>\n",
       "      <td>810 MAIN ST Worcester, MA</td>\n",
       "      <td>Stephen J Mitchell</td>\n",
       "      <td>2</td>\n",
       "      <td>R. Empty Hand Compliance Techniques / Level 3</td>\n",
       "      <td>_None</td>\n",
       "      <td>Christopher A Panarello</td>\n",
       "      <td>7/2/24 5:11 PM</td>\n",
       "      <td>12</td>\n",
       "      <td>2024-07-02 17:16:00</td>\n",
       "    </tr>\n",
       "  </tbody>\n",
       "</table>\n",
       "</div>"
      ],
      "text/plain": [
       "       IncidentNo         DateTime                                   Location  \\\n",
       "7   2024000065816   7/1/24 9:46 AM                 25 QUEEN ST Worcester, MA    \n",
       "9   2024000066207  7/2/24 10:11 AM  275 PLEASANT ST Apt #: 713 Worcester, MA    \n",
       "8   2024000066207  7/2/24 10:11 AM  275 PLEASANT ST Apt #: 713 Worcester, MA    \n",
       "10  2024000066256  7/2/24 12:02 PM        25 TOBIAS BOLAND WAY Worcester, MA    \n",
       "11  2024000066380   7/2/24 5:16 PM                 810 MAIN ST Worcester, MA    \n",
       "\n",
       "                Officer  Narr                                      Implement  \\\n",
       "7        Joseph L Ford      1  R. Empty Hand Compliance Techniques / Level 3   \n",
       "9    John Biancaniello      1          G. Display of Taser or Sparks Display   \n",
       "8       David C McAtee      2                          I. Display of Firearm   \n",
       "10        James P Ciru      1  R. Empty Hand Compliance Techniques / Level 3   \n",
       "11  Stephen J Mitchell      2  R. Empty Hand Compliance Techniques / Level 3   \n",
       "\n",
       "   Injury                Supervisor         Notified  ObjectId  \\\n",
       "7   _None            Justin Bennes    7/1/24 4:00 PM         8   \n",
       "9   _None              MIGUEL DIAZ   7/2/24 11:45 AM        10   \n",
       "8   _None              MIGUEL DIAZ   7/2/24 12:11 PM         9   \n",
       "10  _None        Jeffrey P Carlson    7/2/24 1:04 PM        11   \n",
       "11  _None  Christopher A Panarello    7/2/24 5:11 PM        12   \n",
       "\n",
       "                    DT  \n",
       "7  2024-07-01 09:46:00  \n",
       "9  2024-07-02 10:11:00  \n",
       "8  2024-07-02 10:11:00  \n",
       "10 2024-07-02 12:02:00  \n",
       "11 2024-07-02 17:16:00  "
      ]
     },
     "execution_count": 41,
     "metadata": {},
     "output_type": "execute_result"
    }
   ],
   "source": [
    "# sort value absed on 'DateTime' or 'DT' to see the difference\n",
    "incidents.sort_values(by='DT', ascending=True).head()"
   ]
  },
  {
   "cell_type": "code",
   "execution_count": null,
   "metadata": {},
   "outputs": [],
   "source": []
  },
  {
   "cell_type": "markdown",
   "metadata": {},
   "source": [
    "### Summary statistics and grouping"
   ]
  },
  {
   "cell_type": "markdown",
   "metadata": {},
   "source": [
    "### Spatially Enabled Data Frame"
   ]
  },
  {
   "cell_type": "markdown",
   "metadata": {},
   "source": [
    "#### SEDF from a feature class"
   ]
  },
  {
   "cell_type": "markdown",
   "metadata": {},
   "source": []
  }
 ],
 "metadata": {
  "kernelspec": {
   "display_name": "base",
   "language": "python",
   "name": "python3"
  },
  "language_info": {
   "codemirror_mode": {
    "name": "ipython",
    "version": 3
   },
   "file_extension": ".py",
   "mimetype": "text/x-python",
   "name": "python",
   "nbconvert_exporter": "python",
   "pygments_lexer": "ipython3",
   "version": "3.12.4"
  }
 },
 "nbformat": 4,
 "nbformat_minor": 2
}
