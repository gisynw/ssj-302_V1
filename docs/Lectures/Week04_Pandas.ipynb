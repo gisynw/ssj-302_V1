{
 "cells": [
  {
   "cell_type": "markdown",
   "metadata": {},
   "source": [
    "### What is pandas?\n",
    "\n",
    "pandas is a Python library used for data manipulation and analysis that buil on top of the Python programming language."
   ]
  },
  {
   "cell_type": "markdown",
   "metadata": {},
   "source": [
    "### What is Pandas used for?\n",
    "#### Data cleaning\n",
    "#### Data Transformation"
   ]
  },
  {
   "cell_type": "markdown",
   "metadata": {},
   "source": [
    "### Installation of pandas"
   ]
  },
  {
   "cell_type": "code",
   "execution_count": null,
   "metadata": {},
   "outputs": [],
   "source": []
  },
  {
   "cell_type": "markdown",
   "metadata": {},
   "source": []
  },
  {
   "cell_type": "markdown",
   "metadata": {},
   "source": [
    "#### Series and DataFrame"
   ]
  },
  {
   "cell_type": "markdown",
   "metadata": {},
   "source": []
  },
  {
   "cell_type": "markdown",
   "metadata": {},
   "source": [
    "### Download data in CSV and Shapefile format"
   ]
  },
  {
   "cell_type": "markdown",
   "metadata": {},
   "source": [
    "[Data Source: The city of Worcester](https://opendata.worcesterma.gov/search?collection=dataset&sort=Date%20Updated%7Cmodified%7Cdesc)\n",
    "\n",
    "Search: Worcester Police Use of Force Incidents (July 2024)\n",
    "\n",
    "Download CSV and Shapefile"
   ]
  },
  {
   "cell_type": "markdown",
   "metadata": {},
   "source": [
    "### Loading a Pandas DataFrame from CSV file"
   ]
  },
  {
   "cell_type": "code",
   "execution_count": 2,
   "metadata": {},
   "outputs": [],
   "source": [
    "import pandas as pd"
   ]
  },
  {
   "cell_type": "code",
   "execution_count": 4,
   "metadata": {},
   "outputs": [
    {
     "name": "stdout",
     "output_type": "stream",
     "text": [
      "['ArrowDtype', 'BooleanDtype', 'Categorical', 'CategoricalDtype', 'CategoricalIndex', 'DataFrame', 'DateOffset', 'DatetimeIndex', 'DatetimeTZDtype', 'ExcelFile', 'ExcelWriter', 'Flags', 'Float32Dtype', 'Float64Dtype', 'Grouper', 'HDFStore', 'Index', 'IndexSlice', 'Int16Dtype', 'Int32Dtype', 'Int64Dtype', 'Int8Dtype', 'Interval', 'IntervalDtype', 'IntervalIndex', 'MultiIndex', 'NA', 'NaT', 'NamedAgg', 'Period', 'PeriodDtype', 'PeriodIndex', 'RangeIndex', 'Series', 'SparseDtype', 'StringDtype', 'Timedelta', 'TimedeltaIndex', 'Timestamp', 'UInt16Dtype', 'UInt32Dtype', 'UInt64Dtype', 'UInt8Dtype', '__all__', '__builtins__', '__cached__', '__doc__', '__docformat__', '__file__', '__git_version__', '__loader__', '__name__', '__package__', '__path__', '__spec__', '__version__', '_built_with_meson', '_config', '_is_numpy_dev', '_libs', '_pandas_datetime_CAPI', '_pandas_parser_CAPI', '_testing', '_typing', '_version_meson', 'annotations', 'api', 'array', 'arrays', 'bdate_range', 'compat', 'concat', 'core', 'crosstab', 'cut', 'date_range', 'describe_option', 'errors', 'eval', 'factorize', 'from_dummies', 'get_dummies', 'get_option', 'infer_freq', 'interval_range', 'io', 'isna', 'isnull', 'json_normalize', 'lreshape', 'melt', 'merge', 'merge_asof', 'merge_ordered', 'notna', 'notnull', 'offsets', 'option_context', 'options', 'pandas', 'period_range', 'pivot', 'pivot_table', 'plotting', 'qcut', 'read_clipboard', 'read_csv', 'read_excel', 'read_feather', 'read_fwf', 'read_gbq', 'read_hdf', 'read_html', 'read_json', 'read_orc', 'read_parquet', 'read_pickle', 'read_sas', 'read_spss', 'read_sql', 'read_sql_query', 'read_sql_table', 'read_stata', 'read_table', 'read_xml', 'reset_option', 'set_eng_float_format', 'set_option', 'show_versions', 'test', 'testing', 'timedelta_range', 'to_datetime', 'to_numeric', 'to_pickle', 'to_timedelta', 'tseries', 'unique', 'util', 'value_counts', 'wide_to_long']\n"
     ]
    }
   ],
   "source": [
    "## use the dir() function to list all the attributes (include functions) in python\n",
    "print(dir(pd))"
   ]
  },
  {
   "cell_type": "markdown",
   "metadata": {},
   "source": [
    "#### read csv"
   ]
  },
  {
   "cell_type": "code",
   "execution_count": 7,
   "metadata": {},
   "outputs": [
    {
     "data": {
      "text/html": [
       "<div>\n",
       "<style scoped>\n",
       "    .dataframe tbody tr th:only-of-type {\n",
       "        vertical-align: middle;\n",
       "    }\n",
       "\n",
       "    .dataframe tbody tr th {\n",
       "        vertical-align: top;\n",
       "    }\n",
       "\n",
       "    .dataframe thead th {\n",
       "        text-align: right;\n",
       "    }\n",
       "</style>\n",
       "<table border=\"1\" class=\"dataframe\">\n",
       "  <thead>\n",
       "    <tr style=\"text-align: right;\">\n",
       "      <th></th>\n",
       "      <th>Incident_No</th>\n",
       "      <th>Date___Time</th>\n",
       "      <th>Location</th>\n",
       "      <th>Officer</th>\n",
       "      <th>Narr</th>\n",
       "      <th>Implement</th>\n",
       "      <th>Injury</th>\n",
       "      <th>Supervisor</th>\n",
       "      <th>Notified</th>\n",
       "      <th>ObjectId</th>\n",
       "    </tr>\n",
       "  </thead>\n",
       "  <tbody>\n",
       "    <tr>\n",
       "      <th>0</th>\n",
       "      <td>2024000078279</td>\n",
       "      <td>7/29/24 1:09 PM</td>\n",
       "      <td>9 LINCOLN SQ Worcester, MA</td>\n",
       "      <td>Daniel Adjei</td>\n",
       "      <td>1</td>\n",
       "      <td>R. Empty Hand Compliance Techniques / Level 3</td>\n",
       "      <td>Visible Injury</td>\n",
       "      <td>Neil F O'Connor</td>\n",
       "      <td>7/29/24 4:27 PM</td>\n",
       "      <td>1</td>\n",
       "    </tr>\n",
       "    <tr>\n",
       "      <th>1</th>\n",
       "      <td>2024000078796</td>\n",
       "      <td>7/30/24 4:38 PM</td>\n",
       "      <td>6 SHANNON ST Apt #: 2 Worcester, MA</td>\n",
       "      <td>Rachel E Frisch</td>\n",
       "      <td>3</td>\n",
       "      <td>R. Empty Hand Compliance Techniques / Level 3</td>\n",
       "      <td>_None</td>\n",
       "      <td>Michael A Cappabianca Jr</td>\n",
       "      <td>7/30/24 6:57 PM</td>\n",
       "      <td>2</td>\n",
       "    </tr>\n",
       "    <tr>\n",
       "      <th>2</th>\n",
       "      <td>2024000078796</td>\n",
       "      <td>7/30/24 4:38 PM</td>\n",
       "      <td>6 SHANNON ST Apt #: 2 Worcester, MA</td>\n",
       "      <td>Michael Genese</td>\n",
       "      <td>2</td>\n",
       "      <td>R. Empty Hand Compliance Techniques / Level 3</td>\n",
       "      <td>_None</td>\n",
       "      <td>Michael A Cappabianca Jr</td>\n",
       "      <td>7/30/24 6:55 PM</td>\n",
       "      <td>3</td>\n",
       "    </tr>\n",
       "    <tr>\n",
       "      <th>3</th>\n",
       "      <td>2024000078953</td>\n",
       "      <td>7/30/24 9:50 PM</td>\n",
       "      <td>79 MAYFIELD ST Worcester, MA</td>\n",
       "      <td>David Green</td>\n",
       "      <td>3</td>\n",
       "      <td>I. Display of Firearm</td>\n",
       "      <td>_None</td>\n",
       "      <td>Stephen L Roche</td>\n",
       "      <td>7/30/24 10:26 PM</td>\n",
       "      <td>4</td>\n",
       "    </tr>\n",
       "    <tr>\n",
       "      <th>4</th>\n",
       "      <td>2024000079115</td>\n",
       "      <td>7/31/24 11:05 AM</td>\n",
       "      <td>70 JACKSON ST Worcester, MA</td>\n",
       "      <td>DUY CHAU</td>\n",
       "      <td>6</td>\n",
       "      <td>I. Display of Firearm</td>\n",
       "      <td>_None</td>\n",
       "      <td>Shawn M Barbale</td>\n",
       "      <td>7/31/24 1:20 PM</td>\n",
       "      <td>5</td>\n",
       "    </tr>\n",
       "  </tbody>\n",
       "</table>\n",
       "</div>"
      ],
      "text/plain": [
       "     Incident_No       Date___Time                              Location  \\\n",
       "0  2024000078279   7/29/24 1:09 PM           9 LINCOLN SQ Worcester, MA    \n",
       "1  2024000078796   7/30/24 4:38 PM  6 SHANNON ST Apt #: 2 Worcester, MA    \n",
       "2  2024000078796   7/30/24 4:38 PM  6 SHANNON ST Apt #: 2 Worcester, MA    \n",
       "3  2024000078953   7/30/24 9:50 PM         79 MAYFIELD ST Worcester, MA    \n",
       "4  2024000079115  7/31/24 11:05 AM          70 JACKSON ST Worcester, MA    \n",
       "\n",
       "            Officer  Narr                                      Implement  \\\n",
       "0     Daniel Adjei      1  R. Empty Hand Compliance Techniques / Level 3   \n",
       "1  Rachel E Frisch      3  R. Empty Hand Compliance Techniques / Level 3   \n",
       "2   Michael Genese      2  R. Empty Hand Compliance Techniques / Level 3   \n",
       "3      David Green      3                          I. Display of Firearm   \n",
       "4         DUY CHAU      6                          I. Display of Firearm   \n",
       "\n",
       "           Injury                Supervisor          Notified  ObjectId  \n",
       "0  Visible Injury          Neil F O'Connor    7/29/24 4:27 PM         1  \n",
       "1           _None  Michael A Cappabianca Jr   7/30/24 6:57 PM         2  \n",
       "2           _None  Michael A Cappabianca Jr   7/30/24 6:55 PM         3  \n",
       "3           _None          Stephen L Roche   7/30/24 10:26 PM         4  \n",
       "4           _None          Shawn M Barbale    7/31/24 1:20 PM         5  "
      ]
     },
     "execution_count": 7,
     "metadata": {},
     "output_type": "execute_result"
    }
   ],
   "source": [
    "incidents = pd.read_csv(r'M:\\Github_repo\\ssj-302\\docs\\Data\\Worcester_Police_Use_of_Force_Incidents_July_2024.csv')\n",
    "incidents.head()"
   ]
  },
  {
   "cell_type": "code",
   "execution_count": null,
   "metadata": {},
   "outputs": [],
   "source": [
    "incidents.columns\n",
    "incidents.index"
   ]
  },
  {
   "cell_type": "markdown",
   "metadata": {},
   "source": [
    "#### restrict the list of columns or rows in the output DataFrame using iloc()\n",
    "The iloc() function is an indexed-based selecting method which means that we have to pass an integer index in the method to select a specific row/column."
   ]
  },
  {
   "cell_type": "code",
   "execution_count": 18,
   "metadata": {},
   "outputs": [
    {
     "data": {
      "text/plain": [
       "RangeIndex(start=0, stop=74, step=1)"
      ]
     },
     "execution_count": 18,
     "metadata": {},
     "output_type": "execute_result"
    }
   ],
   "source": [
    "incidents.iloc[0:5,0:3]\n"
   ]
  },
  {
   "cell_type": "markdown",
   "metadata": {},
   "source": [
    "#### restrict the list of columns or rows in the output DataFrame using loc()\n",
    "The loc() function is label based data selecting method which means that we have to pass the name of the row or column which we want to select."
   ]
  },
  {
   "cell_type": "code",
   "execution_count": 17,
   "metadata": {},
   "outputs": [
    {
     "data": {
      "text/html": [
       "<div>\n",
       "<style scoped>\n",
       "    .dataframe tbody tr th:only-of-type {\n",
       "        vertical-align: middle;\n",
       "    }\n",
       "\n",
       "    .dataframe tbody tr th {\n",
       "        vertical-align: top;\n",
       "    }\n",
       "\n",
       "    .dataframe thead th {\n",
       "        text-align: right;\n",
       "    }\n",
       "</style>\n",
       "<table border=\"1\" class=\"dataframe\">\n",
       "  <thead>\n",
       "    <tr style=\"text-align: right;\">\n",
       "      <th></th>\n",
       "      <th>Incident_No</th>\n",
       "      <th>Date___Time</th>\n",
       "      <th>Location</th>\n",
       "    </tr>\n",
       "  </thead>\n",
       "  <tbody>\n",
       "    <tr>\n",
       "      <th>0</th>\n",
       "      <td>2024000078279</td>\n",
       "      <td>7/29/24 1:09 PM</td>\n",
       "      <td>9 LINCOLN SQ Worcester, MA</td>\n",
       "    </tr>\n",
       "    <tr>\n",
       "      <th>1</th>\n",
       "      <td>2024000078796</td>\n",
       "      <td>7/30/24 4:38 PM</td>\n",
       "      <td>6 SHANNON ST Apt #: 2 Worcester, MA</td>\n",
       "    </tr>\n",
       "    <tr>\n",
       "      <th>2</th>\n",
       "      <td>2024000078796</td>\n",
       "      <td>7/30/24 4:38 PM</td>\n",
       "      <td>6 SHANNON ST Apt #: 2 Worcester, MA</td>\n",
       "    </tr>\n",
       "    <tr>\n",
       "      <th>3</th>\n",
       "      <td>2024000078953</td>\n",
       "      <td>7/30/24 9:50 PM</td>\n",
       "      <td>79 MAYFIELD ST Worcester, MA</td>\n",
       "    </tr>\n",
       "    <tr>\n",
       "      <th>4</th>\n",
       "      <td>2024000079115</td>\n",
       "      <td>7/31/24 11:05 AM</td>\n",
       "      <td>70 JACKSON ST Worcester, MA</td>\n",
       "    </tr>\n",
       "    <tr>\n",
       "      <th>5</th>\n",
       "      <td>2024000079115</td>\n",
       "      <td>7/31/24 11:05 AM</td>\n",
       "      <td>70 JACKSON ST Worcester, MA</td>\n",
       "    </tr>\n",
       "  </tbody>\n",
       "</table>\n",
       "</div>"
      ],
      "text/plain": [
       "     Incident_No       Date___Time                              Location\n",
       "0  2024000078279   7/29/24 1:09 PM           9 LINCOLN SQ Worcester, MA \n",
       "1  2024000078796   7/30/24 4:38 PM  6 SHANNON ST Apt #: 2 Worcester, MA \n",
       "2  2024000078796   7/30/24 4:38 PM  6 SHANNON ST Apt #: 2 Worcester, MA \n",
       "3  2024000078953   7/30/24 9:50 PM         79 MAYFIELD ST Worcester, MA \n",
       "4  2024000079115  7/31/24 11:05 AM          70 JACKSON ST Worcester, MA \n",
       "5  2024000079115  7/31/24 11:05 AM          70 JACKSON ST Worcester, MA "
      ]
     },
     "execution_count": 17,
     "metadata": {},
     "output_type": "execute_result"
    }
   ],
   "source": [
    "incidents.loc[0:5,['Incident_No', 'Date___Time', 'Location']]"
   ]
  },
  {
   "cell_type": "markdown",
   "metadata": {},
   "source": [
    "### DataFrame Manipulation\n",
    "#### Data filtering\n",
    "\n",
    "#### Data sorting"
   ]
  },
  {
   "cell_type": "markdown",
   "metadata": {},
   "source": [
    "### Summary statistics and grouping"
   ]
  },
  {
   "cell_type": "markdown",
   "metadata": {},
   "source": [
    "### Spatially Enabled Data Frame"
   ]
  },
  {
   "cell_type": "markdown",
   "metadata": {},
   "source": [
    "#### SEDF from a feature class"
   ]
  },
  {
   "cell_type": "markdown",
   "metadata": {},
   "source": []
  }
 ],
 "metadata": {
  "kernelspec": {
   "display_name": "base",
   "language": "python",
   "name": "python3"
  },
  "language_info": {
   "codemirror_mode": {
    "name": "ipython",
    "version": 3
   },
   "file_extension": ".py",
   "mimetype": "text/x-python",
   "name": "python",
   "nbconvert_exporter": "python",
   "pygments_lexer": "ipython3",
   "version": "3.11.7"
  }
 },
 "nbformat": 4,
 "nbformat_minor": 2
}
