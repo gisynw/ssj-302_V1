{
 "cells": [
  {
   "cell_type": "markdown",
   "metadata": {},
   "source": [
    "<a href=\"https://colab.research.google.com/github/gisynw/ssj-302/blob/main/docs/Lectures/Week04_Pandas.ipynb\" target=\"_blank\">\n",
    "  <img src=\"https://colab.research.google.com/assets/colab-badge.svg\" alt=\"Open in Colab\" style=\"height: 30px;\"/>\n",
    "</a>\n",
    "&nbsp &nbsp\n",
    "<a href=\"./Week04_Pandas.ipynb\" target=\"_blank\"> \n",
    "  <img src=\"https://img.icons8.com/?size=100&id=108635&format=png&color=000000\" alt=\"Download\" style=\"height: 40px;\"/>\n",
    " </a>"
   ]
  },
  {
   "cell_type": "markdown",
   "metadata": {},
   "source": [
    "### What is pandas?\n",
    "\n",
    "pandas is a Python library used for data manipulation and analysis that buil on top of the Python programming language.\n",
    "\n",
    "Pandas work well with CSV file (e.g., excel, SQL)"
   ]
  },
  {
   "cell_type": "markdown",
   "metadata": {},
   "source": [
    "### Key features of Python Pandas\n",
    "\n",
    "<img src=\"../image/pandas_feature.png\" height = 250 px>"
   ]
  },
  {
   "cell_type": "markdown",
   "metadata": {},
   "source": [
    "### Import Pandas in Python\n",
    "It is recommended to install and run pandas from a virtual environment"
   ]
  },
  {
   "cell_type": "markdown",
   "metadata": {},
   "source": [
    "#### Create a virtual environment\n",
    "Right click the Anaconda prompt and __Run as Administrator__ (This step will ensure that your package is installed in _Anaconda/env_ folder) \n",
    "\n",
    "Create a virtual environment named as 'pandas_v' with python version 3.9\n",
    "```bash\n",
    "conda create -n pda python=3.9\n",
    "```\n",
    "\n",
    "#### List virtual environment\n",
    "now if you list virgual envionment, you can see the virtual environment that you just create \n",
    "```bash\n",
    "conda env list\n",
    "```\n",
    "\n",
    "#### Activate virtual environment\n",
    "if you virtual environment named as 'arcgis_python'\n",
    "```bash\n",
    "activate pda\n",
    "```\n",
    "\n",
    "#### Install pandas\n",
    "```bash\n",
    "conda install pandas\n",
    "```"
   ]
  },
  {
   "cell_type": "markdown",
   "metadata": {},
   "source": [
    "### Download data in CSV format\n",
    "\n",
    "[Data Source: The city of Worcester](https://opendata.worcesterma.gov/search?collection=dataset&sort=Date%20Updated%7Cmodified%7Cdesc)\n",
    "\n",
    "Search: Worcester Police Use of Force Incidents (July 2024)\n",
    "\n",
    "Download CSV"
   ]
  },
  {
   "cell_type": "markdown",
   "metadata": {},
   "source": [
    "### Loading a Pandas DataFrame from CSV file"
   ]
  },
  {
   "cell_type": "code",
   "execution_count": 2,
   "metadata": {},
   "outputs": [],
   "source": [
    "import pandas as pd"
   ]
  },
  {
   "cell_type": "code",
   "execution_count": 4,
   "metadata": {},
   "outputs": [
    {
     "name": "stdout",
     "output_type": "stream",
     "text": [
      "['ArrowDtype', 'BooleanDtype', 'Categorical', 'CategoricalDtype', 'CategoricalIndex', 'DataFrame', 'DateOffset', 'DatetimeIndex', 'DatetimeTZDtype', 'ExcelFile', 'ExcelWriter', 'Flags', 'Float32Dtype', 'Float64Dtype', 'Grouper', 'HDFStore', 'Index', 'IndexSlice', 'Int16Dtype', 'Int32Dtype', 'Int64Dtype', 'Int8Dtype', 'Interval', 'IntervalDtype', 'IntervalIndex', 'MultiIndex', 'NA', 'NaT', 'NamedAgg', 'Period', 'PeriodDtype', 'PeriodIndex', 'RangeIndex', 'Series', 'SparseDtype', 'StringDtype', 'Timedelta', 'TimedeltaIndex', 'Timestamp', 'UInt16Dtype', 'UInt32Dtype', 'UInt64Dtype', 'UInt8Dtype', '__all__', '__builtins__', '__cached__', '__doc__', '__docformat__', '__file__', '__git_version__', '__loader__', '__name__', '__package__', '__path__', '__spec__', '__version__', '_built_with_meson', '_config', '_is_numpy_dev', '_libs', '_pandas_datetime_CAPI', '_pandas_parser_CAPI', '_testing', '_typing', '_version_meson', 'annotations', 'api', 'array', 'arrays', 'bdate_range', 'compat', 'concat', 'core', 'crosstab', 'cut', 'date_range', 'describe_option', 'errors', 'eval', 'factorize', 'from_dummies', 'get_dummies', 'get_option', 'infer_freq', 'interval_range', 'io', 'isna', 'isnull', 'json_normalize', 'lreshape', 'melt', 'merge', 'merge_asof', 'merge_ordered', 'notna', 'notnull', 'offsets', 'option_context', 'options', 'pandas', 'period_range', 'pivot', 'pivot_table', 'plotting', 'qcut', 'read_clipboard', 'read_csv', 'read_excel', 'read_feather', 'read_fwf', 'read_gbq', 'read_hdf', 'read_html', 'read_json', 'read_orc', 'read_parquet', 'read_pickle', 'read_sas', 'read_spss', 'read_sql', 'read_sql_query', 'read_sql_table', 'read_stata', 'read_table', 'read_xml', 'reset_option', 'set_eng_float_format', 'set_option', 'show_versions', 'test', 'testing', 'timedelta_range', 'to_datetime', 'to_numeric', 'to_pickle', 'to_timedelta', 'tseries', 'unique', 'util', 'value_counts', 'wide_to_long']\n"
     ]
    }
   ],
   "source": [
    "## use the dir() function to list all the attributes (include functions) in python\n",
    "print(dir(pd))"
   ]
  },
  {
   "cell_type": "markdown",
   "metadata": {},
   "source": [
    "#### read csv"
   ]
  },
  {
   "cell_type": "code",
   "execution_count": 3,
   "metadata": {},
   "outputs": [
    {
     "data": {
      "text/html": [
       "<div>\n",
       "<style scoped>\n",
       "    .dataframe tbody tr th:only-of-type {\n",
       "        vertical-align: middle;\n",
       "    }\n",
       "\n",
       "    .dataframe tbody tr th {\n",
       "        vertical-align: top;\n",
       "    }\n",
       "\n",
       "    .dataframe thead th {\n",
       "        text-align: right;\n",
       "    }\n",
       "</style>\n",
       "<table border=\"1\" class=\"dataframe\">\n",
       "  <thead>\n",
       "    <tr style=\"text-align: right;\">\n",
       "      <th></th>\n",
       "      <th>Incident_No</th>\n",
       "      <th>Date___Time</th>\n",
       "      <th>Location</th>\n",
       "      <th>Officer</th>\n",
       "      <th>Narr</th>\n",
       "      <th>Implement</th>\n",
       "      <th>Injury</th>\n",
       "      <th>Supervisor</th>\n",
       "      <th>Notified</th>\n",
       "      <th>ObjectId</th>\n",
       "    </tr>\n",
       "  </thead>\n",
       "  <tbody>\n",
       "    <tr>\n",
       "      <th>0</th>\n",
       "      <td>2024000078279</td>\n",
       "      <td>7/29/24 1:09 PM</td>\n",
       "      <td>9 LINCOLN SQ Worcester, MA</td>\n",
       "      <td>Daniel Adjei</td>\n",
       "      <td>1</td>\n",
       "      <td>R. Empty Hand Compliance Techniques / Level 3</td>\n",
       "      <td>Visible Injury</td>\n",
       "      <td>Neil F O'Connor</td>\n",
       "      <td>7/29/24 4:27 PM</td>\n",
       "      <td>1</td>\n",
       "    </tr>\n",
       "    <tr>\n",
       "      <th>1</th>\n",
       "      <td>2024000078796</td>\n",
       "      <td>7/30/24 4:38 PM</td>\n",
       "      <td>6 SHANNON ST Apt #: 2 Worcester, MA</td>\n",
       "      <td>Rachel E Frisch</td>\n",
       "      <td>3</td>\n",
       "      <td>R. Empty Hand Compliance Techniques / Level 3</td>\n",
       "      <td>_None</td>\n",
       "      <td>Michael A Cappabianca Jr</td>\n",
       "      <td>7/30/24 6:57 PM</td>\n",
       "      <td>2</td>\n",
       "    </tr>\n",
       "    <tr>\n",
       "      <th>2</th>\n",
       "      <td>2024000078796</td>\n",
       "      <td>7/30/24 4:38 PM</td>\n",
       "      <td>6 SHANNON ST Apt #: 2 Worcester, MA</td>\n",
       "      <td>Michael Genese</td>\n",
       "      <td>2</td>\n",
       "      <td>R. Empty Hand Compliance Techniques / Level 3</td>\n",
       "      <td>_None</td>\n",
       "      <td>Michael A Cappabianca Jr</td>\n",
       "      <td>7/30/24 6:55 PM</td>\n",
       "      <td>3</td>\n",
       "    </tr>\n",
       "    <tr>\n",
       "      <th>3</th>\n",
       "      <td>2024000078953</td>\n",
       "      <td>7/30/24 9:50 PM</td>\n",
       "      <td>79 MAYFIELD ST Worcester, MA</td>\n",
       "      <td>David Green</td>\n",
       "      <td>3</td>\n",
       "      <td>I. Display of Firearm</td>\n",
       "      <td>_None</td>\n",
       "      <td>Stephen L Roche</td>\n",
       "      <td>7/30/24 10:26 PM</td>\n",
       "      <td>4</td>\n",
       "    </tr>\n",
       "    <tr>\n",
       "      <th>4</th>\n",
       "      <td>2024000079115</td>\n",
       "      <td>7/31/24 11:05 AM</td>\n",
       "      <td>70 JACKSON ST Worcester, MA</td>\n",
       "      <td>DUY CHAU</td>\n",
       "      <td>6</td>\n",
       "      <td>I. Display of Firearm</td>\n",
       "      <td>_None</td>\n",
       "      <td>Shawn M Barbale</td>\n",
       "      <td>7/31/24 1:20 PM</td>\n",
       "      <td>5</td>\n",
       "    </tr>\n",
       "  </tbody>\n",
       "</table>\n",
       "</div>"
      ],
      "text/plain": [
       "     Incident_No       Date___Time                              Location  \\\n",
       "0  2024000078279   7/29/24 1:09 PM           9 LINCOLN SQ Worcester, MA    \n",
       "1  2024000078796   7/30/24 4:38 PM  6 SHANNON ST Apt #: 2 Worcester, MA    \n",
       "2  2024000078796   7/30/24 4:38 PM  6 SHANNON ST Apt #: 2 Worcester, MA    \n",
       "3  2024000078953   7/30/24 9:50 PM         79 MAYFIELD ST Worcester, MA    \n",
       "4  2024000079115  7/31/24 11:05 AM          70 JACKSON ST Worcester, MA    \n",
       "\n",
       "            Officer  Narr                                      Implement  \\\n",
       "0     Daniel Adjei      1  R. Empty Hand Compliance Techniques / Level 3   \n",
       "1  Rachel E Frisch      3  R. Empty Hand Compliance Techniques / Level 3   \n",
       "2   Michael Genese      2  R. Empty Hand Compliance Techniques / Level 3   \n",
       "3      David Green      3                          I. Display of Firearm   \n",
       "4         DUY CHAU      6                          I. Display of Firearm   \n",
       "\n",
       "           Injury                Supervisor          Notified  ObjectId  \n",
       "0  Visible Injury          Neil F O'Connor    7/29/24 4:27 PM         1  \n",
       "1           _None  Michael A Cappabianca Jr   7/30/24 6:57 PM         2  \n",
       "2           _None  Michael A Cappabianca Jr   7/30/24 6:55 PM         3  \n",
       "3           _None          Stephen L Roche   7/30/24 10:26 PM         4  \n",
       "4           _None          Shawn M Barbale    7/31/24 1:20 PM         5  "
      ]
     },
     "execution_count": 3,
     "metadata": {},
     "output_type": "execute_result"
    }
   ],
   "source": [
    "incidents = pd.read_csv(r'D:\\Teaching_Data\\Worcester_Police_Use_of_Force_Incidents_July_2024.csv')\n",
    "incidents.head(n=3)"
   ]
  },
  {
   "cell_type": "markdown",
   "metadata": {},
   "source": [
    "#### A concise summary of a DataFrame"
   ]
  },
  {
   "cell_type": "code",
   "execution_count": 4,
   "metadata": {},
   "outputs": [
    {
     "name": "stdout",
     "output_type": "stream",
     "text": [
      "<class 'pandas.core.frame.DataFrame'>\n",
      "RangeIndex: 74 entries, 0 to 73\n",
      "Data columns (total 10 columns):\n",
      " #   Column       Non-Null Count  Dtype \n",
      "---  ------       --------------  ----- \n",
      " 0   Incident_No  74 non-null     int64 \n",
      " 1   Date___Time  74 non-null     object\n",
      " 2   Location     74 non-null     object\n",
      " 3   Officer      74 non-null     object\n",
      " 4   Narr         74 non-null     int64 \n",
      " 5   Implement    74 non-null     object\n",
      " 6   Injury       74 non-null     object\n",
      " 7   Supervisor   74 non-null     object\n",
      " 8   Notified     74 non-null     object\n",
      " 9   ObjectId     74 non-null     int64 \n",
      "dtypes: int64(3), object(7)\n",
      "memory usage: 5.9+ KB\n"
     ]
    }
   ],
   "source": [
    "incidents.info()"
   ]
  },
  {
   "cell_type": "code",
   "execution_count": 5,
   "metadata": {},
   "outputs": [
    {
     "data": {
      "text/plain": [
       "(74, 10)"
      ]
     },
     "execution_count": 5,
     "metadata": {},
     "output_type": "execute_result"
    }
   ],
   "source": [
    "incidents.shape"
   ]
  },
  {
   "cell_type": "markdown",
   "metadata": {},
   "source": [
    "#### Series and DataFrame"
   ]
  },
  {
   "cell_type": "markdown",
   "metadata": {},
   "source": [
    "Series: A one-dimensional labeled array capable of holding data of any type (integers, strings, floating-point numbers, etc.).\n",
    "\n",
    "DataFrame: A two-dimensional tabular data structure with labeled axes (rows and columns)."
   ]
  },
  {
   "cell_type": "markdown",
   "metadata": {},
   "source": [
    "#### Access a column"
   ]
  },
  {
   "cell_type": "code",
   "execution_count": 28,
   "metadata": {},
   "outputs": [
    {
     "name": "stdout",
     "output_type": "stream",
     "text": [
      "0     1\n",
      "1     3\n",
      "2     2\n",
      "3     3\n",
      "4     6\n",
      "     ..\n",
      "69    5\n",
      "70    2\n",
      "71    1\n",
      "72    4\n",
      "73    2\n",
      "Name: Narr, Length: 74, dtype: int64\n"
     ]
    },
    {
     "data": {
      "text/plain": [
       "pandas.core.series.Series"
      ]
     },
     "execution_count": 28,
     "metadata": {},
     "output_type": "execute_result"
    }
   ],
   "source": [
    "# Access a column as series\n",
    "col_series = incidents['Narr']\n",
    "print(col_series)\n",
    "type(col_series)"
   ]
  },
  {
   "cell_type": "code",
   "execution_count": 38,
   "metadata": {},
   "outputs": [
    {
     "name": "stdout",
     "output_type": "stream",
     "text": [
      "<class 'pandas.core.series.Series'>\n"
     ]
    },
    {
     "data": {
      "text/plain": [
       "0     1\n",
       "1     3\n",
       "2     2\n",
       "3     3\n",
       "4     6\n",
       "     ..\n",
       "69    5\n",
       "70    2\n",
       "71    1\n",
       "72    4\n",
       "73    2\n",
       "Name: Narr, Length: 74, dtype: int64"
      ]
     },
     "execution_count": 38,
     "metadata": {},
     "output_type": "execute_result"
    }
   ],
   "source": [
    "# Access a column as Series (2nd syntax)\n",
    "col_series02 = incidents.Narr\n",
    "print(type(col_series02))\n",
    "col_series02"
   ]
  },
  {
   "cell_type": "code",
   "execution_count": 6,
   "metadata": {},
   "outputs": [
    {
     "name": "stdout",
     "output_type": "stream",
     "text": [
      "    Narr\n",
      "0      1\n",
      "1      3\n",
      "2      2\n",
      "3      3\n",
      "4      6\n",
      "..   ...\n",
      "69     5\n",
      "70     2\n",
      "71     1\n",
      "72     4\n",
      "73     2\n",
      "\n",
      "[74 rows x 1 columns]\n"
     ]
    },
    {
     "data": {
      "text/plain": [
       "pandas.core.frame.DataFrame"
      ]
     },
     "execution_count": 6,
     "metadata": {},
     "output_type": "execute_result"
    }
   ],
   "source": [
    "## Access a column as DataFrame\n",
    "col_df = incidents[['Narr']]\n",
    "print(col_df)\n",
    "type(col_df)"
   ]
  },
  {
   "cell_type": "markdown",
   "metadata": {},
   "source": [
    "#### Access a row\n",
    "The iloc() function is an indexed-based selecting method which means that we have to pass an integer index in the method to select a specific row/column."
   ]
  },
  {
   "cell_type": "code",
   "execution_count": 7,
   "metadata": {},
   "outputs": [
    {
     "name": "stdout",
     "output_type": "stream",
     "text": [
      "Incident_No                                    2024000078279\n",
      "Date___Time                                  7/29/24 1:09 PM\n",
      "Location                         9 LINCOLN SQ Worcester, MA \n",
      "Officer                                        Daniel Adjei \n",
      "Narr                                                       1\n",
      "Implement      R. Empty Hand Compliance Techniques / Level 3\n",
      "Injury                                        Visible Injury\n",
      "Supervisor                                  Neil F O'Connor \n",
      "Notified                                     7/29/24 4:27 PM\n",
      "ObjectId                                                   1\n",
      "Name: 0, dtype: object\n"
     ]
    },
    {
     "data": {
      "text/plain": [
       "pandas.core.series.Series"
      ]
     },
     "execution_count": 7,
     "metadata": {},
     "output_type": "execute_result"
    }
   ],
   "source": [
    "# Access a row as Series\n",
    "row_series = incidents.iloc[0,:] \n",
    "print(row_series)\n",
    "type(row_series)"
   ]
  },
  {
   "cell_type": "code",
   "execution_count": 8,
   "metadata": {},
   "outputs": [
    {
     "name": "stdout",
     "output_type": "stream",
     "text": [
      "<class 'pandas.core.frame.DataFrame'>\n"
     ]
    },
    {
     "data": {
      "text/html": [
       "<div>\n",
       "<style scoped>\n",
       "    .dataframe tbody tr th:only-of-type {\n",
       "        vertical-align: middle;\n",
       "    }\n",
       "\n",
       "    .dataframe tbody tr th {\n",
       "        vertical-align: top;\n",
       "    }\n",
       "\n",
       "    .dataframe thead th {\n",
       "        text-align: right;\n",
       "    }\n",
       "</style>\n",
       "<table border=\"1\" class=\"dataframe\">\n",
       "  <thead>\n",
       "    <tr style=\"text-align: right;\">\n",
       "      <th></th>\n",
       "      <th>Incident_No</th>\n",
       "      <th>Date___Time</th>\n",
       "      <th>Location</th>\n",
       "      <th>Officer</th>\n",
       "      <th>Narr</th>\n",
       "      <th>Implement</th>\n",
       "      <th>Injury</th>\n",
       "      <th>Supervisor</th>\n",
       "      <th>Notified</th>\n",
       "      <th>ObjectId</th>\n",
       "    </tr>\n",
       "  </thead>\n",
       "  <tbody>\n",
       "    <tr>\n",
       "      <th>0</th>\n",
       "      <td>2024000078279</td>\n",
       "      <td>7/29/24 1:09 PM</td>\n",
       "      <td>9 LINCOLN SQ Worcester, MA</td>\n",
       "      <td>Daniel Adjei</td>\n",
       "      <td>1</td>\n",
       "      <td>R. Empty Hand Compliance Techniques / Level 3</td>\n",
       "      <td>Visible Injury</td>\n",
       "      <td>Neil F O'Connor</td>\n",
       "      <td>7/29/24 4:27 PM</td>\n",
       "      <td>1</td>\n",
       "    </tr>\n",
       "  </tbody>\n",
       "</table>\n",
       "</div>"
      ],
      "text/plain": [
       "     Incident_No      Date___Time                     Location        Officer  \\\n",
       "0  2024000078279  7/29/24 1:09 PM  9 LINCOLN SQ Worcester, MA   Daniel Adjei    \n",
       "\n",
       "   Narr                                      Implement          Injury  \\\n",
       "0     1  R. Empty Hand Compliance Techniques / Level 3  Visible Injury   \n",
       "\n",
       "         Supervisor         Notified  ObjectId  \n",
       "0  Neil F O'Connor   7/29/24 4:27 PM         1  "
      ]
     },
     "execution_count": 8,
     "metadata": {},
     "output_type": "execute_result"
    }
   ],
   "source": [
    "# Access a row as DataFrame\n",
    "row_df = incidents.iloc[[0],:] \n",
    "print(type(row_df))\n",
    "row_df"
   ]
  },
  {
   "cell_type": "markdown",
   "metadata": {},
   "source": [
    "### Access multiple rows and columns"
   ]
  },
  {
   "cell_type": "code",
   "execution_count": 9,
   "metadata": {},
   "outputs": [
    {
     "name": "stdout",
     "output_type": "stream",
     "text": [
      "<class 'pandas.core.frame.DataFrame'>\n"
     ]
    },
    {
     "data": {
      "text/html": [
       "<div>\n",
       "<style scoped>\n",
       "    .dataframe tbody tr th:only-of-type {\n",
       "        vertical-align: middle;\n",
       "    }\n",
       "\n",
       "    .dataframe tbody tr th {\n",
       "        vertical-align: top;\n",
       "    }\n",
       "\n",
       "    .dataframe thead th {\n",
       "        text-align: right;\n",
       "    }\n",
       "</style>\n",
       "<table border=\"1\" class=\"dataframe\">\n",
       "  <thead>\n",
       "    <tr style=\"text-align: right;\">\n",
       "      <th></th>\n",
       "      <th>Incident_No</th>\n",
       "      <th>Date___Time</th>\n",
       "      <th>Location</th>\n",
       "    </tr>\n",
       "  </thead>\n",
       "  <tbody>\n",
       "    <tr>\n",
       "      <th>0</th>\n",
       "      <td>2024000078279</td>\n",
       "      <td>7/29/24 1:09 PM</td>\n",
       "      <td>9 LINCOLN SQ Worcester, MA</td>\n",
       "    </tr>\n",
       "    <tr>\n",
       "      <th>1</th>\n",
       "      <td>2024000078796</td>\n",
       "      <td>7/30/24 4:38 PM</td>\n",
       "      <td>6 SHANNON ST Apt #: 2 Worcester, MA</td>\n",
       "    </tr>\n",
       "    <tr>\n",
       "      <th>2</th>\n",
       "      <td>2024000078796</td>\n",
       "      <td>7/30/24 4:38 PM</td>\n",
       "      <td>6 SHANNON ST Apt #: 2 Worcester, MA</td>\n",
       "    </tr>\n",
       "    <tr>\n",
       "      <th>3</th>\n",
       "      <td>2024000078953</td>\n",
       "      <td>7/30/24 9:50 PM</td>\n",
       "      <td>79 MAYFIELD ST Worcester, MA</td>\n",
       "    </tr>\n",
       "    <tr>\n",
       "      <th>4</th>\n",
       "      <td>2024000079115</td>\n",
       "      <td>7/31/24 11:05 AM</td>\n",
       "      <td>70 JACKSON ST Worcester, MA</td>\n",
       "    </tr>\n",
       "  </tbody>\n",
       "</table>\n",
       "</div>"
      ],
      "text/plain": [
       "     Incident_No       Date___Time                              Location\n",
       "0  2024000078279   7/29/24 1:09 PM           9 LINCOLN SQ Worcester, MA \n",
       "1  2024000078796   7/30/24 4:38 PM  6 SHANNON ST Apt #: 2 Worcester, MA \n",
       "2  2024000078796   7/30/24 4:38 PM  6 SHANNON ST Apt #: 2 Worcester, MA \n",
       "3  2024000078953   7/30/24 9:50 PM         79 MAYFIELD ST Worcester, MA \n",
       "4  2024000079115  7/31/24 11:05 AM          70 JACKSON ST Worcester, MA "
      ]
     },
     "execution_count": 9,
     "metadata": {},
     "output_type": "execute_result"
    }
   ],
   "source": [
    "##### Access multiple row using iloc()\n",
    "sub_inci = incidents.iloc[0:5,0:3]\n",
    "print(type(sub_inci))\n",
    "sub_inci"
   ]
  },
  {
   "cell_type": "markdown",
   "metadata": {},
   "source": [
    "#### Access columns or rows using loc()\n",
    "The loc() function is label based data selecting method which means that we have to pass the name of the row or column which we want to select."
   ]
  },
  {
   "cell_type": "code",
   "execution_count": 10,
   "metadata": {},
   "outputs": [
    {
     "data": {
      "text/html": [
       "<div>\n",
       "<style scoped>\n",
       "    .dataframe tbody tr th:only-of-type {\n",
       "        vertical-align: middle;\n",
       "    }\n",
       "\n",
       "    .dataframe tbody tr th {\n",
       "        vertical-align: top;\n",
       "    }\n",
       "\n",
       "    .dataframe thead th {\n",
       "        text-align: right;\n",
       "    }\n",
       "</style>\n",
       "<table border=\"1\" class=\"dataframe\">\n",
       "  <thead>\n",
       "    <tr style=\"text-align: right;\">\n",
       "      <th></th>\n",
       "      <th>Incident_No</th>\n",
       "      <th>Date___Time</th>\n",
       "      <th>Location</th>\n",
       "    </tr>\n",
       "  </thead>\n",
       "  <tbody>\n",
       "    <tr>\n",
       "      <th>0</th>\n",
       "      <td>2024000078279</td>\n",
       "      <td>7/29/24 1:09 PM</td>\n",
       "      <td>9 LINCOLN SQ Worcester, MA</td>\n",
       "    </tr>\n",
       "    <tr>\n",
       "      <th>1</th>\n",
       "      <td>2024000078796</td>\n",
       "      <td>7/30/24 4:38 PM</td>\n",
       "      <td>6 SHANNON ST Apt #: 2 Worcester, MA</td>\n",
       "    </tr>\n",
       "  </tbody>\n",
       "</table>\n",
       "</div>"
      ],
      "text/plain": [
       "     Incident_No      Date___Time                              Location\n",
       "0  2024000078279  7/29/24 1:09 PM           9 LINCOLN SQ Worcester, MA \n",
       "1  2024000078796  7/30/24 4:38 PM  6 SHANNON ST Apt #: 2 Worcester, MA "
      ]
     },
     "execution_count": 10,
     "metadata": {},
     "output_type": "execute_result"
    }
   ],
   "source": [
    "rst = incidents.loc[0:1,['Incident_No', 'Date___Time', 'Location']]\n",
    "rst"
   ]
  },
  {
   "cell_type": "markdown",
   "metadata": {},
   "source": [
    "### Exercise 1: Get record as series and Datafram from incidents\n",
    "1. Get the record as series: 'Location' column\n",
    "\n",
    "2. Get the record as DataFrame using index based method (.iloc): row 1 - 5 and column 2 - 3\n",
    "\n",
    "3. Get the record as DataFrame using label based method (.loc): row 1-5 and column ['Supervisor', 'Notified']"
   ]
  },
  {
   "cell_type": "markdown",
   "metadata": {},
   "source": [
    "### Data cleaning\n",
    "#### Rename the column name\n",
    "Check the columns names based on `incidents.columns`"
   ]
  },
  {
   "cell_type": "code",
   "execution_count": 12,
   "metadata": {},
   "outputs": [
    {
     "name": "stdout",
     "output_type": "stream",
     "text": [
      "column name are Index(['IncidentNo', 'DateTime', 'Location', 'Officer', 'Narr', 'Implement',\n",
      "       'Injury', 'Supervisor', 'Notified', 'ObjectId'],\n",
      "      dtype='object') \n",
      "updated column name are Index(['IncidentNo', 'DateTime', 'Location', 'Officer', 'Narr', 'Implement',\n",
      "       'Injury', 'Supervisor', 'Notified', 'ObjectId'],\n",
      "      dtype='object') \n"
     ]
    }
   ],
   "source": [
    "#format of columns can be the dictionary: old column name: new column name\n",
    "print('column name are {} '.format(incidents.columns))\n",
    "\n",
    "incidents.rename(columns={'Date___Time':'DateTime', 'Incident_No':\"IncidentNo\"}, inplace=True)\n",
    "\n",
    "print('updated column name are {} '.format(incidents.columns))"
   ]
  },
  {
   "cell_type": "markdown",
   "metadata": {},
   "source": [
    "#### Check Null value\n",
    "[pandas.DataFrame.isnull](https://pandas.pydata.org/docs/reference/api/pandas.DataFrame.isnull.html) check missing value\n",
    "\n",
    "[pandas.DataFrame.sum](https://pandas.pydata.org/docs/reference/api/pandas.DataFrame.sum.html) the sum of the values over the requested axis."
   ]
  },
  {
   "cell_type": "code",
   "execution_count": 13,
   "metadata": {},
   "outputs": [
    {
     "data": {
      "text/html": [
       "<div>\n",
       "<style scoped>\n",
       "    .dataframe tbody tr th:only-of-type {\n",
       "        vertical-align: middle;\n",
       "    }\n",
       "\n",
       "    .dataframe tbody tr th {\n",
       "        vertical-align: top;\n",
       "    }\n",
       "\n",
       "    .dataframe thead th {\n",
       "        text-align: right;\n",
       "    }\n",
       "</style>\n",
       "<table border=\"1\" class=\"dataframe\">\n",
       "  <thead>\n",
       "    <tr style=\"text-align: right;\">\n",
       "      <th></th>\n",
       "      <th>IncidentNo</th>\n",
       "      <th>DateTime</th>\n",
       "      <th>Location</th>\n",
       "      <th>Officer</th>\n",
       "      <th>Narr</th>\n",
       "      <th>Implement</th>\n",
       "      <th>Injury</th>\n",
       "      <th>Supervisor</th>\n",
       "      <th>Notified</th>\n",
       "      <th>ObjectId</th>\n",
       "    </tr>\n",
       "  </thead>\n",
       "  <tbody>\n",
       "    <tr>\n",
       "      <th>0</th>\n",
       "      <td>False</td>\n",
       "      <td>False</td>\n",
       "      <td>False</td>\n",
       "      <td>False</td>\n",
       "      <td>False</td>\n",
       "      <td>False</td>\n",
       "      <td>False</td>\n",
       "      <td>False</td>\n",
       "      <td>False</td>\n",
       "      <td>False</td>\n",
       "    </tr>\n",
       "    <tr>\n",
       "      <th>1</th>\n",
       "      <td>False</td>\n",
       "      <td>False</td>\n",
       "      <td>False</td>\n",
       "      <td>False</td>\n",
       "      <td>False</td>\n",
       "      <td>False</td>\n",
       "      <td>False</td>\n",
       "      <td>False</td>\n",
       "      <td>False</td>\n",
       "      <td>False</td>\n",
       "    </tr>\n",
       "    <tr>\n",
       "      <th>2</th>\n",
       "      <td>False</td>\n",
       "      <td>False</td>\n",
       "      <td>False</td>\n",
       "      <td>False</td>\n",
       "      <td>False</td>\n",
       "      <td>False</td>\n",
       "      <td>False</td>\n",
       "      <td>False</td>\n",
       "      <td>False</td>\n",
       "      <td>False</td>\n",
       "    </tr>\n",
       "    <tr>\n",
       "      <th>3</th>\n",
       "      <td>False</td>\n",
       "      <td>False</td>\n",
       "      <td>False</td>\n",
       "      <td>False</td>\n",
       "      <td>False</td>\n",
       "      <td>False</td>\n",
       "      <td>False</td>\n",
       "      <td>False</td>\n",
       "      <td>False</td>\n",
       "      <td>False</td>\n",
       "    </tr>\n",
       "    <tr>\n",
       "      <th>4</th>\n",
       "      <td>False</td>\n",
       "      <td>False</td>\n",
       "      <td>False</td>\n",
       "      <td>False</td>\n",
       "      <td>False</td>\n",
       "      <td>False</td>\n",
       "      <td>False</td>\n",
       "      <td>False</td>\n",
       "      <td>False</td>\n",
       "      <td>False</td>\n",
       "    </tr>\n",
       "  </tbody>\n",
       "</table>\n",
       "</div>"
      ],
      "text/plain": [
       "   IncidentNo  DateTime  Location  Officer   Narr  Implement  Injury  \\\n",
       "0       False     False     False    False  False      False   False   \n",
       "1       False     False     False    False  False      False   False   \n",
       "2       False     False     False    False  False      False   False   \n",
       "3       False     False     False    False  False      False   False   \n",
       "4       False     False     False    False  False      False   False   \n",
       "\n",
       "   Supervisor  Notified  ObjectId  \n",
       "0       False     False     False  \n",
       "1       False     False     False  \n",
       "2       False     False     False  \n",
       "3       False     False     False  \n",
       "4       False     False     False  "
      ]
     },
     "execution_count": 13,
     "metadata": {},
     "output_type": "execute_result"
    }
   ],
   "source": [
    "# check null value in each cell\n",
    "incidents.isnull().head(n = 5)"
   ]
  },
  {
   "cell_type": "code",
   "execution_count": 14,
   "metadata": {},
   "outputs": [
    {
     "data": {
      "text/plain": [
       "IncidentNo    0\n",
       "DateTime      0\n",
       "Location      0\n",
       "Officer       0\n",
       "Narr          0\n",
       "Implement     0\n",
       "Injury        0\n",
       "Supervisor    0\n",
       "Notified      0\n",
       "ObjectId      0\n",
       "dtype: int64"
      ]
     },
     "execution_count": 14,
     "metadata": {},
     "output_type": "execute_result"
    }
   ],
   "source": [
    "# calcualte the sum for each column\n",
    "incidents.isnull().sum()"
   ]
  },
  {
   "cell_type": "markdown",
   "metadata": {},
   "source": [
    "#### Get unique value of the columns\n",
    "unique() function in pandas\n",
    " \n",
    "[pandas.unique](https://pandas.pydata.org/docs/reference/api/pandas.unique.html)"
   ]
  },
  {
   "cell_type": "code",
   "execution_count": 15,
   "metadata": {},
   "outputs": [
    {
     "name": "stderr",
     "output_type": "stream",
     "text": [
      "C:\\Users\\yanawu\\AppData\\Local\\Temp\\ipykernel_8664\\3584398706.py:2: FutureWarning: unique with argument that is not not a Series, Index, ExtensionArray, or np.ndarray is deprecated and will raise in a future version.\n",
      "  pd.unique(multi_col)\n"
     ]
    },
    {
     "ename": "ValueError",
     "evalue": "could not broadcast input array from shape (74,2) into shape (74,)",
     "output_type": "error",
     "traceback": [
      "\u001b[1;31m---------------------------------------------------------------------------\u001b[0m",
      "\u001b[1;31mValueError\u001b[0m                                Traceback (most recent call last)",
      "Cell \u001b[1;32mIn[15], line 2\u001b[0m\n\u001b[0;32m      1\u001b[0m multi_col \u001b[38;5;241m=\u001b[39m incidents\u001b[38;5;241m.\u001b[39mloc[:,[\u001b[38;5;124m'\u001b[39m\u001b[38;5;124mInjury\u001b[39m\u001b[38;5;124m'\u001b[39m, \u001b[38;5;124m'\u001b[39m\u001b[38;5;124mNarr\u001b[39m\u001b[38;5;124m'\u001b[39m]]\n\u001b[1;32m----> 2\u001b[0m \u001b[43mpd\u001b[49m\u001b[38;5;241;43m.\u001b[39;49m\u001b[43munique\u001b[49m\u001b[43m(\u001b[49m\u001b[43mmulti_col\u001b[49m\u001b[43m)\u001b[49m\n",
      "File \u001b[1;32md:\\Anaconda\\envs\\pandas_vp\\lib\\site-packages\\pandas\\core\\algorithms.py:401\u001b[0m, in \u001b[0;36munique\u001b[1;34m(values)\u001b[0m\n\u001b[0;32m    307\u001b[0m \u001b[38;5;28;01mdef\u001b[39;00m \u001b[38;5;21munique\u001b[39m(values):\n\u001b[0;32m    308\u001b[0m \u001b[38;5;250m    \u001b[39m\u001b[38;5;124;03m\"\"\"\u001b[39;00m\n\u001b[0;32m    309\u001b[0m \u001b[38;5;124;03m    Return unique values based on a hash table.\u001b[39;00m\n\u001b[0;32m    310\u001b[0m \n\u001b[1;32m   (...)\u001b[0m\n\u001b[0;32m    399\u001b[0m \u001b[38;5;124;03m    array([('a', 'b'), ('b', 'a'), ('a', 'c')], dtype=object)\u001b[39;00m\n\u001b[0;32m    400\u001b[0m \u001b[38;5;124;03m    \"\"\"\u001b[39;00m\n\u001b[1;32m--> 401\u001b[0m     \u001b[38;5;28;01mreturn\u001b[39;00m \u001b[43munique_with_mask\u001b[49m\u001b[43m(\u001b[49m\u001b[43mvalues\u001b[49m\u001b[43m)\u001b[49m\n",
      "File \u001b[1;32md:\\Anaconda\\envs\\pandas_vp\\lib\\site-packages\\pandas\\core\\algorithms.py:429\u001b[0m, in \u001b[0;36munique_with_mask\u001b[1;34m(values, mask)\u001b[0m\n\u001b[0;32m    427\u001b[0m \u001b[38;5;28;01mdef\u001b[39;00m \u001b[38;5;21munique_with_mask\u001b[39m(values, mask: npt\u001b[38;5;241m.\u001b[39mNDArray[np\u001b[38;5;241m.\u001b[39mbool_] \u001b[38;5;241m|\u001b[39m \u001b[38;5;28;01mNone\u001b[39;00m \u001b[38;5;241m=\u001b[39m \u001b[38;5;28;01mNone\u001b[39;00m):\n\u001b[0;32m    428\u001b[0m \u001b[38;5;250m    \u001b[39m\u001b[38;5;124;03m\"\"\"See algorithms.unique for docs. Takes a mask for masked arrays.\"\"\"\u001b[39;00m\n\u001b[1;32m--> 429\u001b[0m     values \u001b[38;5;241m=\u001b[39m \u001b[43m_ensure_arraylike\u001b[49m\u001b[43m(\u001b[49m\u001b[43mvalues\u001b[49m\u001b[43m,\u001b[49m\u001b[43m \u001b[49m\u001b[43mfunc_name\u001b[49m\u001b[38;5;241;43m=\u001b[39;49m\u001b[38;5;124;43m\"\u001b[39;49m\u001b[38;5;124;43munique\u001b[39;49m\u001b[38;5;124;43m\"\u001b[39;49m\u001b[43m)\u001b[49m\n\u001b[0;32m    431\u001b[0m     \u001b[38;5;28;01mif\u001b[39;00m \u001b[38;5;28misinstance\u001b[39m(values\u001b[38;5;241m.\u001b[39mdtype, ExtensionDtype):\n\u001b[0;32m    432\u001b[0m         \u001b[38;5;66;03m# Dispatch to extension dtype's unique.\u001b[39;00m\n\u001b[0;32m    433\u001b[0m         \u001b[38;5;28;01mreturn\u001b[39;00m values\u001b[38;5;241m.\u001b[39munique()\n",
      "File \u001b[1;32md:\\Anaconda\\envs\\pandas_vp\\lib\\site-packages\\pandas\\core\\algorithms.py:238\u001b[0m, in \u001b[0;36m_ensure_arraylike\u001b[1;34m(values, func_name)\u001b[0m\n\u001b[0;32m    236\u001b[0m     \u001b[38;5;28;01mif\u001b[39;00m \u001b[38;5;28misinstance\u001b[39m(values, \u001b[38;5;28mtuple\u001b[39m):\n\u001b[0;32m    237\u001b[0m         values \u001b[38;5;241m=\u001b[39m \u001b[38;5;28mlist\u001b[39m(values)\n\u001b[1;32m--> 238\u001b[0m     values \u001b[38;5;241m=\u001b[39m \u001b[43mconstruct_1d_object_array_from_listlike\u001b[49m\u001b[43m(\u001b[49m\u001b[43mvalues\u001b[49m\u001b[43m)\u001b[49m\n\u001b[0;32m    239\u001b[0m \u001b[38;5;28;01melse\u001b[39;00m:\n\u001b[0;32m    240\u001b[0m     values \u001b[38;5;241m=\u001b[39m np\u001b[38;5;241m.\u001b[39masarray(values)\n",
      "File \u001b[1;32md:\\Anaconda\\envs\\pandas_vp\\lib\\site-packages\\pandas\\core\\dtypes\\cast.py:1601\u001b[0m, in \u001b[0;36mconstruct_1d_object_array_from_listlike\u001b[1;34m(values)\u001b[0m\n\u001b[0;32m   1598\u001b[0m \u001b[38;5;66;03m# numpy will try to interpret nested lists as further dimensions, hence\u001b[39;00m\n\u001b[0;32m   1599\u001b[0m \u001b[38;5;66;03m# making a 1D array that contains list-likes is a bit tricky:\u001b[39;00m\n\u001b[0;32m   1600\u001b[0m result \u001b[38;5;241m=\u001b[39m np\u001b[38;5;241m.\u001b[39mempty(\u001b[38;5;28mlen\u001b[39m(values), dtype\u001b[38;5;241m=\u001b[39m\u001b[38;5;124m\"\u001b[39m\u001b[38;5;124mobject\u001b[39m\u001b[38;5;124m\"\u001b[39m)\n\u001b[1;32m-> 1601\u001b[0m \u001b[43mresult\u001b[49m\u001b[43m[\u001b[49m\u001b[43m:\u001b[49m\u001b[43m]\u001b[49m \u001b[38;5;241m=\u001b[39m values\n\u001b[0;32m   1602\u001b[0m \u001b[38;5;28;01mreturn\u001b[39;00m result\n",
      "\u001b[1;31mValueError\u001b[0m: could not broadcast input array from shape (74,2) into shape (74,)"
     ]
    }
   ],
   "source": [
    "multi_col = incidents.loc[:,['Injury', 'Narr']]\n",
    "pd.unique(multi_col)"
   ]
  },
  {
   "cell_type": "code",
   "execution_count": 66,
   "metadata": {},
   "outputs": [
    {
     "data": {
      "text/plain": [
       "{'Injury': array(['Visible Injury', '_None', 'Complaint of Injury'], dtype=object),\n",
       " 'Narr': array([ 1,  3,  2,  6,  4, 12,  7,  5,  8,  9, 10], dtype=int64)}"
      ]
     },
     "execution_count": 66,
     "metadata": {},
     "output_type": "execute_result"
    }
   ],
   "source": [
    "unique_col = {}\n",
    "for col in multi_col.columns:\n",
    "    unique_col[col] = pd.unique(multi_col[col])\n",
    "unique_col"
   ]
  },
  {
   "cell_type": "markdown",
   "metadata": {},
   "source": [
    "### DataFrame Manipulation\n",
    "#### Data sorting\n",
    "[pandas.DataFrame.sort_values](https://pandas.pydata.org/docs/reference/api/pandas.DataFrame.sort_values.html#pandas.DataFrame.sort_values)\n",
    "\n",
    "[pandas.Series.sort_values](https://pandas.pydata.org/docs/reference/api/pandas.Series.sort_values.html#pandas.Series.sort_values)"
   ]
  },
  {
   "cell_type": "code",
   "execution_count": 11,
   "metadata": {},
   "outputs": [
    {
     "data": {
      "text/html": [
       "<div>\n",
       "<style scoped>\n",
       "    .dataframe tbody tr th:only-of-type {\n",
       "        vertical-align: middle;\n",
       "    }\n",
       "\n",
       "    .dataframe tbody tr th {\n",
       "        vertical-align: top;\n",
       "    }\n",
       "\n",
       "    .dataframe thead th {\n",
       "        text-align: right;\n",
       "    }\n",
       "</style>\n",
       "<table border=\"1\" class=\"dataframe\">\n",
       "  <thead>\n",
       "    <tr style=\"text-align: right;\">\n",
       "      <th></th>\n",
       "      <th>Incident_No</th>\n",
       "      <th>Date___Time</th>\n",
       "      <th>Location</th>\n",
       "      <th>Officer</th>\n",
       "      <th>Narr</th>\n",
       "      <th>Implement</th>\n",
       "      <th>Injury</th>\n",
       "      <th>Supervisor</th>\n",
       "      <th>Notified</th>\n",
       "      <th>ObjectId</th>\n",
       "    </tr>\n",
       "  </thead>\n",
       "  <tbody>\n",
       "    <tr>\n",
       "      <th>24</th>\n",
       "      <td>2024000067866</td>\n",
       "      <td>7/6/24 12:33 AM</td>\n",
       "      <td>466 HARDING ST Worcester, MA</td>\n",
       "      <td>Santino Simone</td>\n",
       "      <td>12</td>\n",
       "      <td>G. Display of Taser or Sparks Display</td>\n",
       "      <td>_None</td>\n",
       "      <td>Terrence G Cahill</td>\n",
       "      <td>8/18/24 12:39 AM</td>\n",
       "      <td>25</td>\n",
       "    </tr>\n",
       "    <tr>\n",
       "      <th>55</th>\n",
       "      <td>2024000074652</td>\n",
       "      <td>7/20/24 11:52 PM</td>\n",
       "      <td>3 JEFFERSON ST Worcester, MA</td>\n",
       "      <td>Tyler R Sterner</td>\n",
       "      <td>10</td>\n",
       "      <td>G. Display of Taser or Sparks Display</td>\n",
       "      <td>_None</td>\n",
       "      <td>Michael A Cappabianca Jr</td>\n",
       "      <td>7/24/24 9:23 PM</td>\n",
       "      <td>56</td>\n",
       "    </tr>\n",
       "    <tr>\n",
       "      <th>47</th>\n",
       "      <td>2024000072086</td>\n",
       "      <td>7/15/24 10:27 AM</td>\n",
       "      <td>442 GRAFTON ST Worcester, MA</td>\n",
       "      <td>Dimitrios Gaitanidis</td>\n",
       "      <td>9</td>\n",
       "      <td>I. Display of Firearm</td>\n",
       "      <td>_None</td>\n",
       "      <td>Jeffrey P Carlson</td>\n",
       "      <td>7/15/24 1:05 PM</td>\n",
       "      <td>48</td>\n",
       "    </tr>\n",
       "    <tr>\n",
       "      <th>48</th>\n",
       "      <td>2024000072443</td>\n",
       "      <td>7/16/24 6:23 AM</td>\n",
       "      <td>5 TOWNSEND ST Apt #: 2 Worcester, MA</td>\n",
       "      <td>Terrence O Gaffney</td>\n",
       "      <td>9</td>\n",
       "      <td>I. Display of Firearm</td>\n",
       "      <td>_None</td>\n",
       "      <td>Terrence G Cahill</td>\n",
       "      <td>7/16/24 7:41 PM</td>\n",
       "      <td>49</td>\n",
       "    </tr>\n",
       "    <tr>\n",
       "      <th>43</th>\n",
       "      <td>2024000072086</td>\n",
       "      <td>7/15/24 10:27 AM</td>\n",
       "      <td>442 GRAFTON ST Worcester, MA</td>\n",
       "      <td>Jose M Lugo-Gardner</td>\n",
       "      <td>8</td>\n",
       "      <td>I. Display of Firearm</td>\n",
       "      <td>_None</td>\n",
       "      <td>Shawn M Barbale</td>\n",
       "      <td>7/15/24 2:01 PM</td>\n",
       "      <td>44</td>\n",
       "    </tr>\n",
       "  </tbody>\n",
       "</table>\n",
       "</div>"
      ],
      "text/plain": [
       "      Incident_No       Date___Time                               Location  \\\n",
       "24  2024000067866   7/6/24 12:33 AM          466 HARDING ST Worcester, MA    \n",
       "55  2024000074652  7/20/24 11:52 PM          3 JEFFERSON ST Worcester, MA    \n",
       "47  2024000072086  7/15/24 10:27 AM          442 GRAFTON ST Worcester, MA    \n",
       "48  2024000072443   7/16/24 6:23 AM  5 TOWNSEND ST Apt #: 2 Worcester, MA    \n",
       "43  2024000072086  7/15/24 10:27 AM          442 GRAFTON ST Worcester, MA    \n",
       "\n",
       "                  Officer  Narr                              Implement Injury  \\\n",
       "24        Santino Simone     12  G. Display of Taser or Sparks Display  _None   \n",
       "55       Tyler R Sterner     10  G. Display of Taser or Sparks Display  _None   \n",
       "47  Dimitrios Gaitanidis      9                  I. Display of Firearm  _None   \n",
       "48    Terrence O Gaffney      9                  I. Display of Firearm  _None   \n",
       "43   Jose M Lugo-Gardner      8                  I. Display of Firearm  _None   \n",
       "\n",
       "                  Supervisor          Notified  ObjectId  \n",
       "24        Terrence G Cahill   8/18/24 12:39 AM        25  \n",
       "55  Michael A Cappabianca Jr   7/24/24 9:23 PM        56  \n",
       "47        Jeffrey P Carlson    7/15/24 1:05 PM        48  \n",
       "48        Terrence G Cahill    7/16/24 7:41 PM        49  \n",
       "43          Shawn M Barbale    7/15/24 2:01 PM        44  "
      ]
     },
     "execution_count": 11,
     "metadata": {},
     "output_type": "execute_result"
    }
   ],
   "source": [
    "inct_sort_narr = incidents.sort_values(by=\"Narr\", ascending=False)\n",
    "inct_sort_narr.head(n = 6)"
   ]
  },
  {
   "cell_type": "markdown",
   "metadata": {},
   "source": [
    "### Exercise 2: sort values based on Officer (String)\n",
    "sort_values() function sort the number from smallest to largest (ascending) descending\n",
    "\n",
    "how about sort the String?"
   ]
  },
  {
   "cell_type": "markdown",
   "metadata": {},
   "source": [
    "#### Data query: single condition"
   ]
  },
  {
   "cell_type": "code",
   "execution_count": 18,
   "metadata": {},
   "outputs": [
    {
     "name": "stdout",
     "output_type": "stream",
     "text": [
      "unique value: ['Visible Injury' '_None' 'Complaint of Injury']\n"
     ]
    }
   ],
   "source": [
    "unique_injury = incidents.loc[:,\"Injury\"].unique()\n",
    "print('unique value: {}'.format(unique_injury))"
   ]
  },
  {
   "cell_type": "code",
   "execution_count": 13,
   "metadata": {},
   "outputs": [
    {
     "data": {
      "text/plain": [
       "(68, 10)"
      ]
     },
     "execution_count": 13,
     "metadata": {},
     "output_type": "execute_result"
    }
   ],
   "source": [
    "none_incident = incidents.query('Injury == \"_None\"')\n",
    "print(none_incident.shape)"
   ]
  },
  {
   "cell_type": "markdown",
   "metadata": {},
   "source": [
    "### Exercise 3: How many incidents' injury type are 'Visible Injury'"
   ]
  },
  {
   "cell_type": "markdown",
   "metadata": {},
   "source": [
    "#### Data query: multiple condition\n",
    "Query how many incidents's Narr are larger than 6 and Implement are 'I. Display of Firearm'"
   ]
  },
  {
   "cell_type": "code",
   "execution_count": 16,
   "metadata": {},
   "outputs": [
    {
     "data": {
      "text/plain": [
       "(4, 10)"
      ]
     },
     "execution_count": 16,
     "metadata": {},
     "output_type": "execute_result"
    }
   ],
   "source": [
    "none_firearm = incidents.query('Narr > 6 & Implement == \"I. Display of Firearm\"')\n",
    "none_firearm.shape"
   ]
  },
  {
   "cell_type": "markdown",
   "metadata": {},
   "source": [
    "### DateTime\n",
    "Pandas provides the `pd.to_datetime()` function to convert string data into a datetime object:"
   ]
  },
  {
   "cell_type": "code",
   "execution_count": 16,
   "metadata": {},
   "outputs": [
    {
     "data": {
      "text/plain": [
       "0      7/29/24 1:09 PM\n",
       "1      7/30/24 4:38 PM\n",
       "2      7/30/24 4:38 PM\n",
       "3      7/30/24 9:50 PM\n",
       "4     7/31/24 11:05 AM\n",
       "            ...       \n",
       "69    7/27/24 12:43 AM\n",
       "70    7/29/24 11:41 AM\n",
       "71    7/29/24 11:41 AM\n",
       "72     7/29/24 1:09 PM\n",
       "73     7/29/24 1:09 PM\n",
       "Name: DateTime, Length: 74, dtype: object"
      ]
     },
     "execution_count": 16,
     "metadata": {},
     "output_type": "execute_result"
    }
   ],
   "source": [
    "incidents['DateTime']"
   ]
  },
  {
   "cell_type": "code",
   "execution_count": 17,
   "metadata": {},
   "outputs": [],
   "source": [
    "# create a new column to store the DateTime\n",
    "incidents['DT'] = pd.to_datetime(incidents['DateTime'], format = \"%m/%d/%y %I:%M %p\")"
   ]
  },
  {
   "cell_type": "code",
   "execution_count": 18,
   "metadata": {},
   "outputs": [
    {
     "data": {
      "text/html": [
       "<div>\n",
       "<style scoped>\n",
       "    .dataframe tbody tr th:only-of-type {\n",
       "        vertical-align: middle;\n",
       "    }\n",
       "\n",
       "    .dataframe tbody tr th {\n",
       "        vertical-align: top;\n",
       "    }\n",
       "\n",
       "    .dataframe thead th {\n",
       "        text-align: right;\n",
       "    }\n",
       "</style>\n",
       "<table border=\"1\" class=\"dataframe\">\n",
       "  <thead>\n",
       "    <tr style=\"text-align: right;\">\n",
       "      <th></th>\n",
       "      <th>IncidentNo</th>\n",
       "      <th>DateTime</th>\n",
       "      <th>Location</th>\n",
       "      <th>Officer</th>\n",
       "      <th>Narr</th>\n",
       "      <th>Implement</th>\n",
       "      <th>Injury</th>\n",
       "      <th>Supervisor</th>\n",
       "      <th>Notified</th>\n",
       "      <th>ObjectId</th>\n",
       "      <th>DT</th>\n",
       "    </tr>\n",
       "  </thead>\n",
       "  <tbody>\n",
       "    <tr>\n",
       "      <th>7</th>\n",
       "      <td>2024000065816</td>\n",
       "      <td>7/1/24 9:46 AM</td>\n",
       "      <td>25 QUEEN ST Worcester, MA</td>\n",
       "      <td>Joseph L Ford</td>\n",
       "      <td>1</td>\n",
       "      <td>R. Empty Hand Compliance Techniques / Level 3</td>\n",
       "      <td>_None</td>\n",
       "      <td>Justin Bennes</td>\n",
       "      <td>7/1/24 4:00 PM</td>\n",
       "      <td>8</td>\n",
       "      <td>2024-07-01 09:46:00</td>\n",
       "    </tr>\n",
       "    <tr>\n",
       "      <th>9</th>\n",
       "      <td>2024000066207</td>\n",
       "      <td>7/2/24 10:11 AM</td>\n",
       "      <td>275 PLEASANT ST Apt #: 713 Worcester, MA</td>\n",
       "      <td>John Biancaniello</td>\n",
       "      <td>1</td>\n",
       "      <td>G. Display of Taser or Sparks Display</td>\n",
       "      <td>_None</td>\n",
       "      <td>MIGUEL DIAZ</td>\n",
       "      <td>7/2/24 11:45 AM</td>\n",
       "      <td>10</td>\n",
       "      <td>2024-07-02 10:11:00</td>\n",
       "    </tr>\n",
       "    <tr>\n",
       "      <th>8</th>\n",
       "      <td>2024000066207</td>\n",
       "      <td>7/2/24 10:11 AM</td>\n",
       "      <td>275 PLEASANT ST Apt #: 713 Worcester, MA</td>\n",
       "      <td>David C McAtee</td>\n",
       "      <td>2</td>\n",
       "      <td>I. Display of Firearm</td>\n",
       "      <td>_None</td>\n",
       "      <td>MIGUEL DIAZ</td>\n",
       "      <td>7/2/24 12:11 PM</td>\n",
       "      <td>9</td>\n",
       "      <td>2024-07-02 10:11:00</td>\n",
       "    </tr>\n",
       "    <tr>\n",
       "      <th>10</th>\n",
       "      <td>2024000066256</td>\n",
       "      <td>7/2/24 12:02 PM</td>\n",
       "      <td>25 TOBIAS BOLAND WAY Worcester, MA</td>\n",
       "      <td>James P Ciru</td>\n",
       "      <td>1</td>\n",
       "      <td>R. Empty Hand Compliance Techniques / Level 3</td>\n",
       "      <td>_None</td>\n",
       "      <td>Jeffrey P Carlson</td>\n",
       "      <td>7/2/24 1:04 PM</td>\n",
       "      <td>11</td>\n",
       "      <td>2024-07-02 12:02:00</td>\n",
       "    </tr>\n",
       "    <tr>\n",
       "      <th>11</th>\n",
       "      <td>2024000066380</td>\n",
       "      <td>7/2/24 5:16 PM</td>\n",
       "      <td>810 MAIN ST Worcester, MA</td>\n",
       "      <td>Stephen J Mitchell</td>\n",
       "      <td>2</td>\n",
       "      <td>R. Empty Hand Compliance Techniques / Level 3</td>\n",
       "      <td>_None</td>\n",
       "      <td>Christopher A Panarello</td>\n",
       "      <td>7/2/24 5:11 PM</td>\n",
       "      <td>12</td>\n",
       "      <td>2024-07-02 17:16:00</td>\n",
       "    </tr>\n",
       "  </tbody>\n",
       "</table>\n",
       "</div>"
      ],
      "text/plain": [
       "       IncidentNo         DateTime                                   Location  \\\n",
       "7   2024000065816   7/1/24 9:46 AM                 25 QUEEN ST Worcester, MA    \n",
       "9   2024000066207  7/2/24 10:11 AM  275 PLEASANT ST Apt #: 713 Worcester, MA    \n",
       "8   2024000066207  7/2/24 10:11 AM  275 PLEASANT ST Apt #: 713 Worcester, MA    \n",
       "10  2024000066256  7/2/24 12:02 PM        25 TOBIAS BOLAND WAY Worcester, MA    \n",
       "11  2024000066380   7/2/24 5:16 PM                 810 MAIN ST Worcester, MA    \n",
       "\n",
       "                Officer  Narr                                      Implement  \\\n",
       "7        Joseph L Ford      1  R. Empty Hand Compliance Techniques / Level 3   \n",
       "9    John Biancaniello      1          G. Display of Taser or Sparks Display   \n",
       "8       David C McAtee      2                          I. Display of Firearm   \n",
       "10        James P Ciru      1  R. Empty Hand Compliance Techniques / Level 3   \n",
       "11  Stephen J Mitchell      2  R. Empty Hand Compliance Techniques / Level 3   \n",
       "\n",
       "   Injury                Supervisor         Notified  ObjectId  \\\n",
       "7   _None            Justin Bennes    7/1/24 4:00 PM         8   \n",
       "9   _None              MIGUEL DIAZ   7/2/24 11:45 AM        10   \n",
       "8   _None              MIGUEL DIAZ   7/2/24 12:11 PM         9   \n",
       "10  _None        Jeffrey P Carlson    7/2/24 1:04 PM        11   \n",
       "11  _None  Christopher A Panarello    7/2/24 5:11 PM        12   \n",
       "\n",
       "                    DT  \n",
       "7  2024-07-01 09:46:00  \n",
       "9  2024-07-02 10:11:00  \n",
       "8  2024-07-02 10:11:00  \n",
       "10 2024-07-02 12:02:00  \n",
       "11 2024-07-02 17:16:00  "
      ]
     },
     "execution_count": 18,
     "metadata": {},
     "output_type": "execute_result"
    }
   ],
   "source": [
    "# sort value based on 'DateTime' or 'DT' to see the difference\n",
    "incidents.sort_values(by='DT', ascending=True).head(n=5)"
   ]
  },
  {
   "cell_type": "code",
   "execution_count": 19,
   "metadata": {},
   "outputs": [
    {
     "name": "stdout",
     "output_type": "stream",
     "text": [
      "<class 'pandas.core.frame.DataFrame'>\n",
      "RangeIndex: 74 entries, 0 to 73\n",
      "Data columns (total 11 columns):\n",
      " #   Column      Non-Null Count  Dtype         \n",
      "---  ------      --------------  -----         \n",
      " 0   IncidentNo  74 non-null     int64         \n",
      " 1   DateTime    74 non-null     object        \n",
      " 2   Location    74 non-null     object        \n",
      " 3   Officer     74 non-null     object        \n",
      " 4   Narr        74 non-null     int64         \n",
      " 5   Implement   74 non-null     object        \n",
      " 6   Injury      74 non-null     object        \n",
      " 7   Supervisor  74 non-null     object        \n",
      " 8   Notified    74 non-null     object        \n",
      " 9   ObjectId    74 non-null     int64         \n",
      " 10  DT          74 non-null     datetime64[ns]\n",
      "dtypes: datetime64[ns](1), int64(3), object(7)\n",
      "memory usage: 6.5+ KB\n"
     ]
    }
   ],
   "source": [
    "incidents.info()"
   ]
  },
  {
   "cell_type": "markdown",
   "metadata": {},
   "source": [
    "### Get weekday from the DateTime\n",
    "[pandas.Series.dt](https://pandas.pydata.org/docs/reference/api/pandas.Series.dt.html)"
   ]
  },
  {
   "cell_type": "code",
   "execution_count": 22,
   "metadata": {},
   "outputs": [],
   "source": [
    "incidents['wday'] = incidents.DT.dt.weekday"
   ]
  },
  {
   "cell_type": "code",
   "execution_count": 21,
   "metadata": {},
   "outputs": [
    {
     "data": {
      "text/plain": [
       "array([0, 1, 2, 3, 4, 5, 6])"
      ]
     },
     "execution_count": 21,
     "metadata": {},
     "output_type": "execute_result"
    }
   ],
   "source": [
    "incidents['wday'].unique()"
   ]
  },
  {
   "cell_type": "markdown",
   "metadata": {},
   "source": [
    "### Exercise 4: Get year and hour from the DateTime and assign to a new column\n",
    "\n",
    "incidents['yr']\n",
    "\n",
    "incidents[hr]"
   ]
  },
  {
   "cell_type": "code",
   "execution_count": 23,
   "metadata": {},
   "outputs": [],
   "source": [
    "incidents['yr'] = incidents.DT.dt.year\n",
    "incidents['hr'] = incidents.DT.dt.hour"
   ]
  },
  {
   "attachments": {
    "image.png": {
     "image/png": "[encoded data removed]"
    }
   },
   "cell_type": "markdown",
   "metadata": {},
   "source": [
    "### Aggregating statistics\n",
    "\n",
    "![image.png](attachment:image.png)"
   ]
  },
  {
   "cell_type": "markdown",
   "metadata": {},
   "source": [
    "#### Aggregating Statistics of a single column\n",
    "\n",
    "[pandas.DataFrame.mean](https://pandas.pydata.org/pandas-docs/stable/reference/api/pandas.DataFrame.mean.html)"
   ]
  },
  {
   "cell_type": "code",
   "execution_count": 24,
   "metadata": {},
   "outputs": [
    {
     "data": {
      "text/plain": [
       "2.9324324324324325"
      ]
     },
     "execution_count": 24,
     "metadata": {},
     "output_type": "execute_result"
    }
   ],
   "source": [
    "incidents['Narr'].mean()"
   ]
  },
  {
   "cell_type": "code",
   "execution_count": 25,
   "metadata": {},
   "outputs": [
    {
     "data": {
      "text/html": [
       "<div>\n",
       "<style scoped>\n",
       "    .dataframe tbody tr th:only-of-type {\n",
       "        vertical-align: middle;\n",
       "    }\n",
       "\n",
       "    .dataframe tbody tr th {\n",
       "        vertical-align: top;\n",
       "    }\n",
       "\n",
       "    .dataframe thead th {\n",
       "        text-align: right;\n",
       "    }\n",
       "</style>\n",
       "<table border=\"1\" class=\"dataframe\">\n",
       "  <thead>\n",
       "    <tr style=\"text-align: right;\">\n",
       "      <th></th>\n",
       "      <th>Narr</th>\n",
       "    </tr>\n",
       "  </thead>\n",
       "  <tbody>\n",
       "    <tr>\n",
       "      <th>count</th>\n",
       "      <td>74.000000</td>\n",
       "    </tr>\n",
       "    <tr>\n",
       "      <th>mean</th>\n",
       "      <td>2.932432</td>\n",
       "    </tr>\n",
       "    <tr>\n",
       "      <th>std</th>\n",
       "      <td>2.377584</td>\n",
       "    </tr>\n",
       "    <tr>\n",
       "      <th>min</th>\n",
       "      <td>1.000000</td>\n",
       "    </tr>\n",
       "    <tr>\n",
       "      <th>25%</th>\n",
       "      <td>1.000000</td>\n",
       "    </tr>\n",
       "    <tr>\n",
       "      <th>50%</th>\n",
       "      <td>2.000000</td>\n",
       "    </tr>\n",
       "    <tr>\n",
       "      <th>75%</th>\n",
       "      <td>3.000000</td>\n",
       "    </tr>\n",
       "    <tr>\n",
       "      <th>max</th>\n",
       "      <td>12.000000</td>\n",
       "    </tr>\n",
       "  </tbody>\n",
       "</table>\n",
       "</div>"
      ],
      "text/plain": [
       "            Narr\n",
       "count  74.000000\n",
       "mean    2.932432\n",
       "std     2.377584\n",
       "min     1.000000\n",
       "25%     1.000000\n",
       "50%     2.000000\n",
       "75%     3.000000\n",
       "max    12.000000"
      ]
     },
     "execution_count": 25,
     "metadata": {},
     "output_type": "execute_result"
    }
   ],
   "source": [
    "incidents[[\"Narr\"]].describe()"
   ]
  },
  {
   "attachments": {
    "image.png": {
     "image/png": "[encoded data removed]"
    }
   },
   "cell_type": "markdown",
   "metadata": {},
   "source": [
    "#### Aggregating statistics grouped by category\n",
    "![image.png](attachment:image.png)"
   ]
  },
  {
   "cell_type": "code",
   "execution_count": 13,
   "metadata": {},
   "outputs": [
    {
     "data": {
      "text/html": [
       "<div>\n",
       "<style scoped>\n",
       "    .dataframe tbody tr th:only-of-type {\n",
       "        vertical-align: middle;\n",
       "    }\n",
       "\n",
       "    .dataframe tbody tr th {\n",
       "        vertical-align: top;\n",
       "    }\n",
       "\n",
       "    .dataframe thead th {\n",
       "        text-align: right;\n",
       "    }\n",
       "</style>\n",
       "<table border=\"1\" class=\"dataframe\">\n",
       "  <thead>\n",
       "    <tr style=\"text-align: right;\">\n",
       "      <th></th>\n",
       "      <th>Narr</th>\n",
       "    </tr>\n",
       "    <tr>\n",
       "      <th>wday</th>\n",
       "      <th></th>\n",
       "    </tr>\n",
       "  </thead>\n",
       "  <tbody>\n",
       "    <tr>\n",
       "      <th>0</th>\n",
       "      <td>3.142857</td>\n",
       "    </tr>\n",
       "    <tr>\n",
       "      <th>1</th>\n",
       "      <td>2.700000</td>\n",
       "    </tr>\n",
       "    <tr>\n",
       "      <th>2</th>\n",
       "      <td>2.307692</td>\n",
       "    </tr>\n",
       "    <tr>\n",
       "      <th>3</th>\n",
       "      <td>2.111111</td>\n",
       "    </tr>\n",
       "    <tr>\n",
       "      <th>4</th>\n",
       "      <td>2.833333</td>\n",
       "    </tr>\n",
       "    <tr>\n",
       "      <th>5</th>\n",
       "      <td>4.200000</td>\n",
       "    </tr>\n",
       "    <tr>\n",
       "      <th>6</th>\n",
       "      <td>2.428571</td>\n",
       "    </tr>\n",
       "  </tbody>\n",
       "</table>\n",
       "</div>"
      ],
      "text/plain": [
       "          Narr\n",
       "wday          \n",
       "0     3.142857\n",
       "1     2.700000\n",
       "2     2.307692\n",
       "3     2.111111\n",
       "4     2.833333\n",
       "5     4.200000\n",
       "6     2.428571"
      ]
     },
     "execution_count": 13,
     "metadata": {},
     "output_type": "execute_result"
    }
   ],
   "source": [
    "incidents[[\"Narr\", \"wday\"]].groupby(\"wday\").mean()"
   ]
  },
  {
   "cell_type": "markdown",
   "metadata": {},
   "source": [
    "### Exercise 5: Count the incidents based on day of week\n",
    "using count() to count the incidents for each day of week\n",
    "\n",
    "Group IncidentNo based on wday, then count the occurrence of incidentNo for each wday\n",
    "\n",
    "Sort the wday based on the total number of incidents"
   ]
  },
  {
   "cell_type": "code",
   "execution_count": 19,
   "metadata": {},
   "outputs": [
    {
     "data": {
      "text/html": [
       "<div>\n",
       "<style scoped>\n",
       "    .dataframe tbody tr th:only-of-type {\n",
       "        vertical-align: middle;\n",
       "    }\n",
       "\n",
       "    .dataframe tbody tr th {\n",
       "        vertical-align: top;\n",
       "    }\n",
       "\n",
       "    .dataframe thead th {\n",
       "        text-align: right;\n",
       "    }\n",
       "</style>\n",
       "<table border=\"1\" class=\"dataframe\">\n",
       "  <thead>\n",
       "    <tr style=\"text-align: right;\">\n",
       "      <th></th>\n",
       "      <th>IncidentNo</th>\n",
       "    </tr>\n",
       "    <tr>\n",
       "      <th>wday</th>\n",
       "      <th></th>\n",
       "    </tr>\n",
       "  </thead>\n",
       "  <tbody>\n",
       "    <tr>\n",
       "      <th>0</th>\n",
       "      <td>14</td>\n",
       "    </tr>\n",
       "    <tr>\n",
       "      <th>1</th>\n",
       "      <td>10</td>\n",
       "    </tr>\n",
       "    <tr>\n",
       "      <th>2</th>\n",
       "      <td>13</td>\n",
       "    </tr>\n",
       "    <tr>\n",
       "      <th>3</th>\n",
       "      <td>9</td>\n",
       "    </tr>\n",
       "    <tr>\n",
       "      <th>4</th>\n",
       "      <td>6</td>\n",
       "    </tr>\n",
       "    <tr>\n",
       "      <th>5</th>\n",
       "      <td>15</td>\n",
       "    </tr>\n",
       "    <tr>\n",
       "      <th>6</th>\n",
       "      <td>7</td>\n",
       "    </tr>\n",
       "  </tbody>\n",
       "</table>\n",
       "</div>"
      ],
      "text/plain": [
       "      IncidentNo\n",
       "wday            \n",
       "0             14\n",
       "1             10\n",
       "2             13\n",
       "3              9\n",
       "4              6\n",
       "5             15\n",
       "6              7"
      ]
     },
     "execution_count": 19,
     "metadata": {},
     "output_type": "execute_result"
    }
   ],
   "source": [
    "incidents[[\"IncidentNo\", \"wday\"]].groupby(\"wday\").count()"
   ]
  },
  {
   "cell_type": "markdown",
   "metadata": {},
   "source": [
    "### Spatially Enabled Data Frame\n",
    "The Spatially Enabled DataFrame (SEDF) creates a simple, intutive object that can easily manipulate attribute and geometric data.\n",
    "\n",
    "Create SEDF from a Shapefile\n",
    "\n",
    "An SEDF still includes access to all the Pandas DataFrame functionality"
   ]
  },
  {
   "cell_type": "markdown",
   "metadata": {},
   "source": [
    "#### Shapefile\n",
    "\n",
    "A shapefile is made up of multiple files and all files must be found in the same folder with the same name\n",
    "\n",
    "A shapefile must have the following:\n",
    "\n",
    "- .shp – this file stores the geometry of the feature\n",
    "- .shx – this file stores the index of the geometry\n",
    "- .dbf – this file stores the attribute information for the feature"
   ]
  },
  {
   "cell_type": "markdown",
   "metadata": {},
   "source": [
    "#### Next, do the task about Process SEDF in the notebook in ArcGIS Pro"
   ]
  }
 ],
 "metadata": {
  "kernelspec": {
   "display_name": "base",
   "language": "python",
   "name": "python3"
  },
  "language_info": {
   "codemirror_mode": {
    "name": "ipython",
    "version": 3
   },
   "file_extension": ".py",
   "mimetype": "text/x-python",
   "name": "python",
   "nbconvert_exporter": "python",
   "pygments_lexer": "ipython3",
   "version": "3.11.7"
  }
 },
 "nbformat": 4,
 "nbformat_minor": 2
}
