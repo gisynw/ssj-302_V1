{
 "cells": [
  {
   "cell_type": "markdown",
   "metadata": {},
   "source": [
<<<<<<< HEAD
    "<iframe src=\"https://gisynw.github.io/ssj-30262/Lectures/Week1IntroToWebMapping.pdf\" width=\"100%\" height=\"800\"></iframe>"
   ]
=======
    "<iframe src=\"https://gisynw.github.io/ssj-302/Lectures/Week01IntroPy_Lecture.pdf\" width=\"100%\" height=\"800\"></iframe>"
   ]
  },
  {
   "cell_type": "markdown",
   "metadata": {},
   "source": []
>>>>>>> 9b2d09152e63fa70dad725caedc22e129ff03395
  }
 ],
 "metadata": {
  "language_info": {
   "name": "python"
  }
 },
 "nbformat": 4,
 "nbformat_minor": 2
}
