{
 "cells": [
  {
   "cell_type": "markdown",
   "metadata": {},
   "source": [
    "<a href=\"https://colab.research.google.com/github/gisynw/ssj-302/blob/main/docs/Lectures/Week02PyFdMetal.ipynb\" target=\"_blank\">\n",
    "  <img src=\"https://colab.research.google.com/assets/colab-badge.svg\" alt=\"Open in Colab\" style=\"height: 30px;\"/>\n",
    "</a>\n",
    "&nbsp &nbsp\n",
    "<a href=\"./Week02PyFdMetal.ipynb\" target=\"_blank\"> \n",
    "  <img src=\"https://img.icons8.com/?size=100&id=108635&format=png&color=000000\" alt=\"Download\" style=\"height: 40px;\"/>\n",
    " </a>"
   ]
  },
  {
   "cell_type": "markdown",
   "metadata": {},
   "source": [
    "## Python Fundamental - Loop, function\n",
    "#### Author: Yanan Wu ; Date: August, 2024\n",
    "* * * "
   ]
  },
  {
   "cell_type": "markdown",
   "metadata": {},
   "source": [
    "### Loops and Conditionals\n",
    "#### For Loops\n",
    "- A for loop can loop can interate over a sequence. The sequence can be a list, a string, or a dictionary\n",
    "\n",
    "- 'indentation' is part of the loop's block, meaning it get executed every time the loop runs\n"
   ]
  },
  {
   "cell_type": "code",
   "execution_count": 8,
   "metadata": {},
   "outputs": [
    {
     "name": "stdout",
     "output_type": "stream",
     "text": [
      "Indian Hill\n",
      "Burncoat\n",
      "Greendale\n"
     ]
    }
   ],
   "source": [
    "# Loop list\n",
    "neighborhoods = ['Indian Hill', 'Burncoat', 'Greendale']\n",
    "for nei in neighborhoods:\n",
    "    print(nei)"
   ]
  },
  {
   "cell_type": "markdown",
   "metadata": {},
   "source": [
    "### Exercise 1: Loop a dictionary\n",
    "#### Please loop key, values and items seperately from a dictionary\n",
    "- for i in worcester:\n",
    "- ? (hint: how to get the values from dictionary?)\n",
    "- ? (hint: how to get the items from dictionary?)"
   ]
  },
  {
   "cell_type": "code",
   "execution_count": 5,
   "metadata": {},
   "outputs": [
    {
     "name": "stdout",
     "output_type": "stream",
     "text": [
      "MA\n",
      "206518\n",
      "council_manager\n",
      "('state', 'MA')\n",
      "('population', 206518)\n",
      "('gov_type', 'council_manager')\n"
     ]
    }
   ],
   "source": [
    "worcester = {'state':'MA',\n",
    "             'population':206518,\n",
    "             'gov_type':'council_manager'\n",
    "             }\n",
    "## get key\n",
    "for i in worcester:\n",
    "    print(i)\n",
    "\n",
    "## get values\n",
    "\n",
    "## get items\n"
   ]
  },
  {
   "cell_type": "markdown",
   "metadata": {},
   "source": [
    "### Conditionals: If...Elif...Else\n",
    "- _if statement_ and _loops_ is way to determine the condition and make decision."
   ]
  },
  {
   "cell_type": "code",
   "execution_count": 16,
   "metadata": {},
   "outputs": [
    {
     "name": "stdout",
     "output_type": "stream",
     "text": [
      "Boston is a large city\n",
      "Worcester is a large city\n"
     ]
    }
   ],
   "source": [
    "cities = {'Boston':653833,\n",
    "          'Worcester':207621,\n",
    "          'Springfield':153672,\n",
    "          'Cambridge':118214}\n",
    "\n",
    "for city, pop in cities.items():\n",
    "    if pop > 200000:\n",
    "        print('{} is a large city'.format(city))"
   ]
  },
  {
   "cell_type": "markdown",
   "metadata": {},
   "source": [
    "### Exercise 3: print the city that if city name is 'Boston'\n",
    "hint: equal in Python is '=='"
   ]
  },
  {
   "cell_type": "markdown",
   "metadata": {},
   "source": [
    "#### elif add the second contion in for loop"
   ]
  },
  {
   "cell_type": "code",
   "execution_count": 1,
   "metadata": {},
   "outputs": [
    {
     "ename": "NameError",
     "evalue": "name 'cities' is not defined",
     "output_type": "error",
     "traceback": [
      "\u001b[1;31m---------------------------------------------------------------------------\u001b[0m",
      "\u001b[1;31mNameError\u001b[0m                                 Traceback (most recent call last)",
      "Cell \u001b[1;32mIn[1], line 1\u001b[0m\n\u001b[1;32m----> 1\u001b[0m \u001b[38;5;28;01mfor\u001b[39;00m city, pop \u001b[38;5;129;01min\u001b[39;00m cities\u001b[38;5;241m.\u001b[39mitems():\n\u001b[0;32m      2\u001b[0m     \u001b[38;5;28;01mif\u001b[39;00m pop \u001b[38;5;241m>\u001b[39m \u001b[38;5;241m200000\u001b[39m:\n\u001b[0;32m      3\u001b[0m         \u001b[38;5;28mprint\u001b[39m(\u001b[38;5;124m'\u001b[39m\u001b[38;5;132;01m{}\u001b[39;00m\u001b[38;5;124m is a large city\u001b[39m\u001b[38;5;124m'\u001b[39m\u001b[38;5;241m.\u001b[39mformat(city))\n",
      "\u001b[1;31mNameError\u001b[0m: name 'cities' is not defined"
     ]
    }
   ],
   "source": [
    "for city, pop in cities.items():\n",
    "    if pop > 200000:\n",
    "        print('{} is a large city'.format(city))\n",
    "    elif pop <= 2000000:\n",
    "        print('{} is a small city'.format(city))\n",
    "    else:\n",
    "        print(\"No results\")"
   ]
  },
  {
   "cell_type": "markdown",
   "metadata": {},
   "source": [
    "### And, or\n",
    "\n",
    "cities = {'Boston':653833,\n",
    "          'Worcester':207621,\n",
    "          'Springfield':153672,\n",
    "          'Cambridge':118214}"
   ]
  },
  {
   "cell_type": "markdown",
   "metadata": {},
   "source": [
    "### Control Statements\n",
    "#### Break, continue and pass\n",
    "- Break stops the execution and exit out of it.\n",
    "- Continue skip the current step and go to the next iteration\n",
    "- Pass do nothing, it is helpful when you haven't complete the code yet"
   ]
  },
  {
   "cell_type": "code",
   "execution_count": 22,
   "metadata": {},
   "outputs": [
    {
     "name": "stdout",
     "output_type": "stream",
     "text": [
      "Boston is a large city, population is 653833\n"
     ]
    }
   ],
   "source": [
    "for city, pop in cities.items():\n",
    "    if pop > 200000:\n",
    "        print('{} is a large city, population is {}'.format(city,pop))\n",
    "        break"
   ]
  },
  {
   "cell_type": "markdown",
   "metadata": {},
   "source": [
    "### Exercise 4. Replace break with continue\n",
    "- You shoud get two result since the code will continue"
   ]
  },
  {
   "cell_type": "code",
   "execution_count": 24,
   "metadata": {},
   "outputs": [
    {
     "name": "stdout",
     "output_type": "stream",
     "text": [
      "Boston is a large city, population is 653833\n",
      "Worcester is a large city, population is 207621\n"
     ]
    }
   ],
   "source": [
    "for city, pop in cities.items():\n",
    "    if pop > 200000:\n",
    "        print('{} is a large city, population is {}'.format(city,pop))\n",
    "        pass"
   ]
  },
  {
   "cell_type": "markdown",
   "metadata": {},
   "source": [
    "### Functions\n",
    "\n",
    "A function takes one or more __inputs__ and return one of more __outputs__\n",
    "\n",
    "The code wihitn the function runs only when it is called"
   ]
  },
  {
   "cell_type": "code",
   "execution_count": 25,
   "metadata": {},
   "outputs": [],
   "source": [
    "# def funtion_name(input):\n",
    "#    ...\n",
    "#    return outputs"
   ]
  },
  {
   "cell_type": "code",
   "execution_count": 30,
   "metadata": {},
   "outputs": [],
   "source": [
    "def find_large_city(input_dict):\n",
    "    for city,pop in input_dict.items():\n",
    "        if pop > 200000:\n",
    "            return '{} is a large city, population is {}'.format(city,pop)"
   ]
  },
  {
   "cell_type": "code",
   "execution_count": 31,
   "metadata": {},
   "outputs": [
    {
     "data": {
      "text/plain": [
       "'Boston is a large city, population is 653833'"
      ]
     },
     "execution_count": 31,
     "metadata": {},
     "output_type": "execute_result"
    }
   ],
   "source": [
    "cities = {'Boston':653833,\n",
    "          'Worcester':207621,\n",
    "          'Springfield':153672,\n",
    "          'Cambridge':118214}\n",
    "\n",
    "find_large_city(cities)"
   ]
  },
  {
   "cell_type": "markdown",
   "metadata": {},
   "source": [
    "### Exercise 5: User-defined function\n",
    "Given a dictionary parks = {\n",
    "    'Green hill':1875\n",
    "    'Elm': 1854\n",
    "    'Institute': 1887\n",
    "    'Salisbury': 1887\n",
    "}, write a function to ouput the year of the park when park's name equals to Elm"
   ]
  },
  {
   "cell_type": "markdown",
   "metadata": {},
   "source": [
    "Exercise 6: User-defined function\n",
    "Write a function to return the temperate from Celsius to Fahrenheir\n",
    "\n",
    "Fahrenheit = (Celsius * 9/5) + 32\n",
    "\n",
    "1. Write a function\n",
    "2. Set up input value as '30'\n"
   ]
  },
  {
   "cell_type": "markdown",
   "metadata": {},
   "source": [
    "### While loop\n",
    "With the while loop we can execute a set of statements as long as a condition is true\n",
    "\n",
    "- Below example is to show the while loop generate a list of numbers but remember that to increase i, or else the loop will continue forever"
   ]
  },
  {
   "cell_type": "code",
   "execution_count": 5,
   "metadata": {},
   "outputs": [
    {
     "name": "stdout",
     "output_type": "stream",
     "text": [
      "1\n",
      "2\n",
      "3\n",
      "4\n",
      "5\n"
     ]
    }
   ],
   "source": [
    "i = 1\n",
    "while i < 8:\n",
    "  print(i)\n",
    "  i += 1"
   ]
  },
  {
   "cell_type": "markdown",
   "metadata": {},
   "source": [
    "#### The break statement\n",
    "With the break statement we can stop the while loop"
   ]
  },
  {
   "cell_type": "code",
   "execution_count": 3,
   "metadata": {},
   "outputs": [
    {
     "name": "stdout",
     "output_type": "stream",
     "text": [
      "1\n",
      "2\n"
     ]
    }
   ],
   "source": [
    "i = 1\n",
    "while i < 8:\n",
    "  print(i)\n",
    "  i += 1\n",
    "  if i == 3:\n",
    "    break"
   ]
  },
  {
   "cell_type": "markdown",
   "metadata": {},
   "source": [
    "#### Handing exception"
   ]
  }
 ],
 "metadata": {
  "kernelspec": {
   "display_name": "base",
   "language": "python",
   "name": "python3"
  },
  "language_info": {
   "codemirror_mode": {
    "name": "ipython",
    "version": 3
   },
   "file_extension": ".py",
   "mimetype": "text/x-python",
   "name": "python",
   "nbconvert_exporter": "python",
   "pygments_lexer": "ipython3",
   "version": "3.12.4"
  }
 },
 "nbformat": 4,
 "nbformat_minor": 2
}
