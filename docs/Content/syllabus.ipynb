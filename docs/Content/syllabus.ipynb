{
 "cells": [
  {
   "cell_type": "markdown",
   "metadata": {},
   "source": [
    "<iframe src=\"https://gisynw.github.io/ssj-302/Content/PythonProgrammingFall2024.pdf\" width=\"90%\" height=\"80vh\"></iframe>"
   ]
  },
  {
   "cell_type": "markdown",
   "metadata": {},
   "source": [
    "<embed src=\"./PythonProgrammingFall2024.pdf\" width=\"80%\" height=\"80vh\" type=\"application/pdf\">"
   ]
  },
  {
   "cell_type": "markdown",
   "metadata": {},
   "source": [
    "<embed src=\"example.pdf\" width=\"80%\" height=\"80vh\" type=\"application/pdf\">"
   ]
  }
 ],
 "metadata": {
  "language_info": {
   "name": "python"
  }
 },
 "nbformat": 4,
 "nbformat_minor": 2
}
