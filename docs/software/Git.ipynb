{
 "cells": [
  {
   "cell_type": "markdown",
   "metadata": {},
   "source": [
    "Git is a distributed version contol system that is widely used to source code management"
   ]
  },
  {
   "cell_type": "markdown",
   "metadata": {},
   "source": [
    "## Git Installation\n",
<<<<<<< HEAD
    "### Install Git\n",
=======
>>>>>>> 9b2d09152e63fa70dad725caedc22e129ff03395
    "Go to the [Git](https://git-scm.com/) website to download the installer for your operation system"
   ]
  },
  {
   "cell_type": "markdown",
   "metadata": {},
   "source": [
<<<<<<< HEAD
    "### Set up your account name and email address\n",
=======
    "## Git Configuration\n",
>>>>>>> 9b2d09152e63fa70dad725caedc22e129ff03395
    "You can specify Git configuration settings with the git config command\n",
    "* [Setting your username in Git](https://docs.github.com/en/get-started/getting-started-with-git/setting-your-username-in-git)\n",
    "* [Setting your commit email address](https://docs.github.com/en/account-and-profile/setting-up-and-managing-your-personal-account-on-github/managing-email-preferences/setting-your-commit-email-address)"
   ]
  },
  {
   "cell_type": "markdown",
   "metadata": {},
   "source": [
    "``` bash \n",
    "## replace Nancy and Nancyteach@example.com with your username and email address.  \n",
    "git config --global user.name \"Nancy\"\n",
    "git config --global user.email \"Nancyteach@example.com\""
   ]
  },
  {
   "cell_type": "markdown",
   "metadata": {},
   "source": [
    "To check your configuration, run the following command:\n",
    "```bash\n",
    "git config --global --list"
   ]
  },
  {
   "cell_type": "markdown",
   "metadata": {},
   "source": [
<<<<<<< HEAD
    "## Git Usage\n",
    "### Clone a remote repository to local computer\n",
    "```bash \n",
    "git clone <repository_url>\n",
    "```\n",
    "\n",
    "#### Update remote repository\n",
    "Push change in local repository to remote repository (* do not include empty files (file size is 0) otherwise cause error) from step 1 - 3\n",
    "\n",
    "1. To add files to the staging area, run the following command:\n",
    "```bash\n",
    "git add .\n",
    "```\n",
    "2. To commit the changes, run the following command. Repalce message with your comment to this commit\n",
=======
    "## Git Usage"
   ]
  },
  {
   "cell_type": "markdown",
   "metadata": {},
   "source": [
    "#### Clone\n",
    "Clone a remote repository to loca folder in your machine\n",
    "```bash \n",
    "git clone <repository_url>"
   ]
  },
  {
   "cell_type": "markdown",
   "metadata": {},
   "source": [
    "#### Update remote repository\n",
    "Push change in local repository to remote repository (* do not include empty files (file size is 0) otherwise cause error)"
   ]
  },
  {
   "cell_type": "markdown",
   "metadata": {},
   "source": [
    "To add files to the staging area, run the following command:\n",
    "```bash\n",
    "git add .\n",
    "```"
   ]
  },
  {
   "cell_type": "markdown",
   "metadata": {},
   "source": [
    "To commit the changes, run the following command. Repalce message with your comment to this commit\n",
>>>>>>> 9b2d09152e63fa70dad725caedc22e129ff03395
    "```bash\n",
    "git commit -m 'message'\n",
    "```\n",
    "\n",
<<<<<<< HEAD
    "3. Push the change from local repository to remote repository\n",
    "```bash\n",
    "git push\n",
    "```\n"
=======
    "Push the change from local repository to remote repository\n",
    "```bash\n",
    "git push\n",
    "``\n"
>>>>>>> 9b2d09152e63fa70dad725caedc22e129ff03395
   ]
  },
  {
   "cell_type": "markdown",
   "metadata": {},
   "source": [
    "#### Update local repository\n",
    "Pull change from remote repository to local repository\n",
    "```bash\n",
    "git pull"
   ]
<<<<<<< HEAD
=======
  },
  {
   "cell_type": "markdown",
   "metadata": {},
   "source": []
>>>>>>> 9b2d09152e63fa70dad725caedc22e129ff03395
  }
 ],
 "metadata": {
  "kernelspec": {
   "display_name": "base",
   "language": "python",
   "name": "python3"
  },
  "language_info": {
   "codemirror_mode": {
    "name": "ipython",
    "version": 3
   },
   "file_extension": ".py",
   "mimetype": "text/x-python",
   "name": "python",
   "nbconvert_exporter": "python",
   "pygments_lexer": "ipython3",
   "version": "3.12.4"
  }
 },
 "nbformat": 4,
 "nbformat_minor": 2
}
