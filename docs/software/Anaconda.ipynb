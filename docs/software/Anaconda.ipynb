{
 "cells": [
  {
   "cell_type": "markdown",
   "metadata": {},
   "source": [
<<<<<<< HEAD
    "<a href=\"https://colab.research.google.com/github/gisynw/SSJ-30262/blob/main/docs/software/Anaconda.ipynb\" target=\"_blank\">\n",
=======
    "<a href=\"https://colab.research.google.com/github/gisynw/SSJ-302/blob/main/docs/Labs/week01.ipynb\" target=\"_blank\">\n",
>>>>>>> 9b2d09152e63fa70dad725caedc22e129ff03395
    "  <img src=\"https://colab.research.google.com/assets/colab-badge.svg\" alt=\"Open in Colab\" style=\"height: 25px;\"/>\n",
    "</a>"
   ]
  },
  {
   "cell_type": "markdown",
   "metadata": {},
   "source": [
    "# Anaconda\n",
    "Anaconda Distribution is a popular platform that contains\n",
    "- conda - a package and environment manager for your command line interface\n",
    "- Over 300 automaticall-installed packages\n",
    "\n"
   ]
  },
  {
   "cell_type": "markdown",
   "metadata": {},
   "source": [
    "## Installation\n",
    "To install Anaconda, download the installer from the [Anaconda website](https://www.anaconda.com/download). The installer will ask you to accept the license agreement, choose the installation directory."
   ]
  },
  {
   "cell_type": "markdown",
   "metadata": {},
   "source": [
    "## Usage\n",
    "After installing Anaconda, you can open the Anaconda Prompt to chekc your python version\n",
    "### check python"
   ]
  },
  {
   "cell_type": "markdown",
   "metadata": {},
   "source": [
    "```bash\n",
    "# check python location\n",
    "where python\n",
    "\n",
    "# check python version \n",
    "python -V"
   ]
  },
  {
   "cell_type": "markdown",
   "metadata": {},
   "source": [
<<<<<<< HEAD
    "### list virtual environment\n",
    "```bash\n",
    "conda env list"
   ]
  },
  {
   "cell_type": "markdown",
   "metadata": {},
   "source": [
    "## Setting up virtual environment\n",
    "### Create a virtual environment\n",
    "```bash\n",
    "conda create --name name_of_your_virtual_environment"
   ]
  },
  {
   "cell_type": "markdown",
   "metadata": {},
   "source": [
=======
    "## Setting up virtual environment\n",
    "### Create a virtual environment\n",
    "\n",
    "Right click the Anaconda prompt and __Run as Administrator__ (This step will ensure that your package is installed in _Anaconda/env_ folder) \n",
    "\n",
    "Create a virtual environment named as 'np' with python version 3.9\n",
    "```bash\n",
    "conda create -n np python=3.9\n",
    "```\n",
    "\n",
>>>>>>> 9b2d09152e63fa70dad725caedc22e129ff03395
    "### List virtual environment\n",
    "now if you list virgual envionment, you can see the virtual environment that you just create \n",
    "```bash\n",
    "conda env list\n",
    "```\n",
    "\n",
    "### Activate virtual environment\n",
    "if you virtual environment named as 'arcgis_python'\n",
    "```bash\n",
<<<<<<< HEAD
    "activate arcgis_python\n",
    "```\n",
    "\n",
    "### Install packages (e.g., geopandas)\n",
    "```bash\n",
    "conda install geopandas\n",
=======
    "activate np\n",
    "```\n",
    "\n",
    "### Install packages (e.g., numpy)\n",
    "```bash\n",
    "conda install numpy\n",
    "```\n",
    "\n",
    "### Remove a virtual environmen named 'np'\n",
    "```bash\n",
    "conda remove -n np --all -y\n",
>>>>>>> 9b2d09152e63fa70dad725caedc22e129ff03395
    "```"
   ]
  },
  {
   "cell_type": "markdown",
   "metadata": {},
   "source": []
<<<<<<< HEAD
  },
  {
   "cell_type": "markdown",
   "metadata": {},
   "source": []
=======
>>>>>>> 9b2d09152e63fa70dad725caedc22e129ff03395
  }
 ],
 "metadata": {
  "kernelspec": {
   "display_name": "Python 3",
   "language": "python",
   "name": "python3"
  },
  "language_info": {
   "codemirror_mode": {
    "name": "ipython",
    "version": 3
   },
   "file_extension": ".py",
   "mimetype": "text/x-python",
   "name": "python",
   "nbconvert_exporter": "python",
   "pygments_lexer": "ipython3",
<<<<<<< HEAD
   "version": "3.12.5"
=======
   "version": "3.9.19"
>>>>>>> 9b2d09152e63fa70dad725caedc22e129ff03395
  }
 },
 "nbformat": 4,
 "nbformat_minor": 2
}
