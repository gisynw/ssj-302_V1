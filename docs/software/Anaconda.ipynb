{
 "cells": [
  {
   "cell_type": "markdown",
   "metadata": {},
   "source": [
    "<a href=\"https://colab.research.google.com/github/gisynw/SSJ-302/blob/main/docs/Labs/week01.ipynb\" target=\"_blank\">\n",
    "  <img src=\"https://colab.research.google.com/assets/colab-badge.svg\" alt=\"Open in Colab\" style=\"height: 25px;\"/>\n",
    "</a>"
   ]
  },
  {
   "cell_type": "markdown",
   "metadata": {},
   "source": [
    "# Anaconda\n",
    "Anaconda Distribution is a popular platform that contains\n",
    "- conda - a package and environment manager for your command line interface\n",
    "- Over 300 automaticall-installed packages\n",
    "\n"
   ]
  },
  {
   "cell_type": "markdown",
   "metadata": {},
   "source": [
    "## Installation\n",
    "To install Anaconda, download the installer from the [Anaconda website](https://www.anaconda.com/download). The installer will ask you to accept the license agreement, choose the installation directory."
   ]
  },
  {
   "cell_type": "markdown",
   "metadata": {},
   "source": [
    "## Usage\n",
    "After installing Anaconda, you can open the Anaconda Prompt to chekc your python version\n",
    "### check python"
   ]
  },
  {
   "cell_type": "markdown",
   "metadata": {},
   "source": [
    "```bash\n",
    "# check python location\n",
    "where python\n",
    "\n",
    "# check python version \n",
    "python -V"
   ]
  },
  {
   "cell_type": "markdown",
   "metadata": {},
   "source": [
    "### list virtual environment\n",
    "```bash\n",
    "conda env list"
   ]
  },
  {
   "cell_type": "markdown",
   "metadata": {},
   "source": [
    "## Setting up virtual environment\n",
    "### Create a virtual environment\n",
    "```bash\n",
    "conda create --name name_of_your_virtual_environment"
   ]
  },
  {
   "cell_type": "markdown",
   "metadata": {},
   "source": [
    "### List virtual environment\n",
    "now if you list virgual envionment, you can see the virtual environment that you just create \n",
    "```bash\n",
    "conda env list\n",
    "```\n",
    "\n",
    "### Activate virtual environment\n",
    "if you virtual environment named as 'arcgis_python'\n",
    "```bash\n",
    "activate arcgis_python\n",
    "```\n",
    "\n",
    "### Install packages (e.g., geopandas)\n",
    "```bash\n",
    "conda install geopandas\n",
    "```"
   ]
  },
  {
   "cell_type": "markdown",
   "metadata": {},
   "source": []
  },
  {
   "cell_type": "markdown",
   "metadata": {},
   "source": []
  }
 ],
 "metadata": {
  "kernelspec": {
   "display_name": "Python 3",
   "language": "python",
   "name": "python3"
  },
  "language_info": {
   "codemirror_mode": {
    "name": "ipython",
    "version": 3
   },
   "file_extension": ".py",
   "mimetype": "text/x-python",
   "name": "python",
   "nbconvert_exporter": "python",
   "pygments_lexer": "ipython3",
   "version": "3.12.5"
  }
 },
 "nbformat": 4,
 "nbformat_minor": 2
}
