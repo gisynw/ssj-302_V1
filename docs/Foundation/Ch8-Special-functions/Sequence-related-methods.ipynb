{
 "cells": [
  {
   "cell_type": "markdown",
   "metadata": {},
   "source": [
    "# Seqeunce related magic methods\n",
    "* `__len__(self)`: return the number of elements\n",
    "* `__getitem__(self,key)` : return the corresponding element, the key should be an integer or slice object\n",
    "* `__contains__(self,item)`\n",
    "* `__setitem__(self,key,value)`\n",
    "* `__delitem__(self,key)`"
   ]
  },
  {
   "cell_type": "markdown",
   "metadata": {},
   "source": [
    "## 1. Build a character sequence\n",
    "* elements in this sequence has 3 digits\n",
    "* every digits composed with a character from A to Z"
   ]
  },
  {
   "cell_type": "code",
   "execution_count": 1,
   "metadata": {},
   "outputs": [],
   "source": [
    "def check_key(key):\n",
    "    '''\n",
    "    This method using for checking if the input index(key) is integer or not, if not, raise a TypeError\n",
    "    and the value could not be negative, otherwise raise a IndexError    \n",
    "    '''\n",
    "    if not isinstance(key,int): raise TypeError('index must be an integer')\n",
    "    if key <0 : raise IndexError('index must be a positive number')\n",
    "        \n",
    "class StringSeq:\n",
    "    def __init__(self):\n",
    "        self.__changed = {}\n",
    "        self.__deleted = {}\n",
    "    def __len__(self):\n",
    "        return 26 ** 3\n",
    "    def __getitem__(self,key):\n",
    "        '''\n",
    "        get the element from a list\n",
    "        '''\n",
    "        check_key(key)\n",
    "        if key in self.__changed:\n",
    "            return self.__changed[key]\n",
    "        if key in self.__deleted:\n",
    "            return None\n",
    "        three = key // (26 * 26)\n",
    "        two = (key - three * 26 * 26) // 26\n",
    "        one = key % 26\n",
    "        return chr(65 + three) + chr(65 + two) + chr(65 +one)\n",
    "    def __setitem__(self,key,value):\n",
    "        check_key(key)\n",
    "        self.__changed[key] = value\n",
    "    def __delitem__(self,key):\n",
    "        check_key(key)\n",
    "        if key not in self.__deleted: self.__deleted.append(key)\n",
    "        if key in self.__changed: del self.__changed[key]"
   ]
  },
  {
   "cell_type": "code",
   "execution_count": 2,
   "metadata": {},
   "outputs": [
    {
     "name": "stdout",
     "output_type": "stream",
     "text": [
      "17576\n",
      "BAA\n",
      "AAB\n",
      "Python\n"
     ]
    }
   ],
   "source": [
    "sq = StringSeq()\n",
    "print(len(sq))\n",
    "print(sq[26*26])\n",
    "print(sq[1])\n",
    "sq[1] = 'Python'\n",
    "print(sq[1])"
   ]
  },
  {
   "cell_type": "markdown",
   "metadata": {},
   "source": [
    "## 2. Build a iterator\n",
    "* `__iter__(self)` : return a iterator, which have to have `__next__()`\n",
    "* `__reversed__(self)`: related to `reversed()`   \n",
    "* *Fibonacci numbers:*  $f(0)=0, f(1) = 1, f(n) = f(n-1) + f(n-2)$"
   ]
  },
  {
   "cell_type": "code",
   "execution_count": 3,
   "metadata": {},
   "outputs": [
    {
     "name": "stdout",
     "output_type": "stream",
     "text": [
      "1\n",
      "1 2 3 5 8 13 21 34 55 "
     ]
    }
   ],
   "source": [
    "class Fibs:\n",
    "    def __init__(self,len):\n",
    "        self.first = 0\n",
    "        self.sec = 1\n",
    "        self.__len = len\n",
    "    def __next__(self):\n",
    "        if self.__len == 0:\n",
    "            raise StopIteration\n",
    "        self.first, self.sec = self.sec, self.first + self.sec\n",
    "        self.__len -=1\n",
    "        return self.first\n",
    "    def __iter__(self):\n",
    "        return self\n",
    "    \n",
    "fibs = Fibs(10)\n",
    "print(next(fibs))\n",
    "for el in fibs:\n",
    "    print(el,end= ' ')"
   ]
  },
  {
   "cell_type": "markdown",
   "metadata": {},
   "source": [
    "## 3. Build a generator\n",
    "* Step 1 : Define a function with `yield` statement\n",
    "* Step 2 : Use this function to create a constructor\n",
    "#### `yield` is very similar to `return`"
   ]
  },
  {
   "cell_type": "code",
   "execution_count": 4,
   "metadata": {},
   "outputs": [
    {
     "name": "stdout",
     "output_type": "stream",
     "text": [
      "============\n",
      "----function excute!----\n",
      "0\n",
      "2\n"
     ]
    }
   ],
   "source": [
    "def test(val,step):\n",
    "    print('----function excute!----')\n",
    "    cur = 0\n",
    "    for i in range(val):\n",
    "        cur += i * step\n",
    "        yield cur\n",
    "\n",
    "t = test(10,2)\n",
    "print('============')\n",
    "print(next(t))\n",
    "print(next(t))"
   ]
  },
  {
   "cell_type": "code",
   "execution_count": 5,
   "metadata": {},
   "outputs": [
    {
     "name": "stdout",
     "output_type": "stream",
     "text": [
      "6 12 20 30 42 56 72 90 "
     ]
    }
   ],
   "source": [
    "for ele in t:\n",
    "    print(ele,end = ' ')"
   ]
  },
  {
   "cell_type": "code",
   "execution_count": 6,
   "metadata": {},
   "outputs": [
    {
     "name": "stdout",
     "output_type": "stream",
     "text": [
      "----function excute!----\n",
      "[0, 1, 3, 6, 10, 15, 21, 28, 36, 45]\n",
      "----function excute!----\n",
      "(0, 3, 9, 18, 30, 45, 63, 84, 108, 135)\n"
     ]
    }
   ],
   "source": [
    "t = test(10,1)\n",
    "print(list(t))\n",
    "t = test(10,3)\n",
    "print(tuple(t))"
   ]
  },
  {
   "cell_type": "markdown",
   "metadata": {},
   "source": [
    "## 4. Generator related methods\n",
    "* Within a generator, we could use `yield` statement to receive data\n",
    "* The outside program could use `send()` to send data   \n",
    "when `yield` in `if` statement, only work for one side"
   ]
  },
  {
   "cell_type": "code",
   "execution_count": 9,
   "metadata": {},
   "outputs": [
    {
     "name": "stdout",
     "output_type": "stream",
     "text": [
      "0\n",
      "1\n",
      "----------\n",
      "====9\n",
      "81\n",
      "9\n",
      "16\n"
     ]
    }
   ],
   "source": [
    "def square_gen(val):\n",
    "    i = 0\n",
    "    out_val = None\n",
    "    while True:\n",
    "        out_val = (yield out_val ** 2) if out_val is not None else (yield i ** 2)\n",
    "        if out_val is not None : print('====%d' %out_val)\n",
    "        i+= 1\n",
    "        \n",
    "sg = square_gen(5)\n",
    "# first time use send() method to get the value, must send None\n",
    "print(sg.send(None))\n",
    "print(next(sg))\n",
    "print('----------')\n",
    "print(sg.send(9))\n",
    "print(next(sg))\n",
    "print(next(sg))"
   ]
  },
  {
   "cell_type": "markdown",
   "metadata": {},
   "source": [
    "#### Generator also provide two common methods\n",
    "* `close()`\n",
    "* `throw()`: raise a error"
   ]
  },
  {
   "cell_type": "code",
   "execution_count": 14,
   "metadata": {},
   "outputs": [
    {
     "ename": "ValueError",
     "evalue": "This is a ValueError",
     "output_type": "error",
     "traceback": [
      "\u001b[1;31m---------------------------------------------------------------------------\u001b[0m",
      "\u001b[1;31mValueError\u001b[0m                                Traceback (most recent call last)",
      "\u001b[1;32m<ipython-input-14-96274c555b61>\u001b[0m in \u001b[0;36m<module>\u001b[1;34m\u001b[0m\n\u001b[1;32m----> 1\u001b[1;33m \u001b[0msg\u001b[0m\u001b[1;33m.\u001b[0m\u001b[0mthrow\u001b[0m\u001b[1;33m(\u001b[0m\u001b[0mValueError\u001b[0m\u001b[1;33m,\u001b[0m\u001b[1;34m'This is a ValueError'\u001b[0m\u001b[1;33m)\u001b[0m\u001b[1;33m\u001b[0m\u001b[1;33m\u001b[0m\u001b[0m\n\u001b[0m",
      "\u001b[1;31mValueError\u001b[0m: This is a ValueError"
     ]
    }
   ],
   "source": [
    "sg.throw(ValueError,'This is a ValueError')"
   ]
  },
  {
   "cell_type": "code",
   "execution_count": 15,
   "metadata": {},
   "outputs": [
    {
     "ename": "StopIteration",
     "evalue": "",
     "output_type": "error",
     "traceback": [
      "\u001b[1;31m---------------------------------------------------------------------------\u001b[0m",
      "\u001b[1;31mStopIteration\u001b[0m                             Traceback (most recent call last)",
      "\u001b[1;32m<ipython-input-15-7d2cfcf3d23f>\u001b[0m in \u001b[0;36m<module>\u001b[1;34m\u001b[0m\n\u001b[0;32m      1\u001b[0m \u001b[0msg\u001b[0m\u001b[1;33m.\u001b[0m\u001b[0mclose\u001b[0m\u001b[1;33m(\u001b[0m\u001b[1;33m)\u001b[0m\u001b[1;33m\u001b[0m\u001b[1;33m\u001b[0m\u001b[0m\n\u001b[1;32m----> 2\u001b[1;33m \u001b[0mnext\u001b[0m\u001b[1;33m(\u001b[0m\u001b[0msg\u001b[0m\u001b[1;33m)\u001b[0m\u001b[1;33m\u001b[0m\u001b[1;33m\u001b[0m\u001b[0m\n\u001b[0m",
      "\u001b[1;31mStopIteration\u001b[0m: "
     ]
    }
   ],
   "source": [
    "sg.close()\n",
    "next(sg)"
   ]
  }
 ],
 "metadata": {
  "kernelspec": {
   "display_name": "Python(Tensorflow)",
   "language": "python",
   "name": "tf-gpu"
  },
  "language_info": {
   "codemirror_mode": {
    "name": "ipython",
    "version": 3
   },
   "file_extension": ".py",
   "mimetype": "text/x-python",
   "name": "python",
   "nbconvert_exporter": "python",
   "pygments_lexer": "ipython3",
   "version": "3.7.7"
  }
 },
 "nbformat": 4,
 "nbformat_minor": 4
}
