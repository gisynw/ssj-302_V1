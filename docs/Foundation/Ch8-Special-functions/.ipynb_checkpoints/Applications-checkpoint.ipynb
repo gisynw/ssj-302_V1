{
 "cells": [
  {
   "cell_type": "markdown",
   "metadata": {},
   "source": [
    "# Applications"
   ]
  },
  {
   "cell_type": "markdown",
   "metadata": {},
   "source": [
    "## 1. 52 cards deck\n",
    "It includes thirteen ranks in each of the four French suits: \n",
    "* Clubs (♣)\n",
    "* Diamonds (♦)\n",
    "* Hearts (♥)\n",
    "* Spades (♠)"
   ]
  },
  {
   "cell_type": "code",
   "execution_count": 23,
   "metadata": {},
   "outputs": [],
   "source": [
    "def check_key(key):\n",
    "    if not isinstance(key,int): raise TypeError('index must be an integer')\n",
    "    if key < 0: raise IndexError('index must be a positive number')\n",
    "    if key > 52: raise IndexError('index must less than 52')\n",
    "\n",
    "suit_lst = ['♣','♦','♥','♠']\n",
    "rank_lst = list(range(2,11)) + ['J','Q','K','A']\n",
    "\n",
    "class PlayingCards:\n",
    "    def __len__(self):\n",
    "        return 52    \n",
    "    def __getitem__(self,key):\n",
    "        check_key(key)\n",
    "        suit = suit_lst[key // 13]\n",
    "        rank =  rank_lst[key % 13]\n",
    "        return suit + str(rank)"
   ]
  },
  {
   "cell_type": "code",
   "execution_count": 24,
   "metadata": {},
   "outputs": [
    {
     "name": "stdout",
     "output_type": "stream",
     "text": [
      "♣2 ♣3 ♣4 ♣5 ♣6 ♣7 ♣8 ♣9 ♣10 ♣J ♣Q ♣K ♣A ♦2 ♦3 ♦4 ♦5 ♦6 ♦7 ♦8 ♦9 ♦10 ♦J ♦Q ♦K ♦A ♥2 ♥3 ♥4 ♥5 ♥6 ♥7 ♥8 ♥9 ♥10 ♥J ♥Q ♥K ♥A ♠2 ♠3 ♠4 ♠5 ♠6 ♠7 ♠8 ♠9 ♠10 ♠J ♠Q ♠K ♠A "
     ]
    }
   ],
   "source": [
    "pc = PlayingCards()\n",
    "for ele in pc:\n",
    "    print(ele,end = ' ')"
   ]
  },
  {
   "cell_type": "markdown",
   "metadata": {},
   "source": [
    "## 2. Summation iterator\n",
    "* Return $1,1+2,1+2+3....$"
   ]
  },
  {
   "cell_type": "code",
   "execution_count": 25,
   "metadata": {},
   "outputs": [
    {
     "name": "stdout",
     "output_type": "stream",
     "text": [
      "1 3 6 10 15 21 28 36 45 55 66 78 91 105 120 136 153 171 190 210 "
     ]
    }
   ],
   "source": [
    "class summation:\n",
    "    def __init__(self,len):\n",
    "        self.sum = 0\n",
    "        self.first = 1\n",
    "        self.__len = len\n",
    "    def __next__(self):\n",
    "        if self.__len == 0:\n",
    "            raise StopIteration\n",
    "        self.sum,self.first = self.sum + self.first, self.first + 1\n",
    "        self.__len -= 1\n",
    "        return self.sum\n",
    "    def __iter__(self):\n",
    "        return self\n",
    "    \n",
    "summ = summation(20)\n",
    "for ele in summ:\n",
    "    print(ele, end = ' ')"
   ]
  },
  {
   "cell_type": "markdown",
   "metadata": {},
   "source": [
    "## 3. Factorial generator\n",
    "* Return $1!,2!,3!,...,n!$"
   ]
  },
  {
   "cell_type": "code",
   "execution_count": 26,
   "metadata": {},
   "outputs": [
    {
     "name": "stdout",
     "output_type": "stream",
     "text": [
      "1\n",
      "2 6 24 120 720 5040 40320 362880 "
     ]
    }
   ],
   "source": [
    "def factorial(length):\n",
    "    factorial = 1\n",
    "    for i in range(1,length):\n",
    "        factorial = factorial * i\n",
    "        yield factorial\n",
    "        \n",
    "t = factorial(10)\n",
    "print(next(t))\n",
    "for ele in t:\n",
    "    print(ele,end = ' ')"
   ]
  }
 ],
 "metadata": {
  "kernelspec": {
   "display_name": "Python(Tensorflow)",
   "language": "python",
   "name": "tf-gpu"
  },
  "language_info": {
   "codemirror_mode": {
    "name": "ipython",
    "version": 3
   },
   "file_extension": ".py",
   "mimetype": "text/x-python",
   "name": "python",
   "nbconvert_exporter": "python",
   "pygments_lexer": "ipython3",
   "version": "3.7.7"
  }
 },
 "nbformat": 4,
 "nbformat_minor": 4
}
