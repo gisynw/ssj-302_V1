{
 "cells": [
  {
   "cell_type": "markdown",
   "metadata": {},
   "source": [
    "# Magic-Methods"
   ]
  },
  {
   "cell_type": "markdown",
   "metadata": {},
   "source": [
    "## 1. Common Magic-Methods"
   ]
  },
  {
   "cell_type": "markdown",
   "metadata": {},
   "source": [
    "### 1.1 `__repr__`\n",
    "* If you use `print()` functions to call an object, it would call it's `__repr__()`\n",
    "* `__repr__` returns `class name + object at memory address`\n",
    "* rewrite `__repr__` as `class name[field1 = xxx, field2 = xxx,...]`"
   ]
  },
  {
   "cell_type": "code",
   "execution_count": 1,
   "metadata": {},
   "outputs": [
    {
     "name": "stdout",
     "output_type": "stream",
     "text": [
      "<__main__.Item object at 0x00000241FE97AA48>\n",
      "<method-wrapper '__repr__' of Item object at 0x00000241FE97AA48>\n"
     ]
    }
   ],
   "source": [
    "class Item:\n",
    "    def __init__(self,name,price):\n",
    "        self.name = name\n",
    "        self.price = price\n",
    "        \n",
    "# Create Item\n",
    "im = Item('Mouse',29.8)\n",
    "print(im)\n",
    "print(im.__repr__)"
   ]
  },
  {
   "cell_type": "code",
   "execution_count": 3,
   "metadata": {},
   "outputs": [
    {
     "name": "stdout",
     "output_type": "stream",
     "text": [
      "Apple[color = red,weight =5.65]\n"
     ]
    }
   ],
   "source": [
    "class Apple:\n",
    "    # constructor\n",
    "    def __init__(self,color,weight):\n",
    "        self.color = color\n",
    "        self.weight = weight\n",
    "    # re-write __repr__()\n",
    "    def __repr__(self):\n",
    "        return 'Apple[color = '+ self.color + ',weight =' + str(self.weight) + ']'\n",
    "\n",
    "a = Apple('red',5.65)\n",
    "print(a)"
   ]
  },
  {
   "cell_type": "markdown",
   "metadata": {},
   "source": [
    "### 1.2 Destructor `__del__`\n",
    "* for the opposite of `__init__()`, `__del__` using for destroy an object\n",
    "* when you do not need an object anymore, please use it to do the **Garbage Collector(GC)**"
   ]
  },
  {
   "cell_type": "code",
   "execution_count": 4,
   "metadata": {},
   "outputs": [
    {
     "name": "stdout",
     "output_type": "stream",
     "text": [
      "----------\n"
     ]
    }
   ],
   "source": [
    "class Item:\n",
    "    def __init__(self,name,price):\n",
    "        self.name = name\n",
    "        self.price = price\n",
    "    def __del__(self):\n",
    "        print('Delete Object!')\n",
    "im = Item('mouse',29.8)\n",
    "x = im\n",
    "del im\n",
    "print('----------')"
   ]
  },
  {
   "cell_type": "markdown",
   "metadata": {},
   "source": [
    "**Since `x` also refers to object `im` , so the `del im` would not call the `__del__()`**"
   ]
  },
  {
   "cell_type": "code",
   "execution_count": 5,
   "metadata": {},
   "outputs": [
    {
     "name": "stdout",
     "output_type": "stream",
     "text": [
      "Delete Object!\n",
      "----------\n"
     ]
    }
   ],
   "source": [
    "class Item:\n",
    "    def __init__(self,name,price):\n",
    "        self.name = name\n",
    "        self.price = price\n",
    "    def __del__(self):\n",
    "        print('Delete Object!')\n",
    "im = Item('mouse',29.8)\n",
    "x = im\n",
    "# del im\n",
    "print('----------')"
   ]
  },
  {
   "cell_type": "code",
   "execution_count": 6,
   "metadata": {},
   "outputs": [],
   "source": [
    "del x"
   ]
  },
  {
   "cell_type": "markdown",
   "metadata": {},
   "source": [
    "### 1.3 `__dir__()`\n",
    "* It is similar to `dir(object)`"
   ]
  },
  {
   "cell_type": "code",
   "execution_count": 10,
   "metadata": {},
   "outputs": [
    {
     "name": "stdout",
     "output_type": "stream",
     "text": [
      "['name', 'price', '__module__', '__init__', '__dict__', '__weakref__', '__doc__', '__repr__', '__hash__', '__str__', '__getattribute__', '__setattr__', '__delattr__', '__lt__', '__le__', '__eq__', '__ne__', '__gt__', '__ge__', '__new__', '__reduce_ex__', '__reduce__', '__subclasshook__', '__init_subclass__', '__format__', '__sizeof__', '__dir__', '__class__']\n",
      "['__class__', '__delattr__', '__dict__', '__dir__', '__doc__', '__eq__', '__format__', '__ge__', '__getattribute__', '__gt__', '__hash__', '__init__', '__init_subclass__', '__le__', '__lt__', '__module__', '__ne__', '__new__', '__reduce__', '__reduce_ex__', '__repr__', '__setattr__', '__sizeof__', '__str__', '__subclasshook__', '__weakref__', 'name', 'price']\n"
     ]
    }
   ],
   "source": [
    "class Item:\n",
    "    def __init__(self,name,price):\n",
    "        self.name = name\n",
    "        self.price = price\n",
    "\n",
    "im = Item('mouse',29.8)\n",
    "print(im.__dir__())\n",
    "print(dir(im))"
   ]
  },
  {
   "cell_type": "markdown",
   "metadata": {},
   "source": [
    "### 1.4 `__dict__`\n",
    "* `__dict__` is using for check all the variables and their value within an object, and return them as a dict"
   ]
  },
  {
   "cell_type": "code",
   "execution_count": 12,
   "metadata": {},
   "outputs": [
    {
     "name": "stdout",
     "output_type": "stream",
     "text": [
      "mouse\n",
      "29.8\n",
      "keyboard\n",
      "32.8\n"
     ]
    }
   ],
   "source": [
    "print(im.__dict__['name'])\n",
    "print(im.__dict__['price'])\n",
    "im.__dict__['name']  = 'keyboard'\n",
    "im.__dict__['price'] = 32.8\n",
    "print(im.name)\n",
    "print(im.price)"
   ]
  },
  {
   "cell_type": "markdown",
   "metadata": {},
   "source": [
    "### 1.5 `__getattr__` and `__setattr__`, etc.\n",
    "For manipulating(access, set, delete) the properties of an object, Python would call the following functions:\n",
    "* `__getattribute__(self,name)` : when access a property\n",
    "* `__getattr__(self,name)` : call a property but do not exist, **So it is only for some _Synthetic attributes_** \n",
    "* `__setattr__(self,name,value)` : set a value of a property\n",
    "* `__delattr__(self,name)` : delete a property"
   ]
  },
  {
   "cell_type": "code",
   "execution_count": 15,
   "metadata": {},
   "outputs": [
    {
     "name": "stdout",
     "output_type": "stream",
     "text": [
      "----set width property----\n",
      "----set height property----\n",
      "----read size property----\n",
      "(3, 4)\n",
      "----set size property----\n",
      "----set width property----\n",
      "----set height property----\n",
      "6\n",
      "----delte size property\n",
      "----read size property----\n",
      "(0, 0)\n"
     ]
    }
   ],
   "source": [
    "class Rectangle:\n",
    "    def __init__(self,width,height):\n",
    "        self.width = width\n",
    "        self.height = height\n",
    "    def __setattr__(self,name,value):\n",
    "        print('----set %s property----' % name)\n",
    "        if name == 'size':\n",
    "            self.width,self.height = value\n",
    "        else:\n",
    "            self.__dict__[name] = value\n",
    "    def __getattr__(self,name):\n",
    "        print('----read %s property----' % name)\n",
    "        if name == 'size':\n",
    "            return self.width, self.height\n",
    "        else:\n",
    "            raise AttributeError\n",
    "    def __delattr__(self,name):\n",
    "        print('----delte %s property' %name)\n",
    "        if name == 'size':\n",
    "            self.__dict__['width'] = 0\n",
    "            self.__dict__['height'] = 0\n",
    "            \n",
    "rect = Rectangle(3,4)\n",
    "print(rect.size)\n",
    "rect.size = 6,8\n",
    "print(rect.width)\n",
    "del rect.size\n",
    "print(rect.size)"
   ]
  },
  {
   "cell_type": "markdown",
   "metadata": {},
   "source": [
    "Those methods is very useful for **checking the legality of input**"
   ]
  },
  {
   "cell_type": "code",
   "execution_count": 18,
   "metadata": {},
   "outputs": [
    {
     "name": "stdout",
     "output_type": "stream",
     "text": [
      "fkit\n",
      "24\n"
     ]
    },
    {
     "ename": "ValueError",
     "evalue": "age must between 10~60",
     "output_type": "error",
     "traceback": [
      "\u001b[1;31m---------------------------------------------------------------------------\u001b[0m",
      "\u001b[1;31mValueError\u001b[0m                                Traceback (most recent call last)",
      "\u001b[1;32m<ipython-input-18-3b76f5fdf3ba>\u001b[0m in \u001b[0;36m<module>\u001b[1;34m\u001b[0m\n\u001b[0;32m     19\u001b[0m \u001b[0mprint\u001b[0m\u001b[1;33m(\u001b[0m\u001b[0mu\u001b[0m\u001b[1;33m.\u001b[0m\u001b[0mname\u001b[0m\u001b[1;33m)\u001b[0m\u001b[1;33m\u001b[0m\u001b[1;33m\u001b[0m\u001b[0m\n\u001b[0;32m     20\u001b[0m \u001b[0mprint\u001b[0m\u001b[1;33m(\u001b[0m\u001b[0mu\u001b[0m\u001b[1;33m.\u001b[0m\u001b[0mage\u001b[0m\u001b[1;33m)\u001b[0m\u001b[1;33m\u001b[0m\u001b[1;33m\u001b[0m\u001b[0m\n\u001b[1;32m---> 21\u001b[1;33m \u001b[0mu\u001b[0m\u001b[1;33m.\u001b[0m\u001b[0mage\u001b[0m \u001b[1;33m=\u001b[0m \u001b[1;36m65\u001b[0m\u001b[1;33m\u001b[0m\u001b[1;33m\u001b[0m\u001b[0m\n\u001b[0m",
      "\u001b[1;32m<ipython-input-18-3b76f5fdf3ba>\u001b[0m in \u001b[0;36m__setattr__\u001b[1;34m(self, name, value)\u001b[0m\n\u001b[0;32m     14\u001b[0m                 \u001b[0mself\u001b[0m\u001b[1;33m.\u001b[0m\u001b[0m__dict__\u001b[0m\u001b[1;33m[\u001b[0m\u001b[1;34m'age'\u001b[0m\u001b[1;33m]\u001b[0m \u001b[1;33m=\u001b[0m \u001b[0mvalue\u001b[0m\u001b[1;33m\u001b[0m\u001b[1;33m\u001b[0m\u001b[0m\n\u001b[0;32m     15\u001b[0m             \u001b[1;32melse\u001b[0m\u001b[1;33m:\u001b[0m\u001b[1;33m\u001b[0m\u001b[1;33m\u001b[0m\u001b[0m\n\u001b[1;32m---> 16\u001b[1;33m                 \u001b[1;32mraise\u001b[0m \u001b[0mValueError\u001b[0m\u001b[1;33m(\u001b[0m\u001b[1;34m'age must between 10~60'\u001b[0m\u001b[1;33m)\u001b[0m\u001b[1;33m\u001b[0m\u001b[1;33m\u001b[0m\u001b[0m\n\u001b[0m\u001b[0;32m     17\u001b[0m \u001b[1;33m\u001b[0m\u001b[0m\n\u001b[0;32m     18\u001b[0m \u001b[0mu\u001b[0m \u001b[1;33m=\u001b[0m \u001b[0mUser\u001b[0m\u001b[1;33m(\u001b[0m\u001b[1;34m'fkit'\u001b[0m\u001b[1;33m,\u001b[0m\u001b[1;36m24\u001b[0m\u001b[1;33m)\u001b[0m\u001b[1;33m\u001b[0m\u001b[1;33m\u001b[0m\u001b[0m\n",
      "\u001b[1;31mValueError\u001b[0m: age must between 10~60"
     ]
    }
   ],
   "source": [
    "class User:\n",
    "    def __init__(self,name,age):\n",
    "        self.name = name\n",
    "        self.age = age\n",
    "    def __setattr__(self,name,value):\n",
    "        # check the input\n",
    "        if name == 'name':\n",
    "            if 2 < len(value) <= 8:\n",
    "                self.__dict__['name'] = value\n",
    "            else:\n",
    "                raise ValueError('the length of name must between 2~8')\n",
    "        elif name == 'age':\n",
    "            if 10< value <60:\n",
    "                self.__dict__['age'] = value\n",
    "            else:\n",
    "                raise ValueError('age must between 10~60')\n",
    "                    \n",
    "u = User('fkit',24)\n",
    "print(u.name)\n",
    "print(u.age)\n",
    "u.age = 65"
   ]
  },
  {
   "cell_type": "markdown",
   "metadata": {},
   "source": [
    "### 1.6 `__call__`\n",
    "* Use `__call__` to determine if it is a property or method"
   ]
  },
  {
   "cell_type": "code",
   "execution_count": 6,
   "metadata": {},
   "outputs": [
    {
     "name": "stdout",
     "output_type": "stream",
     "text": [
      "False\n",
      "True\n"
     ]
    }
   ],
   "source": [
    "class User:\n",
    "    def __init__(self,name,password):\n",
    "        self.name = name\n",
    "        self.password = password\n",
    "    def validLogin(self):\n",
    "        print('Verify the indentity of %s' %self.name)\n",
    "\n",
    "u = User('yyl','admin')\n",
    "print(hasattr(u.name,'__call__'))\n",
    "print(hasattr(u.validLogin,'__call__'))"
   ]
  },
  {
   "cell_type": "code",
   "execution_count": 7,
   "metadata": {},
   "outputs": [
    {
     "name": "stdout",
     "output_type": "stream",
     "text": [
      "Verify the indentity of yyl\n",
      "Verify the indentity of yyl\n"
     ]
    }
   ],
   "source": [
    "u.validLogin()\n",
    "u.validLogin.__call__()"
   ]
  },
  {
   "cell_type": "markdown",
   "metadata": {},
   "source": [
    "## 2. Dynamic Programming"
   ]
  },
  {
   "cell_type": "code",
   "execution_count": 3,
   "metadata": {},
   "outputs": [
    {
     "name": "stdout",
     "output_type": "stream",
     "text": [
      "True\n",
      "True\n",
      "False\n",
      "Crazy Python sold out!\n",
      "20\n",
      "Good weather\n"
     ]
    }
   ],
   "source": [
    "class Comment:\n",
    "    def __init__(self,detail,view_times):\n",
    "        self.detail = detail\n",
    "        self.view_times = view_times\n",
    "    def info():\n",
    "        print('This is a comment, content is %s' %self.detail)\n",
    "        \n",
    "c = Comment('Crazy Python sold out!',20)\n",
    "\n",
    "# Check if has the following properties\n",
    "print(hasattr(c,'detail'))\n",
    "print(hasattr(c,'info'))\n",
    "print(hasattr(c,'author'))\n",
    "\n",
    "# Get the value of properties\n",
    "print(getattr(c,'detail'))\n",
    "print(getattr(c,'view_times'))\n",
    "\n",
    "# Set the value to properties\n",
    "setattr(c,'detail','Good weather')\n",
    "print(c.detail)"
   ]
  },
  {
   "cell_type": "markdown",
   "metadata": {},
   "source": [
    "**Add addtional Properties**"
   ]
  },
  {
   "cell_type": "code",
   "execution_count": 5,
   "metadata": {},
   "outputs": [
    {
     "name": "stdout",
     "output_type": "stream",
     "text": [
      "new property\n"
     ]
    }
   ],
   "source": [
    "c.test = 'new property'\n",
    "print(c.test)"
   ]
  }
 ],
 "metadata": {
  "kernelspec": {
   "display_name": "Python(Tensorflow)",
   "language": "python",
   "name": "tf-gpu"
  },
  "language_info": {
   "codemirror_mode": {
    "name": "ipython",
    "version": 3
   },
   "file_extension": ".py",
   "mimetype": "text/x-python",
   "name": "python",
   "nbconvert_exporter": "python",
   "pygments_lexer": "ipython3",
   "version": "3.7.7"
  }
 },
 "nbformat": 4,
 "nbformat_minor": 4
}
