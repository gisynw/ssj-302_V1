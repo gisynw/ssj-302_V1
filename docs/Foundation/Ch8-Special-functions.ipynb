{
 "cells": [
  {
   "cell_type": "markdown",
   "metadata": {},
   "source": [
    "# Chapter 8: Special Functions in Python\n",
    "\n",
    "Python offers a rich set of special functions that allow developers to leverage advanced features of the language.  \n",
    "These functions, often referred to as `magic methods`, enable Python programmers to create more intuitive and Pythonic code by customizing the behavior of objects.  \n",
    "In this chapter, we'll explore these special functions, focusing on sequence-related methods and their applications in real-world scenarios.\n"
   ]
  },
  {
   "cell_type": "markdown",
   "metadata": {},
   "source": [
    "## 1. Understanding Magic Methods\n",
    "\n",
    "1. Magic methods in Python are special methods that start and end with **double underscores** (`__`).\n",
    "2. They are designed to be invoked automatically by Python in various contexts, providing a way for objects to integrate seamlessly with Python's language features.\n",
    "\n",
    "### 1.1 Common Magic Methods\n",
    "\n",
    "1. `__init__(self, ...)`: **Constructor** method for initializing new objects.\n",
    "2. `__str__(self)`: Defines the \"`informal`\" or nicely **printable string representation of an object**.\n",
    "3. `__repr__(self)`: Defines the \"`official`\" string representation of an object, which can be used to recreate the object.\n",
    "4. `__len__(self)`: Returns the length of the container. Called by the `len()` function.\n",
    "5. `__getitem__(self, key)`: Allows `indexing` and `slicing` operations on the object.\n",
    "6. `__setitem__(self, key, value)`: Assigns a value to a key or index within the object.\n",
    "7. `__delitem__(self, key)`: Removes an item from the object given a key or index.\n",
    "8. `__iter__(self)`: Returns an iterator for the object. This allows iteration over the object.\n"
   ]
  },
  {
   "cell_type": "markdown",
   "metadata": {},
   "source": [
    "### 1.2 Example\n",
    "\n",
    "- `__repr__`\n",
    "  - If you use `print()` functions to call an object, it would call it's `__repr__()`\n",
    "  - `__repr__` returns class name + object at memory address as default\n",
    "  - rewrite `__repr__` as class name[field1 = xxx, field2 = xxx,...]\n"
   ]
  },
  {
   "cell_type": "code",
   "execution_count": 1,
   "metadata": {},
   "outputs": [
    {
     "name": "stdout",
     "output_type": "stream",
     "text": [
      "<__main__.Item object at 0x0000016022CBF990>\n",
      "<__main__.Item object at 0x0000016022CBF990>\n"
     ]
    }
   ],
   "source": [
    "class Item:\n",
    "    def __init__(self,name,price):\n",
    "        self.name = name\n",
    "        self.price = price\n",
    "        \n",
    "# Create Item\n",
    "im = Item('Mouse',29.8)\n",
    "print(im)\n",
    "print(im.__repr__())"
   ]
  },
  {
   "cell_type": "code",
   "execution_count": 2,
   "metadata": {},
   "outputs": [
    {
     "name": "stdout",
     "output_type": "stream",
     "text": [
      "Apple[color = red,weight =5.65]\n"
     ]
    }
   ],
   "source": [
    "class Apple:\n",
    "    # constructor\n",
    "    def __init__(self,color,weight):\n",
    "        self.color = color\n",
    "        self.weight = weight\n",
    "    # re-write __repr__()\n",
    "    def __repr__(self):\n",
    "        return 'Apple[color = '+ self.color + ',weight =' + str(self.weight) + ']'\n",
    "\n",
    "a = Apple('red',5.65)\n",
    "print(a)"
   ]
  },
  {
   "cell_type": "markdown",
   "metadata": {},
   "source": [
    "- Destructor `__del__`\n",
    "  - for the opposite of `__init__()`, `__del__` using for destroy an object\n",
    "  - when you do not need an object anymore, please use it to do the `Garbage Collector(GC)`\n"
   ]
  },
  {
   "cell_type": "code",
   "execution_count": 3,
   "metadata": {},
   "outputs": [
    {
     "name": "stdout",
     "output_type": "stream",
     "text": [
      "----------\n"
     ]
    }
   ],
   "source": [
    "class Item:\n",
    "    def __init__(self,name,price):\n",
    "        self.name = name\n",
    "        self.price = price\n",
    "    def __del__(self):\n",
    "        print('Delete Object!')\n",
    "im = Item('mouse',29.8)\n",
    "x = im\n",
    "del im\n",
    "print('----------')"
   ]
  },
  {
   "cell_type": "markdown",
   "metadata": {},
   "source": [
    "Since `x` also refers to object `im` , so the `del im` would not call the `__del__()`\n",
    "\n",
    "- python will do Garbage collection automatically\n"
   ]
  },
  {
   "cell_type": "code",
   "execution_count": 5,
   "metadata": {},
   "outputs": [
    {
     "name": "stdout",
     "output_type": "stream",
     "text": [
      "Delete Object!\n",
      "----------\n"
     ]
    }
   ],
   "source": [
    "x = Item('mouse',29.8)\n",
    "print('----------')"
   ]
  },
  {
   "cell_type": "markdown",
   "metadata": {},
   "source": [
    "- `__dir__()`\n",
    "  - It is similar to `dir(object)`\n"
   ]
  },
  {
   "cell_type": "code",
   "execution_count": 6,
   "metadata": {},
   "outputs": [
    {
     "name": "stdout",
     "output_type": "stream",
     "text": [
      "['name', 'price', '__module__', '__init__', '__dict__', '__weakref__', '__doc__', '__new__', '__repr__', '__hash__', '__str__', '__getattribute__', '__setattr__', '__delattr__', '__lt__', '__le__', '__eq__', '__ne__', '__gt__', '__ge__', '__reduce_ex__', '__reduce__', '__getstate__', '__subclasshook__', '__init_subclass__', '__format__', '__sizeof__', '__dir__', '__class__']\n",
      "\n",
      "--------------------------\n",
      "\n",
      "['__class__', '__delattr__', '__dict__', '__dir__', '__doc__', '__eq__', '__format__', '__ge__', '__getattribute__', '__getstate__', '__gt__', '__hash__', '__init__', '__init_subclass__', '__le__', '__lt__', '__module__', '__ne__', '__new__', '__reduce__', '__reduce_ex__', '__repr__', '__setattr__', '__sizeof__', '__str__', '__subclasshook__', '__weakref__', 'name', 'price']\n"
     ]
    }
   ],
   "source": [
    "class Item:\n",
    "    def __init__(self,name,price):\n",
    "        self.name = name\n",
    "        self.price = price\n",
    "\n",
    "im = Item('mouse',29.8)\n",
    "print(im.__dir__())\n",
    "print(\"\\n--------------------------\\n\")\n",
    "\n",
    "print(dir(im))"
   ]
  },
  {
   "cell_type": "markdown",
   "metadata": {},
   "source": [
    "- `__dict__`\n",
    "  - `__dict__` is using for check all the variables and their value within an object, and return them as a dict\n"
   ]
  },
  {
   "cell_type": "code",
   "execution_count": 8,
   "metadata": {},
   "outputs": [
    {
     "name": "stdout",
     "output_type": "stream",
     "text": [
      "{'name': 'keyboard', 'price': 32.8}\n"
     ]
    }
   ],
   "source": [
    "print(im.__dict__)"
   ]
  },
  {
   "cell_type": "code",
   "execution_count": 7,
   "metadata": {},
   "outputs": [
    {
     "name": "stdout",
     "output_type": "stream",
     "text": [
      "mouse\n",
      "29.8\n",
      "keyboard\n",
      "32.8\n"
     ]
    }
   ],
   "source": [
    "print(im.__dict__['name'])\n",
    "print(im.__dict__['price'])\n",
    "im.__dict__['name']  = 'keyboard'\n",
    "im.__dict__['price'] = 32.8\n",
    "print(im.name)\n",
    "print(im.price)"
   ]
  },
  {
   "cell_type": "markdown",
   "metadata": {},
   "source": [
    "- `_getattr__` and `__setattr__`, etc.\n",
    "\n",
    "For manipulating(access, set, delete) the properties of an object, Python would call the following functions:\n",
    "\n",
    "- `__getattribute__(self,name)` : when access a property\n",
    "- `__getattr__(self,name)` : call a property but do not exist, So it is only for some Synthetic attributes\n",
    "- `__setattr__(self,name,value)` : set a value of a property\n",
    "- `__delattr__(self,name)` : delete a property\n"
   ]
  },
  {
   "cell_type": "code",
   "execution_count": 10,
   "metadata": {},
   "outputs": [
    {
     "name": "stdout",
     "output_type": "stream",
     "text": [
      "----set width property----\n",
      "----set height property----\n",
      "----read size property----\n",
      "(3, 4)\n"
     ]
    }
   ],
   "source": [
    "class Rectangle:\n",
    "    def __init__(self,width,height):\n",
    "        self.width = width\n",
    "        self.height = height\n",
    "    def __setattr__(self,name,value):\n",
    "        print('----set %s property----' % name)\n",
    "        if name == 'size':\n",
    "            self.width,self.height = value\n",
    "        else:\n",
    "            self.__dict__[name] = value\n",
    "    def __getattr__(self,name):\n",
    "        print('----read %s property----' % name)\n",
    "        if name == 'size':\n",
    "            return self.width, self.height\n",
    "        else:\n",
    "            raise AttributeError\n",
    "    def __delattr__(self,name):\n",
    "        print('----delte %s property' %name)\n",
    "        if name == 'size':\n",
    "            self.__dict__['width'] = 0\n",
    "            self.__dict__['height'] = 0\n",
    "            \n",
    "rect = Rectangle(3,4)\n",
    "print(rect.size)"
   ]
  },
  {
   "cell_type": "code",
   "execution_count": 11,
   "metadata": {},
   "outputs": [
    {
     "name": "stdout",
     "output_type": "stream",
     "text": [
      "----set size property----\n",
      "----set width property----\n",
      "----set height property----\n",
      "6\n"
     ]
    }
   ],
   "source": [
    "rect.size = 6,8\n",
    "print(rect.width)"
   ]
  },
  {
   "cell_type": "code",
   "execution_count": 12,
   "metadata": {},
   "outputs": [
    {
     "name": "stdout",
     "output_type": "stream",
     "text": [
      "----delte size property\n",
      "----read size property----\n",
      "(0, 0)\n"
     ]
    }
   ],
   "source": [
    "del rect.size\n",
    "print(rect.size)"
   ]
  },
  {
   "cell_type": "markdown",
   "metadata": {},
   "source": [
    "Those methods is very useful for checking the legality of input\n",
    "\n",
    "- But now, we use `@property` to do the input check\n"
   ]
  },
  {
   "cell_type": "code",
   "execution_count": 13,
   "metadata": {},
   "outputs": [
    {
     "name": "stdout",
     "output_type": "stream",
     "text": [
      "fkit\n",
      "24\n"
     ]
    },
    {
     "ename": "ValueError",
     "evalue": "age must between 10~60",
     "output_type": "error",
     "traceback": [
      "\u001b[1;31m---------------------------------------------------------------------------\u001b[0m",
      "\u001b[1;31mValueError\u001b[0m                                Traceback (most recent call last)",
      "Cell \u001b[1;32mIn[13], line 21\u001b[0m\n\u001b[0;32m     19\u001b[0m \u001b[38;5;28mprint\u001b[39m(u\u001b[38;5;241m.\u001b[39mname)\n\u001b[0;32m     20\u001b[0m \u001b[38;5;28mprint\u001b[39m(u\u001b[38;5;241m.\u001b[39mage)\n\u001b[1;32m---> 21\u001b[0m \u001b[43mu\u001b[49m\u001b[38;5;241;43m.\u001b[39;49m\u001b[43mage\u001b[49m \u001b[38;5;241m=\u001b[39m \u001b[38;5;241m65\u001b[39m\n",
      "Cell \u001b[1;32mIn[13], line 16\u001b[0m, in \u001b[0;36mUser.__setattr__\u001b[1;34m(self, name, value)\u001b[0m\n\u001b[0;32m     14\u001b[0m     \u001b[38;5;28mself\u001b[39m\u001b[38;5;241m.\u001b[39m\u001b[38;5;18m__dict__\u001b[39m[\u001b[38;5;124m'\u001b[39m\u001b[38;5;124mage\u001b[39m\u001b[38;5;124m'\u001b[39m] \u001b[38;5;241m=\u001b[39m value\n\u001b[0;32m     15\u001b[0m \u001b[38;5;28;01melse\u001b[39;00m:\n\u001b[1;32m---> 16\u001b[0m     \u001b[38;5;28;01mraise\u001b[39;00m \u001b[38;5;167;01mValueError\u001b[39;00m(\u001b[38;5;124m'\u001b[39m\u001b[38;5;124mage must between 10~60\u001b[39m\u001b[38;5;124m'\u001b[39m)\n",
      "\u001b[1;31mValueError\u001b[0m: age must between 10~60"
     ]
    }
   ],
   "source": [
    "class User:\n",
    "    def __init__(self,name,age):\n",
    "        self.name = name\n",
    "        self.age = age\n",
    "    def __setattr__(self,name,value):\n",
    "        # check the input\n",
    "        if name == 'name':\n",
    "            if 2 < len(value) <= 8:\n",
    "                self.__dict__['name'] = value\n",
    "            else:\n",
    "                raise ValueError('the length of name must between 2~8')\n",
    "        elif name == 'age':\n",
    "            if 10< value <60:\n",
    "                self.__dict__['age'] = value\n",
    "            else:\n",
    "                raise ValueError('age must between 10~60')\n",
    "                    \n",
    "u = User('fkit',24)\n",
    "print(u.name)\n",
    "print(u.age)\n",
    "u.age = 65"
   ]
  },
  {
   "cell_type": "code",
   "execution_count": 14,
   "metadata": {},
   "outputs": [
    {
     "name": "stdout",
     "output_type": "stream",
     "text": [
      "fkit\n",
      "24\n"
     ]
    },
    {
     "ename": "ValueError",
     "evalue": "age must between 10~60",
     "output_type": "error",
     "traceback": [
      "\u001b[1;31m---------------------------------------------------------------------------\u001b[0m",
      "\u001b[1;31mValueError\u001b[0m                                Traceback (most recent call last)",
      "Cell \u001b[1;32mIn[14], line 20\u001b[0m\n\u001b[0;32m     18\u001b[0m \u001b[38;5;28mprint\u001b[39m(u\u001b[38;5;241m.\u001b[39mname)\n\u001b[0;32m     19\u001b[0m \u001b[38;5;28mprint\u001b[39m(u\u001b[38;5;241m.\u001b[39mage)\n\u001b[1;32m---> 20\u001b[0m \u001b[43mu\u001b[49m\u001b[38;5;241;43m.\u001b[39;49m\u001b[43mage\u001b[49m \u001b[38;5;241m=\u001b[39m \u001b[38;5;241m65\u001b[39m\n",
      "Cell \u001b[1;32mIn[14], line 15\u001b[0m, in \u001b[0;36mUser.age\u001b[1;34m(self, value)\u001b[0m\n\u001b[0;32m     13\u001b[0m         \u001b[38;5;28mself\u001b[39m\u001b[38;5;241m.\u001b[39m__age \u001b[38;5;241m=\u001b[39m value\n\u001b[0;32m     14\u001b[0m \u001b[38;5;28;01melse\u001b[39;00m:\n\u001b[1;32m---> 15\u001b[0m     \u001b[38;5;28;01mraise\u001b[39;00m \u001b[38;5;167;01mValueError\u001b[39;00m(\u001b[38;5;124m'\u001b[39m\u001b[38;5;124mage must between 10~60\u001b[39m\u001b[38;5;124m'\u001b[39m)\n",
      "\u001b[1;31mValueError\u001b[0m: age must between 10~60"
     ]
    }
   ],
   "source": [
    "class User:\n",
    "    def __init__(self,name,age):\n",
    "        self.name = name\n",
    "        self.age = age\n",
    "\n",
    "    @property\n",
    "    def age(self):\n",
    "        return self.__age\n",
    "    \n",
    "    @age.setter\n",
    "    def age(self,value):\n",
    "        if 10< value <60:\n",
    "                self.__age = value\n",
    "        else:\n",
    "            raise ValueError('age must between 10~60')\n",
    "        \n",
    "u = User('fkit',24)\n",
    "print(u.name)\n",
    "print(u.age)\n",
    "u.age = 65"
   ]
  },
  {
   "cell_type": "markdown",
   "metadata": {},
   "source": [
    "- `__call__`\n",
    "  - Use `__call__` to determine if it is a property or method\n"
   ]
  },
  {
   "cell_type": "code",
   "execution_count": 15,
   "metadata": {},
   "outputs": [
    {
     "name": "stdout",
     "output_type": "stream",
     "text": [
      "False\n",
      "True\n"
     ]
    }
   ],
   "source": [
    "class User:\n",
    "    def __init__(self,name,password):\n",
    "        self.name = name\n",
    "        self.password = password\n",
    "    def validLogin(self):\n",
    "        print('Verify the indentity of %s' %self.name)\n",
    "\n",
    "u = User('yyl','admin')\n",
    "print(hasattr(u.name,'__call__'))\n",
    "print(hasattr(u.validLogin,'__call__'))"
   ]
  },
  {
   "cell_type": "markdown",
   "metadata": {},
   "source": [
    "## 2. Dynamic Programming\n"
   ]
  },
  {
   "cell_type": "code",
   "execution_count": 16,
   "metadata": {},
   "outputs": [
    {
     "name": "stdout",
     "output_type": "stream",
     "text": [
      "True\n",
      "True\n",
      "False\n",
      "Crazy Python sold out!\n",
      "20\n",
      "Good weather\n"
     ]
    }
   ],
   "source": [
    "class Comment:\n",
    "    def __init__(self,detail,view_times):\n",
    "        self.detail = detail\n",
    "        self.view_times = view_times\n",
    "    def info():\n",
    "        print('This is a comment, content is %s' %self.detail)\n",
    "        \n",
    "c = Comment('Crazy Python sold out!',20)\n",
    "\n",
    "# Check if has the following properties\n",
    "print(hasattr(c,'detail'))\n",
    "print(hasattr(c,'info'))\n",
    "print(hasattr(c,'author'))\n",
    "\n",
    "# Get the value of properties\n",
    "print(getattr(c,'detail'))\n",
    "print(getattr(c,'view_times'))\n",
    "\n",
    "# Set the value to properties\n",
    "setattr(c,'detail','Good weather')\n",
    "print(c.detail)"
   ]
  },
  {
   "cell_type": "markdown",
   "metadata": {},
   "source": [
    "Add additional Properties\n"
   ]
  },
  {
   "cell_type": "code",
   "execution_count": 17,
   "metadata": {},
   "outputs": [
    {
     "name": "stdout",
     "output_type": "stream",
     "text": [
      "new property\n"
     ]
    }
   ],
   "source": [
    "c.test = 'new property'\n",
    "print(c.test)"
   ]
  },
  {
   "cell_type": "markdown",
   "metadata": {},
   "source": [
    "## 3. Sequence-related Methods\n",
    "\n",
    "- Sequence-related magic methods enable objects to emulate `container types` like `lists`, `tuples`, and `dictionaries`.\n",
    "- These methods are essential for creating custom sequences that behave like standard Python sequences.\n"
   ]
  },
  {
   "cell_type": "markdown",
   "metadata": {},
   "source": [
    "### 3.1 Common sequence related magic methods\n",
    "\n",
    "- `__len__(self)`: return the number of elements\n",
    "- `__getitem__(self,key)` : return the corresponding element, the key should be an integer or slice object\n",
    "- `__contains__(self,item)`\n",
    "- `__setitem__(self,key,value)`\n",
    "- `__delitem__(self,key)`\n"
   ]
  },
  {
   "cell_type": "markdown",
   "metadata": {},
   "source": [
    "### 3.2 Build a character sequence\n",
    "\n",
    "- elements in this sequence has 3 digits\n",
    "- every digits composed with a character from A to Z\n"
   ]
  },
  {
   "cell_type": "code",
   "execution_count": 18,
   "metadata": {},
   "outputs": [],
   "source": [
    "def check_key(key):\n",
    "    '''\n",
    "    This method using for checking if the input index(key) is integer or not, if not, raise a TypeError\n",
    "    and the value could not be negative, otherwise raise a IndexError    \n",
    "    '''\n",
    "    if not isinstance(key,int): raise TypeError('index must be an integer')\n",
    "    if key <0 : raise IndexError('index must be a positive number')\n",
    "        \n",
    "class StringSeq:\n",
    "    def __init__(self):\n",
    "        self.__changed = {}\n",
    "        self.__deleted = {}\n",
    "    def __len__(self):\n",
    "        return 26 ** 3\n",
    "    def __getitem__(self,key):\n",
    "        '''\n",
    "        get the element from a list\n",
    "        '''\n",
    "        check_key(key)\n",
    "        if key in self.__changed:\n",
    "            return self.__changed[key]\n",
    "        if key in self.__deleted:\n",
    "            return None\n",
    "        three = key // (26 * 26)\n",
    "        two = (key - three * 26 * 26) // 26\n",
    "        one = key % 26\n",
    "        return chr(65 + three) + chr(65 + two) + chr(65 +one)\n",
    "    def __setitem__(self,key,value):\n",
    "        check_key(key)\n",
    "        self.__changed[key] = value\n",
    "    def __delitem__(self,key):\n",
    "        check_key(key)\n",
    "        if key not in self.__deleted: self.__deleted.append(key)\n",
    "        if key in self.__changed: del self.__changed[key]"
   ]
  },
  {
   "cell_type": "code",
   "execution_count": 19,
   "metadata": {},
   "outputs": [
    {
     "name": "stdout",
     "output_type": "stream",
     "text": [
      "17576\n",
      "BAA\n",
      "AAB\n",
      "Python\n"
     ]
    }
   ],
   "source": [
    "sq = StringSeq()\n",
    "print(len(sq))\n",
    "print(sq[26*26])\n",
    "print(sq[1])\n",
    "sq[1] = 'Python'\n",
    "print(sq[1])"
   ]
  },
  {
   "cell_type": "markdown",
   "metadata": {},
   "source": [
    "### 3.3 Applications\n",
    "\n",
    "52 cards deck\n",
    "It includes thirteen ranks in each of the four French suits:\n",
    "\n",
    "- Clubs (♣)\n",
    "- Diamonds (♦)\n",
    "- Hearts (♥)\n",
    "- Spades (♠)\n"
   ]
  },
  {
   "cell_type": "code",
   "execution_count": 20,
   "metadata": {},
   "outputs": [],
   "source": [
    "def check_key(key):\n",
    "    if not isinstance(key,int): raise TypeError('index must be an integer')\n",
    "    if key < 0: raise IndexError('index must be a positive number')\n",
    "    if key > 52: raise IndexError('index must less than 52')\n",
    "\n",
    "suit_lst = ['♣','♦','♥','♠']\n",
    "rank_lst = list(range(2,11)) + ['J','Q','K','A']\n",
    "\n",
    "class PlayingCards:\n",
    "    def __len__(self):\n",
    "        return 52    \n",
    "    def __getitem__(self,key):\n",
    "        check_key(key)\n",
    "        suit = suit_lst[key // 13]\n",
    "        rank =  rank_lst[key % 13]\n",
    "        return suit + str(rank)"
   ]
  },
  {
   "cell_type": "code",
   "execution_count": 21,
   "metadata": {},
   "outputs": [
    {
     "name": "stdout",
     "output_type": "stream",
     "text": [
      "♣2 ♣3 ♣4 ♣5 ♣6 ♣7 ♣8 ♣9 ♣10 ♣J ♣Q ♣K ♣A ♦2 ♦3 ♦4 ♦5 ♦6 ♦7 ♦8 ♦9 ♦10 ♦J ♦Q ♦K ♦A ♥2 ♥3 ♥4 ♥5 ♥6 ♥7 ♥8 ♥9 ♥10 ♥J ♥Q ♥K ♥A ♠2 ♠3 ♠4 ♠5 ♠6 ♠7 ♠8 ♠9 ♠10 ♠J ♠Q ♠K ♠A "
     ]
    }
   ],
   "source": [
    "pc = PlayingCards()\n",
    "for ele in pc:\n",
    "    print(ele,end = ' ')"
   ]
  }
 ],
 "metadata": {
  "kernelspec": {
   "display_name": "mybase",
   "language": "python",
   "name": "python3"
  },
  "language_info": {
   "codemirror_mode": {
    "name": "ipython",
    "version": 3
   },
   "file_extension": ".py",
   "mimetype": "text/x-python",
   "name": "python",
   "nbconvert_exporter": "python",
   "pygments_lexer": "ipython3",
   "version": "3.11.4"
  }
 },
 "nbformat": 4,
 "nbformat_minor": 2
}
