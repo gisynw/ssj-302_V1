{
 "cells": [
  {
   "cell_type": "markdown",
   "metadata": {},
   "source": [
    "# Chapter 6: Classes and Objects in Python\n",
    "\n",
    "Python, as an **object-oriented** programming language, provides a powerful approach to manage and organize your code through the use of classes and objects. This chapter will guide you through the fundamentals of **object-oriented programming (OOP)** in Python, introducing you to key concepts such as `classes`, `objects`, `inheritance`, `encapsulation`, `polymorphism`, and `enumeration`.\n",
    "\n",
    "## 1. Introduction to Classes and Objects\n",
    "\n",
    "In Python, a class can be thought of as a `blueprint` for creating objects. Objects are instances of classes and can hold data (`attributes`) and operations (`methods`) related to that data.\n",
    "\n",
    "### 1.1 Defining a Class and Creating Objects\n",
    "\n",
    "- `Constructor`: Python use constructor to return an object of a class\n",
    "  - `__init__()`\n"
   ]
  },
  {
   "cell_type": "code",
   "execution_count": 1,
   "metadata": {},
   "outputs": [
    {
     "name": "stdout",
     "output_type": "stream",
     "text": [
      "Class Variable: 123, Instance Variable: 456\n"
     ]
    }
   ],
   "source": [
    "class MyClass:\n",
    "    \"\"\"A simple example class\"\"\"\n",
    "    class_variable = 123\n",
    "\n",
    "    def __init__(self, value):  # Constructor\n",
    "        self.instance_variable = value\n",
    "\n",
    "    def a_method(self):\n",
    "        return f'Class Variable: {MyClass.class_variable}, Instance Variable: {self.instance_variable}'\n",
    "\n",
    "# Creating an object of MyClass\n",
    "my_object = MyClass(456)\n",
    "print(my_object.a_method())"
   ]
  },
  {
   "cell_type": "code",
   "execution_count": 2,
   "metadata": {},
   "outputs": [],
   "source": [
    "class Person:\n",
    "    hair = 'black'\n",
    "    def __init__(self,name = 'Charlie',age = 8):\n",
    "        # Add two instance parameter to Person class\n",
    "        self.name = name\n",
    "        self.age = age\n",
    "    # Define a say function\n",
    "    def say(self,content):\n",
    "        print(content)"
   ]
  },
  {
   "cell_type": "markdown",
   "metadata": {},
   "source": [
    "### 1.2 Generate Objects and Use it\n"
   ]
  },
  {
   "cell_type": "code",
   "execution_count": 3,
   "metadata": {},
   "outputs": [
    {
     "name": "stdout",
     "output_type": "stream",
     "text": [
      "Charlie 8\n"
     ]
    }
   ],
   "source": [
    "p = Person()\n",
    "print(p.name,p.age)"
   ]
  },
  {
   "cell_type": "code",
   "execution_count": 5,
   "metadata": {},
   "outputs": [
    {
     "name": "stdout",
     "output_type": "stream",
     "text": [
      "It is easy to learn python programming!\n",
      "Nio 8\n"
     ]
    }
   ],
   "source": [
    "p.name = 'Nio'\n",
    "p.say('It is easy to learn python programming!')\n",
    "print(p.name,p.age)"
   ]
  },
  {
   "cell_type": "markdown",
   "metadata": {},
   "source": [
    "### 1.3 Dynamic add attributes and methods\n"
   ]
  },
  {
   "cell_type": "code",
   "execution_count": 6,
   "metadata": {},
   "outputs": [
    {
     "name": "stdout",
     "output_type": "stream",
     "text": [
      "['programming', 'swimming']\n"
     ]
    },
    {
     "ename": "AttributeError",
     "evalue": "'Person' object has no attribute 'name'",
     "output_type": "error",
     "traceback": [
      "\u001b[1;31m---------------------------------------------------------------------------\u001b[0m",
      "\u001b[1;31mAttributeError\u001b[0m                            Traceback (most recent call last)",
      "Cell \u001b[1;32mIn[6], line 5\u001b[0m\n\u001b[0;32m      3\u001b[0m \u001b[38;5;66;03m# Delete parameters within a object\u001b[39;00m\n\u001b[0;32m      4\u001b[0m \u001b[38;5;28;01mdel\u001b[39;00m p\u001b[38;5;241m.\u001b[39mname\n\u001b[1;32m----> 5\u001b[0m \u001b[38;5;28mprint\u001b[39m(\u001b[43mp\u001b[49m\u001b[38;5;241;43m.\u001b[39;49m\u001b[43mname\u001b[49m)  \u001b[38;5;66;03m# AttributeError\u001b[39;00m\n",
      "\u001b[1;31mAttributeError\u001b[0m: 'Person' object has no attribute 'name'"
     ]
    }
   ],
   "source": [
    "p.skills = ['programming','swimming']\n",
    "print(p.skills)\n",
    "# Delete parameters within a object\n",
    "del p.name\n",
    "print(p.name)  # AttributeError"
   ]
  },
  {
   "cell_type": "code",
   "execution_count": 7,
   "metadata": {},
   "outputs": [
    {
     "name": "stdout",
     "output_type": "stream",
     "text": [
      "---info function--- <__main__.Person object at 0x0000022B91A83750>\n"
     ]
    }
   ],
   "source": [
    "def info(self):\n",
    "    print(\"---info function---\",self)\n",
    "\n",
    "# use info function\n",
    "p.foo = info\n",
    "p.foo(p)"
   ]
  },
  {
   "cell_type": "code",
   "execution_count": 8,
   "metadata": {},
   "outputs": [
    {
     "name": "stdout",
     "output_type": "stream",
     "text": [
      "---lambda --- <__main__.Person object at 0x0000022B91A83750>\n"
     ]
    }
   ],
   "source": [
    "p.bar = lambda self: print(\"---lambda ---\",self)\n",
    "p.bar(p)"
   ]
  },
  {
   "cell_type": "markdown",
   "metadata": {},
   "source": [
    "bind the `self` as the first parameter to the dynamic added function\n",
    "\n",
    "- `MethodType`:\n",
    "  - The `MethodType` function is used to convert the function `intro_func` into a method of an instance `p`.\n",
    "  - The `MethodType` function essentially binds the first parameter of the function (`self`) to the instance `p`, so when the method is called, `p` is **automatically passed** as the first argument.\n"
   ]
  },
  {
   "cell_type": "code",
   "execution_count": 9,
   "metadata": {},
   "outputs": [
    {
     "name": "stdout",
     "output_type": "stream",
     "text": [
      "I am a person, infomation are What a good life\n"
     ]
    }
   ],
   "source": [
    "def intro_func(self,content):\n",
    "    print(\"I am a person, infomation are %s\" % content)\n",
    "    \n",
    "from types import MethodType\n",
    "p.intro = MethodType(intro_func,p)\n",
    "\n",
    "# the first parameter are fixed as 'p', do not need to pass again\n",
    "p.intro(\"What a good life\")"
   ]
  },
  {
   "cell_type": "markdown",
   "metadata": {},
   "source": [
    "### 1.4 Class variables(static) and instance variables\n",
    "\n",
    "If you want to assign value to instance variables, you could do like following\n"
   ]
  },
  {
   "cell_type": "code",
   "execution_count": 18,
   "metadata": {},
   "outputs": [
    {
     "name": "stdout",
     "output_type": "stream",
     "text": [
      "Razer\n",
      "3600\n",
      "Mouse\n",
      "2000\n"
     ]
    }
   ],
   "source": [
    "class Inventory:\n",
    "    # two class variables\n",
    "    item = 'Mouse'\n",
    "    dpi = 2000\n",
    "    # define a instance function\n",
    "    def change(self,item,dpi):\n",
    "        self.item = item\n",
    "        self.dpi = dpi\n",
    "\n",
    "iv = Inventory()\n",
    "iv.change('Razer',3600)\n",
    "print(iv.item)\n",
    "print(iv.dpi)\n",
    "print(Inventory.item)\n",
    "print(Inventory.dpi)"
   ]
  },
  {
   "cell_type": "markdown",
   "metadata": {},
   "source": [
    "In this case, if you change the value of class variables, the value of instance variables would not be changed\n"
   ]
  },
  {
   "cell_type": "code",
   "execution_count": 19,
   "metadata": {},
   "outputs": [
    {
     "name": "stdout",
     "output_type": "stream",
     "text": [
      "Razer\n",
      "3600\n"
     ]
    }
   ],
   "source": [
    "Inventory.item = 'logitech'\n",
    "Inventory.dpi = 5400\n",
    "print(iv.item)\n",
    "print(iv.dpi)"
   ]
  },
  {
   "cell_type": "markdown",
   "metadata": {},
   "source": [
    "## 2. Class Methods vs. Static Methods\n",
    "\n",
    "- [Reference](https://betterprogramming.pub/how-to-use-the-magical-staticmethod-classmethod-and-property-decorators-in-python-e42dd74e51e7)\n",
    "\n",
    "Class Methods\n",
    "\n",
    "- Class methods are methods that are bound to the class itself, not to an instance of the class.\n",
    "- The **first parameter** of a class method is typically named `cls`, which represents the class itself.\n",
    "- Class methods can **access and modify `class attributes`**, but they cannot access or modify `instance attributes` (unless an instance is explicitly passed).\n",
    "- Class methods are marked with the `@classmethod` decorator.\n",
    "\n",
    "Static Methods ((usually not needed))\n",
    "\n",
    "- Static methods are functions defined within a class, but they are not associated with instances or the class itself.\n",
    "- Static methods **do not receive an implicit first argument** (`self` or `cls`).\n",
    "- Static methods cannot access or modify class or instance attributes directly.\n",
    "- Static methods are marked with the `@staticmethod` decorator.\n"
   ]
  },
  {
   "cell_type": "code",
   "execution_count": 10,
   "metadata": {},
   "outputs": [
    {
     "name": "stdout",
     "output_type": "stream",
     "text": [
      "Class method fly:  <class '__main__.Bird'>\n",
      "Static method info:  crazyit\n",
      "Class method fly:  <class '__main__.Bird'>\n",
      "Static method info:  fkit\n"
     ]
    }
   ],
   "source": [
    "class Bird:\n",
    "    # using @classmethod to illustrate it is a class method\n",
    "    @classmethod\n",
    "    def fly(cls):\n",
    "        print('Class method fly: ', cls)\n",
    "\n",
    "    # using @staticmethod to illustrate it is a static method\n",
    "    @staticmethod\n",
    "    def info(p):\n",
    "        print('Static method info: ', p)\n",
    "\n",
    "Bird.fly()  # Class method fly:  <class '__main__.Bird'>\n",
    "Bird.info('crazyit')  # Static method info:  crazyit\n",
    "\n",
    "b = Bird()\n",
    "b.fly()  # Class method fly:  <class '__main__.Bird'>\n",
    "b.info('fkit')  # Static method info:  fkit"
   ]
  },
  {
   "cell_type": "markdown",
   "metadata": {},
   "source": [
    "- A `class method` normally works as a `factory method` and returns an instance of the class with supplied arguments.\n",
    "- However, it doesn't always have to work as a factory class and return an instance. You can create an instance in the class method, do whatever you need, and don’t have to return it\n"
   ]
  },
  {
   "cell_type": "code",
   "execution_count": 11,
   "metadata": {},
   "outputs": [
    {
     "name": "stdout",
     "output_type": "stream",
     "text": [
      "An iPhone is created.\n"
     ]
    },
    {
     "data": {
      "text/plain": [
       "'911'"
      ]
     },
     "execution_count": 11,
     "metadata": {},
     "output_type": "execute_result"
    }
   ],
   "source": [
    "\n",
    "class Cellphone:\n",
    "    def __init__(self, brand, number):\n",
    "        self.brand = brand\n",
    "        self.number = number\n",
    "        \n",
    "    def get_number(self):\n",
    "        return self.number\n",
    "      \n",
    "    @staticmethod\n",
    "    def get_emergency_number():\n",
    "        return \"911\"\n",
    "      \n",
    "    @classmethod\n",
    "    def iphone(cls, number):\n",
    "        _iphone = cls(\"Apple\", number)\n",
    "        print(\"An iPhone is created.\")\n",
    "        return _iphone\n",
    "     \n",
    "iphone = Cellphone.iphone(\"1112223333\")\n",
    "# An iPhone is created.\n",
    "iphone.get_number()\n",
    "# \"1112223333\"\n",
    "iphone.get_emergency_number()"
   ]
  },
  {
   "cell_type": "markdown",
   "metadata": {},
   "source": [
    "## 3. Function Decorators\n",
    "\n",
    "Function decorators in Python are a way to **modify the behavior of a function** without changing its source code directly.  \n",
    "They are higher-order functions that take a function as input, add some functionality to it, and return a new function with the added functionality.\n",
    "\n",
    "### 3.1 How Decorators Work\n",
    "\n",
    "When you use `@decorator_function` to decorate `decorated_function`, the following happens:\n",
    "\n",
    "1. The `decorated_function` is passed as an argument to the `decorator_function`.\n",
    "2. The `decorator_function` performs some additional operations and returns a new function object.\n",
    "3. The **new function object returned** by the `decorator_function` is assigned to the name of the `decorated_function`.\n"
   ]
  },
  {
   "cell_type": "markdown",
   "metadata": {},
   "source": [
    "### 3.2 Example: Authority Checking Decorator\n"
   ]
  },
  {
   "cell_type": "code",
   "execution_count": 12,
   "metadata": {},
   "outputs": [
    {
     "name": "stdout",
     "output_type": "stream",
     "text": [
      "Authority checking\n",
      "Perform test function, parameter a: 20, parameter b: 15\n"
     ]
    }
   ],
   "source": [
    "def auth(fn):\n",
    "    def auth_fn(*args):\n",
    "        print(\"Authority checking\")\n",
    "        # Call the input function\n",
    "        fn(*args)\n",
    "    return auth_fn\n",
    "\n",
    "@auth\n",
    "def test(a, b):\n",
    "    print(f\"Perform test function, parameter a: {a}, parameter b: {b}\")\n",
    "\n",
    "test(20, 15)  # Output: Authority checking\n",
    "              # Perform test function, parameter a: 20, parameter b: 15"
   ]
  },
  {
   "cell_type": "markdown",
   "metadata": {},
   "source": [
    "### 3.3 `@property`\n",
    "\n",
    "In the code snippet above, there is a function called `get_number` which returns the number of a Cellphone instance. We can optimize this method a bit and return a formatted phone number:\n"
   ]
  },
  {
   "cell_type": "code",
   "execution_count": 13,
   "metadata": {},
   "outputs": [
    {
     "name": "stdout",
     "output_type": "stream",
     "text": [
      "111-222-3333\n"
     ]
    }
   ],
   "source": [
    "class Cellphone:\n",
    "    def __init__(self, brand, number):\n",
    "        self.brand = brand\n",
    "        self.number = number\n",
    "        \n",
    "    def get_number(self):\n",
    "        _number = \"-\".join([self.number[:3], self.number[3:6], self.number[6:]])\n",
    "        return _number\n",
    "      \n",
    "cellphone = Cellphone(\"Samsung\", \"1112223333\")\n",
    "print(cellphone.get_number())\n",
    "# 111-222-3333"
   ]
  },
  {
   "cell_type": "markdown",
   "metadata": {},
   "source": [
    "- As we see, in this example, when we try to get the number of a cellphone, we don’t return it directly but do some formatting before returning it.\n",
    "- This is a perfect case for using the `@property` decorator.\n",
    "  - In Python, with the `@property` decorator, you can use `getter` and `setter` to manage the attributes of your class instances very conveniently.\n",
    "- The above code can be re-written with `@propery` like this:\n"
   ]
  },
  {
   "cell_type": "code",
   "execution_count": 14,
   "metadata": {},
   "outputs": [
    {
     "name": "stdout",
     "output_type": "stream",
     "text": [
      "111-222-3333\n"
     ]
    }
   ],
   "source": [
    "\n",
    "class Cellphone:\n",
    "    def __init__(self, brand, number):\n",
    "        self.brand = brand\n",
    "        self.number = number\n",
    "        \n",
    "    @property\n",
    "    def number(self):\n",
    "        _number = \"-\".join([self._number[:3], self._number[3:6],self._number[6:]])\n",
    "        return _number\n",
    "    \n",
    "    @number.setter\n",
    "    def number(self, number):\n",
    "        if len(number) != 10:\n",
    "            raise ValueError(\"Invalid phone number.\")\n",
    "        self._number = number\n",
    "\n",
    "cellphone = Cellphone(\"Samsung\", \"1112223333\")\n",
    "print(cellphone.number)\n",
    "# 111-222-3333"
   ]
  },
  {
   "cell_type": "markdown",
   "metadata": {},
   "source": [
    "- if only use `@property`, then this variable only readable but not writeable\n",
    "- add `@xxx.setter` to add the writeable properties\n"
   ]
  },
  {
   "cell_type": "code",
   "execution_count": 16,
   "metadata": {},
   "outputs": [],
   "source": [
    "class Cell:\n",
    "    @property\n",
    "    def state(self):\n",
    "        return self._state\n",
    "    @state.setter\n",
    "    def state(self,value):\n",
    "        if 'alive' in value.lower():\n",
    "            self._state = 'alive'\n",
    "        else:\n",
    "            self._state = 'dead'\n",
    "    @property\n",
    "    def is_dead(self):\n",
    "        return not self._state.lower() == 'alive'"
   ]
  },
  {
   "cell_type": "code",
   "execution_count": 17,
   "metadata": {},
   "outputs": [
    {
     "name": "stdout",
     "output_type": "stream",
     "text": [
      "alive\n",
      "False\n"
     ]
    }
   ],
   "source": [
    "c = Cell()\n",
    "c.state = 'Alive'\n",
    "print(c.state)\n",
    "print(c.is_dead)"
   ]
  },
  {
   "cell_type": "markdown",
   "metadata": {},
   "source": [
    "## 4. Namespace\n",
    "\n",
    "In python, every class has their own namespace\n"
   ]
  },
  {
   "cell_type": "code",
   "execution_count": 15,
   "metadata": {},
   "outputs": [
    {
     "name": "stdout",
     "output_type": "stream",
     "text": [
      "lambda expression, p is: Python\n",
      "lambda expression, p is: <__main__.Category object at 0x0000022B91F9ACD0>\n"
     ]
    }
   ],
   "source": [
    "global_fn = lambda p: print('lambda expression, p is:',p)\n",
    "\n",
    "class Category:\n",
    "    cate_fn = lambda p: print('lambda expression, p is:',p)\n",
    "    \n",
    "global_fn('Python')\n",
    "c = Category()\n",
    "# When crate a object, python would combine the first parameter automatically\n",
    "c.cate_fn()"
   ]
  },
  {
   "cell_type": "markdown",
   "metadata": {},
   "source": [
    "## 5. Encapsulation and inheritance\n",
    "\n",
    "### 5.1 Encapsulation\n",
    "\n",
    "Encapsulation is the bundling of data with the methods that operate on that data.\n",
    "\n",
    "The usage of encapsulation\n",
    "\n",
    "- Users could only use a defined function to access data\n",
    "- Hide the details for class building\n",
    "- Easy for maintenance\n"
   ]
  },
  {
   "cell_type": "code",
   "execution_count": 2,
   "metadata": {},
   "outputs": [],
   "source": [
    "class User:\n",
    "    def __init__(self, name, age):\n",
    "        self.name = name\n",
    "        self.age = age\n",
    "\n",
    "    def __hide__(self):\n",
    "        print('demonstrate hide function')\n",
    "\n",
    "    @property\n",
    "    def name(self):\n",
    "        return self._name\n",
    "\n",
    "    @name.setter\n",
    "    def name(self, value):\n",
    "        if len(value) < 3 or len(value) > 8:\n",
    "            raise ValueError('The length of username must between 3 to 8!')\n",
    "        self._name = value\n",
    "\n",
    "    @property\n",
    "    def age(self):\n",
    "        return self._age\n",
    "\n",
    "    @age.setter\n",
    "    def age(self, value):\n",
    "        if value < 15 or value > 75:\n",
    "            raise ValueError('The age of user must between 15 to 75!')\n",
    "        self._age = value"
   ]
  },
  {
   "cell_type": "code",
   "execution_count": 3,
   "metadata": {},
   "outputs": [
    {
     "ename": "ValueError",
     "evalue": "The length of username must between 3 to 8!",
     "output_type": "error",
     "traceback": [
      "\u001b[1;31m---------------------------------------------------------------------------\u001b[0m",
      "\u001b[1;31mValueError\u001b[0m                                Traceback (most recent call last)",
      "Cell \u001b[1;32mIn[3], line 1\u001b[0m\n\u001b[1;32m----> 1\u001b[0m u \u001b[38;5;241m=\u001b[39m \u001b[43mUser\u001b[49m\u001b[43m(\u001b[49m\u001b[38;5;124;43m'\u001b[39;49m\u001b[38;5;124;43mjk\u001b[39;49m\u001b[38;5;124;43m'\u001b[39;49m\u001b[43m,\u001b[49m\u001b[38;5;241;43m14\u001b[39;49m\u001b[43m)\u001b[49m\n",
      "Cell \u001b[1;32mIn[2], line 3\u001b[0m, in \u001b[0;36mUser.__init__\u001b[1;34m(self, name, age)\u001b[0m\n\u001b[0;32m      2\u001b[0m \u001b[38;5;28;01mdef\u001b[39;00m \u001b[38;5;21m__init__\u001b[39m(\u001b[38;5;28mself\u001b[39m, name, age):\n\u001b[1;32m----> 3\u001b[0m     \u001b[38;5;28;43mself\u001b[39;49m\u001b[38;5;241;43m.\u001b[39;49m\u001b[43mname\u001b[49m \u001b[38;5;241m=\u001b[39m name\n\u001b[0;32m      4\u001b[0m     \u001b[38;5;28mself\u001b[39m\u001b[38;5;241m.\u001b[39mage \u001b[38;5;241m=\u001b[39m age\n",
      "Cell \u001b[1;32mIn[2], line 16\u001b[0m, in \u001b[0;36mUser.name\u001b[1;34m(self, value)\u001b[0m\n\u001b[0;32m     13\u001b[0m \u001b[38;5;129m@name\u001b[39m\u001b[38;5;241m.\u001b[39msetter\n\u001b[0;32m     14\u001b[0m \u001b[38;5;28;01mdef\u001b[39;00m \u001b[38;5;21mname\u001b[39m(\u001b[38;5;28mself\u001b[39m, value):\n\u001b[0;32m     15\u001b[0m     \u001b[38;5;28;01mif\u001b[39;00m \u001b[38;5;28mlen\u001b[39m(value) \u001b[38;5;241m<\u001b[39m \u001b[38;5;241m3\u001b[39m \u001b[38;5;129;01mor\u001b[39;00m \u001b[38;5;28mlen\u001b[39m(value) \u001b[38;5;241m>\u001b[39m \u001b[38;5;241m8\u001b[39m:\n\u001b[1;32m---> 16\u001b[0m         \u001b[38;5;28;01mraise\u001b[39;00m \u001b[38;5;167;01mValueError\u001b[39;00m(\u001b[38;5;124m'\u001b[39m\u001b[38;5;124mThe length of username must between 3 to 8!\u001b[39m\u001b[38;5;124m'\u001b[39m)\n\u001b[0;32m     17\u001b[0m     \u001b[38;5;28mself\u001b[39m\u001b[38;5;241m.\u001b[39m_name \u001b[38;5;241m=\u001b[39m value\n",
      "\u001b[1;31mValueError\u001b[0m: The length of username must between 3 to 8!"
     ]
    }
   ],
   "source": [
    "u = User('jk',14)"
   ]
  },
  {
   "cell_type": "code",
   "execution_count": 4,
   "metadata": {},
   "outputs": [
    {
     "name": "stdout",
     "output_type": "stream",
     "text": [
      "Betty\n",
      "24\n"
     ]
    }
   ],
   "source": [
    "u = User('Betty',24)\n",
    "print(u.name)\n",
    "print(u.age)"
   ]
  },
  {
   "cell_type": "code",
   "execution_count": 5,
   "metadata": {},
   "outputs": [
    {
     "name": "stdout",
     "output_type": "stream",
     "text": [
      "demonstrate hide function\n"
     ]
    }
   ],
   "source": [
    "u.__hide__()"
   ]
  },
  {
   "cell_type": "markdown",
   "metadata": {},
   "source": [
    "### 5.2 Inheritance\n",
    "\n",
    "In python, one subclass could inherit from multiple superclass\n"
   ]
  },
  {
   "cell_type": "markdown",
   "metadata": {},
   "source": [
    "#### Basic inheritance\n"
   ]
  },
  {
   "cell_type": "code",
   "execution_count": 6,
   "metadata": {},
   "outputs": [
    {
     "name": "stdout",
     "output_type": "stream",
     "text": [
      "This fruit has 5.6 gram\n",
      "This is a food!\n"
     ]
    }
   ],
   "source": [
    "class Fruit:\n",
    "    def info(self):\n",
    "        print('This fruit has %g gram' %self.weight)\n",
    "        \n",
    "class Apple(Fruit):\n",
    "    def taste(self):\n",
    "        print('This is a food!')\n",
    "\n",
    "a = Apple()\n",
    "a.weight = 5.6 \n",
    "a.info()\n",
    "a.taste()"
   ]
  },
  {
   "cell_type": "markdown",
   "metadata": {},
   "source": [
    "#### Multiple superclas\n",
    "\n",
    "- It is not recommended since it would lead to some unknown error.\n"
   ]
  },
  {
   "cell_type": "code",
   "execution_count": 7,
   "metadata": {},
   "outputs": [
    {
     "name": "stdout",
     "output_type": "stream",
     "text": [
      "This fruit has 5.6 gram\n",
      "This is a food!\n"
     ]
    }
   ],
   "source": [
    "class Fruit:\n",
    "    def info(self):\n",
    "        print('This fruit has %g gram' %self.weight)\n",
    "\n",
    "class Food:\n",
    "    def taste(self):\n",
    "        print('This is a food!')\n",
    "        \n",
    "class Apple(Fruit,Food):\n",
    "    pass\n",
    "\n",
    "a = Apple()\n",
    "a.weight = 5.6 \n",
    "a.info()\n",
    "a.taste()"
   ]
  },
  {
   "cell_type": "markdown",
   "metadata": {},
   "source": [
    "#### Overwrite the function from superclass\n"
   ]
  },
  {
   "cell_type": "code",
   "execution_count": 8,
   "metadata": {},
   "outputs": [
    {
     "name": "stdout",
     "output_type": "stream",
     "text": [
      "I could only running.\n"
     ]
    }
   ],
   "source": [
    "class Bird:\n",
    "    def fly(self):\n",
    "        print('I am flying!')\n",
    "class Ostrich(Bird):\n",
    "    def fly(self):\n",
    "        print('I could only running.')\n",
    "        \n",
    "os1 = Ostrich()\n",
    "os1.fly()"
   ]
  },
  {
   "cell_type": "markdown",
   "metadata": {},
   "source": [
    "If you want to use the function in superclass which has been overwritten, you could use the following statement\n"
   ]
  },
  {
   "cell_type": "code",
   "execution_count": 9,
   "metadata": {},
   "outputs": [
    {
     "name": "stdout",
     "output_type": "stream",
     "text": [
      "in the bar function\n",
      "foo function in the subclass\n",
      "foo function in the superclass\n"
     ]
    }
   ],
   "source": [
    "class BaseClass:\n",
    "    def foo(self):\n",
    "        print('foo function in the superclass')\n",
    "class SubClass(BaseClass):\n",
    "    def foo(self):\n",
    "        print('foo function in the subclass')\n",
    "    def bar(self):\n",
    "        print('in the bar function')\n",
    "        self.foo()\n",
    "        BaseClass.foo(self)\n",
    "\n",
    "sc = SubClass()\n",
    "sc.bar()"
   ]
  },
  {
   "cell_type": "markdown",
   "metadata": {},
   "source": [
    "#### Use the `super` function to call the constructor of the superclass\n",
    "\n",
    "- If you want to create a `subclass` from two or more superclass, you have to overwrite the constructor\n",
    "- In the constructor of the subclass, use s`uper()` to call the constructor from superclass\n"
   ]
  },
  {
   "cell_type": "code",
   "execution_count": 10,
   "metadata": {},
   "outputs": [
    {
     "name": "stdout",
     "output_type": "stream",
     "text": [
      "Help on class super in module builtins:\n",
      "\n",
      "class super(object)\n",
      " |  super() -> same as super(__class__, <first argument>)\n",
      " |  super(type) -> unbound super object\n",
      " |  super(type, obj) -> bound super object; requires isinstance(obj, type)\n",
      " |  super(type, type2) -> bound super object; requires issubclass(type2, type)\n",
      " |  Typical use to call a cooperative superclass method:\n",
      " |  class C(B):\n",
      " |      def meth(self, arg):\n",
      " |          super().meth(arg)\n",
      " |  This works for class methods too:\n",
      " |  class C(B):\n",
      " |      @classmethod\n",
      " |      def cmeth(cls, arg):\n",
      " |          super().cmeth(arg)\n",
      " |  \n",
      " |  Methods defined here:\n",
      " |  \n",
      " |  __get__(self, instance, owner=None, /)\n",
      " |      Return an attribute of instance, which is of type owner.\n",
      " |  \n",
      " |  __getattribute__(self, name, /)\n",
      " |      Return getattr(self, name).\n",
      " |  \n",
      " |  __init__(self, /, *args, **kwargs)\n",
      " |      Initialize self.  See help(type(self)) for accurate signature.\n",
      " |  \n",
      " |  __repr__(self, /)\n",
      " |      Return repr(self).\n",
      " |  \n",
      " |  ----------------------------------------------------------------------\n",
      " |  Static methods defined here:\n",
      " |  \n",
      " |  __new__(*args, **kwargs) from builtins.type\n",
      " |      Create and return a new object.  See help(type) for accurate signature.\n",
      " |  \n",
      " |  ----------------------------------------------------------------------\n",
      " |  Data descriptors defined here:\n",
      " |  \n",
      " |  __self__\n",
      " |      the instance invoking super(); may be None\n",
      " |  \n",
      " |  __self_class__\n",
      " |      the type of the instance invoking super(); may be None\n",
      " |  \n",
      " |  __thisclass__\n",
      " |      the class invoking super()\n",
      "\n"
     ]
    }
   ],
   "source": [
    "help(super)"
   ]
  },
  {
   "cell_type": "code",
   "execution_count": 11,
   "metadata": {},
   "outputs": [
    {
     "name": "stdout",
     "output_type": "stream",
     "text": [
      "--Constructor of Manager---\n",
      "This man is working, with 125000 salary\n",
      "I am a customer, I favorite thing is Python, and my address is Texas\n"
     ]
    }
   ],
   "source": [
    "class Employee:\n",
    "    def __init__(self,salary):\n",
    "        self.salary = salary\n",
    "    def work(self):\n",
    "        print('This man is working, with %s salary' %self.salary)\n",
    "\n",
    "class Customer:\n",
    "    def __init__(self,favorite,address):\n",
    "        self.favorite = favorite\n",
    "        self.address = address\n",
    "    def info(self):\n",
    "        print('I am a customer, I favorite thing is %s, and my address is %s' %(self.favorite, self.address))\n",
    "        \n",
    "class Manager(Employee,Customer):\n",
    "    def __init__(self,salary,favorite,address):\n",
    "        print('--Constructor of Manager---')\n",
    "        super().__init__(salary)\n",
    "        Customer.__init__(self,favorite,address)\n",
    "        \n",
    "m = Manager(125000,'Python','Texas')\n",
    "m.work()\n",
    "m.info()"
   ]
  },
  {
   "cell_type": "markdown",
   "metadata": {},
   "source": [
    "## 6. Polymorphism\n",
    "\n",
    "Polymorphism means the ability to take various forms.  \n",
    "In Python, Polymorphism allows us to define methods in the child class with the same name as defined in their parent class.\n"
   ]
  },
  {
   "cell_type": "code",
   "execution_count": 12,
   "metadata": {},
   "outputs": [
    {
     "name": "stdout",
     "output_type": "stream",
     "text": [
      "Birds fly in the sky\n",
      "Dogs run on the ground\n"
     ]
    }
   ],
   "source": [
    "class Bird:\n",
    "    def move(self,field):\n",
    "        print('Birds fly in the %s' %field)\n",
    "class Dog:\n",
    "    def move(self,field):\n",
    "        print('Dogs run on the %s' %field)\n",
    "\n",
    "x = Bird()\n",
    "x.move('sky')\n",
    "x = Dog()\n",
    "x.move('ground')"
   ]
  },
  {
   "cell_type": "markdown",
   "metadata": {},
   "source": [
    "It is very useful when two or more classes correlated with each other\n"
   ]
  },
  {
   "cell_type": "code",
   "execution_count": 13,
   "metadata": {},
   "outputs": [
    {
     "name": "stdout",
     "output_type": "stream",
     "text": [
      "---Start Drawing---\n",
      "Draw a rectangle on <__main__.Canvas object at 0x000001C4C1206E50>\n",
      "---Start Drawing---\n",
      "Draw a triangle on <__main__.Canvas object at 0x000001C4C1206E50>\n",
      "---Start Drawing---\n",
      "Draw a circle on <__main__.Canvas object at 0x000001C4C1206E50>\n"
     ]
    }
   ],
   "source": [
    "class Canvas:\n",
    "    def draw_pic(self,shape):\n",
    "        print('---Start Drawing---')\n",
    "        shape.draw(self)\n",
    "        \n",
    "class Rectangle:\n",
    "    def draw(self,canvas):\n",
    "        print('Draw a rectangle on %s' %canvas)\n",
    "class Triangle:\n",
    "    def draw(self,canvas):\n",
    "        print('Draw a triangle on %s' %canvas)\n",
    "class Circle:\n",
    "    def draw(self,canvas):\n",
    "        print('Draw a circle on %s' %canvas)\n",
    "        \n",
    "c = Canvas()\n",
    "c.draw_pic(Rectangle())\n",
    "c.draw_pic(Triangle())\n",
    "c.draw_pic(Circle())"
   ]
  },
  {
   "cell_type": "markdown",
   "metadata": {},
   "source": [
    "## 7. Check the type of instance and class\n",
    "\n",
    "- `issubclass(cls,class_or_tuple)`\n",
    "- `isinstance(obj,class_or_tuple)`\n"
   ]
  },
  {
   "cell_type": "code",
   "execution_count": 14,
   "metadata": {},
   "outputs": [
    {
     "name": "stdout",
     "output_type": "stream",
     "text": [
      "True\n",
      "True\n",
      "True\n"
     ]
    }
   ],
   "source": [
    "hello = 'Hello'\n",
    "print(isinstance(hello,str))\n",
    "print(isinstance(hello,object))\n",
    "print(issubclass(str,object))"
   ]
  },
  {
   "cell_type": "markdown",
   "metadata": {},
   "source": [
    "Every class is the subclass of object\n"
   ]
  },
  {
   "cell_type": "code",
   "execution_count": 15,
   "metadata": {},
   "outputs": [
    {
     "name": "stdout",
     "output_type": "stream",
     "text": [
      "True\n",
      "True\n"
     ]
    }
   ],
   "source": [
    "print(issubclass(Rectangle,object))\n",
    "print(issubclass(list,object))"
   ]
  },
  {
   "cell_type": "markdown",
   "metadata": {},
   "source": [
    "- Python provide `__bases__` to check all the superclasses of the input class\n",
    "- Python provide `__subclasses__ ()`to check all the subclasses of the input class\n"
   ]
  },
  {
   "cell_type": "code",
   "execution_count": 16,
   "metadata": {},
   "outputs": [
    {
     "name": "stdout",
     "output_type": "stream",
     "text": [
      "(<class 'object'>,)\n",
      "[<class 'functools._HashedSeq'>, <class 'traceback.StackSummary'>, <class 'socketserver._Threads'>, <class 'logging.config.ConvertingList'>, <class 'traitlets.config.loader.DeferredConfigList'>, <class 'dateutil.parser._parser._ymd'>, <class 'email.header._Accumulator'>, <class 'importlib.metadata.DeprecatedList'>, <class 'IPython.utils.text.SList'>, <class 'prompt_toolkit.document._ImmutableLineList'>, <class 'prompt_toolkit.formatted_text.base.FormattedText'>, <class 'xml.dom.minicompat.NodeList'>, <class 'prompt_toolkit.layout.utils._ExplodedList'>, <class 'parso.parser.Stack'>, <class '_pydevd_frame_eval.vendored.bytecode.bytecode._BaseBytecodeList'>, <class '_pydevd_frame_eval.vendored.bytecode.bytecode._InstrList'>]\n"
     ]
    }
   ],
   "source": [
    "print(Rectangle.__bases__)\n",
    "print(list.__subclasses__())"
   ]
  },
  {
   "cell_type": "markdown",
   "metadata": {},
   "source": [
    "## 8. Applications\n",
    "\n",
    "### 8.1 Create a student class with the following properties\n",
    "\n",
    "- name\n",
    "- age\n",
    "- gender\n",
    "- phone\n",
    "- address\n",
    "- email  \n",
    "  And provide functions to `describe`,`eat`, `sleep`,`drink`,etc.\n"
   ]
  },
  {
   "cell_type": "code",
   "execution_count": 17,
   "metadata": {},
   "outputs": [],
   "source": [
    "class Student:\n",
    "    gender = None\n",
    "    phone = None\n",
    "    address = None\n",
    "    email = None\n",
    "    \n",
    "    def __init__(self,name,age):\n",
    "        self.name = name\n",
    "        self.age = age\n",
    "        \n",
    "    @property\n",
    "    def email(self):\n",
    "        return self.__email\n",
    "    \n",
    "    @email.setter\n",
    "    def email(self,value):\n",
    "        if('@' not in value):\n",
    "            raise ValueError('It is not a email address')\n",
    "        self.__email = value\n",
    "        \n",
    "    def eat(self,things):\n",
    "        print('Student %s is eating %s' %(self.name,things))\n",
    "        \n",
    "    def sleep(self):\n",
    "        print('Student %s is sleeping!')"
   ]
  },
  {
   "cell_type": "code",
   "execution_count": 18,
   "metadata": {},
   "outputs": [
    {
     "name": "stdout",
     "output_type": "stream",
     "text": [
      "Student Anna is eating burger\n"
     ]
    }
   ],
   "source": [
    "a = Student('Anna',14)\n",
    "b = Student('Betty',15)\n",
    "c = Student('Carrolin',15)\n",
    "d = Student('Dick',16)\n",
    "\n",
    "a.eat('burger')"
   ]
  },
  {
   "cell_type": "code",
   "execution_count": 19,
   "metadata": {},
   "outputs": [],
   "source": [
    "a.email = '12345678@gmail.com'\n",
    "a.address  = 'NewYork'\n",
    "b.email = '987654321@utdallas.edu'\n",
    "b.address = 'Texas'\n",
    "c.email = '7539514682@yahoo.com'\n",
    "c.address = 'Chicago'\n",
    "d.email = '147896352@163.com'\n",
    "c.address = 'Ohio'"
   ]
  },
  {
   "cell_type": "code",
   "execution_count": 20,
   "metadata": {},
   "outputs": [
    {
     "ename": "ValueError",
     "evalue": "It is not a email address",
     "output_type": "error",
     "traceback": [
      "\u001b[1;31m---------------------------------------------------------------------------\u001b[0m",
      "\u001b[1;31mValueError\u001b[0m                                Traceback (most recent call last)",
      "Cell \u001b[1;32mIn[20], line 1\u001b[0m\n\u001b[1;32m----> 1\u001b[0m \u001b[43ma\u001b[49m\u001b[38;5;241;43m.\u001b[39;49m\u001b[43memail\u001b[49m \u001b[38;5;241m=\u001b[39m \u001b[38;5;124m'\u001b[39m\u001b[38;5;124m12345678\u001b[39m\u001b[38;5;124m'\u001b[39m\n",
      "Cell \u001b[1;32mIn[17], line 18\u001b[0m, in \u001b[0;36mStudent.email\u001b[1;34m(self, value)\u001b[0m\n\u001b[0;32m     15\u001b[0m \u001b[38;5;129m@email\u001b[39m\u001b[38;5;241m.\u001b[39msetter\n\u001b[0;32m     16\u001b[0m \u001b[38;5;28;01mdef\u001b[39;00m \u001b[38;5;21memail\u001b[39m(\u001b[38;5;28mself\u001b[39m,value):\n\u001b[0;32m     17\u001b[0m     \u001b[38;5;28;01mif\u001b[39;00m(\u001b[38;5;124m'\u001b[39m\u001b[38;5;124m@\u001b[39m\u001b[38;5;124m'\u001b[39m \u001b[38;5;129;01mnot\u001b[39;00m \u001b[38;5;129;01min\u001b[39;00m value):\n\u001b[1;32m---> 18\u001b[0m         \u001b[38;5;28;01mraise\u001b[39;00m \u001b[38;5;167;01mValueError\u001b[39;00m(\u001b[38;5;124m'\u001b[39m\u001b[38;5;124mIt is not a email address\u001b[39m\u001b[38;5;124m'\u001b[39m)\n\u001b[0;32m     19\u001b[0m     \u001b[38;5;28mself\u001b[39m\u001b[38;5;241m.\u001b[39m__email \u001b[38;5;241m=\u001b[39m value\n",
      "\u001b[1;31mValueError\u001b[0m: It is not a email address"
     ]
    }
   ],
   "source": [
    "a.email = '12345678'"
   ]
  },
  {
   "cell_type": "markdown",
   "metadata": {},
   "source": [
    "### 8.2 Create a address book list of the students instance\n",
    "\n",
    "Could do the query through name, email, and address variables.\n"
   ]
  },
  {
   "cell_type": "code",
   "execution_count": 21,
   "metadata": {},
   "outputs": [],
   "source": [
    "add_book = [a,b,c,d]\n",
    "def Student_query(q_variable,q_property,add_book):\n",
    "    variable_lst = ['name','email','address']\n",
    "    if q_variable not in variable_lst:\n",
    "        raise ValueError('Please use one of name,email and address to do the query!')\n",
    "    for student in add_book:\n",
    "        if getattr(student,q_variable) == q_property:\n",
    "            print('Find it, the student named %s' %student.name)\n",
    "            return student\n",
    "            break\n",
    "    print('Sorry, we could not find it')"
   ]
  },
  {
   "cell_type": "code",
   "execution_count": 22,
   "metadata": {},
   "outputs": [
    {
     "name": "stdout",
     "output_type": "stream",
     "text": [
      "Find it, the student named Carrolin\n"
     ]
    },
    {
     "data": {
      "text/plain": [
       "<__main__.Student at 0x1c4c0cf1810>"
      ]
     },
     "execution_count": 22,
     "metadata": {},
     "output_type": "execute_result"
    }
   ],
   "source": [
    "Student_query('address','Ohio',add_book)"
   ]
  },
  {
   "cell_type": "code",
   "execution_count": 23,
   "metadata": {},
   "outputs": [
    {
     "name": "stdout",
     "output_type": "stream",
     "text": [
      "Sorry, we could not find it\n"
     ]
    }
   ],
   "source": [
    "Student_query('address','Ohio1',add_book)"
   ]
  },
  {
   "cell_type": "markdown",
   "metadata": {},
   "source": [
    "####\n"
   ]
  }
 ],
 "metadata": {
  "kernelspec": {
   "display_name": "mybase",
   "language": "python",
   "name": "python3"
  },
  "language_info": {
   "codemirror_mode": {
    "name": "ipython",
    "version": 3
   },
   "file_extension": ".py",
   "mimetype": "text/x-python",
   "name": "python",
   "nbconvert_exporter": "python",
   "pygments_lexer": "ipython3",
   "version": "3.11.4"
  }
 },
 "nbformat": 4,
 "nbformat_minor": 2
}
