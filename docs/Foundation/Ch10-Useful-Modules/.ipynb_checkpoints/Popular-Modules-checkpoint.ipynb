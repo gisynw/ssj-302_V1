{
 "cells": [
  {
   "cell_type": "markdown",
   "metadata": {},
   "source": [
    "# Popular Modules in Python"
   ]
  },
  {
   "cell_type": "markdown",
   "metadata": {},
   "source": [
    "## 1. `sys` Module\n",
    "* `sys.argv`: get parameters from command line, `sys.argv\\[0\\]` represents python program, so `sys.arg\\[1\\]` means the first input parameter \n",
    "* `sys.exit()`: raise a `SystemExit` error to exit program, but when put it in to `try` sections, the `finally` sections would also be excuted\n",
    "* `sys.executable`: return the store path of the interpreter of Python\n",
    "* `sys.getrefcount(object)`: return the reference times of a object, when it comes to 0, the system would recover the object\n",
    "* `sys.path`: the basic path for searching modules in python, similar to system enviorment, could append"
   ]
  },
  {
   "cell_type": "code",
   "execution_count": 1,
   "metadata": {},
   "outputs": [
    {
     "name": "stdout",
     "output_type": "stream",
     "text": [
      "Endianness: little\n",
      "Copy rights \n",
      "Copyright (c) 2001-2019 Python Software Foundation.\n",
      "All Rights Reserved.\n",
      "\n",
      "Copyright (c) 2000 BeOpen.com.\n",
      "All Rights Reserved.\n",
      "\n",
      "Copyright (c) 1995-2001 Corporation for National Research Initiatives.\n",
      "All Rights Reserved.\n",
      "\n",
      "Copyright (c) 1991-1995 Stichting Mathematisch Centrum, Amsterdam.\n",
      "All Rights Reserved.\n",
      "The path of the interpreter E:\\Anaconda\\python.exe\n",
      "Encoding style: utf-8\n",
      "The platform: win32\n",
      "The version of the interpreter 3.7.6 (default, Jan  8 2020, 20:23:39) [MSC v.1916 64 bit (AMD64)]\n"
     ]
    }
   ],
   "source": [
    "import sys\n",
    "print('Endianness:',sys.byteorder)\n",
    "print('Copy rights \\n'+ sys.copyright)\n",
    "print('The path of the interpreter',sys.executable)\n",
    "print('Encoding style:',sys.getfilesystemencoding())\n",
    "print('The platform:',sys.platform)\n",
    "print('The version of the interpreter',sys.version)"
   ]
  },
  {
   "cell_type": "markdown",
   "metadata": {},
   "source": [
    "### 1.1 Get arguments from the command line\n",
    "* `sys.argv`: get parameters from command line, `sys.argv\\[0\\]` represents python program, so `sys.arg\\[1\\]` means the first input parameter "
   ]
  },
  {
   "cell_type": "code",
   "execution_count": 2,
   "metadata": {},
   "outputs": [
    {
     "data": {
      "text/plain": [
       "CompletedProcess(args=['python', 'argv_test.py'], returncode=0)"
      ]
     },
     "execution_count": 2,
     "metadata": {},
     "output_type": "execute_result"
    }
   ],
   "source": [
    "import subprocess\n",
    "subprocess.run(['python','argv_test.py'])"
   ]
  },
  {
   "cell_type": "code",
   "execution_count": 3,
   "metadata": {},
   "outputs": [
    {
     "name": "stdout",
     "output_type": "stream",
     "text": [
      "0\n"
     ]
    }
   ],
   "source": [
    "import subprocess\n",
    "arg_lst = subprocess.run(['python','argv_test.py','Python','Swift'])\n",
    "print(arg_lst.returncode)"
   ]
  },
  {
   "cell_type": "markdown",
   "metadata": {},
   "source": [
    "### 1.2 Chage the module loading path\n",
    "* `sys.path`: the basic path for searching modules in python, similar to system enviorment, could append"
   ]
  },
  {
   "cell_type": "code",
   "execution_count": 4,
   "metadata": {},
   "outputs": [],
   "source": [
    "import sys\n",
    "sys.path.append(r'F:\\COV19\\Script\\POI_DataProcessing')\n",
    "import SafeGraph"
   ]
  },
  {
   "cell_type": "markdown",
   "metadata": {},
   "source": [
    "##  2.`os` Module\n",
    "* `os.name` : return the name of the replied operation system\n",
    "* `os.environ`: return the dictionary consisted of enviroments parameters\n",
    "* `os.getpid()`: get the current process id\n",
    "* `os.getppid()`: get the parent process id\n",
    "* `os.putenv(key,value)`: add a enviroment parameter\n",
    "* `os.cpu_count()`: get the number of cpu\n",
    "* `os.linesep`: get the line space characters"
   ]
  },
  {
   "cell_type": "code",
   "execution_count": 5,
   "metadata": {},
   "outputs": [
    {
     "name": "stdout",
     "output_type": "stream",
     "text": [
      "Name of operation system nt\n",
      "None\n",
      "User name yyang\n",
      "Cpu Number 16\n",
      "Line space Symbol \r\n",
      "\n"
     ]
    }
   ],
   "source": [
    "import os\n",
    "print('Name of operation system', os.name)\n",
    "print(os.getenv('PYTHONPATH'))\n",
    "print('User name',os.getlogin())\n",
    "# print('Current ID',os.getpgid())\n",
    "# print('Parent ID',os.getppid())\n",
    "print('Cpu Number',os.cpu_count())\n",
    "print('Line space Symbol',os.linesep)"
   ]
  },
  {
   "cell_type": "markdown",
   "metadata": {},
   "source": [
    "### 2.1 Process manipulating\n",
    "* `os.forkpty()` fork one sub-process\n",
    "* `os.kill(pid,sig)` : send `sig` signal to `pid` process, and end it\n",
    "* `os.popen(cmd,model = 'r',buffering  = -1)`: open a read pipe in the command line, `model = 'rw'` means read and write\n",
    "* `os.startfile(path[,operation])` : use defult program to open files\n",
    "* `os.system(command)` : similar to command line"
   ]
  },
  {
   "cell_type": "code",
   "execution_count": 6,
   "metadata": {},
   "outputs": [],
   "source": [
    "import os\n",
    "# os.system('python argv_test.py Python')\n",
    "# Open files with the default program\n",
    "os.startfile(r'G:\\Books\\Crazy-With-Python\\README.md')"
   ]
  },
  {
   "cell_type": "code",
   "execution_count": 7,
   "metadata": {},
   "outputs": [],
   "source": [
    "# os.execl(r'E:\\Anaconda\\python.exe',' ','os_test.py','i')"
   ]
  },
  {
   "cell_type": "code",
   "execution_count": 8,
   "metadata": {},
   "outputs": [
    {
     "name": "stdout",
     "output_type": "stream",
     "text": [
      "Help on function execl in module os:\n",
      "\n",
      "execl(file, *args)\n",
      "    execl(file, *args)\n",
      "    \n",
      "    Execute the executable file with argument list args, replacing the\n",
      "    current process.\n",
      "\n"
     ]
    }
   ],
   "source": [
    "help(os.execl)"
   ]
  },
  {
   "cell_type": "markdown",
   "metadata": {},
   "source": [
    "## 3. `random` Module\n",
    "* `random.seed(a =None, version = 2)`\n",
    "* `random.randrange(start,stop[,step])`\n",
    "* `random.randint(a,b)`\n",
    "* `random.choice(seq)`\n",
    "* `random.choice(seq,weights = None, *,cum_weights = None, k=1)`\n",
    "* `random.shuffle(x[,random])`: reset the index of `x` sequence\n",
    "* `random.sample(population,k)`: get k samples from the population\n",
    "* `random.uniform(a,b)`\n",
    "* `random.expovariate(lambd)`"
   ]
  },
  {
   "cell_type": "code",
   "execution_count": 9,
   "metadata": {},
   "outputs": [
    {
     "name": "stdout",
     "output_type": "stream",
     "text": [
      "0.0 <=x < 1.0 0.8950745816408237\n",
      "2.5 <= x < 10.0 9.628823797952816\n",
      "exponent variable: 3.1333380216263222\n",
      "0~9 2\n",
      "0~100 30\n",
      "Get an random choice: Python\n",
      "Reset order None\n",
      "Get 4 samples from a sequence [70, 30, 10, 60]\n"
     ]
    }
   ],
   "source": [
    "import random\n",
    "print('0.0 <=x < 1.0', random.random())\n",
    "print('2.5 <= x < 10.0', random.uniform(2.5,10.0))\n",
    "print('exponent variable:',random.expovariate(1/5))\n",
    "print('0~9',random.randrange(10))\n",
    "print('0~100',random.randrange(0,101,2))\n",
    "print('Get an random choice:',random.choice(['Python','Swift','Kotlin']))\n",
    "print('Reset order',random.shuffle(['Python','Swift','Kotlin']))\n",
    "print('Get 4 samples from a sequence',random.sample([10,20,30,40,50,60,70,80,90],k=4))"
   ]
  },
  {
   "cell_type": "markdown",
   "metadata": {},
   "source": [
    "## 4. `time` Module\n",
    "It offers a object named `time.struct_time`, it has 9 common used properties, including\n",
    "* `tm_year`\n",
    "* `tm_mon` : 1~12\n",
    "* `tm_mday`: 1~31\n",
    "* `tm_hour`: 0~23\n",
    "* `tm_min`: 0~59\n",
    "* `tm_sec`: 0~59\n",
    "* `tm_wday`: 0~6\n",
    "* `tm_yday`: 1~366\n",
    "* `tm_isdst`: if it is summer time, from \\[0,1,-1\\]"
   ]
  },
  {
   "cell_type": "markdown",
   "metadata": {},
   "source": [
    "In addition, it also has the following common used functions\n",
    "* `time.gmtime([secs])`: transfer seconds to a `sturct_time` object, if no parameter, would use the current time\n",
    "* `time.localtime([secs])`:\n",
    "* `time.mktime(t)`:\n",
    "* `time.process_time()`: How many seconds of CPU are used\n",
    "* `time.sleep(secs)`\n",
    "* `time.timezone`: return the time offset, based on seconds\n",
    "* `time.tzname`: return the time zone name\n",
    "* `time.strptime(string[,format])`: transfer string to a `sturct_time` object\n",
    "* `time.strftime(format[,t])`: transfer a `sturct_time` object or a time tuple to string "
   ]
  },
  {
   "cell_type": "code",
   "execution_count": 10,
   "metadata": {},
   "outputs": [
    {
     "name": "stdout",
     "output_type": "stream",
     "text": [
      "Current time, Mon Jun 15 10:55:44 2020\n",
      "time.struct_time(tm_year=2020, tm_mon=6, tm_mday=15, tm_hour=15, tm_min=55, tm_sec=44, tm_wday=0, tm_yday=167, tm_isdst=0)\n",
      "0.6875\n",
      "Current time to string 2020-06-15 10:55:44\n",
      "Time offset 1592236544.965894\n",
      "Time zone: 21600\n"
     ]
    }
   ],
   "source": [
    "import time\n",
    "print('Current time,',time.asctime())\n",
    "# Transfer to sturct_time\n",
    "print(time.gmtime())\n",
    "print(time.process_time())\n",
    "print('Current time to string',time.strftime('%Y-%m-%d %H:%M:%S'))\n",
    "print('Time offset',time.time())\n",
    "print('Time zone:',time.timezone)"
   ]
  },
  {
   "cell_type": "markdown",
   "metadata": {},
   "source": [
    "## 5. `Json`\n",
    "Full name is JavaScript Object Notation. It is a commonly used data transfer format, just like XML   \n",
    "Json has two types of format, such as:\n",
    "* key-value: in Python, it refers to `dict`, in C, it is `struct`\n",
    "* sequence: in python, it refers to `list`"
   ]
  },
  {
   "cell_type": "code",
   "execution_count": 11,
   "metadata": {},
   "outputs": [
    {
     "data": {
      "text/plain": [
       "['dump',\n",
       " 'dumps',\n",
       " 'load',\n",
       " 'loads',\n",
       " 'JSONDecoder',\n",
       " 'JSONDecodeError',\n",
       " 'JSONEncoder']"
      ]
     },
     "execution_count": 11,
     "metadata": {},
     "output_type": "execute_result"
    }
   ],
   "source": [
    "import json\n",
    "json.__all__"
   ]
  },
  {
   "cell_type": "markdown",
   "metadata": {},
   "source": [
    "### 5.1 Create a `Json` object\n",
    "Transfer Python object to JSON\n",
    "* dumps()\n",
    "* dump()"
   ]
  },
  {
   "cell_type": "code",
   "execution_count": 12,
   "metadata": {},
   "outputs": [
    {
     "name": "stdout",
     "output_type": "stream",
     "text": [
      "[\"yeeku\", {\"favorite\": [\"coding\", null, \"game\", 25]}]\n"
     ]
    }
   ],
   "source": [
    "s = json.dumps(['yeeku',{'favorite' : ('coding',None,'game',25)}])\n",
    "print(s)"
   ]
  },
  {
   "cell_type": "code",
   "execution_count": 13,
   "metadata": {},
   "outputs": [
    {
     "name": "stdout",
     "output_type": "stream",
     "text": [
      "{\"a\": 0, \"b\": 0, \"c\": 0}\n"
     ]
    }
   ],
   "source": [
    "# Transfer dict to json\n",
    "s1 = json.dumps({'c':0,\"b\":0,\"a\":0},sort_keys=True)\n",
    "print(s1)"
   ]
  },
  {
   "cell_type": "code",
   "execution_count": 14,
   "metadata": {},
   "outputs": [
    {
     "name": "stdout",
     "output_type": "stream",
     "text": [
      "[1, 2, 3, {\"x\": 5, \"y\": 7}]\n"
     ]
    }
   ],
   "source": [
    "s2 = json.dumps([1,2,3,{'x':5,'y':7}])\n",
    "print(s2)"
   ]
  },
  {
   "cell_type": "markdown",
   "metadata": {},
   "source": [
    "**Use the `separators`**"
   ]
  },
  {
   "cell_type": "code",
   "execution_count": 15,
   "metadata": {},
   "outputs": [
    {
     "name": "stdout",
     "output_type": "stream",
     "text": [
      "[1,2,3,{\"x\":5,\"y\":7}]\n"
     ]
    }
   ],
   "source": [
    "# Transfer list to json\n",
    "s2 = json.dumps([1,2,3,{'x':5,'y':7}],separators=(',',':'))\n",
    "print(s2)"
   ]
  },
  {
   "cell_type": "markdown",
   "metadata": {},
   "source": [
    "**Use `json.dump` to export output into a JSON file**"
   ]
  },
  {
   "cell_type": "code",
   "execution_count": 16,
   "metadata": {},
   "outputs": [],
   "source": [
    "f = open('a.json','w')\n",
    "json.dump(['kotlin',{'Python':'excellent'}],f)"
   ]
  },
  {
   "cell_type": "markdown",
   "metadata": {},
   "source": [
    "### 5.2 Transfer JSON to Python object\n",
    "* load()\n",
    "* loads()"
   ]
  },
  {
   "cell_type": "code",
   "execution_count": 17,
   "metadata": {},
   "outputs": [
    {
     "name": "stdout",
     "output_type": "stream",
     "text": [
      "['yeeku', {'favorite': ['coding', None, 'game', 25]}]\n"
     ]
    }
   ],
   "source": [
    "resultl = json.loads('[\"yeeku\", {\"favorite\" : [ \"coding\", null,\"game\", 25]}]')\n",
    "print(resultl)"
   ]
  },
  {
   "cell_type": "code",
   "execution_count": 18,
   "metadata": {},
   "outputs": [
    {
     "name": "stdout",
     "output_type": "stream",
     "text": [
      "['kotlin', {'Python': 'excellent'}]\n"
     ]
    }
   ],
   "source": [
    "# Read JSON file\n",
    "f = open('a.json')\n",
    "result2 = json.load(f)\n",
    "print(result2)"
   ]
  }
 ],
 "metadata": {
  "kernelspec": {
   "display_name": "Python 3",
   "language": "python",
   "name": "python3"
  },
  "language_info": {
   "codemirror_mode": {
    "name": "ipython",
    "version": 3
   },
   "file_extension": ".py",
   "mimetype": "text/x-python",
   "name": "python",
   "nbconvert_exporter": "python",
   "pygments_lexer": "ipython3",
   "version": "3.7.6"
  }
 },
 "nbformat": 4,
 "nbformat_minor": 4
}
