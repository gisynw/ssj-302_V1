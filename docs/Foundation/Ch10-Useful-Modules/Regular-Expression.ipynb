{
 "cells": [
  {
   "cell_type": "markdown",
   "metadata": {},
   "source": [
    "# Regular Expression\n",
    "A regular expression (shortened as regex or regexp;also referred to as rational expression) is a sequence of characters that define a search pattern. Usually such patterns are used by string searching algorithms for \"find\" or \"find and replace\" operations on strings, or for input validation. It is a technique developed in theoretical computer science and formal language theory."
   ]
  },
  {
   "cell_type": "code",
   "execution_count": 1,
   "metadata": {},
   "outputs": [
    {
     "data": {
      "text/plain": [
       "['match',\n",
       " 'fullmatch',\n",
       " 'search',\n",
       " 'sub',\n",
       " 'subn',\n",
       " 'split',\n",
       " 'findall',\n",
       " 'finditer',\n",
       " 'compile',\n",
       " 'purge',\n",
       " 'template',\n",
       " 'escape',\n",
       " 'error',\n",
       " 'Pattern',\n",
       " 'Match',\n",
       " 'A',\n",
       " 'I',\n",
       " 'L',\n",
       " 'M',\n",
       " 'S',\n",
       " 'X',\n",
       " 'U',\n",
       " 'ASCII',\n",
       " 'IGNORECASE',\n",
       " 'LOCALE',\n",
       " 'MULTILINE',\n",
       " 'DOTALL',\n",
       " 'VERBOSE',\n",
       " 'UNICODE']"
      ]
     },
     "execution_count": 1,
     "metadata": {},
     "output_type": "execute_result"
    }
   ],
   "source": [
    "import re\n",
    "re.__all__"
   ]
  },
  {
   "cell_type": "markdown",
   "metadata": {},
   "source": [
    "## 1.1 Regular Expression in Python\n",
    "* `re.compile(pattern,flags = 0)`: compile a regular string to a `_sre.SRE_Pattern` object, which used in the computer memory\n",
    "* `x.search(compiled_str)`: is same to `re.search(target_str, orign_str)`\n",
    "* `re.match(pattern,string,flags =0)`\n",
    "    -`.span` -`.group`\n",
    "    \n",
    "**`match` must start from the first character, `search` could start from the middle part**"
   ]
  },
  {
   "cell_type": "code",
   "execution_count": 2,
   "metadata": {},
   "outputs": [
    {
     "data": {
      "text/plain": [
       "<re.Match object; span=(4, 7), match='abc'>"
      ]
     },
     "execution_count": 2,
     "metadata": {},
     "output_type": "execute_result"
    }
   ],
   "source": [
    "p = re.compile('abc')\n",
    "p.search('www.abc.com')"
   ]
  },
  {
   "cell_type": "code",
   "execution_count": 3,
   "metadata": {},
   "outputs": [
    {
     "data": {
      "text/plain": [
       "<re.Match object; span=(4, 7), match='abc'>"
      ]
     },
     "execution_count": 3,
     "metadata": {},
     "output_type": "execute_result"
    }
   ],
   "source": [
    "re.search('abc','www.abc.com')"
   ]
  },
  {
   "cell_type": "code",
   "execution_count": 4,
   "metadata": {},
   "outputs": [
    {
     "name": "stdout",
     "output_type": "stream",
     "text": [
      "(0, 3)\n",
      "www\n"
     ]
    }
   ],
   "source": [
    "m1 = re.match('www','www.fkit.org')\n",
    "print(m1.span()) # return the location of matched item\n",
    "print(m1.group()) # return what is matched"
   ]
  },
  {
   "cell_type": "code",
   "execution_count": 5,
   "metadata": {},
   "outputs": [
    {
     "name": "stdout",
     "output_type": "stream",
     "text": [
      "None\n",
      "<re.Match object; span=(4, 8), match='fkit'>\n",
      "<re.Match object; span=(0, 3), match='www'>\n"
     ]
    }
   ],
   "source": [
    "print(re.match('fkit','www.fkit.com')) # search from the start position\n",
    "print(re.search('fkit','www.fkit.com')) # search from the middle part\n",
    "print(re.search('www','www.fkit.com'))"
   ]
  },
  {
   "cell_type": "markdown",
   "metadata": {},
   "source": [
    "**Other commonly used functions**\n",
    "* `re.findall(pattern,string,flags = 0)` : return a list contains all string matched with the pattern.\n",
    "* `re.finditer(pattern,string,flags = 0)`: same to the pervious fuction but return a iterator"
   ]
  },
  {
   "cell_type": "code",
   "execution_count": 6,
   "metadata": {},
   "outputs": [
    {
     "name": "stdout",
     "output_type": "stream",
     "text": [
      "[]\n",
      "['FKIT', 'Fkit']\n"
     ]
    }
   ],
   "source": [
    "print(re.findall('fkit','FKIT is very good, Fkit.org is my favorite'))\n",
    "# Ignore the upper-case and lower-case\n",
    "print(re.findall('fkit','FKIT is very good, Fkit.org is my favorite',re.I))"
   ]
  },
  {
   "cell_type": "code",
   "execution_count": 7,
   "metadata": {},
   "outputs": [
    {
     "name": "stdout",
     "output_type": "stream",
     "text": [
      "(0, 4)-->FKIT\n",
      "(19, 23)-->Fkit\n"
     ]
    }
   ],
   "source": [
    "it = re.finditer('fkit','FKIT is very good, Fkit.org is my favorite',re.I)\n",
    "for e in it:\n",
    "    print(str(e.span()) + '-->' + e.group())"
   ]
  },
  {
   "cell_type": "markdown",
   "metadata": {},
   "source": [
    "**Other commonly used functions**\n",
    "* `re.fullmatch(pattern,string,flags = 0)` : require a full match string, if not return None\n",
    "* `re.sub(pattern,repl,string,count = 0, flags = 0)`: substitute pattern within a string using repl, allow `count` times replace\n",
    "* `re.split(pattern,string,maxsplit = 0, flags = 0)`: use pattren to split string"
   ]
  },
  {
   "cell_type": "code",
   "execution_count": 8,
   "metadata": {},
   "outputs": [
    {
     "name": "stdout",
     "output_type": "stream",
     "text": [
      "2008/08-18\n"
     ]
    }
   ],
   "source": [
    "import re\n",
    "my_date = '2008-08-18'\n",
    "print(re.sub(r'-','/',count =1,string = my_date))"
   ]
  },
  {
   "cell_type": "code",
   "execution_count": 9,
   "metadata": {},
   "outputs": [
    {
     "name": "stdout",
     "output_type": "stream",
     "text": [
      "['fkit', 'fkjava,crazyit']\n",
      "['fkit', 'fkjava', 'crazyit']\n",
      "['fkit,fkj', 'v', ',cr', 'zyit']\n",
      "['fkit,fkjava,crazyit']\n"
     ]
    }
   ],
   "source": [
    "print(re.split(',','fkit,fkjava,crazyit',1))\n",
    "print(re.split(',','fkit,fkjava,crazyit'))\n",
    "print(re.split('a','fkit,fkjava,crazyit',))\n",
    "print(re.split('x','fkit,fkjava,crazyit',1)) # No x character, so would return the origin list"
   ]
  },
  {
   "cell_type": "markdown",
   "metadata": {},
   "source": [
    "### There are two major classes in `re` module, one is the `complie` function returned  `_sre.SRE_Pattern` object, the other one is `match` returned match object\n",
    "`_sre.SRE_Pattern` object has the following properties\n",
    "* `match.group` : get the matched string\n",
    "* `match.groups(default = None)` : return a tuple contains the matched string\n",
    "* `match.groupdict(default = None)`: return a dict contains all the matched string\n",
    "* `match.start()`\n",
    "* `match.end()`\n",
    "* `match.span()`\n",
    "* `match.re` return the using patterns\n",
    "* `match.string` return the using strings(origin)"
   ]
  },
  {
   "cell_type": "code",
   "execution_count": 10,
   "metadata": {},
   "outputs": [
    {
     "name": "stdout",
     "output_type": "stream",
     "text": [
      "(4, 8)\n",
      "None 4 6\n",
      "(4, 8)\n"
     ]
    }
   ],
   "source": [
    "pa = re.compile('fkit')\n",
    "print(pa.match('www.fkit.org',4).span()) # start search from 4\n",
    "print(pa.match('www.fkit.org'),4,6) # start from 4 and end at 6\n",
    "print(pa.fullmatch('www.fkit.org',4,8).span())"
   ]
  },
  {
   "cell_type": "code",
   "execution_count": 11,
   "metadata": {},
   "outputs": [
    {
     "name": "stdout",
     "output_type": "stream",
     "text": [
      "fkit.org\n",
      "fkit.org\n",
      "fkit\n",
      "(4, 12)\n",
      "(4, 8)\n",
      "fkit\n",
      "org\n",
      "('fkit', 'org')\n"
     ]
    }
   ],
   "source": [
    "m = re.search(r'(fkit).(org)',r'www.fkit.org is a good domain')\n",
    "print(m.group(0))\n",
    "print(m[0])\n",
    "print(m[1])\n",
    "print(m.span(0))\n",
    "print(m.span(1))\n",
    "print(m.group(1))\n",
    "print(m.group(2))\n",
    "print(m.groups())"
   ]
  },
  {
   "cell_type": "markdown",
   "metadata": {},
   "source": [
    "**In the regular expression, could use `?P<name>` to set a name for each group**"
   ]
  },
  {
   "cell_type": "code",
   "execution_count": 12,
   "metadata": {},
   "outputs": [
    {
     "name": "stdout",
     "output_type": "stream",
     "text": [
      "{'prefix': 'fkit', 'suffix': 'org'}\n",
      "www.fkit.org os a good domain\n",
      "re.compile('(?P<prefix>fkit).(?P<suffix>org)')\n"
     ]
    }
   ],
   "source": [
    "m2 = re.search(r'(?P<prefix>fkit).(?P<suffix>org)',\\\n",
    "              r\"www.fkit.org os a good domain\")\n",
    "print(m2.groupdict())\n",
    "print(m2.string)\n",
    "print(m2.re)"
   ]
  },
  {
   "cell_type": "markdown",
   "metadata": {},
   "source": [
    "## 1.2 `flag` in regular expression\n",
    "* `re.A` or `re.ASCII`: only search the ASCII characters, (`?a`)\n",
    "* `re.DEBUG`: shows the debug info in the regular expression\n",
    "* `re.I` or `re.IGNORECASE`: not case sensitive (`?i`)"
   ]
  },
  {
   "cell_type": "code",
   "execution_count": 13,
   "metadata": {},
   "outputs": [
    {
     "data": {
      "text/plain": [
       "['FKIT', 'FKIT']"
      ]
     },
     "execution_count": 13,
     "metadata": {},
     "output_type": "execute_result"
    }
   ],
   "source": [
    "re.findall(r'fkit','FKIT is a good domain, FKIT is good')\n",
    "re.findall(r'fkit','FKIT is a good domain, FKIT is good',re.I)"
   ]
  },
  {
   "cell_type": "markdown",
   "metadata": {},
   "source": [
    "## 1.3 Create regular expression\n",
    "* `x`: stands for any character\n",
    "* `\\r`: stands for enter (similar to line break)\n",
    "* `\\f` : stands for page break\n",
    "* `\\n`: stands for line break\n",
    "* `$`: in the end \n",
    "* `^`: in the begining\n",
    "* `()`: set a group and their start and end position\n",
    "* `[]`: similar to `()`\n",
    "* `{}`: set the times for the front regular expression\n",
    "* `*`: shows 0~n times\n",
    "* `+`: shows 1~n times\n",
    "* `?`: shows 0~1 times\n",
    "* `.` stands for all characters instead of `\\n`, unless you use `re.S` or `s.DOTALL` flag\n",
    "* `\\d` : number 0~9\n",
    "* `\\D` : non-numeric\n",
    "* `\\s` : all blank, including space, line break, table symbol, page break, etc.\n",
    "* `\\S` : any non-blank symbol\n",
    "* `\\w` : all character, including number 0-9, 26 english characters, and `_`\n",
    "* `\\W` : non-character"
   ]
  },
  {
   "cell_type": "code",
   "execution_count": 14,
   "metadata": {},
   "outputs": [
    {
     "data": {
      "text/plain": [
       "<re.Match object; span=(0, 12), match='789-123-8888'>"
      ]
     },
     "execution_count": 14,
     "metadata": {},
     "output_type": "execute_result"
    }
   ],
   "source": [
    "# find a phone number\n",
    "re.fullmatch(r'\\d\\d\\d-\\d\\d\\d-\\d\\d\\d\\d','789-123-8888')"
   ]
  },
  {
   "cell_type": "markdown",
   "metadata": {},
   "source": [
    "#### Enumerate method\n",
    "* `[abc]` : means could be any one of {a,b,c}\n",
    "* `[a-f]` : means could be any one of {a,b,c,d,e,f}\n",
    "* `[^abc]`: means could be anyone **not from {a,b,c}**"
   ]
  },
  {
   "cell_type": "markdown",
   "metadata": {},
   "source": [
    "## 1.4 Sub-expression\n",
    "Use `()` to represent a sub-expression, and use `\\ + number` to mark each sub-expression.   \n",
    "For example, in the following test, `\\1` represent the first sub-expression, if it matched with `98`, then the following position must be matched with `98`"
   ]
  },
  {
   "cell_type": "code",
   "execution_count": 15,
   "metadata": {},
   "outputs": [
    {
     "data": {
      "text/plain": [
       "<re.Match object; span=(0, 26), match='Windows 98 published in 98'>"
      ]
     },
     "execution_count": 15,
     "metadata": {},
     "output_type": "execute_result"
    }
   ],
   "source": [
    "re.search(r'Windows (95|98|NT|2000)[\\w ]+\\1', 'Windows 98 published in 98')"
   ]
  },
  {
   "cell_type": "code",
   "execution_count": 16,
   "metadata": {},
   "outputs": [],
   "source": [
    "re.search(r'Windows (95|98|NT|2000)[\\w ]+\\1', 'Windows 98 published in 95')"
   ]
  },
  {
   "cell_type": "markdown",
   "metadata": {},
   "source": [
    "#### In addition, we could use `(?p<name> exp)`  to create a sub-expression\n",
    "* Use `<?P=name>` to call the sub-expression (must be same)"
   ]
  },
  {
   "cell_type": "code",
   "execution_count": 17,
   "metadata": {},
   "outputs": [
    {
     "data": {
      "text/plain": [
       "<re.Match object; span=(0, 11), match='<h3>xx</h3>'>"
      ]
     },
     "execution_count": 17,
     "metadata": {},
     "output_type": "execute_result"
    }
   ],
   "source": [
    "re.search(r'<(?P<tag>\\w+)>\\w+</(?P=tag)>', '<h3>xx</h3>')"
   ]
  },
  {
   "cell_type": "code",
   "execution_count": 18,
   "metadata": {},
   "outputs": [],
   "source": [
    "re.search(r'<(?P<tag>\\w+)>\\w+</(?P=tag)>', '<h3>xx</h2>')"
   ]
  },
  {
   "cell_type": "markdown",
   "metadata": {},
   "source": [
    "#### other important expression type\n",
    "* `(?<=exp)`: the exp must be shown in the left side of the matched content\n",
    "* `(?=exp)`: the exp must be shown in the right side of the matched content\n",
    "* `(?<!exp)`: the exp must not be shown in the left side of the matched content\n",
    "* `(?!exp)`: the exp must not be shown in the right side of the matched content\n",
    "* `(?#comment)`: `?#` means it is a comment"
   ]
  },
  {
   "cell_type": "code",
   "execution_count": 19,
   "metadata": {},
   "outputs": [
    {
     "data": {
      "text/plain": [
       "<re.Match object; span=(10, 25), match='<div>fkit</div>'>"
      ]
     },
     "execution_count": 19,
     "metadata": {},
     "output_type": "execute_result"
    }
   ],
   "source": [
    "re.search(r'(?<=<h1>).+?(?=</h1>)','help! <h1><div>fkit</div></h1>! technology')"
   ]
  },
  {
   "cell_type": "markdown",
   "metadata": {},
   "source": [
    "## 1.5 Greedy model and reluctant model\n",
    "* `*`: 0~n times\n",
    "* `+`: 1~n times\n",
    "* `?`: 0~1 times\n",
    "* `{n,m}`: n~m times\n",
    "* `{n,}`: at least n times\n",
    "* `{,m}`: not more than m times\n",
    "* `{n}`: must shown in n times"
   ]
  },
  {
   "cell_type": "code",
   "execution_count": 20,
   "metadata": {},
   "outputs": [
    {
     "data": {
      "text/plain": [
       "<re.Match object; span=(0, 12), match='789-654-1234'>"
      ]
     },
     "execution_count": 20,
     "metadata": {},
     "output_type": "execute_result"
    }
   ],
   "source": [
    "re.search(r'\\d{3}-\\d{3}-\\d{4}','789-654-1234')"
   ]
  },
  {
   "cell_type": "markdown",
   "metadata": {},
   "source": [
    "**The default search model is greedy model**"
   ]
  },
  {
   "cell_type": "code",
   "execution_count": 21,
   "metadata": {},
   "outputs": [
    {
     "data": {
      "text/plain": [
       "<re.Match object; span=(3, 13), match='@fkit.com.'>"
      ]
     },
     "execution_count": 21,
     "metadata": {},
     "output_type": "execute_result"
    }
   ],
   "source": [
    "re.search(r'@.+\\.','sun@fkit.com.cn')"
   ]
  },
  {
   "cell_type": "markdown",
   "metadata": {},
   "source": [
    "**use `?` to change it to reluctant model**"
   ]
  },
  {
   "cell_type": "code",
   "execution_count": 22,
   "metadata": {},
   "outputs": [
    {
     "data": {
      "text/plain": [
       "<re.Match object; span=(3, 9), match='@fkit.'>"
      ]
     },
     "execution_count": 22,
     "metadata": {},
     "output_type": "execute_result"
    }
   ],
   "source": [
    "re.search(r'@.+?\\.','sun@fkit.com.cn')"
   ]
  }
 ],
 "metadata": {
  "kernelspec": {
   "display_name": "Python 3",
   "language": "python",
   "name": "python3"
  },
  "language_info": {
   "codemirror_mode": {
    "name": "ipython",
    "version": 3
   },
   "file_extension": ".py",
   "mimetype": "text/x-python",
   "name": "python",
   "nbconvert_exporter": "python",
   "pygments_lexer": "ipython3",
   "version": "3.7.6"
  }
 },
 "nbformat": 4,
 "nbformat_minor": 4
}
