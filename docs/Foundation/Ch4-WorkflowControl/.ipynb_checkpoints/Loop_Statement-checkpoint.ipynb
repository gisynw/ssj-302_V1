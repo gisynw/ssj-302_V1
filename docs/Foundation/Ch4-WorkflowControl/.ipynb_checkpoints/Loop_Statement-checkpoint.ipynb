{
 "cells": [
  {
   "cell_type": "markdown",
   "metadata": {},
   "source": [
    "# Loop Statement\n",
    "* init_statements\n",
    "* test_expression\n",
    "* body_statements\n",
    "* iteration_statements"
   ]
  },
  {
   "cell_type": "markdown",
   "metadata": {},
   "source": [
    "## 1.1 While Loop\n",
    "* Could use `while` to build a endless loop"
   ]
  },
  {
   "cell_type": "code",
   "execution_count": 1,
   "metadata": {},
   "outputs": [
    {
     "name": "stdout",
     "output_type": "stream",
     "text": [
      "Count : 0\n",
      "Count : 1\n",
      "Count : 2\n",
      "Count : 3\n",
      "Count : 4\n",
      "Count : 5\n",
      "Count : 6\n",
      "Count : 7\n",
      "Count : 8\n",
      "Count : 9\n",
      "Loop end!\n"
     ]
    }
   ],
   "source": [
    "count_i = 0\n",
    "while count_i < 10:\n",
    "    print('Count :', count_i)\n",
    "    # iteration statements\n",
    "    count_i += 1\n",
    "print('Loop end!')"
   ]
  },
  {
   "cell_type": "markdown",
   "metadata": {},
   "source": [
    "## 1.2 Using while loop to traverse list and tuple"
   ]
  },
  {
   "cell_type": "code",
   "execution_count": 2,
   "metadata": {},
   "outputs": [
    {
     "name": "stdout",
     "output_type": "stream",
     "text": [
      "fkit\n",
      "crazyit\n",
      "Charlie\n"
     ]
    }
   ],
   "source": [
    "a_tuple = ('fkit','crazyit','Charlie')\n",
    "i = 0\n",
    "while i < len(a_tuple):\n",
    "    print(a_tuple[i])\n",
    "    i +=1"
   ]
  },
  {
   "cell_type": "code",
   "execution_count": 4,
   "metadata": {},
   "outputs": [
    {
     "name": "stdout",
     "output_type": "stream",
     "text": [
      "Divisible by three:  [45, 12]\n",
      "Reminder is one:  [109, 100, 13, 34]\n",
      "Reminder is two:  [74, 56, 224]\n"
     ]
    }
   ],
   "source": [
    "src_list = [12,45,34,13,100,224,56,74,109]\n",
    "a_list = []\n",
    "b_list = []\n",
    "c_list = []\n",
    "\n",
    "while len(src_list) >0:\n",
    "    ele = src_list.pop()\n",
    "    if ele % 3 ==0:\n",
    "        a_list.append(ele)\n",
    "    elif ele % 3 == 1:\n",
    "        b_list.append(ele)\n",
    "    else:\n",
    "        c_list.append(ele)\n",
    "\n",
    "print('Divisible by three: ',a_list)\n",
    "print('Reminder is one: ',b_list)\n",
    "print('Reminder is two: ',c_list)"
   ]
  },
  {
   "cell_type": "markdown",
   "metadata": {},
   "source": [
    "## 1.3 `for-in` Loop"
   ]
  },
  {
   "cell_type": "code",
   "execution_count": 5,
   "metadata": {},
   "outputs": [
    {
     "name": "stdout",
     "output_type": "stream",
     "text": [
      "Calculate the factorial of: 9\n",
      "362880\n"
     ]
    }
   ],
   "source": [
    "s_max = input('Calculate the factorial of: ')\n",
    "mx = int(s_max)\n",
    "result = 1 \n",
    "for num in range(1,mx+1):\n",
    "    result *= num\n",
    "print(result)"
   ]
  },
  {
   "cell_type": "code",
   "execution_count": 8,
   "metadata": {},
   "outputs": [],
   "source": [
    "def factorial(n):\n",
    "    if n<= 1:\n",
    "        return n\n",
    "    else:\n",
    "        return n * factorial(n-1)"
   ]
  },
  {
   "cell_type": "code",
   "execution_count": 9,
   "metadata": {},
   "outputs": [
    {
     "data": {
      "text/plain": [
       "362880"
      ]
     },
     "execution_count": 9,
     "metadata": {},
     "output_type": "execute_result"
    }
   ],
   "source": [
    "factorial(9)"
   ]
  },
  {
   "cell_type": "markdown",
   "metadata": {},
   "source": [
    "**Could do this but not recommended!**"
   ]
  },
  {
   "cell_type": "code",
   "execution_count": 11,
   "metadata": {},
   "outputs": [
    {
     "name": "stdout",
     "output_type": "stream",
     "text": [
      "i =  20\n",
      "i =  20\n",
      "i =  20\n",
      "i =  20\n"
     ]
    }
   ],
   "source": [
    "for i in range(1,5):\n",
    "    i = 20\n",
    "    print('i = ',i)"
   ]
  },
  {
   "cell_type": "markdown",
   "metadata": {},
   "source": [
    "## 1.4 Using `for-in` to traverse list and tuple"
   ]
  },
  {
   "cell_type": "code",
   "execution_count": 16,
   "metadata": {},
   "outputs": [
    {
     "name": "stdout",
     "output_type": "stream",
     "text": [
      "ele is: crazyit\n",
      "ele is: fkit\n",
      "ele is: Charlie\n"
     ]
    }
   ],
   "source": [
    "a_tuple = ('crazyit','fkit','Charlie')\n",
    "for ele in a_tuple:\n",
    "    print('ele is:',ele)"
   ]
  },
  {
   "cell_type": "code",
   "execution_count": 17,
   "metadata": {},
   "outputs": [
    {
     "name": "stdout",
     "output_type": "stream",
     "text": [
      "12\n",
      "45\n",
      "3.4\n",
      "13\n",
      "4\n",
      "56\n",
      "109.5\n",
      "Total Sum: 242.9\n",
      "Average: 34.7\n"
     ]
    }
   ],
   "source": [
    "src_list = [12,45,3.4,13,'a',4,56,'crazyit',109.5]\n",
    "my_sum = 0\n",
    "my_count = 0\n",
    "for ele in src_list:\n",
    "    if isinstance(ele,int) or isinstance(ele,float):\n",
    "        print(ele)\n",
    "        my_sum+= ele\n",
    "        my_count+= 1\n",
    "print('Total Sum:',my_sum)\n",
    "print('Average:',my_sum/my_count)"
   ]
  },
  {
   "cell_type": "markdown",
   "metadata": {},
   "source": [
    "## 1.5 Using `for-in` to traverse dictionary"
   ]
  },
  {
   "cell_type": "code",
   "execution_count": 18,
   "metadata": {},
   "outputs": [
    {
     "name": "stdout",
     "output_type": "stream",
     "text": [
      "Key: Literature\n",
      "Values: 89\n",
      "Key: Math\n",
      "Values: 92\n",
      "Key: English\n",
      "Values: 80\n"
     ]
    }
   ],
   "source": [
    "my_dict = {'Literature':89, 'Math':92, 'English':80}\n",
    "for key,value in my_dict.items():\n",
    "    print('Key:',key)\n",
    "    print('Values:',value)"
   ]
  },
  {
   "cell_type": "code",
   "execution_count": 19,
   "metadata": {},
   "outputs": [
    {
     "name": "stdout",
     "output_type": "stream",
     "text": [
      "Key: Literature\n",
      "Key: Math\n",
      "Key: English\n"
     ]
    }
   ],
   "source": [
    "for key in my_dict.keys():\n",
    "    print('Key:',key)"
   ]
  },
  {
   "cell_type": "code",
   "execution_count": 20,
   "metadata": {},
   "outputs": [
    {
     "name": "stdout",
     "output_type": "stream",
     "text": [
      "Values: 89\n",
      "Values: 92\n",
      "Values: 80\n"
     ]
    }
   ],
   "source": [
    "for value in my_dict.values():\n",
    "    print('Values:',value)"
   ]
  },
  {
   "cell_type": "markdown",
   "metadata": {},
   "source": [
    "**Count Vaibles in a list using dictionary**"
   ]
  },
  {
   "cell_type": "code",
   "execution_count": 21,
   "metadata": {},
   "outputs": [
    {
     "name": "stdout",
     "output_type": "stream",
     "text": [
      "12 shows 2 times\n",
      "45 shows 3 times\n",
      "3.4 shows 3 times\n",
      "fkit shows 2 times\n"
     ]
    }
   ],
   "source": [
    "src_list = [12,45,3.4,12,'fkit',45,3.4,'fkit',45,3.4]\n",
    "statistics = {}\n",
    "for ele in src_list:\n",
    "    if ele in statistics:\n",
    "        statistics[ele]+=1\n",
    "    else:\n",
    "        statistics[ele] = 1\n",
    "for ele,count in statistics.items():\n",
    "    print('%s shows %d times'%(ele,count))"
   ]
  },
  {
   "cell_type": "markdown",
   "metadata": {},
   "source": [
    "## 1.6 Using `else` "
   ]
  },
  {
   "cell_type": "code",
   "execution_count": 23,
   "metadata": {},
   "outputs": [
    {
     "name": "stdout",
     "output_type": "stream",
     "text": [
      "count_i < 5: 0\n",
      "count_i < 5: 1\n",
      "count_i < 5: 2\n",
      "count_i < 5: 3\n",
      "count_i < 5: 4\n",
      "count_i >= 5: 5\n"
     ]
    }
   ],
   "source": [
    "count_i = 0\n",
    "while count_i <5:\n",
    "    print('count_i < 5:', count_i) \n",
    "    count_i += 1\n",
    "else:\n",
    "    print('count_i >= 5:', count_i)"
   ]
  },
  {
   "cell_type": "code",
   "execution_count": 24,
   "metadata": {},
   "outputs": [
    {
     "name": "stdout",
     "output_type": "stream",
     "text": [
      "count_i < 5: 0\n",
      "count_i < 5: 1\n",
      "count_i < 5: 2\n",
      "count_i < 5: 3\n",
      "count_i < 5: 4\n",
      "count_i >= 5: 5\n"
     ]
    }
   ],
   "source": [
    "count_i = 0\n",
    "while count_i <5:\n",
    "    print('count_i < 5:', count_i) \n",
    "    count_i += 1\n",
    "print('count_i >= 5:', count_i)"
   ]
  },
  {
   "cell_type": "code",
   "execution_count": 25,
   "metadata": {},
   "outputs": [
    {
     "name": "stdout",
     "output_type": "stream",
     "text": [
      "ele : 330\n",
      "ele : 1.4\n",
      "ele : 50\n",
      "ele : fkit\n",
      "ele : -3.5\n",
      "In the else statement: -3.5\n"
     ]
    }
   ],
   "source": [
    "a_list = [330, 1.4,50,'fkit',-3.5]\n",
    "for ele in a_list:\n",
    "    print('ele :',ele)\n",
    "else:\n",
    "    print('In the else statement:',ele)"
   ]
  },
  {
   "cell_type": "markdown",
   "metadata": {},
   "source": [
    "## 1.7 Nested Loop"
   ]
  },
  {
   "cell_type": "code",
   "execution_count": 26,
   "metadata": {},
   "outputs": [
    {
     "name": "stdout",
     "output_type": "stream",
     "text": [
      "i is 0, j is 0\n",
      "i is 0, j is 1\n",
      "i is 0, j is 2\n",
      "i is 1, j is 0\n",
      "i is 1, j is 1\n",
      "i is 1, j is 2\n",
      "i is 2, j is 0\n",
      "i is 2, j is 1\n",
      "i is 2, j is 2\n",
      "i is 3, j is 0\n",
      "i is 3, j is 1\n",
      "i is 3, j is 2\n",
      "i is 4, j is 0\n",
      "i is 4, j is 1\n",
      "i is 4, j is 2\n"
     ]
    }
   ],
   "source": [
    "for i in range(0,5):\n",
    "    j = 0\n",
    "    while j < 3:\n",
    "        print('i is %d, j is %d' %(i,j))\n",
    "        j+=1"
   ]
  },
  {
   "cell_type": "markdown",
   "metadata": {},
   "source": [
    "## 1.8 `for` expression"
   ]
  },
  {
   "cell_type": "code",
   "execution_count": 27,
   "metadata": {},
   "outputs": [
    {
     "name": "stdout",
     "output_type": "stream",
     "text": [
      "[0, 1, 4, 9, 16, 25, 36, 49, 64, 81]\n"
     ]
    }
   ],
   "source": [
    "a_range = range(10)\n",
    "a_list = [x*x for x in a_range]\n",
    "print(a_list)"
   ]
  },
  {
   "cell_type": "code",
   "execution_count": 28,
   "metadata": {},
   "outputs": [
    {
     "name": "stdout",
     "output_type": "stream",
     "text": [
      "[0, 4, 16, 36, 64]\n"
     ]
    }
   ],
   "source": [
    "b_list = [x*x for x in a_range if x%2 == 0]\n",
    "print(b_list)"
   ]
  },
  {
   "cell_type": "markdown",
   "metadata": {},
   "source": [
    "**Create generator**"
   ]
  },
  {
   "cell_type": "code",
   "execution_count": 36,
   "metadata": {},
   "outputs": [
    {
     "name": "stdout",
     "output_type": "stream",
     "text": [
      "<class 'generator'>\n"
     ]
    }
   ],
   "source": [
    "c_generator = (x*x for x in a_range if x%2 ==0)\n",
    "print(type(c_generator))"
   ]
  },
  {
   "cell_type": "code",
   "execution_count": 37,
   "metadata": {},
   "outputs": [
    {
     "name": "stdout",
     "output_type": "stream",
     "text": [
      "0\t4\t16\t36\t64\t"
     ]
    }
   ],
   "source": [
    "for i in c_generator:\n",
    "    print(i,end='\\t')"
   ]
  },
  {
   "cell_type": "code",
   "execution_count": 38,
   "metadata": {},
   "outputs": [
    {
     "name": "stdout",
     "output_type": "stream",
     "text": [
      "[(0, 0), (0, 1), (0, 2), (0, 3), (1, 0), (1, 1), (1, 2), (1, 3), (2, 0), (2, 1), (2, 2), (2, 3), (3, 0), (3, 1), (3, 2), (3, 3), (4, 0), (4, 1), (4, 2), (4, 3)]\n"
     ]
    }
   ],
   "source": [
    "d_list = [(x,y) for x in range(5) for y in range(4)]\n",
    "print(d_list)"
   ]
  },
  {
   "cell_type": "code",
   "execution_count": 40,
   "metadata": {},
   "outputs": [
    {
     "name": "stdout",
     "output_type": "stream",
     "text": [
      "[[0, 0, 0], [0, 0, 1], [0, 0, 2], [0, 1, 0], [0, 1, 1], [0, 1, 2], [0, 2, 0], [0, 2, 1], [0, 2, 2], [0, 3, 0], [0, 3, 1], [0, 3, 2], [1, 0, 0], [1, 0, 1], [1, 0, 2], [1, 1, 0], [1, 1, 1], [1, 1, 2], [1, 2, 0], [1, 2, 1], [1, 2, 2], [1, 3, 0], [1, 3, 1], [1, 3, 2], [2, 0, 0], [2, 0, 1], [2, 0, 2], [2, 1, 0], [2, 1, 1], [2, 1, 2], [2, 2, 0], [2, 2, 1], [2, 2, 2], [2, 3, 0], [2, 3, 1], [2, 3, 2], [3, 0, 0], [3, 0, 1], [3, 0, 2], [3, 1, 0], [3, 1, 1], [3, 1, 2], [3, 2, 0], [3, 2, 1], [3, 2, 2], [3, 3, 0], [3, 3, 1], [3, 3, 2], [4, 0, 0], [4, 0, 1], [4, 0, 2], [4, 1, 0], [4, 1, 1], [4, 1, 2], [4, 2, 0], [4, 2, 1], [4, 2, 2], [4, 3, 0], [4, 3, 1], [4, 3, 2]]\n"
     ]
    }
   ],
   "source": [
    "e_list = [[x,y,z] for x in range(5) for y in range(4) for z in range(3)]\n",
    "print(e_list)"
   ]
  },
  {
   "cell_type": "code",
   "execution_count": 41,
   "metadata": {},
   "outputs": [
    {
     "name": "stdout",
     "output_type": "stream",
     "text": [
      "[(3, 30), (3, 12), (3, 66), (3, 39), (3, 78), (3, 36), (3, 57), (5, 30), (11, 66), (11, 121)]\n"
     ]
    }
   ],
   "source": [
    "src_a = [30,12,66,34,39,78,36,57,121]\n",
    "src_b = [3,5,7,11]\n",
    "result = [(x,y) for x in src_b for y in src_a if y % x ==0]\n",
    "print(result)"
   ]
  },
  {
   "cell_type": "markdown",
   "metadata": {},
   "source": [
    "## 1.9 Convenience functions\n",
    "* `zip()`\n",
    "* `reversed()`\n",
    "* `sorted()`"
   ]
  },
  {
   "cell_type": "code",
   "execution_count": 42,
   "metadata": {},
   "outputs": [
    {
     "data": {
      "text/plain": [
       "[('a', 1), ('b', 2), ('c', 3)]"
      ]
     },
     "execution_count": 42,
     "metadata": {},
     "output_type": "execute_result"
    }
   ],
   "source": [
    "a = ['a','b','c']\n",
    "b = [1,2,3]\n",
    "[x for x in zip(a,b)]"
   ]
  },
  {
   "cell_type": "code",
   "execution_count": 43,
   "metadata": {},
   "outputs": [
    {
     "data": {
      "text/plain": [
       "[('a', 1, 0.1), ('b', 2, 0.2)]"
      ]
     },
     "execution_count": 43,
     "metadata": {},
     "output_type": "execute_result"
    }
   ],
   "source": [
    "c = [0.1,0.2]\n",
    "[x for x in zip(a,b,c)]"
   ]
  },
  {
   "cell_type": "code",
   "execution_count": 45,
   "metadata": {},
   "outputs": [
    {
     "name": "stdout",
     "output_type": "stream",
     "text": [
      "Java is 79 dollars\n",
      "Python is 69 dollars\n",
      "C++ is 89 dollars\n"
     ]
    }
   ],
   "source": [
    "books= ['Java','Python','C++']\n",
    "prices = [79,69,89]\n",
    "for book,price in zip(books,prices):\n",
    "    print('%s is %d dollars' %(book,price))"
   ]
  },
  {
   "cell_type": "code",
   "execution_count": 46,
   "metadata": {},
   "outputs": [
    {
     "data": {
      "text/plain": [
       "[9, 8, 7, 6, 5, 4, 3, 2, 1, 0]"
      ]
     },
     "execution_count": 46,
     "metadata": {},
     "output_type": "execute_result"
    }
   ],
   "source": [
    "a = range(10)\n",
    "[x for x in reversed(a)]"
   ]
  },
  {
   "cell_type": "code",
   "execution_count": 47,
   "metadata": {},
   "outputs": [
    {
     "data": {
      "text/plain": [
       "[9, 8, 7, 6, 5, 4, 3, 2, 1, 0]"
      ]
     },
     "execution_count": 47,
     "metadata": {},
     "output_type": "execute_result"
    }
   ],
   "source": [
    "[x for x in sorted(a,reverse=True)]"
   ]
  },
  {
   "cell_type": "markdown",
   "metadata": {},
   "source": [
    "## 1.10 Using `break` to end loop\n",
    "**`break` could only end one level loop within a nested model**"
   ]
  },
  {
   "cell_type": "code",
   "execution_count": 48,
   "metadata": {},
   "outputs": [
    {
     "name": "stdout",
     "output_type": "stream",
     "text": [
      "i is: 0\n",
      "i is: 1\n",
      "i is: 2\n"
     ]
    }
   ],
   "source": [
    "for i in range(0,10):\n",
    "    print('i is:',i)\n",
    "    if i == 2:\n",
    "        break"
   ]
  },
  {
   "cell_type": "code",
   "execution_count": 49,
   "metadata": {},
   "outputs": [
    {
     "name": "stdout",
     "output_type": "stream",
     "text": [
      "i is: 0\n",
      "Get into else part\n",
      "i is: 1\n",
      "Get into else part\n",
      "i is: 2\n"
     ]
    }
   ],
   "source": [
    "for i in range(0,10):\n",
    "    print('i is:',i)\n",
    "    if i == 2:\n",
    "        break\n",
    "    else:\n",
    "        print('Get into else part')"
   ]
  },
  {
   "cell_type": "code",
   "execution_count": 51,
   "metadata": {},
   "outputs": [
    {
     "name": "stdout",
     "output_type": "stream",
     "text": [
      "i is 0, j is 0\n",
      "i is 0, j is 1\n",
      "i is 1, j is 0\n",
      "i is 1, j is 1\n",
      "i is 2, j is 0\n",
      "i is 2, j is 1\n",
      "i is 3, j is 0\n",
      "i is 3, j is 1\n",
      "i is 4, j is 0\n",
      "i is 4, j is 1\n"
     ]
    }
   ],
   "source": [
    "for i in range(0,5):\n",
    "    for j in range(0,3):\n",
    "        print('i is %d, j is %d' %(i,j))\n",
    "        if j == 1:\n",
    "            break"
   ]
  },
  {
   "cell_type": "markdown",
   "metadata": {},
   "source": [
    "## 1.11 Using `continue` to ignore the rest part"
   ]
  },
  {
   "cell_type": "code",
   "execution_count": 52,
   "metadata": {},
   "outputs": [
    {
     "name": "stdout",
     "output_type": "stream",
     "text": [
      "i is 0\n",
      "This part would be ignored\n",
      "i is 1\n",
      "i is 2\n",
      "This part would be ignored\n"
     ]
    }
   ],
   "source": [
    "for i in range(0,3):\n",
    "    print('i is', i)\n",
    "    if i == 1:\n",
    "        continue\n",
    "    print('This part would be ignored')"
   ]
  },
  {
   "cell_type": "markdown",
   "metadata": {},
   "source": [
    "## 1.12 Using `return` to end loop (within a function)"
   ]
  },
  {
   "cell_type": "code",
   "execution_count": 53,
   "metadata": {},
   "outputs": [
    {
     "name": "stdout",
     "output_type": "stream",
     "text": [
      "i is 0, j is 0\n",
      "This part won't work!\n",
      "i is 0, j is 1\n"
     ]
    }
   ],
   "source": [
    "def test():\n",
    "    for i in range(10):\n",
    "        for j in range(10):\n",
    "            print('i is %d, j is %d'%(i,j))\n",
    "            if j == 1:\n",
    "                return\n",
    "            print('This part won\\'t work!')\n",
    "test()"
   ]
  }
 ],
 "metadata": {
  "kernelspec": {
   "display_name": "Arcpy",
   "language": "python",
   "name": "arcpy"
  },
  "language_info": {
   "codemirror_mode": {
    "name": "ipython",
    "version": 3
   },
   "file_extension": ".py",
   "mimetype": "text/x-python",
   "name": "python",
   "nbconvert_exporter": "python",
   "pygments_lexer": "ipython3",
   "version": "3.6.8"
  }
 },
 "nbformat": 4,
 "nbformat_minor": 4
}
