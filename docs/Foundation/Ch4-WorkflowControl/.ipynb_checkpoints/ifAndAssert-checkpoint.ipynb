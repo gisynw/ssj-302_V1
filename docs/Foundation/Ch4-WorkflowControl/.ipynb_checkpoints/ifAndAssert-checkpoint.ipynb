{
 "cells": [
  {
   "cell_type": "markdown",
   "metadata": {},
   "source": [
    "# If and Assert"
   ]
  },
  {
   "cell_type": "markdown",
   "metadata": {},
   "source": [
    "## 1.1 Usage of if\n",
    "* do not forget indentation\n",
    "* careful for using indentation \n",
    "* do not forget colon"
   ]
  },
  {
   "cell_type": "code",
   "execution_count": 1,
   "metadata": {},
   "outputs": [
    {
     "name": "stdout",
     "output_type": "stream",
     "text": [
      "Your age is: 22\n",
      "You already greater than 20\n",
      "You may make dicisions on you own in the future\n"
     ]
    }
   ],
   "source": [
    "s_age = input('Your age is: ')\n",
    "age = int(s_age)\n",
    "if age > 20:\n",
    "    print('You already greater than 20')\n",
    "    print('You may make dicisions on you own in the future')"
   ]
  },
  {
   "cell_type": "markdown",
   "metadata": {},
   "source": [
    "## 1.2 Condition Types\n",
    "* `String`\n",
    "* `List`\n",
    "* `Dictionary`"
   ]
  },
  {
   "cell_type": "code",
   "execution_count": 2,
   "metadata": {},
   "outputs": [
    {
     "name": "stdout",
     "output_type": "stream",
     "text": [
      "s is empty\n"
     ]
    }
   ],
   "source": [
    "s = ''\n",
    "if s:\n",
    "    print('s is not empty')\n",
    "else:\n",
    "    print('s is empty')"
   ]
  },
  {
   "cell_type": "code",
   "execution_count": 3,
   "metadata": {},
   "outputs": [
    {
     "name": "stdout",
     "output_type": "stream",
     "text": [
      "my_list is empty\n"
     ]
    }
   ],
   "source": [
    "my_list = []\n",
    "if my_list:\n",
    "    print('my_list is not empty')\n",
    "else:\n",
    "    print('my_list is empty')"
   ]
  },
  {
   "cell_type": "code",
   "execution_count": 4,
   "metadata": {},
   "outputs": [
    {
     "name": "stdout",
     "output_type": "stream",
     "text": [
      "my_dict is empty\n"
     ]
    }
   ],
   "source": [
    "my_dict = {}\n",
    "if my_dict:\n",
    "    print('my_dict is not empty')\n",
    "else:\n",
    "    print('my_dict is empty')"
   ]
  },
  {
   "cell_type": "markdown",
   "metadata": {},
   "source": [
    "## 1.3 Logical Error"
   ]
  },
  {
   "cell_type": "code",
   "execution_count": 5,
   "metadata": {},
   "outputs": [
    {
     "name": "stdout",
     "output_type": "stream",
     "text": [
      "adolescent\n"
     ]
    }
   ],
   "source": [
    "age = 45\n",
    "if age > 20:\n",
    "    print('adolescent')\n",
    "elif age > 40:\n",
    "    print('mid age')\n",
    "elif age > 60:\n",
    "    print('old')"
   ]
  },
  {
   "cell_type": "markdown",
   "metadata": {},
   "source": [
    "**The right way is**"
   ]
  },
  {
   "cell_type": "code",
   "execution_count": 7,
   "metadata": {},
   "outputs": [
    {
     "name": "stdout",
     "output_type": "stream",
     "text": [
      "mid age\n"
     ]
    }
   ],
   "source": [
    "age = 45\n",
    "if age > 60:\n",
    "    print('old')\n",
    "elif age > 40:\n",
    "    print('mid age')\n",
    "elif age > 20:\n",
    "    print('adolescent')"
   ]
  },
  {
   "cell_type": "markdown",
   "metadata": {},
   "source": [
    "## 1.4 `pass` sentence"
   ]
  },
  {
   "cell_type": "code",
   "execution_count": 8,
   "metadata": {},
   "outputs": [
    {
     "name": "stdout",
     "output_type": "stream",
     "text": [
      "Please enter a number: 5\n",
      "Equal to 5\n"
     ]
    }
   ],
   "source": [
    "s = input('Please enter a number: ')\n",
    "s = int(s)\n",
    "if s > 5:\n",
    "    print('Larger than 5')\n",
    "elif s < 5:\n",
    "    pass\n",
    "else:\n",
    "    print('Equal to 5')"
   ]
  },
  {
   "cell_type": "markdown",
   "metadata": {},
   "source": [
    "## 1.5 Assert\n",
    "* if the condition get true, the code would keep running, otherwise would raise `AssertionError`"
   ]
  },
  {
   "cell_type": "code",
   "execution_count": 9,
   "metadata": {},
   "outputs": [
    {
     "name": "stdout",
     "output_type": "stream",
     "text": [
      "Please enter your age: 25\n",
      "Please enjoy everyday you have!\n"
     ]
    }
   ],
   "source": [
    "s_age = input('Please enter your age: ')\n",
    "age = int(s_age)\n",
    "assert 20 < age < 80\n",
    "print('Please enjoy everyday you have!')"
   ]
  },
  {
   "cell_type": "code",
   "execution_count": 10,
   "metadata": {},
   "outputs": [
    {
     "name": "stdout",
     "output_type": "stream",
     "text": [
      "Please enter your age: 15\n"
     ]
    },
    {
     "ename": "AssertionError",
     "evalue": "",
     "output_type": "error",
     "traceback": [
      "\u001b[1;31m---------------------------------------------------------------------------\u001b[0m",
      "\u001b[1;31mAssertionError\u001b[0m                            Traceback (most recent call last)",
      "\u001b[1;32m<ipython-input-10-7f00a03090ce>\u001b[0m in \u001b[0;36m<module>\u001b[1;34m\u001b[0m\n\u001b[0;32m      1\u001b[0m \u001b[0ms_age\u001b[0m \u001b[1;33m=\u001b[0m \u001b[0minput\u001b[0m\u001b[1;33m(\u001b[0m\u001b[1;34m'Please enter your age: '\u001b[0m\u001b[1;33m)\u001b[0m\u001b[1;33m\u001b[0m\u001b[1;33m\u001b[0m\u001b[0m\n\u001b[0;32m      2\u001b[0m \u001b[0mage\u001b[0m \u001b[1;33m=\u001b[0m \u001b[0mint\u001b[0m\u001b[1;33m(\u001b[0m\u001b[0ms_age\u001b[0m\u001b[1;33m)\u001b[0m\u001b[1;33m\u001b[0m\u001b[1;33m\u001b[0m\u001b[0m\n\u001b[1;32m----> 3\u001b[1;33m \u001b[1;32massert\u001b[0m \u001b[1;36m20\u001b[0m \u001b[1;33m<\u001b[0m \u001b[0mage\u001b[0m \u001b[1;33m<\u001b[0m \u001b[1;36m80\u001b[0m\u001b[1;33m\u001b[0m\u001b[1;33m\u001b[0m\u001b[0m\n\u001b[0m\u001b[0;32m      4\u001b[0m \u001b[0mprint\u001b[0m\u001b[1;33m(\u001b[0m\u001b[1;34m'Please enjoy everyday you have!'\u001b[0m\u001b[1;33m)\u001b[0m\u001b[1;33m\u001b[0m\u001b[1;33m\u001b[0m\u001b[0m\n",
      "\u001b[1;31mAssertionError\u001b[0m: "
     ]
    }
   ],
   "source": [
    "s_age = input('Please enter your age: ')\n",
    "age = int(s_age)\n",
    "assert 20 < age < 80\n",
    "print('Please enjoy everyday you have!')"
   ]
  }
 ],
 "metadata": {
  "kernelspec": {
   "display_name": "Python 3",
   "language": "python",
   "name": "python3"
  },
  "language_info": {
   "codemirror_mode": {
    "name": "ipython",
    "version": 3
   },
   "file_extension": ".py",
   "mimetype": "text/x-python",
   "name": "python",
   "nbconvert_exporter": "python",
   "pygments_lexer": "ipython3",
   "version": "3.7.6"
  }
 },
 "nbformat": 4,
 "nbformat_minor": 4
}
