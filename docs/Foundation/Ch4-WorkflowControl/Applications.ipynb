{
 "cells": [
  {
   "cell_type": "markdown",
   "metadata": {},
   "source": [
    "# Applications"
   ]
  },
  {
   "cell_type": "code",
   "execution_count": 1,
   "metadata": {},
   "outputs": [],
   "source": [
    "def circular(num):\n",
    "    x = range(num)\n",
    "    y = range(num)\n",
    "    "
   ]
  },
  {
   "cell_type": "code",
   "execution_count": 2,
   "metadata": {},
   "outputs": [
    {
     "data": {
      "text/plain": [
       "[['0000', '0000', '0000', '0000']]"
      ]
     },
     "execution_count": 2,
     "metadata": {},
     "output_type": "execute_result"
    }
   ],
   "source": [
    "num = 4\n",
    "array = [['0' *num] * num]\n",
    "array"
   ]
  },
  {
   "cell_type": "code",
   "execution_count": 3,
   "metadata": {},
   "outputs": [],
   "source": [
    "def circular(Size):\n",
    "    # do not use this!\n",
    "    # array = [[0] * Size] * Size\n",
    "    array = [[0] * Size]\n",
    "    for i in range(Size):\n",
    "        array = array + [[0] * Size]\n",
    "\n",
    "#     print(array)\n",
    "    '''\n",
    "    orient represents the orientation, 0 stands for down, 1 for right, 2 for left, 3 for up\n",
    "    k for column index, j for row index\n",
    "    '''\n",
    "    orient = 0\n",
    "    j = 0\n",
    "    k = 0\n",
    "    for num in range(1,Size * Size + 1):\n",
    "        array[j][k] = num\n",
    "        if  j + k == Size -1:\n",
    "            if j > k:\n",
    "                orient = 1\n",
    "            else:\n",
    "                orient = 2\n",
    "        elif (k == j) and (k >= Size / 2):\n",
    "            orient = 3\n",
    "        elif (j == k -1) and (k <= Size /2):\n",
    "            orient = 0\n",
    "        if orient == 0:\n",
    "#             print('%0.2d '%array[j][k],end='')\n",
    "#             print('go down')\n",
    "            j+=1\n",
    "        elif orient == 1:\n",
    "#             print('%0.2d '%array[j][k],end='')\n",
    "#             print('go right!')\n",
    "            k+=1\n",
    "        elif orient == 2:\n",
    "#             print('%0.2d '%array[j][k],end='')\n",
    "#             print('go left')\n",
    "            k-=1\n",
    "        elif orient == 3:\n",
    "#             print('%0.2d '%array[j][k],end='')\n",
    "#             print('go up')\n",
    "            j-=1\n",
    "    return array"
   ]
  },
  {
   "cell_type": "code",
   "execution_count": 4,
   "metadata": {},
   "outputs": [
    {
     "name": "stdout",
     "output_type": "stream",
     "text": [
      "001 040 039 038 037 036 035 034 033 032 031 \n",
      "002 041 072 071 070 069 068 067 066 065 030 \n",
      "003 042 073 096 095 094 093 092 091 064 029 \n",
      "004 043 074 097 112 111 110 109 090 063 028 \n",
      "005 044 075 098 113 120 119 108 089 062 027 \n",
      "006 045 076 099 114 121 118 107 088 061 026 \n",
      "007 046 077 100 115 116 117 106 087 060 025 \n",
      "008 047 078 101 102 103 104 105 086 059 024 \n",
      "009 048 079 080 081 082 083 084 085 058 023 \n",
      "010 049 050 051 052 053 054 055 056 057 022 \n",
      "011 012 013 014 015 016 017 018 019 020 021 \n"
     ]
    }
   ],
   "source": [
    "Size = 11 \n",
    "array = circular(Size)\n",
    "\n",
    "for x in range(Size):\n",
    "    for y in range(Size):\n",
    "        print('%0.3d '%array[x][y],end='')\n",
    "    print('')"
   ]
  },
  {
   "cell_type": "code",
   "execution_count": null,
   "metadata": {},
   "outputs": [],
   "source": [
    "board_size = 17\n",
    "board = []\n",
    "def initBoard():\n",
    "    for i in range(board_size):\n",
    "        row  = ['+'] * board_size\n",
    "        board.append(row)\n",
    "\n",
    "def printBoard():\n",
    "    for i in range(board_size):\n",
    "        for j in range(board_size):\n",
    "            print(board[i][j], end = '')\n",
    "        # equal to print('\\n')\n",
    "        print()\n",
    "initBoard()\n",
    "printBoard()\n",
    "inputStr = input('Please input coordinates of your go [x,y format]\\n')\n",
    "while inputStr != None:\n",
    "    x_str,y_str = inputStr.split(sep=',')\n",
    "    board[int(y_str) - 1][int(x_str) -1] = '●'\n",
    "    printBoard()\n",
    "    inputStr = input('Please input coordinates of your go [x,y format]\\n')"
   ]
  },
  {
   "cell_type": "code",
   "execution_count": 6,
   "metadata": {},
   "outputs": [
    {
     "name": "stdout",
     "output_type": "stream",
     "text": [
      "['1*1=1']\n",
      "['1*2=2', '2*2=4']\n",
      "['1*3=3', '2*3=6', '3*3=9']\n",
      "['1*4=4', '2*4=8', '3*4=12', '4*4=16']\n",
      "['1*5=5', '2*5=10', '3*5=15', '4*5=20', '5*5=25']\n",
      "['1*6=6', '2*6=12', '3*6=18', '4*6=24', '5*6=30', '6*6=36']\n",
      "['1*7=7', '2*7=14', '3*7=21', '4*7=28', '5*7=35', '6*7=42', '7*7=49']\n",
      "['1*8=8', '2*8=16', '3*8=24', '4*8=32', '5*8=40', '6*8=48', '7*8=56', '8*8=64']\n",
      "['1*9=9', '2*9=18', '3*9=27', '4*9=36', '5*9=45', '6*9=54', '7*9=63', '8*9=72', '9*9=81']\n"
     ]
    }
   ],
   "source": [
    "for i in range(9):\n",
    "    row = []\n",
    "    for j in range(i+1):\n",
    "        row.append(str(j+1)+'*'+str(i+1)+'='+str((j+1)*(i+1)) )\n",
    "    print(row)"
   ]
  },
  {
   "cell_type": "code",
   "execution_count": 27,
   "metadata": {},
   "outputs": [],
   "source": [
    "def Isosceles(num):\n",
    "    tri = []\n",
    "    for i in range(1,num+1):\n",
    "        row = [' '] * (2 * num - 1)\n",
    "        for j in range((2*i-1)):\n",
    "            row[num - i + j] = '*'\n",
    "        tri.append(row)\n",
    "    for row in tri:\n",
    "        for ele in row:\n",
    "            print(ele,end='')\n",
    "        print()"
   ]
  },
  {
   "cell_type": "code",
   "execution_count": 29,
   "metadata": {},
   "outputs": [
    {
     "name": "stdout",
     "output_type": "stream",
     "text": [
      "       *       \n",
      "      ***      \n",
      "     *****     \n",
      "    *******    \n",
      "   *********   \n",
      "  ***********  \n",
      " ************* \n",
      "***************\n"
     ]
    }
   ],
   "source": [
    "Isosceles(8)"
   ]
  },
  {
   "cell_type": "code",
   "execution_count": null,
   "metadata": {},
   "outputs": [],
   "source": []
  }
 ],
 "metadata": {
  "kernelspec": {
   "display_name": "Arcpy",
   "language": "python",
   "name": "arcpy"
  },
  "language_info": {
   "codemirror_mode": {
    "name": "ipython",
    "version": 3
   },
   "file_extension": ".py",
   "mimetype": "text/x-python",
   "name": "python",
   "nbconvert_exporter": "python",
   "pygments_lexer": "ipython3",
   "version": "3.6.8"
  }
 },
 "nbformat": 4,
 "nbformat_minor": 4
}
