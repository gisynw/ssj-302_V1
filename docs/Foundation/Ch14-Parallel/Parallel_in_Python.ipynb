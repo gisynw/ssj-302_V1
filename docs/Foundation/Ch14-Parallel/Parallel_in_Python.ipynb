{
 "cells": [
  {
   "cell_type": "markdown",
   "metadata": {},
   "source": [
    "### 1.1 Create Thread and Run"
   ]
  },
  {
   "cell_type": "code",
   "execution_count": 8,
   "metadata": {},
   "outputs": [
    {
     "name": "stdout",
     "output_type": "stream",
     "text": [
      "MainThread 0\n",
      "MainThread 1\n",
      "MainThread 2\n",
      "Thread-16 0\n",
      "Thread-16 1\n",
      "Thread-16 2\n",
      "Thread-16 3\n",
      "Thread-16 4\n",
      "Thread-16 5\n",
      "Thread-16 6\n",
      "Thread-16 7\n",
      "Thread-16 8\n",
      "Thread-16 9\n",
      "Thread-17 0MainThread 3\n",
      "Thread-17 1\n",
      "Thread-17 2\n",
      "Thread-17 3\n",
      "Thread-17 4\n",
      "Thread-17 5\n",
      "Thread-17 6\n",
      "Thread-17 7\n",
      "Thread-17 8\n",
      "Thread-17 9\n",
      "\n",
      "MainThread 4\n",
      "MainThread 5\n",
      "MainThread 6\n",
      "MainThread 7\n",
      "MainThread 8\n",
      "MainThread 9\n",
      "Task Complete!\n",
      "Wall time: 3.99 ms\n"
     ]
    }
   ],
   "source": [
    "%%time\n",
    "import threading\n",
    "\n",
    "def action(max):\n",
    "    for i in range(max):\n",
    "        # use current_thread() function to get the current running threading\n",
    "        # use getName() function to get the name of current running threading\n",
    "        print(threading.current_thread().getName() + \" \" + str(i))\n",
    "        \n",
    "# the main() body\n",
    "for i in range(10):\n",
    "    print(threading.current_thread().getName() + \" \" + str(i))\n",
    "    if i == 2:\n",
    "        # Create and run the first thread\n",
    "        t1 = threading.Thread(target = action, args = (10,))\n",
    "        t1.start()\n",
    "        # Create and run the first thread\n",
    "        t2 = threading.Thread(target = action, args = (10,))\n",
    "        t2.start()\n",
    "\n",
    "print('Task Complete!')"
   ]
  },
  {
   "cell_type": "markdown",
   "metadata": {},
   "source": [
    "Although the above script only creates 2 threads, actually it works as 3. Because when we run the python script, **it would automatically create at least one Main Thread**"
   ]
  },
  {
   "cell_type": "markdown",
   "metadata": {},
   "source": [
    "### 1.2 Create a Local Class inherited by Thread Class\n",
    "Define the subclass of Threads, we **need to overwrite it's `run()` function**, **the body of `run()` represents the task each thread need to complete.**"
   ]
  },
  {
   "cell_type": "code",
   "execution_count": 10,
   "metadata": {},
   "outputs": [
    {
     "name": "stdout",
     "output_type": "stream",
     "text": [
      "MainThread 0\n",
      "MainThread 1\n",
      "MainThread 2\n",
      "Thread-20 0\n",
      "Thread-20 1\n",
      "Thread-20 2\n",
      "Thread-20 3\n",
      "Thread-20 4\n",
      "Thread-21 0\n",
      "Thread-21 1\n",
      "Thread-21 2\n",
      "Thread-21 3\n",
      "Thread-21 4\n",
      "MainThread 3\n",
      "MainThread 4\n",
      "MainThread 5\n",
      "MainThread 6\n",
      "MainThread 7\n",
      "MainThread 8\n",
      "MainThread 9\n",
      "Task Finished\n",
      "Wall time: 3.99 ms\n"
     ]
    }
   ],
   "source": [
    "%%time\n",
    "# Crate a subclass of Thread\n",
    "class YlThread(threading.Thread):\n",
    "    def __init__(self):\n",
    "        threading.Thread.__init__(self)\n",
    "        self.i = 0\n",
    "    \n",
    "    # overwrite it's run() function as the main body\n",
    "    def run(self):\n",
    "        while self.i< 5:\n",
    "            print (threading.current_thread().getName() + \" \" + str(self.i))\n",
    "            self.i +=1\n",
    "\n",
    "for i in range(10):\n",
    "    print(threading.current_thread().getName() + \" \" + str(i))\n",
    "    if i == 2:\n",
    "        ft1 = YlThread()\n",
    "        ft1.start()\n",
    "        ft2 = YlThread()\n",
    "        ft2.start()\n",
    "print('Task Finished')"
   ]
  },
  {
   "cell_type": "markdown",
   "metadata": {},
   "source": [
    "### 1.3 The Life Circule of Threads \n",
    "**The life circule of a thread could be divided into**\n",
    "* New\n",
    "* Ready\n",
    "* Running\n",
    "* Blocked\n",
    "* Dead\n",
    "\n",
    "**If you directly call `run()` within a Thread object, CPU would execute line by line instead of parallel.**"
   ]
  },
  {
   "cell_type": "code",
   "execution_count": 11,
   "metadata": {},
   "outputs": [
    {
     "name": "stdout",
     "output_type": "stream",
     "text": [
      "MainThread 0\n",
      "MainThread 1\n",
      "MainThread 2\n",
      "MainThread 0\n",
      "MainThread 1\n",
      "MainThread 2\n",
      "MainThread 3\n",
      "MainThread 4\n",
      "MainThread 0\n",
      "MainThread 1\n",
      "MainThread 2\n",
      "MainThread 3\n",
      "MainThread 4\n",
      "MainThread 3\n",
      "MainThread 4\n",
      "MainThread 5\n",
      "MainThread 6\n",
      "MainThread 7\n",
      "MainThread 8\n",
      "MainThread 9\n"
     ]
    }
   ],
   "source": [
    "def action(max):\n",
    "    for i in range(max):\n",
    "        # use current_thread() function to get the current running threading\n",
    "        # use getName() function to get the name of current running threading\n",
    "        print(threading.current_thread().name + \" \" + str(i))\n",
    "        \n",
    "for i in range(10):\n",
    "    print(threading.current_thread().name + \" \" + str(i))\n",
    "    if i == 2:\n",
    "        # These two lines would not create 2 threads\n",
    "        threading.Thread(target=action, args = (5,)).run()\n",
    "        threading.Thread(target=action, args = (5,)).run()"
   ]
  },
  {
   "cell_type": "markdown",
   "metadata": {},
   "source": [
    "When **a thread complete task or catch some error**, it would go dead. **Do not want to use the `start()` function to call it again.** Dead means it would never work again."
   ]
  },
  {
   "cell_type": "code",
   "execution_count": 14,
   "metadata": {},
   "outputs": [
    {
     "name": "stdout",
     "output_type": "stream",
     "text": [
      "MainThread 0\n",
      "MainThread 1\n",
      "MainThread 2\n",
      "MainThread 3\n",
      "MainThread 4\n",
      "MainThread 5\n",
      "MainThread 6\n",
      "MainThread 7\n",
      "MainThread 8\n",
      "MainThread 9\n",
      "MainThread 10\n",
      "MainThread 11\n",
      "MainThread 12\n",
      "MainThread 13\n",
      "MainThread 14\n",
      "MainThread 15\n",
      "MainThread 16\n",
      "MainThread 17\n",
      "MainThread 18\n",
      "MainThread 19\n"
     ]
    }
   ],
   "source": [
    "# example for calling a thread already dead\n",
    "sd = threading.Thread(target= action, args = (5,))\n",
    "for i in range(20):\n",
    "    print(threading.current_thread().name + \" \" + str(i))\n",
    "    if i == 20:\n",
    "        sd.start()\n",
    "        print(sd.is_alive())\n",
    "if i > 20 and not(sd.is_alive()):\n",
    "    sd.start()"
   ]
  },
  {
   "cell_type": "markdown",
   "metadata": {},
   "source": [
    "### 1.4 Manipulate Threads\n",
    "* `join()` function\n",
    "* `sleep()` function"
   ]
  },
  {
   "cell_type": "code",
   "execution_count": 15,
   "metadata": {},
   "outputs": [
    {
     "name": "stdout",
     "output_type": "stream",
     "text": [
      "New Thread 0\n",
      "New Thread 1\n",
      "New Thread 2\n",
      "New Thread 3\n",
      "New Thread 4\n",
      "New Thread 5\n",
      "New Thread 6\n",
      "New Thread 7\n",
      "New Thread 8\n",
      "New Thread 9\n",
      "MainThread 0\n",
      "MainThread 1\n",
      "Joined Thread 0\n",
      "Joined Thread 1\n",
      "Joined Thread 2\n",
      "Joined Thread 3\n",
      "Joined Thread 4\n",
      "Joined Thread 5\n",
      "Joined Thread 6\n",
      "Joined Thread 7\n",
      "Joined Thread 8\n",
      "Joined Thread 9\n",
      "MainThread 2\n",
      "MainThread 3\n",
      "MainThread 4\n",
      "MainThread 5\n",
      "MainThread 6\n",
      "MainThread 7\n",
      "MainThread 8\n",
      "MainThread 9\n"
     ]
    }
   ],
   "source": [
    "threading.Thread(target=action,args=(10,),name=\"New Thread\").start()\n",
    "for i in range(10):\n",
    "    if i == 2:\n",
    "        jt = threading.Thread(target=action,args=(10,),name = \"Joined Thread\")\n",
    "        jt.start()\n",
    "        # In the MainThread we call the join() under jt thread\n",
    "        # So the MainThread would wait until jt Thread complete all tasks\n",
    "        jt.join()\n",
    "    print(threading.current_thread().name + \" \" + str(i))"
   ]
  },
  {
   "cell_type": "code",
   "execution_count": 19,
   "metadata": {},
   "outputs": [
    {
     "name": "stdout",
     "output_type": "stream",
     "text": [
      "Current time : Sat Apr 11 11:47:38 2020\n",
      "MainThread 0\n",
      "Current time : Sat Apr 11 11:47:39 2020\n",
      "MainThread 1\n",
      "Current time : Sat Apr 11 11:47:40 2020\n",
      "Thread-35 0\n",
      "Thread-35 1\n",
      "Thread-35 2\n",
      "Thread-35 3\n",
      "Thread-35 4\n",
      "MainThread 2\n",
      "Current time : Sat Apr 11 11:47:41 2020\n",
      "MainThread 3\n",
      "Current time : Sat Apr 11 11:47:42 2020\n",
      "MainThread 4\n"
     ]
    }
   ],
   "source": [
    "import time\n",
    "for i in range(5):\n",
    "    print(\"Current time : %s\" %time.ctime())\n",
    "    jt = threading.Thread(target=action,args=(5,))\n",
    "    if i == 2:\n",
    "        jt.start()\n",
    "    time.sleep(1)\n",
    "    print(threading.current_thread().getName() + \" \" + str(i))"
   ]
  },
  {
   "cell_type": "markdown",
   "metadata": {},
   "source": [
    "### 1.5 Concurrency Problem"
   ]
  },
  {
   "cell_type": "code",
   "execution_count": 26,
   "metadata": {},
   "outputs": [],
   "source": [
    "class Account:\n",
    "    # define a constructor\n",
    "    def __init__(self,account_no,balance):\n",
    "        self.account_no = account_no\n",
    "        self.balance = balance\n",
    "\n",
    "# Define a function to simulate withdraw money from a bank\n",
    "def draw(account,draw_amount):\n",
    "    # sufficient balance\n",
    "    if account.balance >= draw_amount:\n",
    "        print(threading.current_thread().name + \" withdraw successful ： \" + str(draw_amount))\n",
    "        time.sleep(0.001)\n",
    "        # modify the balance\n",
    "        account.balance -= draw_amount\n",
    "        print(\"\\n Balance is : \" + str(account.balance))\n",
    "    else:\n",
    "        print(threading.current_thread().name + \" withdraw failed! insufficient balance!\")        "
   ]
  },
  {
   "cell_type": "code",
   "execution_count": 27,
   "metadata": {},
   "outputs": [
    {
     "name": "stdout",
     "output_type": "stream",
     "text": [
      "yxy withdraw successful ： 800\n",
      "ywu withdraw successful ： 800\n",
      "\n",
      " Balance is : 200\n",
      "\n",
      " Balance is : -600\n"
     ]
    }
   ],
   "source": [
    "# Create a account\n",
    "acct = Account(\"yyl\",1000)\n",
    "# Use two thread to withdraw money simultaneously\n",
    "threading.Thread(name = 'yxy',target= draw,args=(acct,800)).start()\n",
    "threading.Thread(name = 'ywu',target= draw,args=(acct,800)).start()"
   ]
  },
  {
   "cell_type": "markdown",
   "metadata": {},
   "source": [
    "You would find the balance becomes negative in the end. For preventing this situation, **Thread module provides `Lock` and `RLock` two classes**\n",
    "* `acquire(blocking = True, timeout = -1)` Lock `Lock` or `RLock` objects within `timeout` seconds.\n",
    "* `release()` release those objects.\n",
    "---"
   ]
  },
  {
   "cell_type": "markdown",
   "metadata": {},
   "source": [
    "#### Using `Lock` class to get the following features\n",
    "* The objects created from this class allows multiple access.\n",
    "* No matter what function is called from this object, you would get the right answer."
   ]
  },
  {
   "cell_type": "code",
   "execution_count": 42,
   "metadata": {},
   "outputs": [],
   "source": [
    "class Account:\n",
    "    def __init__(self,account_no,balance):\n",
    "        # Encapsulate two variables\n",
    "        self.account_no = account_no\n",
    "        self._balance = balance\n",
    "        self.lock = threading.RLock()\n",
    "        \n",
    "    # Define a function to update balance\n",
    "    def getBalance(self):\n",
    "        return self._balance\n",
    "    def draw(self,draw_amount):\n",
    "        # Lock\n",
    "        self.lock.acquire()\n",
    "        try:\n",
    "            if self._balance >= draw_amount:\n",
    "                print(threading.current_thread().name + \" withdraw successful ： \" + str(draw_amount))\n",
    "                time.sleep(0.001)\n",
    "                # update balance\n",
    "                self._balance -= draw_amount\n",
    "                print(\"\\n Balance is : \" + str(self._balance))\n",
    "            else:\n",
    "                print(threading.current_thread().name + \" withdraw failed! insufficient balance!\")       \n",
    "        finally:\n",
    "            # Complete updating, release the lock\n",
    "            self.lock.release()"
   ]
  },
  {
   "cell_type": "code",
   "execution_count": 43,
   "metadata": {},
   "outputs": [
    {
     "name": "stdout",
     "output_type": "stream",
     "text": [
      "yxy withdraw successful ： 800\n",
      "\n",
      " Balance is : 200\n",
      "ywu withdraw failed! insufficient balance!\n"
     ]
    }
   ],
   "source": [
    "def draw(account,draw_amount):\n",
    "    account.draw(draw_amount)\n",
    "\n",
    "# Create a account\n",
    "acct = Account(\"yyl\",1000)\n",
    "# Use two thread to withdraw money simultaneously\n",
    "threading.Thread(name = 'yxy',target= draw,args=(acct,800)).start()\n",
    "threading.Thread(name = 'ywu',target= draw,args=(acct,800)).start()"
   ]
  },
  {
   "cell_type": "markdown",
   "metadata": {},
   "source": [
    "### 1.6 Thread Pool\n",
    "* `ThreadPoolExecutor` for building a thread pool\n",
    "* `ProcessPoolExecutor` for building a processor pool"
   ]
  },
  {
   "cell_type": "markdown",
   "metadata": {},
   "source": [
    "#### Exectuor provides following functions\n",
    "* `submit(fn,*args,**kwargs)` Pass fn function to the thread pool\n",
    "* `map(func,*iterables, timeout = None, chunksize = 1)` Asynchronous execute multiple threads\n",
    "* `shutdown(wait = True)` Shunt down the thread pool"
   ]
  },
  {
   "cell_type": "code",
   "execution_count": 46,
   "metadata": {},
   "outputs": [
    {
     "name": "stdout",
     "output_type": "stream",
     "text": [
      "ThreadPoolExecutor-2_0 0\n",
      "ThreadPoolExecutor-2_0 1\n",
      "ThreadPoolExecutor-2_0 2\n",
      "ThreadPoolExecutor-2_0 3\n",
      "ThreadPoolExecutor-2_0 4ThreadPoolExecutor-2_1 0False\n",
      "ThreadPoolExecutor-2_1 1\n",
      "ThreadPoolExecutor-2_1 2\n",
      "\n",
      "ThreadPoolExecutor-2_1 3\n",
      "ThreadPoolExecutor-2_1 4\n",
      "ThreadPoolExecutor-2_1 5\n",
      "ThreadPoolExecutor-2_1 6\n",
      "ThreadPoolExecutor-2_1 7\n",
      "ThreadPoolExecutor-2_1 8\n",
      "ThreadPoolExecutor-2_1 9\n",
      "ThreadPoolExecutor-2_1 10\n",
      "ThreadPoolExecutor-2_1 11\n",
      "ThreadPoolExecutor-2_1 12\n",
      "ThreadPoolExecutor-2_1 13\n",
      "ThreadPoolExecutor-2_1 14\n",
      "ThreadPoolExecutor-2_1 15\n",
      "ThreadPoolExecutor-2_1 16\n",
      "ThreadPoolExecutor-2_1 17\n",
      "ThreadPoolExecutor-2_1 18\n",
      "ThreadPoolExecutor-2_1 19\n",
      "\n",
      "ThreadPoolExecutor-2_0 5\n",
      "ThreadPoolExecutor-2_0 6\n",
      "ThreadPoolExecutor-2_0 7\n",
      "ThreadPoolExecutor-2_0 8\n",
      "ThreadPoolExecutor-2_0 9\n",
      "True\n",
      "45\n",
      "190\n",
      "Wall time: 1 s\n"
     ]
    }
   ],
   "source": [
    "%%time\n",
    "from concurrent.futures import ThreadPoolExecutor\n",
    "\n",
    "def action(max):\n",
    "    my_sum = 0\n",
    "    for i in range(max):\n",
    "        print(threading.current_thread().name + ' ' + str(i))\n",
    "        my_sum += i\n",
    "    return my_sum\n",
    "\n",
    "# Create a thread pool with size 2\n",
    "pool = ThreadPoolExecutor(max_workers = 2)\n",
    "\n",
    "# Submit one mission to the thread pool, 10 as the input parameter\n",
    "future1 = pool.submit(action,10)\n",
    "\n",
    "# Submit another mission to the thread pool, 20 as the input parameter\n",
    "future2 = pool.submit(action,20)\n",
    "\n",
    "# Check if future1 are finished\n",
    "print(future1.done())\n",
    "time.sleep(1)\n",
    "\n",
    "# Check if future2 are finished\n",
    "print(future2.done())\n",
    "\n",
    "# Check their result\n",
    "print(future1.result())\n",
    "print(future2.result())\n",
    "\n",
    "# Shutdown the pool\n",
    "pool.shutdown()"
   ]
  },
  {
   "cell_type": "markdown",
   "metadata": {},
   "source": [
    "We could **use `result()` function to get the return from one thread, but it would block other threads until finish the return.** if you do not want to block others, could **use `add_done_callback()` function under `Future` class to add a callback function.** When threads finish their task, they would execute the callback function automatically."
   ]
  },
  {
   "cell_type": "code",
   "execution_count": 47,
   "metadata": {},
   "outputs": [
    {
     "name": "stdout",
     "output_type": "stream",
     "text": [
      "ThreadPoolExecutor-3_0 0\n",
      "ThreadPoolExecutor-3_0 1\n",
      "ThreadPoolExecutor-3_0 2\n",
      "ThreadPoolExecutor-3_0 3\n",
      "ThreadPoolExecutor-3_0 4\n",
      "ThreadPoolExecutor-3_0 5\n",
      "ThreadPoolExecutor-3_0 6\n",
      "ThreadPoolExecutor-3_0 7\n",
      "ThreadPoolExecutor-3_0 8\n",
      "ThreadPoolExecutor-3_0 9\n",
      "ThreadPoolExecutor-3_0 0\n",
      "ThreadPoolExecutor-3_0 1\n",
      "ThreadPoolExecutor-3_0 2\n",
      "ThreadPoolExecutor-3_0 3\n",
      "ThreadPoolExecutor-3_0 4\n",
      "ThreadPoolExecutor-3_0 5\n",
      "ThreadPoolExecutor-3_0 6\n",
      "ThreadPoolExecutor-3_0 7\n",
      "ThreadPoolExecutor-3_0 8\n",
      "ThreadPoolExecutor-3_0 9\n",
      "ThreadPoolExecutor-3_0 10\n",
      "ThreadPoolExecutor-3_0 11\n",
      "ThreadPoolExecutor-3_0 12\n",
      "ThreadPoolExecutor-3_0 13\n",
      "ThreadPoolExecutor-3_0 14\n",
      "ThreadPoolExecutor-3_0 15\n",
      "ThreadPoolExecutor-3_0 16\n",
      "ThreadPoolExecutor-3_0 17\n",
      "ThreadPoolExecutor-3_0 18\n",
      "ThreadPoolExecutor-3_0 19\n",
      "45\n",
      "190\n",
      "-----------\n",
      "Wall time: 3.97 ms\n"
     ]
    }
   ],
   "source": [
    "%%time\n",
    "# Create a pool with size 2\n",
    "with ThreadPoolExecutor(max_workers=2) as pool:\n",
    "    future1 = pool.submit(action,10)\n",
    "    future2 = pool.submit(action,20)\n",
    "    \n",
    "    def get_result(future):\n",
    "        print(future.result())\n",
    "    \n",
    "    # Add callback function to threads\n",
    "    future1.add_done_callback(get_result)\n",
    "    future2.add_done_callback(get_result)\n",
    "    print(\"-----------\")"
   ]
  },
  {
   "cell_type": "markdown",
   "metadata": {},
   "source": [
    "#### `map()` function would automatically create threads for the iterable inputs.  (Using `with open` to close pool automatically)"
   ]
  },
  {
   "cell_type": "code",
   "execution_count": 48,
   "metadata": {},
   "outputs": [
    {
     "name": "stdout",
     "output_type": "stream",
     "text": [
      "ThreadPoolExecutor-4_0 0\n",
      "ThreadPoolExecutor-4_0 1ThreadPoolExecutor-4_1 0\n",
      "ThreadPoolExecutor-4_1 1\n",
      "ThreadPoolExecutor-4_1 2\n",
      "ThreadPoolExecutor-4_1 3\n",
      "ThreadPoolExecutor-4_1 4\n",
      "ThreadPoolExecutor-4_0 2\n",
      "ThreadPoolExecutor-4_0 3\n",
      "ThreadPoolExecutor-4_0 4\n",
      "\n",
      "ThreadPoolExecutor-4_1 5\n",
      "ThreadPoolExecutor-4_1 6\n",
      "ThreadPoolExecutor-4_1 7\n",
      "ThreadPoolExecutor-4_1 8\n",
      "ThreadPoolExecutor-4_1 9\n",
      "ThreadPoolExecutor-4_1 0\n",
      "ThreadPoolExecutor-4_1 1\n",
      "ThreadPoolExecutor-4_1 2\n",
      "ThreadPoolExecutor-4_1 3\n",
      "ThreadPoolExecutor-4_1 4\n",
      "ThreadPoolExecutor-4_1 5\n",
      "ThreadPoolExecutor-4_1 6\n",
      "ThreadPoolExecutor-4_1 7\n",
      "ThreadPoolExecutor-4_1 8\n",
      "ThreadPoolExecutor-4_1 9\n",
      "ThreadPoolExecutor-4_1 10\n",
      "ThreadPoolExecutor-4_1 11\n",
      "ThreadPoolExecutor-4_1 12\n",
      "ThreadPoolExecutor-4_1 13\n",
      "ThreadPoolExecutor-4_1 14\n",
      "---------------\n",
      "10\n",
      "45\n",
      "105\n",
      "Wall time: 3.99 ms\n"
     ]
    }
   ],
   "source": [
    "%%time\n",
    "with ThreadPoolExecutor(max_workers=4) as pool:\n",
    "    # The input tuple has three components, so it would create 3 threads\n",
    "    results = pool.map(action,(5,10,15))\n",
    "    print('---------------')\n",
    "    \n",
    "for r in results:\n",
    "    print(r)"
   ]
  },
  {
   "cell_type": "markdown",
   "metadata": {},
   "source": [
    "### 1.7 Multiple Processes\n",
    "* Use `fork()` under the `os` module could create a subprocess (**Not Work on Windows System**)"
   ]
  },
  {
   "cell_type": "code",
   "execution_count": 50,
   "metadata": {},
   "outputs": [],
   "source": [
    "# import os\n",
    "\n",
    "# print('FathreProcess(%s) has started!' % os.getpid())\n",
    "\n",
    "# # Create a subprocess using fork, which means the following scripts would be executed in two different threads\n",
    "# pid = os.fork()\n",
    "# # If pig equal to 0, means it in the subprocess\n",
    "# if pig == 0:\n",
    "#     print('SubProcess, with ID %s, FatherProcess is %s' %(os.getpid(),os.getppid()))\n",
    "# else:\n",
    "#     print('SubProcess ID is %s' % pid)\n",
    "# print('Finished!')"
   ]
  },
  {
   "cell_type": "markdown",
   "metadata": {},
   "source": [
    "* **Use`multiprocessing.Process` to create a subprocess**"
   ]
  },
  {
   "cell_type": "code",
   "execution_count": 52,
   "metadata": {},
   "outputs": [],
   "source": [
    "import multiprocessing\n",
    "class MyProcess(multiprocessing.Process):\n",
    "    def __init__(self,max):\n",
    "        self.max = max\n",
    "        super().__init__()\n",
    "    # rewrite the run function\n",
    "    def run(self):\n",
    "        for i in range(self.max):\n",
    "            print(\"SubProcess(%s), FatherProcess(%s); %d\" % (os.getpid(),os.getppid(),i))\n",
    "if __name__ == '__main__':\n",
    "    for i in range(10):\n",
    "        print(\"FatherProcess(%s) : %d\" %(os.getpid(),i))\n",
    "        if i == 5:\n",
    "            mp1 = MyProcess(10)\n",
    "            mp1.start()\n",
    "            mp2 = MyProcess(10)\n",
    "            mp2.start()\n",
    "            mp2.join()\n",
    "    print('Task finished')"
   ]
  },
  {
   "cell_type": "code",
   "execution_count": null,
   "metadata": {},
   "outputs": [],
   "source": []
  }
 ],
 "metadata": {
  "kernelspec": {
   "display_name": "TensorFlow(GPU)",
   "language": "python",
   "name": "tf-gpu"
  },
  "language_info": {
   "codemirror_mode": {
    "name": "ipython",
    "version": 3
   },
   "file_extension": ".py",
   "mimetype": "text/x-python",
   "name": "python",
   "nbconvert_exporter": "python",
   "pygments_lexer": "ipython3",
   "version": "3.7.6"
  }
 },
 "nbformat": 4,
 "nbformat_minor": 4
}
