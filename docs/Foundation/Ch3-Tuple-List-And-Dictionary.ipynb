{
 "cells": [
  {
   "cell_type": "markdown",
   "metadata": {},
   "source": [
    "# Chapter 3: Tuples, Lists, and Dictionaries\n",
    "\n",
    "In this chapter, we will explore three fundamental data structures in Python: `Tuples`, `Lists`, and `Dictionaries`. Understanding these structures is crucial for data organization, storage, and manipulation in Python programming.\n"
   ]
  },
  {
   "cell_type": "markdown",
   "metadata": {},
   "source": [
    "## 1. Tuples\n",
    "\n",
    "Tuples are **immutable** sequences, typically used to store collections of **heterogeneous** data. Tuples are defined by enclosing the elements in parentheses `()`.\n",
    "\n",
    "### 1.1 Creating a Tuple\n",
    "\n",
    "To create a tuple, you simply list the values within parentheses, separated by commas.\n"
   ]
  },
  {
   "cell_type": "code",
   "execution_count": 1,
   "metadata": {},
   "outputs": [],
   "source": [
    "# A tuple of integers\n",
    "my_tuple = (1, 2, 3)\n",
    "\n",
    "# A tuple with mixed data types\n",
    "mixed_tuple = (\"Hello\", 100, 1.5)"
   ]
  },
  {
   "cell_type": "markdown",
   "metadata": {},
   "source": [
    "### 1.2 Accessing Tuple Elements using index\n",
    "\n",
    "You can access elements of a tuple by using indexing, with the first element at index 0.\n"
   ]
  },
  {
   "cell_type": "code",
   "execution_count": 2,
   "metadata": {},
   "outputs": [
    {
     "name": "stdout",
     "output_type": "stream",
     "text": [
      "1\n",
      "100\n"
     ]
    }
   ],
   "source": [
    "print(my_tuple[0])  # Output: 1\n",
    "print(mixed_tuple[1])  # Output: 100"
   ]
  },
  {
   "cell_type": "markdown",
   "metadata": {},
   "source": [
    "### 1.3 Sublist (equal to `slice()`)\n"
   ]
  },
  {
   "cell_type": "code",
   "execution_count": 4,
   "metadata": {},
   "outputs": [
    {
     "name": "stdout",
     "output_type": "stream",
     "text": [
      "(5.6, 'fkit')\n",
      "(20, 5.6)\n",
      "(-17, 'fkit', 5.6, 20, 'crazyit')\n"
     ]
    }
   ],
   "source": [
    "a_tuple = ('crazyit',20,5.6,'fkit',-17)\n",
    "print(a_tuple[-3:-1])\n",
    "print(a_tuple[1:-2])\n",
    "print(a_tuple[::-1])"
   ]
  },
  {
   "cell_type": "markdown",
   "metadata": {},
   "source": [
    "## 2. Lists\n",
    "\n",
    "Lists are **mutable** sequences, **typically** used to store collections of **homogeneous** items. Lists are defined by enclosing the elements in square brackets `[]`.\n"
   ]
  },
  {
   "cell_type": "markdown",
   "metadata": {},
   "source": [
    "### 2.1 Creating a List\n",
    "\n",
    "To create a list, you place all the items inside square brackets, separated by commas.\n"
   ]
  },
  {
   "cell_type": "code",
   "execution_count": 10,
   "metadata": {},
   "outputs": [
    {
     "name": "stdout",
     "output_type": "stream",
     "text": [
      "[1, 2, 3, 4]\n",
      "[1, 2, 3, 4, 5]\n"
     ]
    }
   ],
   "source": [
    "# A list of integers\n",
    "my_list = [1, 2, 3, 4]\n",
    "print(my_list)\n",
    "# Adding elements to a list\n",
    "my_list.append(5)  # my_list is now [1, 2, 3, 4, 5]\n",
    "print(my_list)"
   ]
  },
  {
   "cell_type": "markdown",
   "metadata": {},
   "source": [
    "Python lists are also not type-restricted\n"
   ]
  },
  {
   "cell_type": "code",
   "execution_count": 13,
   "metadata": {},
   "outputs": [
    {
     "name": "stdout",
     "output_type": "stream",
     "text": [
      "[1, 2, 3, 'a']\n",
      "[42, 'hello', 3.14, [1, 2, 3], {'key': 'value'}, True]\n"
     ]
    }
   ],
   "source": [
    "my_list = [1,2,3,'a']\n",
    "print(my_list)\n",
    "\n",
    "my_list = [42, \"hello\", 3.14, [1, 2, 3], {'key': 'value'}, True]\n",
    "\n",
    "print(my_list)"
   ]
  },
  {
   "cell_type": "markdown",
   "metadata": {},
   "source": [
    "### 2.2 Add elements to list\n",
    "\n",
    "- `append()`: Adds a single element to the end of the list.\n",
    "  - `my_list.append(element)`\n",
    "- `extend()`: Adds elements from an **iterable** (e.g., `list`, `tuple`, `string`) to the end of the list.\n",
    "  - `my_list.extend([element1, element2])`\n",
    "- `insert()`: Inserts a given element at a specified position in the list.\n",
    "  - `my_list.insert(index, element)`\n"
   ]
  },
  {
   "cell_type": "code",
   "execution_count": 21,
   "metadata": {},
   "outputs": [
    {
     "name": "stdout",
     "output_type": "stream",
     "text": [
      "['crazyit', 20, -2, 'fkit']\n"
     ]
    }
   ],
   "source": [
    "a_list = ['crazyit',20,-2]\n",
    "a_list.append('fkit')\n",
    "print(a_list)"
   ]
  },
  {
   "cell_type": "code",
   "execution_count": 23,
   "metadata": {},
   "outputs": [
    {
     "name": "stdout",
     "output_type": "stream",
     "text": [
      "['crazyit', 20, -2, 'fkit', ['a', 'b'], ['a', 'b']]\n",
      "['crazyit', 20, -2, 'fkit', ['a', 'b'], ['a', 'b'], ('a', 'b')]\n"
     ]
    }
   ],
   "source": [
    "a_list.append(['a','b'])\n",
    "print(a_list)\n",
    "a_list.append(('a','b'))\n",
    "print(a_list)"
   ]
  },
  {
   "cell_type": "code",
   "execution_count": 26,
   "metadata": {},
   "outputs": [
    {
     "name": "stdout",
     "output_type": "stream",
     "text": [
      "['a', 30, -2, 3.1]\n",
      "['a', 30, -2, 3.1]\n"
     ]
    }
   ],
   "source": [
    "b_list = ['a',30]\n",
    "b_list.extend((-2,3.1))\n",
    "print(b_list)\n",
    "\n",
    "b_list = ['a',30]\n",
    "b_list =  b_list + [-2,3.1]\n",
    "print(b_list)"
   ]
  },
  {
   "cell_type": "code",
   "execution_count": 27,
   "metadata": {},
   "outputs": [
    {
     "ename": "TypeError",
     "evalue": "can only concatenate list (not \"tuple\") to list",
     "output_type": "error",
     "traceback": [
      "\u001b[1;31m---------------------------------------------------------------------------\u001b[0m",
      "\u001b[1;31mTypeError\u001b[0m                                 Traceback (most recent call last)",
      "Cell \u001b[1;32mIn[27], line 2\u001b[0m\n\u001b[0;32m      1\u001b[0m b_list \u001b[38;5;241m=\u001b[39m [\u001b[38;5;124m'\u001b[39m\u001b[38;5;124ma\u001b[39m\u001b[38;5;124m'\u001b[39m,\u001b[38;5;241m30\u001b[39m]\n\u001b[1;32m----> 2\u001b[0m b_list \u001b[38;5;241m=\u001b[39m  \u001b[43mb_list\u001b[49m\u001b[43m \u001b[49m\u001b[38;5;241;43m+\u001b[39;49m\u001b[43m \u001b[49m\u001b[43m(\u001b[49m\u001b[38;5;241;43m-\u001b[39;49m\u001b[38;5;241;43m2\u001b[39;49m\u001b[43m,\u001b[49m\u001b[38;5;241;43m3.1\u001b[39;49m\u001b[43m)\u001b[49m\n\u001b[0;32m      3\u001b[0m \u001b[38;5;28mprint\u001b[39m(b_list)\n",
      "\u001b[1;31mTypeError\u001b[0m: can only concatenate list (not \"tuple\") to list"
     ]
    }
   ],
   "source": [
    "b_list = ['a',30]\n",
    "b_list =  b_list + (-2,3.1)\n",
    "print(b_list)"
   ]
  },
  {
   "cell_type": "code",
   "execution_count": 28,
   "metadata": {},
   "outputs": [
    {
     "name": "stdout",
     "output_type": "stream",
     "text": [
      "[1, 2, 3, 4, 5]\n",
      "[1, 2, 3, 'CRAZY', 4, 5]\n"
     ]
    }
   ],
   "source": [
    "c_list = list(range(1,6))\n",
    "print(c_list)\n",
    "c_list.insert(3,'CRAZY')\n",
    "print(c_list)"
   ]
  },
  {
   "cell_type": "code",
   "execution_count": 29,
   "metadata": {},
   "outputs": [
    {
     "name": "stdout",
     "output_type": "stream",
     "text": [
      "[1, 2, 3, ('c', 'r', 'a', 'z', 'y'), 'CRAZY', 4, 5]\n"
     ]
    }
   ],
   "source": [
    "c_list.insert(3,tuple('crazy'))\n",
    "print(c_list)"
   ]
  },
  {
   "cell_type": "markdown",
   "metadata": {},
   "source": [
    "### 2.3 Remove elements from List\n",
    "\n",
    "`del statement`: This is not a function but a Python statement. It removes an item at a **specific index** or **slices** of elements from the list. It can also delete the list entirely.\n"
   ]
  },
  {
   "cell_type": "code",
   "execution_count": 30,
   "metadata": {},
   "outputs": [
    {
     "name": "stdout",
     "output_type": "stream",
     "text": [
      "['a', 'c', 'd']\n"
     ]
    }
   ],
   "source": [
    "my_list = ['a', 'b', 'c', 'd']\n",
    "del my_list[1]  # Removes 'b'\n",
    "# Result: ['a', 'c', 'd']\n",
    "print(my_list)"
   ]
  },
  {
   "cell_type": "markdown",
   "metadata": {},
   "source": [
    "`remove()` method: Removes the **first occurrence** of a value without needing to know its index. If the item is not found, it raises a `ValueError`.\n"
   ]
  },
  {
   "cell_type": "code",
   "execution_count": 31,
   "metadata": {},
   "outputs": [
    {
     "name": "stdout",
     "output_type": "stream",
     "text": [
      "['apple', 'cherry']\n"
     ]
    }
   ],
   "source": [
    "my_list = ['apple', 'banana', 'cherry']\n",
    "my_list.remove('banana')  # Removes 'banana'\n",
    "# Result: ['apple', 'cherry']\n",
    "print(my_list)"
   ]
  },
  {
   "cell_type": "markdown",
   "metadata": {},
   "source": [
    "`pop()` method: Removes and **returns** an item at a given index (default is the last item). Without an argument, it removes the last item in the list.\n"
   ]
  },
  {
   "cell_type": "code",
   "execution_count": 32,
   "metadata": {},
   "outputs": [
    {
     "name": "stdout",
     "output_type": "stream",
     "text": [
      "[10, 20, 40, 50]\n"
     ]
    }
   ],
   "source": [
    "my_list = [10, 20, 30, 40, 50]\n",
    "removed_item = my_list.pop(2)  # Removes 30\n",
    "# Result: [10, 20, 40, 50], removed_item = 30\n",
    "print(my_list)"
   ]
  },
  {
   "cell_type": "markdown",
   "metadata": {},
   "source": [
    "`clear()` method: Empties the list, removing all items. The list remains, but it will have no content.\n"
   ]
  },
  {
   "cell_type": "code",
   "execution_count": 33,
   "metadata": {},
   "outputs": [
    {
     "name": "stdout",
     "output_type": "stream",
     "text": [
      "[]\n"
     ]
    }
   ],
   "source": [
    "my_list = [1, 2, 3, 4, 5]\n",
    "my_list.clear()  # Clears the list\n",
    "print(my_list)"
   ]
  },
  {
   "cell_type": "markdown",
   "metadata": {},
   "source": [
    "### 2.4 Other Popular Methods\n",
    "\n",
    "- `count()`: Return number of occurrences of value.\n",
    "- `index()`: Return first index of value.\n",
    "- `pop()`: Remove and return item at index (default last). [Using list as Stack]\n",
    "- `reverse()`: Reverse the elements in a list\n",
    "- `sort()`: Sort the elements in a list\n"
   ]
  },
  {
   "cell_type": "code",
   "execution_count": 34,
   "metadata": {},
   "outputs": [
    {
     "name": "stdout",
     "output_type": "stream",
     "text": [
      "2\n",
      "1\n"
     ]
    }
   ],
   "source": [
    "a_list = [2,30,'a',[5,30],30]\n",
    "print(a_list.count(30))\n",
    "print(a_list.count([5,30]))"
   ]
  },
  {
   "cell_type": "code",
   "execution_count": 35,
   "metadata": {},
   "outputs": [
    {
     "name": "stdout",
     "output_type": "stream",
     "text": [
      "1\n"
     ]
    }
   ],
   "source": [
    "a_list = [2,30,'a','b','crazyit',30]\n",
    "print(a_list.index(30))"
   ]
  },
  {
   "cell_type": "markdown",
   "metadata": {},
   "source": [
    "Search start from index 2\n"
   ]
  },
  {
   "cell_type": "code",
   "execution_count": 36,
   "metadata": {},
   "outputs": [
    {
     "name": "stdout",
     "output_type": "stream",
     "text": [
      "5\n"
     ]
    }
   ],
   "source": [
    "print(a_list.index(30,2))"
   ]
  },
  {
   "cell_type": "code",
   "execution_count": 37,
   "metadata": {},
   "outputs": [
    {
     "ename": "ValueError",
     "evalue": "30 is not in list",
     "output_type": "error",
     "traceback": [
      "\u001b[1;31m---------------------------------------------------------------------------\u001b[0m",
      "\u001b[1;31mValueError\u001b[0m                                Traceback (most recent call last)",
      "Cell \u001b[1;32mIn[37], line 1\u001b[0m\n\u001b[1;32m----> 1\u001b[0m \u001b[38;5;28mprint\u001b[39m(\u001b[43ma_list\u001b[49m\u001b[38;5;241;43m.\u001b[39;49m\u001b[43mindex\u001b[49m\u001b[43m(\u001b[49m\u001b[38;5;241;43m30\u001b[39;49m\u001b[43m,\u001b[49m\u001b[38;5;241;43m2\u001b[39;49m\u001b[43m,\u001b[49m\u001b[38;5;241;43m4\u001b[39;49m\u001b[43m)\u001b[49m)\n",
      "\u001b[1;31mValueError\u001b[0m: 30 is not in list"
     ]
    }
   ],
   "source": [
    "print(a_list.index(30,2,4))"
   ]
  },
  {
   "cell_type": "markdown",
   "metadata": {},
   "source": [
    "Search start of index from 2 to 4\n"
   ]
  },
  {
   "cell_type": "code",
   "execution_count": 38,
   "metadata": {},
   "outputs": [
    {
     "name": "stdout",
     "output_type": "stream",
     "text": [
      "[7, 6, 5, 4, 3, 2, 1]\n"
     ]
    }
   ],
   "source": [
    "a_list = list(range(1,8))\n",
    "a_list.reverse()\n",
    "print(a_list)"
   ]
  },
  {
   "cell_type": "code",
   "execution_count": 39,
   "metadata": {},
   "outputs": [
    {
     "name": "stdout",
     "output_type": "stream",
     "text": [
      "[-30, -2, 3, 3.4, 4, 9.3, 14]\n"
     ]
    }
   ],
   "source": [
    "a_list = [3,4,-2,-30,14,9.3,3.4]\n",
    "a_list.sort()\n",
    "print(a_list)"
   ]
  },
  {
   "cell_type": "code",
   "execution_count": 40,
   "metadata": {},
   "outputs": [
    {
     "name": "stdout",
     "output_type": "stream",
     "text": [
      "['Erlang', 'Go', 'Kotlin', 'Python', 'Ruby', 'Swift']\n"
     ]
    }
   ],
   "source": [
    "b_list = ['Python','Swift','Ruby','Go','Kotlin','Erlang']\n",
    "b_list.sort()\n",
    "print(b_list)"
   ]
  },
  {
   "cell_type": "markdown",
   "metadata": {},
   "source": [
    "Sort by given key func\n"
   ]
  },
  {
   "cell_type": "code",
   "execution_count": 42,
   "metadata": {},
   "outputs": [
    {
     "name": "stdout",
     "output_type": "stream",
     "text": [
      "['Go', 'Ruby', 'Swift', 'Erlang', 'Kotlin', 'Python']\n"
     ]
    },
    {
     "data": {
      "text/plain": [
       "['Erlang', 'Kotlin', 'Python', 'Swift', 'Ruby', 'Go']"
      ]
     },
     "execution_count": 42,
     "metadata": {},
     "output_type": "execute_result"
    }
   ],
   "source": [
    "b_list.sort(key = len)\n",
    "print(b_list)\n",
    "b_list.sort(key = len, reverse= True)\n",
    "b_list"
   ]
  },
  {
   "cell_type": "markdown",
   "metadata": {},
   "source": [
    "## 3. Shared property / methods of Tuple and List\n"
   ]
  },
  {
   "cell_type": "markdown",
   "metadata": {},
   "source": [
    "### 3.1 Addition\n"
   ]
  },
  {
   "cell_type": "code",
   "execution_count": 5,
   "metadata": {},
   "outputs": [
    {
     "name": "stdout",
     "output_type": "stream",
     "text": [
      "('crazyit', 20, -1.2, 127, 'crazyit', 'fkit', 3.33)\n",
      "('crazyit', 20, -1.2)\n",
      "(127, 'crazyit', 'fkit', 3.33)\n"
     ]
    }
   ],
   "source": [
    "a_tuple = ('crazyit',20,-1.2)\n",
    "b_tuple = (127,'crazyit','fkit',3.33)\n",
    "sum_tuple = a_tuple + b_tuple\n",
    "print(sum_tuple)\n",
    "print(a_tuple)\n",
    "print(b_tuple)"
   ]
  },
  {
   "cell_type": "code",
   "execution_count": 6,
   "metadata": {},
   "outputs": [
    {
     "name": "stdout",
     "output_type": "stream",
     "text": [
      "('crazyit', 20, -1.2, -20, -30)\n"
     ]
    }
   ],
   "source": [
    "print(a_tuple + (-20,-30))"
   ]
  },
  {
   "cell_type": "code",
   "execution_count": 14,
   "metadata": {},
   "outputs": [
    {
     "name": "stdout",
     "output_type": "stream",
     "text": [
      "[20, 30, 50, 100, 'a', 'b', 'c']\n",
      "[20, 30, 50, 100, 'fkit']\n"
     ]
    }
   ],
   "source": [
    "a_list = [20,30,50,100]\n",
    "b_list = ['a','b','c']\n",
    "sum_list = a_list + b_list\n",
    "print(sum_list)\n",
    "print(a_list + ['fkit'])"
   ]
  },
  {
   "cell_type": "markdown",
   "metadata": {},
   "source": [
    "### 3.2 Multiply\n"
   ]
  },
  {
   "cell_type": "code",
   "execution_count": 7,
   "metadata": {},
   "outputs": [
    {
     "name": "stdout",
     "output_type": "stream",
     "text": [
      "('crazyit', 20, -1.2, 'crazyit', 20, -1.2, 'crazyit', 20, -1.2)\n"
     ]
    }
   ],
   "source": [
    "mul_tuple = a_tuple * 3\n",
    "print(mul_tuple)"
   ]
  },
  {
   "cell_type": "code",
   "execution_count": 15,
   "metadata": {},
   "outputs": [
    {
     "name": "stdout",
     "output_type": "stream",
     "text": [
      "[30, 'Python', 2, 30, 'Python', 2, 30, 'Python', 2]\n"
     ]
    }
   ],
   "source": [
    "a_list = [30,'Python',2]\n",
    "mul_list = a_list * 3\n",
    "print(mul_list)"
   ]
  },
  {
   "cell_type": "markdown",
   "metadata": {},
   "source": [
    "Example for adding ending of date\n"
   ]
  },
  {
   "cell_type": "code",
   "execution_count": 16,
   "metadata": {},
   "outputs": [
    {
     "name": "stdout",
     "output_type": "stream",
     "text": [
      "('st', 'nd', 'rd', 'th', 'th', 'th', 'th', 'th', 'th', 'th', 'th', 'th', 'th', 'th', 'th', 'th', 'th', 'th', 'th', 'th', 'st', 'nd', 'rd', 'th', 'th', 'th', 'th', 'th', 'th', 'th', 'st')\n"
     ]
    }
   ],
   "source": [
    "order_endings = ('st','nd','rd')\\\n",
    "    + ('th',) * 17 + ('st','nd','rd')\\\n",
    "    + ('th',) * 7 + ('st',)\n",
    "print(order_endings)"
   ]
  },
  {
   "cell_type": "code",
   "execution_count": 17,
   "metadata": {},
   "outputs": [
    {
     "name": "stdout",
     "output_type": "stream",
     "text": [
      "28th\n"
     ]
    }
   ],
   "source": [
    "day = input(\"please enter a date(1-31)\")\n",
    "day_int = int(day)\n",
    "print(day + order_endings[day_int -1])"
   ]
  },
  {
   "cell_type": "markdown",
   "metadata": {},
   "source": [
    "### 3.3 Query elements use `in`\n"
   ]
  },
  {
   "cell_type": "code",
   "execution_count": 18,
   "metadata": {},
   "outputs": [
    {
     "name": "stdout",
     "output_type": "stream",
     "text": [
      "True\n",
      "False\n",
      "True\n"
     ]
    }
   ],
   "source": [
    "a_tuple = ('crazyit',20,-1.2)\n",
    "print(20 in a_tuple)\n",
    "print(1.2 in a_tuple)\n",
    "print('fkit' not in a_tuple)"
   ]
  },
  {
   "cell_type": "markdown",
   "metadata": {},
   "source": [
    "### 3.4 Statistics\n",
    "\n",
    "- `len()`\n",
    "- `max()`\n",
    "- `min()`\n"
   ]
  },
  {
   "cell_type": "code",
   "execution_count": 19,
   "metadata": {},
   "outputs": [
    {
     "name": "stdout",
     "output_type": "stream",
     "text": [
      "102\n",
      "-2\n",
      "6\n"
     ]
    }
   ],
   "source": [
    "a_tuple = (20,10,-2,15.2,102,50)\n",
    "print(max(a_tuple))\n",
    "print(min(a_tuple))\n",
    "print(len(a_tuple))"
   ]
  },
  {
   "cell_type": "code",
   "execution_count": 20,
   "metadata": {},
   "outputs": [
    {
     "name": "stdout",
     "output_type": "stream",
     "text": [
      "fkit\n",
      "Kotlin\n",
      "4\n"
     ]
    }
   ],
   "source": [
    "b_list = ['crazyit','fkit','Python','Kotlin']\n",
    "print(max(b_list))\n",
    "print(min(b_list))\n",
    "print(len(b_list))"
   ]
  },
  {
   "cell_type": "markdown",
   "metadata": {},
   "source": [
    "## 4. Dictionaries\n",
    "\n",
    "Dictionaries are mutable data types that store mappings of unique keys to values. Dictionaries are defined by enclosing key-value pairs in curly braces `{}`\n",
    "\n",
    "### 4.1 Creating a Dictionary\n",
    "\n",
    "To create a dictionary, you use curly braces with key-value pairs separated by colons.\n"
   ]
  },
  {
   "cell_type": "code",
   "execution_count": 44,
   "metadata": {},
   "outputs": [
    {
     "name": "stdout",
     "output_type": "stream",
     "text": [
      "{'name': 'Alice', 'age': 25}\n",
      "{'name': 'Alice', 'age': 25, 'city': 'New York'}\n"
     ]
    }
   ],
   "source": [
    "# A simple dictionary\n",
    "my_dict = {\"name\": \"Alice\", \"age\": 25}\n",
    "print(my_dict)\n",
    "\n",
    "# Adding a new key-value pair\n",
    "my_dict[\"city\"] = \"New York\"  # my_dict now includes \"city\": \"New York\"\n",
    "print(my_dict)"
   ]
  },
  {
   "cell_type": "markdown",
   "metadata": {},
   "source": [
    "Key could be tuple but not list!\n"
   ]
  },
  {
   "cell_type": "code",
   "execution_count": 46,
   "metadata": {},
   "outputs": [
    {
     "name": "stdout",
     "output_type": "stream",
     "text": [
      "{(20, 30): 'good', 30: 'bad'}\n"
     ]
    }
   ],
   "source": [
    "dict2 = {(20,30):'good',30:'bad'}\n",
    "print(dict2)\n",
    "# dict2 = {[20,30]:'good',30:'bad'}\n",
    "# print(dict2)"
   ]
  },
  {
   "cell_type": "markdown",
   "metadata": {},
   "source": [
    "Transfer List to Dictionary\n"
   ]
  },
  {
   "cell_type": "code",
   "execution_count": 47,
   "metadata": {},
   "outputs": [
    {
     "name": "stdout",
     "output_type": "stream",
     "text": [
      "{'celery': 1.58, 'brocoli': 1.29, 'lettuce': 2.19}\n"
     ]
    }
   ],
   "source": [
    "vegetables = [('celery',1.58),('brocoli',1.29),('lettuce',2.19)]\n",
    "dict3 = dict(vegetables)\n",
    "print(dict3)"
   ]
  },
  {
   "cell_type": "code",
   "execution_count": 48,
   "metadata": {},
   "outputs": [
    {
     "name": "stdout",
     "output_type": "stream",
     "text": [
      "{'BMW': 8.5, 'BENS': 8.3, 'AUDI': 7.9}\n"
     ]
    }
   ],
   "source": [
    "cars = [['BMW',8.5],['BENS',8.3],['AUDI',7.9]]\n",
    "dict4 = dict(cars)\n",
    "print(dict4)"
   ]
  },
  {
   "cell_type": "markdown",
   "metadata": {},
   "source": [
    "### 4.2 Basic Usage of Dictionary\n",
    "\n",
    "- Use key to `access` value\n",
    "- Use key to `add` key-value record\n",
    "- Use key to `delete` key-value record\n",
    "- Use key to `modify` key-value record\n",
    "- Use key to `search` key-value\n"
   ]
  },
  {
   "cell_type": "code",
   "execution_count": 49,
   "metadata": {},
   "outputs": [
    {
     "name": "stdout",
     "output_type": "stream",
     "text": [
      "92\n"
     ]
    }
   ],
   "source": [
    "scores = {'literature':89, 'Math': 92, 'English': 93}\n",
    "print(scores['Math'])"
   ]
  },
  {
   "cell_type": "code",
   "execution_count": 50,
   "metadata": {},
   "outputs": [
    {
     "name": "stdout",
     "output_type": "stream",
     "text": [
      "{'literature': 89, 'Math': 92}\n"
     ]
    }
   ],
   "source": [
    "del scores['English']\n",
    "print(scores)"
   ]
  },
  {
   "cell_type": "code",
   "execution_count": 51,
   "metadata": {},
   "outputs": [
    {
     "name": "stdout",
     "output_type": "stream",
     "text": [
      "True\n",
      "True\n"
     ]
    }
   ],
   "source": [
    "print('literature' in scores)\n",
    "print('gym' not in scores)"
   ]
  },
  {
   "cell_type": "markdown",
   "metadata": {},
   "source": [
    "### 4.3 Useful functions\n",
    "\n",
    "`clear()`\n"
   ]
  },
  {
   "cell_type": "code",
   "execution_count": 52,
   "metadata": {},
   "outputs": [
    {
     "data": {
      "text/plain": [
       "[['BMW', 8.5], ['BENS', 8.3], ['AUDI', 7.9]]"
      ]
     },
     "execution_count": 52,
     "metadata": {},
     "output_type": "execute_result"
    }
   ],
   "source": [
    "cars"
   ]
  },
  {
   "cell_type": "code",
   "execution_count": 53,
   "metadata": {},
   "outputs": [
    {
     "name": "stdout",
     "output_type": "stream",
     "text": [
      "[]\n"
     ]
    }
   ],
   "source": [
    "cars.clear()\n",
    "print(cars)"
   ]
  },
  {
   "cell_type": "markdown",
   "metadata": {},
   "source": [
    "`get()`: get values based on key\n"
   ]
  },
  {
   "cell_type": "code",
   "execution_count": 54,
   "metadata": {},
   "outputs": [
    {
     "name": "stdout",
     "output_type": "stream",
     "text": [
      "92\n",
      "None\n"
     ]
    }
   ],
   "source": [
    "print(scores.get('Math'))\n",
    "print(scores.get('gym'))"
   ]
  },
  {
   "cell_type": "markdown",
   "metadata": {},
   "source": [
    "`update()`\n"
   ]
  },
  {
   "cell_type": "code",
   "execution_count": 55,
   "metadata": {},
   "outputs": [
    {
     "name": "stdout",
     "output_type": "stream",
     "text": [
      "{'literature': 89, 'Math': 92}\n",
      "{'literature': 89, 'Math': 92, 'History': 89, 'English': 91}\n"
     ]
    }
   ],
   "source": [
    "print(scores)\n",
    "scores.update({'History':89, 'English':91})\n",
    "print(scores)"
   ]
  },
  {
   "cell_type": "markdown",
   "metadata": {},
   "source": [
    "- `items()`: get all key-value record\n",
    "- `keys()`: get all keys\n",
    "- `values()`: get all values\n"
   ]
  },
  {
   "cell_type": "code",
   "execution_count": 56,
   "metadata": {},
   "outputs": [
    {
     "name": "stdout",
     "output_type": "stream",
     "text": [
      "dict_items([('literature', 89), ('Math', 92), ('History', 89), ('English', 91)])\n",
      "<class 'dict_items'>\n"
     ]
    }
   ],
   "source": [
    "subjects = scores.items()\n",
    "print(subjects)\n",
    "print(type(subjects))"
   ]
  },
  {
   "cell_type": "code",
   "execution_count": 57,
   "metadata": {},
   "outputs": [
    {
     "name": "stdout",
     "output_type": "stream",
     "text": [
      "<class 'dict_keys'>\n",
      "dict_keys(['literature', 'Math', 'History', 'English'])\n"
     ]
    }
   ],
   "source": [
    "kys = scores.keys()\n",
    "print(type(kys))\n",
    "print(kys)"
   ]
  },
  {
   "cell_type": "code",
   "execution_count": 58,
   "metadata": {},
   "outputs": [
    {
     "name": "stdout",
     "output_type": "stream",
     "text": [
      "<class 'dict_values'>\n",
      "dict_values([89, 92, 89, 91])\n"
     ]
    }
   ],
   "source": [
    "vals = scores.values()\n",
    "print(type(vals))\n",
    "print(vals)"
   ]
  },
  {
   "cell_type": "markdown",
   "metadata": {},
   "source": [
    "`pop()` and `popitem()`\n"
   ]
  },
  {
   "cell_type": "code",
   "execution_count": 59,
   "metadata": {},
   "outputs": [
    {
     "name": "stdout",
     "output_type": "stream",
     "text": [
      "{'literature': 89, 'Math': 92, 'History': 89, 'English': 91}\n",
      "91\n",
      "{'literature': 89, 'Math': 92, 'History': 89}\n"
     ]
    }
   ],
   "source": [
    "print(scores)\n",
    "print(scores.pop('English'))\n",
    "print(scores)"
   ]
  },
  {
   "cell_type": "code",
   "execution_count": 60,
   "metadata": {},
   "outputs": [
    {
     "name": "stdout",
     "output_type": "stream",
     "text": [
      "('History', 89)\n",
      "{'literature': 89, 'Math': 92}\n"
     ]
    }
   ],
   "source": [
    "print(scores.popitem())\n",
    "print(scores)"
   ]
  },
  {
   "cell_type": "code",
   "execution_count": 61,
   "metadata": {},
   "outputs": [
    {
     "name": "stdout",
     "output_type": "stream",
     "text": [
      "Math 92\n"
     ]
    }
   ],
   "source": [
    "k,v = scores.popitem()\n",
    "print(k,v)"
   ]
  },
  {
   "cell_type": "markdown",
   "metadata": {},
   "source": [
    "### 4.3 setdefault() and fromkeys()\n",
    "\n",
    "- `setdefault()` Return the value of given key, if given key not exist in the origin dictionary, would return the given value.\n",
    "- `fromkeys() `Create dictionary from given list, using the elements from list as keys\n"
   ]
  },
  {
   "cell_type": "code",
   "execution_count": 62,
   "metadata": {},
   "outputs": [
    {
     "name": "stdout",
     "output_type": "stream",
     "text": [
      "9.2\n",
      "{'BMW': 8.5, 'BENS': 8.3, 'AUDI': 7.9, 'PORSCHE': 9.2}\n"
     ]
    }
   ],
   "source": [
    "cars = {'BMW':8.5, 'BENS':8.3, 'AUDI':7.9}\n",
    "print(cars.setdefault('PORSCHE',9.2))\n",
    "print(cars)"
   ]
  },
  {
   "cell_type": "code",
   "execution_count": 63,
   "metadata": {},
   "outputs": [
    {
     "name": "stdout",
     "output_type": "stream",
     "text": [
      "8.3\n",
      "{'BMW': 8.5, 'BENS': 8.3, 'AUDI': 7.9, 'PORSCHE': 9.2}\n"
     ]
    }
   ],
   "source": [
    "print(cars.setdefault('BENS',5.2))\n",
    "print(cars)"
   ]
  },
  {
   "cell_type": "code",
   "execution_count": 64,
   "metadata": {},
   "outputs": [
    {
     "name": "stdout",
     "output_type": "stream",
     "text": [
      "{'a': None, 'b': None}\n"
     ]
    }
   ],
   "source": [
    "a_dict = dict.fromkeys(['a','b'])\n",
    "print(a_dict)"
   ]
  },
  {
   "cell_type": "code",
   "execution_count": 65,
   "metadata": {},
   "outputs": [
    {
     "name": "stdout",
     "output_type": "stream",
     "text": [
      "{13: None, 17: None}\n"
     ]
    }
   ],
   "source": [
    "b_dict = dict.fromkeys((13,17))\n",
    "print(b_dict)"
   ]
  },
  {
   "cell_type": "code",
   "execution_count": 66,
   "metadata": {},
   "outputs": [
    {
     "name": "stdout",
     "output_type": "stream",
     "text": [
      "{13: 'good', 17: 'good'}\n"
     ]
    }
   ],
   "source": [
    "c_dict = dict.fromkeys((13,17),'good')\n",
    "print(c_dict)"
   ]
  },
  {
   "cell_type": "markdown",
   "metadata": {},
   "source": [
    "### 4.4 Using dictionary to format string\n"
   ]
  },
  {
   "cell_type": "code",
   "execution_count": 67,
   "metadata": {},
   "outputs": [
    {
     "name": "stdout",
     "output_type": "stream",
     "text": [
      "book name is Crazy Python, price is 078.90, published by who cares\n"
     ]
    }
   ],
   "source": [
    "temp = 'book name is %(name)s, price is %(price)06.2f, published by %(publish)s'\n",
    "book = {'name':'Crazy Python','price':78.9,'publish':'who cares'}\n",
    "print(temp % book)"
   ]
  },
  {
   "cell_type": "code",
   "execution_count": 68,
   "metadata": {},
   "outputs": [
    {
     "name": "stdout",
     "output_type": "stream",
     "text": [
      "book name is Crazy JAVA, price is 088.90, published by I do not know\n"
     ]
    }
   ],
   "source": [
    "book = {'name':'Crazy JAVA','price':88.9,'publish':'I do not know'}\n",
    "print(temp % book)"
   ]
  }
 ],
 "metadata": {
  "kernelspec": {
   "display_name": "mybase",
   "language": "python",
   "name": "python3"
  },
  "language_info": {
   "codemirror_mode": {
    "name": "ipython",
    "version": 3
   },
   "file_extension": ".py",
   "mimetype": "text/x-python",
   "name": "python",
   "nbconvert_exporter": "python",
   "pygments_lexer": "ipython3",
   "version": "3.11.4"
  }
 },
 "nbformat": 4,
 "nbformat_minor": 2
}
