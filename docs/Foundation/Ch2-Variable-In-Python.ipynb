{
 "cells": [
  {
   "cell_type": "markdown",
   "metadata": {},
   "source": [
    "## Chapter 2: Understanding Variables in Python\n",
    "\n",
    "Welcome to Chapter 2 of our Python programming course! In this chapter, we'll delve into one of the foundational concepts of programming in Python: `variables`.\n",
    "Understanding variables is crucial as they are the basic units for storing data in any programming language.\n",
    "In Python, variables are even more interesting due to the language's dynamic nature.\n",
    "\n",
    "Python is often described as a `weakly typed` or `dynamically typed` language. This means two things in practice:\n",
    "\n",
    "1. You don't need to declare variables before using them. You simply create them when you assign a value to them.\n",
    "2. The type of a variable can change over time, as you assign new values of different types to the same variable.\n",
    "\n",
    "This flexibility makes Python an extremely user-friendly language, especially for beginners. However, it's essential to understand how to use this flexibility to your advantage while writing clear and error-free code.\n",
    "\n",
    "In this chapter, we will cover:\n",
    "\n",
    "- How to use comments to make your code more readable.\n",
    "- The basics of variables in Python, including naming conventions and assignment.\n",
    "- Different types of variables available in Python, such as `integers`, `strings`, `floats`, and more complex types like `lists`, `tuples`, `sets`, `dictionaries`, and `bytes`.\n",
    "- How to work with each type of variable, including operations you can perform on them.\n"
   ]
  },
  {
   "cell_type": "markdown",
   "metadata": {},
   "source": [
    "## 0. The naming rule for variables\n",
    "\n",
    "- It could contain numbers, letters, underline. but **not start with numbers**.\n",
    "- Could not contain space\n",
    "- Could not be reserved characters of python, such as `False`\n"
   ]
  },
  {
   "cell_type": "markdown",
   "metadata": {},
   "source": [
    "## 1. Comments in Python\n",
    "\n",
    "Comments are not executed by the Python interpreter. They are meant for programmers to leave notes, explanations, or comments within the code for human readers. Comments are crucial for maintaining code, especially when working in teams or when you return to your own code after some time.\n"
   ]
  },
  {
   "cell_type": "markdown",
   "metadata": {},
   "source": [
    "### 1.1 Single-line Comments\n",
    "\n",
    "Single-line comments start with a `#` symbol. Anything following the # on that line is considered a comment and is ignored by Python.\n"
   ]
  },
  {
   "cell_type": "code",
   "execution_count": 1,
   "metadata": {},
   "outputs": [
    {
     "name": "stdout",
     "output_type": "stream",
     "text": [
      "Hello, World!\n"
     ]
    }
   ],
   "source": [
    "# This is a single-line comment\n",
    "print(\"Hello, World!\")  # This is a comment following a statement"
   ]
  },
  {
   "cell_type": "markdown",
   "metadata": {},
   "source": [
    "### 1.2 Multi-line Comments\n",
    "\n",
    "For comments that extend over multiple lines, you can either use the # symbol at the beginning of each line or use triple quotes (`'''` or `\"\"\"`). Although not technically a comment, triple quotes are often used as multi-line comments in Python.\n"
   ]
  },
  {
   "cell_type": "code",
   "execution_count": 2,
   "metadata": {},
   "outputs": [
    {
     "data": {
      "text/plain": [
       "'\\nThis is a multi-line comment\\nspanning multiple lines\\n'"
      ]
     },
     "execution_count": 2,
     "metadata": {},
     "output_type": "execute_result"
    }
   ],
   "source": [
    "'''\n",
    "This is a multi-line comment\n",
    "spanning multiple lines\n",
    "'''\n",
    "# This is another way to\n",
    "# write multi-line comments"
   ]
  },
  {
   "cell_type": "markdown",
   "metadata": {},
   "source": [
    "## 2. Set Variable and Print it\n",
    "\n",
    "### 2.1 Weakly typed Language\n"
   ]
  },
  {
   "cell_type": "code",
   "execution_count": 20,
   "metadata": {},
   "outputs": [
    {
     "data": {
      "text/plain": [
       "(5, int)"
      ]
     },
     "execution_count": 20,
     "metadata": {},
     "output_type": "execute_result"
    }
   ],
   "source": [
    "a = 5\n",
    "a,type(a)"
   ]
  },
  {
   "cell_type": "code",
   "execution_count": 21,
   "metadata": {},
   "outputs": [
    {
     "data": {
      "text/plain": [
       "('Hello,Charlie', str)"
      ]
     },
     "execution_count": 21,
     "metadata": {},
     "output_type": "execute_result"
    }
   ],
   "source": [
    "a = 'Hello,Charlie'\n",
    "a,type(a)"
   ]
  },
  {
   "cell_type": "markdown",
   "metadata": {},
   "source": [
    "### 2.2 Use `print()` to print the output\n"
   ]
  },
  {
   "cell_type": "code",
   "execution_count": 22,
   "metadata": {},
   "outputs": [
    {
     "name": "stdout",
     "output_type": "stream",
     "text": [
      "Reader name: Charlie Age: 8\n"
     ]
    }
   ],
   "source": [
    "user_name = 'Charlie'\n",
    "user_age = 8\n",
    "print(\"Reader name:\",user_name, \"Age:\",user_age)"
   ]
  },
  {
   "cell_type": "code",
   "execution_count": 25,
   "metadata": {},
   "outputs": [
    {
     "name": "stdout",
     "output_type": "stream",
     "text": [
      "Reader name: Charlie, Age:8\n"
     ]
    }
   ],
   "source": [
    "print(f\"Reader name: {user_name}, Age:{user_age}\")"
   ]
  },
  {
   "cell_type": "markdown",
   "metadata": {},
   "source": [
    "Using the given characters as the delimiter\n"
   ]
  },
  {
   "cell_type": "code",
   "execution_count": 26,
   "metadata": {},
   "outputs": [
    {
     "name": "stdout",
     "output_type": "stream",
     "text": [
      "Reader name : Charlie : Age : 8\n"
     ]
    }
   ],
   "source": [
    "print(\"Reader name\",user_name, \"Age\",user_age,sep= ' : ')"
   ]
  },
  {
   "cell_type": "markdown",
   "metadata": {},
   "source": [
    "Setting the `end` parameter\n"
   ]
  },
  {
   "cell_type": "code",
   "execution_count": 27,
   "metadata": {},
   "outputs": [
    {
     "name": "stdout",
     "output_type": "stream",
     "text": [
      "40 \t50 \t"
     ]
    }
   ],
   "source": [
    "print(40,'\\t',end = '')\n",
    "print(50,'\\t',end = '')"
   ]
  },
  {
   "cell_type": "markdown",
   "metadata": {},
   "source": [
    "### 2.3 Print the output into a file\n"
   ]
  },
  {
   "cell_type": "code",
   "execution_count": 28,
   "metadata": {},
   "outputs": [],
   "source": [
    "with open(\"poem.txt\",\"w\") as f:\n",
    "    print('In the end she just wanted the house',file = f)\n",
    "    print('and a horse not much more what',file = f)\n",
    "    print('if  he didn’t own the house or worse',file = f)\n",
    "    print('not even a horse how do we',file = f)"
   ]
  },
  {
   "cell_type": "code",
   "execution_count": 29,
   "metadata": {},
   "outputs": [
    {
     "data": {
      "text/plain": [
       "'In the end she just wanted the house\\nand a horse not much more what\\nif \\u200ahe didn’t own the house or worse\\nnot even a horse how do we\\n'"
      ]
     },
     "execution_count": 29,
     "metadata": {},
     "output_type": "execute_result"
    }
   ],
   "source": [
    "with open(\"poem.txt\", \"r\") as file:\n",
    "    content = file.read()\n",
    "\n",
    "content"
   ]
  },
  {
   "cell_type": "markdown",
   "metadata": {},
   "source": [
    "## 3. Numeric Type\n",
    "\n",
    "Python supports various numeric types, including integers (int), floating-point numbers (float), and complex numbers (complex)\n"
   ]
  },
  {
   "cell_type": "markdown",
   "metadata": {},
   "source": [
    "### 3.1 int type\n",
    "\n",
    "The `int` type variables in python have four forms\n",
    "\n",
    "- Decimal Number\n",
    "- `Binary` Number: Start with '0b' or '0B'\n",
    "- `Octal` Number: Start with '0o' or '0O'\n",
    "- `Hex` Number: Start with '0x' or '0X', and use `a~f` to represent `10-15`\n"
   ]
  },
  {
   "cell_type": "code",
   "execution_count": 6,
   "metadata": {},
   "outputs": [
    {
     "name": "stdout",
     "output_type": "stream",
     "text": [
      "56\n",
      "9999999999999999999999\n",
      "<class 'int'>\n"
     ]
    }
   ],
   "source": [
    "a = 56\n",
    "print(a)\n",
    "# set a as a very large number\n",
    "a = 9999999999999999999999\n",
    "print(a)\n",
    "print(type(a))"
   ]
  },
  {
   "cell_type": "code",
   "execution_count": 7,
   "metadata": {},
   "outputs": [
    {
     "name": "stdout",
     "output_type": "stream",
     "text": [
      "Binary Number: 7\n",
      "Hex Number: 19\n",
      "Octal Number: 44\n"
     ]
    }
   ],
   "source": [
    "hex_value1 = 0x13\n",
    "bin_val = 0b111\n",
    "oct_val = 0o54\n",
    "print('Binary Number:',bin_val)\n",
    "print('Hex Number:',hex_value1)\n",
    "print('Octal Number:',oct_val)"
   ]
  },
  {
   "cell_type": "markdown",
   "metadata": {},
   "source": [
    "In Python, the underscore `_` used within a number is a **digit separator** that has been available since Python 3.6.  \n",
    "It allows for better readability of large numbers by grouping digits in a way similar to how some cultures use commas, periods, or spaces.\n"
   ]
  },
  {
   "cell_type": "code",
   "execution_count": 8,
   "metadata": {},
   "outputs": [
    {
     "name": "stdout",
     "output_type": "stream",
     "text": [
      "1000000\n"
     ]
    }
   ],
   "source": [
    "one_million = 1_000_000\n",
    "print(one_million)"
   ]
  },
  {
   "cell_type": "markdown",
   "metadata": {},
   "source": [
    "### 3.1 Float type\n",
    "\n",
    "Floating-point numbers (`float`) represent real numbers and can include a decimal point.\n"
   ]
  },
  {
   "cell_type": "code",
   "execution_count": 9,
   "metadata": {},
   "outputs": [
    {
     "name": "stdout",
     "output_type": "stream",
     "text": [
      "5.234556\n",
      "25.2345\n",
      "<class 'float'>\n"
     ]
    }
   ],
   "source": [
    "af1 = 5.234556\n",
    "print(af1)\n",
    "af2 = 25.2345\n",
    "print(af2)\n",
    "print(type(af2))"
   ]
  },
  {
   "cell_type": "code",
   "execution_count": 10,
   "metadata": {},
   "outputs": [
    {
     "name": "stdout",
     "output_type": "stream",
     "text": [
      "f1: 512.0 Type: <class 'float'>\n",
      "f2: 5000.0 Type: <class 'float'>\n"
     ]
    }
   ],
   "source": [
    "f1 = 5.12e2\n",
    "f2 = 5e3\n",
    "print('f1:',f1,'Type:',type(f1))\n",
    "print('f2:',f2,'Type:',type(f2))"
   ]
  },
  {
   "cell_type": "markdown",
   "metadata": {},
   "source": [
    "## 4. String Type and Operations\n",
    "\n",
    "Strings in Python are created by enclosing characters in quotes. You can use either single quotes (`'`) or double quotes (`\"`), depending on what suits your needs. Once you have created a string, there are several basic operations you can perform on it, such as `concatenation`, `repetition`, and more.\n"
   ]
  },
  {
   "cell_type": "markdown",
   "metadata": {},
   "source": [
    "### 4.1 Creating Strings\n",
    "\n",
    "To create a string, simply enclose your text in single or double quotes. Python treats both equally, allowing you to choose based on convenience and readability.\n"
   ]
  },
  {
   "cell_type": "code",
   "execution_count": 3,
   "metadata": {},
   "outputs": [],
   "source": [
    "# Single quotes\n",
    "single_quoted_string = 'Hello, Python!'\n",
    "\n",
    "# Double quotes\n",
    "double_quoted_string = \"Hello, Python!\""
   ]
  },
  {
   "cell_type": "markdown",
   "metadata": {},
   "source": [
    "If you type 2 strings close with each other, python would merge them automatically\n"
   ]
  },
  {
   "cell_type": "code",
   "execution_count": 12,
   "metadata": {},
   "outputs": [
    {
     "name": "stdout",
     "output_type": "stream",
     "text": [
      "Hello,Charlie\n"
     ]
    }
   ],
   "source": [
    "s1 = \"Hello,\" 'Charlie'\n",
    "print(s1)"
   ]
  },
  {
   "cell_type": "markdown",
   "metadata": {},
   "source": [
    "### 4.2 Concatenation\n",
    "\n",
    "You can join two or more strings into one using the `+` operator. This operation is known as concatenation.\n"
   ]
  },
  {
   "cell_type": "code",
   "execution_count": 4,
   "metadata": {},
   "outputs": [
    {
     "name": "stdout",
     "output_type": "stream",
     "text": [
      "Hello, Python!\n"
     ]
    }
   ],
   "source": [
    "# Concatenating two strings\n",
    "greeting = \"Hello, \"\n",
    "name = \"Python!\"\n",
    "welcome_message = greeting + name\n",
    "print(welcome_message)  # Output: Hello, Python!"
   ]
  },
  {
   "cell_type": "markdown",
   "metadata": {},
   "source": [
    "### 4.3 Repetition\n",
    "\n",
    "Strings can be repeated a specified number of times using the `*` operator, providing a simple way to repeat a string.\n"
   ]
  },
  {
   "cell_type": "code",
   "execution_count": 5,
   "metadata": {},
   "outputs": [
    {
     "name": "stdout",
     "output_type": "stream",
     "text": [
      "HaHaHa\n"
     ]
    }
   ],
   "source": [
    "# Repeating a string\n",
    "laugh = \"Ha\"\n",
    "laughing = laugh * 3\n",
    "print(laughing)  # Output: HaHaHa"
   ]
  },
  {
   "cell_type": "markdown",
   "metadata": {},
   "source": [
    "### 4.4 Escape character\n",
    "\n",
    "The escape character allows you to use characters that are otherwise impossible to put into a string, such as a `newline`, `tab`, or even the `backslash` itself.\n",
    "\n",
    "- `\\n`: Inserts a **newline** in the text at this point.\n",
    "- `\\t`: Inserts a **tab** in the text at this point.\n",
    "- `\\\\`: Inserts a **backslash** (`\\`) in the text at this point.\n",
    "- `\\\"`: Inserts a **double quote character** in the text at this point, which is particularly useful in strings that are surrounded by double quotes.\n",
    "- `\\'`: Inserts a **single quote character** in the text at this point, which is useful in strings that are surrounded by single quotes.\n"
   ]
  },
  {
   "cell_type": "code",
   "execution_count": 11,
   "metadata": {},
   "outputs": [
    {
     "name": "stdout",
     "output_type": "stream",
     "text": [
      "Hello\n",
      "World!\n",
      "This is a tab\texample.\n",
      "This is a double quote \" symbol inside a string.\n",
      "This is a single quote ' symbol inside a string.\n",
      "This is a backslash \\ symbol inside a string.\n"
     ]
    }
   ],
   "source": [
    "print(\"Hello\\nWorld!\")  # This will print \"Hello\" and \"World!\" on two separate lines.\n",
    "print(\"This is a tab\\texample.\")  # This will include a tab space between \"a\" and \"tab\".\n",
    "print(\"This is a double quote \\\" symbol inside a string.\")  # This will include a double quote in the string.\n",
    "print('This is a single quote \\' symbol inside a string.')  # This will include a single quote in the string.\n",
    "print(\"This is a backslash \\\\ symbol inside a string.\")  # This will include a backslash in the string."
   ]
  },
  {
   "cell_type": "markdown",
   "metadata": {},
   "source": [
    "### 4.5 Type cast from numeric to string\n",
    "\n",
    "Python does not allow us to combine numeric type with strings, for doing that, we should use `repr()` or `str()` to transfer numeric to string.\n"
   ]
  },
  {
   "cell_type": "code",
   "execution_count": 13,
   "metadata": {},
   "outputs": [
    {
     "ename": "TypeError",
     "evalue": "can only concatenate str (not \"float\") to str",
     "output_type": "error",
     "traceback": [
      "\u001b[1;31m---------------------------------------------------------------------------\u001b[0m",
      "\u001b[1;31mTypeError\u001b[0m                                 Traceback (most recent call last)",
      "Cell \u001b[1;32mIn[13], line 4\u001b[0m\n\u001b[0;32m      2\u001b[0m p \u001b[38;5;241m=\u001b[39m \u001b[38;5;241m99.8\u001b[39m\n\u001b[0;32m      3\u001b[0m \u001b[38;5;66;03m# Could not work\u001b[39;00m\n\u001b[1;32m----> 4\u001b[0m \u001b[38;5;28mprint\u001b[39m(\u001b[43ms1\u001b[49m\u001b[43m \u001b[49m\u001b[38;5;241;43m+\u001b[39;49m\u001b[43m \u001b[49m\u001b[43mp\u001b[49m)\n",
      "\u001b[1;31mTypeError\u001b[0m: can only concatenate str (not \"float\") to str"
     ]
    }
   ],
   "source": [
    "s1 = 'The price of this book is:'\n",
    "p = 99.8\n",
    "# Could not work\n",
    "print(s1 + p)"
   ]
  },
  {
   "cell_type": "markdown",
   "metadata": {},
   "source": [
    "In the next sections, we will delve into more complex operations and techniques to manipulate strings, enhancing your ability to handle text data effectively in Python.\n"
   ]
  },
  {
   "cell_type": "code",
   "execution_count": 14,
   "metadata": {},
   "outputs": [
    {
     "name": "stdout",
     "output_type": "stream",
     "text": [
      "The price of this book is:99.8\n"
     ]
    }
   ],
   "source": [
    "print(s1 + str(p))"
   ]
  },
  {
   "cell_type": "code",
   "execution_count": 15,
   "metadata": {},
   "outputs": [
    {
     "name": "stdout",
     "output_type": "stream",
     "text": [
      "The price of this book is:99.8\n"
     ]
    }
   ],
   "source": [
    "print(s1 + repr(p))"
   ]
  },
  {
   "cell_type": "markdown",
   "metadata": {},
   "source": [
    "`repr` would also transfer strings to a expression\n"
   ]
  },
  {
   "cell_type": "code",
   "execution_count": 16,
   "metadata": {},
   "outputs": [
    {
     "name": "stdout",
     "output_type": "stream",
     "text": [
      "I love python\n",
      "'I love python'\n"
     ]
    }
   ],
   "source": [
    "st = 'I love python'\n",
    "print(st)\n",
    "print(repr(st))"
   ]
  },
  {
   "cell_type": "markdown",
   "metadata": {},
   "source": [
    "### 4.6 Raw String\n",
    "\n",
    "Raw string start with `r`, within this string, `\\` could not be treated as `escape characters`.\n"
   ]
  },
  {
   "cell_type": "code",
   "execution_count": 17,
   "metadata": {},
   "outputs": [
    {
     "name": "stdout",
     "output_type": "stream",
     "text": [
      "This is a raw string, so \\n and \\t won't be interpreted as escape characters.\n"
     ]
    }
   ],
   "source": [
    "raw_string = r\"This is a raw string, so \\n and \\t won't be interpreted as escape characters.\"\n",
    "print(raw_string)"
   ]
  },
  {
   "cell_type": "markdown",
   "metadata": {},
   "source": [
    "Raw strings are particularly useful when dealing with `regular expressions`, `file paths`, `URLs`, and other scenarios where backslashes frequently occur and are intended to be interpreted literally:\n"
   ]
  },
  {
   "cell_type": "code",
   "execution_count": 18,
   "metadata": {},
   "outputs": [
    {
     "name": "stdout",
     "output_type": "stream",
     "text": [
      "C:\\Users\\Username\\Documents\\File.txt\n"
     ]
    }
   ],
   "source": [
    "# Using a raw string for a Windows file path\n",
    "file_path = r\"C:\\Users\\Username\\Documents\\File.txt\"\n",
    "print(file_path)"
   ]
  }
 ],
 "metadata": {
  "kernelspec": {
   "display_name": "mybase",
   "language": "python",
   "name": "python3"
  },
  "language_info": {
   "codemirror_mode": {
    "name": "ipython",
    "version": 3
   },
   "file_extension": ".py",
   "mimetype": "text/x-python",
   "name": "python",
   "nbconvert_exporter": "python",
   "pygments_lexer": "ipython3",
   "version": "3.11.4"
  }
 },
 "nbformat": 4,
 "nbformat_minor": 2
}
