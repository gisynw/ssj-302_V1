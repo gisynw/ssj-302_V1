{
 "cells": [
  {
   "cell_type": "markdown",
   "metadata": {},
   "source": [
    "# Pygal"
   ]
  },
  {
   "cell_type": "markdown",
   "metadata": {},
   "source": [
    "## 1. Basic usage of Pygal\n",
    "* Create a `pygal` object\n",
    "* Using `add()` to add data\n",
    "* Using `Config` to do the plot formatting\n",
    "* Using `render_to_xxx` to explore plot"
   ]
  },
  {
   "cell_type": "code",
   "execution_count": 7,
   "metadata": {},
   "outputs": [],
   "source": [
    "import pygal\n",
    "from IPython.display import SVG, display"
   ]
  },
  {
   "cell_type": "code",
   "execution_count": 15,
   "metadata": {},
   "outputs": [],
   "source": [
    "x_data = ['2011','2012','2013','2014','2015','2016','2017']\n",
    "y_data = [58000,60200,63000,71000,84000,90500,107000]\n",
    "y_data2 = [52000,54200,51500,58300,56800,59500,62700]\n",
    "\n",
    "# Draw the histogram\n",
    "bar = pygal.Bar()\n",
    "\n",
    "bar.add('Crazy Java', y_data2)\n",
    "bar.add('Crazy Python',y_data)\n",
    "\n",
    "bar.x_labels = x_data\n",
    "bar.title = 'Sales of books'\n",
    "bar.x_title = 'Year'\n",
    "bar.y_title = 'Sales'\n",
    "\n",
    "# explore it to .png file\n",
    "bar.render_to_file('fk_books.svg')"
   ]
  },
  {
   "cell_type": "markdown",
   "metadata": {},
   "source": [
    "<img src='fk_books.svg'> "
   ]
  },
  {
   "cell_type": "markdown",
   "metadata": {},
   "source": [
    "## 2. Plot Formatting"
   ]
  },
  {
   "cell_type": "code",
   "execution_count": 13,
   "metadata": {},
   "outputs": [],
   "source": [
    "# Draw the histogram\n",
    "bar = pygal.Bar()\n",
    "\n",
    "bar.add('Crazy Java', y_data2)\n",
    "bar.add('Crazy Python',y_data)\n",
    "\n",
    "bar.x_labels = x_data\n",
    "bar.title = 'Sales of books'\n",
    "bar.x_title = 'Year'\n",
    "bar.y_title = 'Sales'\n",
    "\n",
    "# rotate x axis\n",
    "bar.x_label_rotation = 45\n",
    "# Put legend into bottom\n",
    "bar.legend_at_bottom = True\n",
    "\n",
    "# Set margin\n",
    "bar.margin = 35\n",
    "\n",
    "bar.show_y_guides = False\n",
    "bar.show_x_guides = True\n",
    "\n",
    "bar.render_to_file('fk_books2.svg')"
   ]
  },
  {
   "cell_type": "markdown",
   "metadata": {},
   "source": [
    "<img src='fk_books2.svg'> "
   ]
  }
 ],
 "metadata": {
  "kernelspec": {
   "display_name": "TensorFlow(GPU)",
   "language": "python",
   "name": "tf-gpu"
  },
  "language_info": {
   "codemirror_mode": {
    "name": "ipython",
    "version": 3
   },
   "file_extension": ".py",
   "mimetype": "text/x-python",
   "name": "python",
   "nbconvert_exporter": "python",
   "pygments_lexer": "ipython3",
   "version": "3.7.6"
  }
 },
 "nbformat": 4,
 "nbformat_minor": 4
}
