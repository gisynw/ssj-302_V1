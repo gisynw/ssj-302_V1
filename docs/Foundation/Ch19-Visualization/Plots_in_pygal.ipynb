{
 "cells": [
  {
   "cell_type": "markdown",
   "metadata": {},
   "source": [
    "# Plots in Pygal"
   ]
  },
  {
   "cell_type": "markdown",
   "metadata": {},
   "source": [
    "## 1. Linear chart"
   ]
  },
  {
   "cell_type": "code",
   "execution_count": 1,
   "metadata": {},
   "outputs": [],
   "source": [
    "import pygal"
   ]
  },
  {
   "cell_type": "code",
   "execution_count": 3,
   "metadata": {},
   "outputs": [],
   "source": [
    "x_data = ['2011','2012','2013','2014','2015','2016','2017']\n",
    "y_data = [58000,60200,63000,71000,84000,90500,107000]\n",
    "y_data2 = [52000,54200,51500,58300,56800,59500,62700]\n",
    "\n",
    "# Draw Linear chart\n",
    "line = pygal.Line()\n",
    "line.add('Crazy Java',y_data2)\n",
    "line.add('Crazy Python',y_data)\n",
    "\n",
    "line.x_labels = x_data\n",
    "line.y_labels = [20000,40000,60000,80000,100000]\n",
    "line.title = 'Sales of book'\n",
    "\n",
    "line.x_title = 'Year'\n",
    "line.y_title = 'Sales'\n",
    "line.legend_at_bottom = True\n",
    "\n",
    "# Explore plot into a file\n",
    "line.render_to_file('fk_books3.svg')"
   ]
  },
  {
   "cell_type": "markdown",
   "metadata": {},
   "source": [
    "<img src = 'fk_books3.svg'>"
   ]
  },
  {
   "cell_type": "markdown",
   "metadata": {},
   "source": [
    "## 2. Horizontal histogram\n",
    "In horizontal histogram, **`x_labels` indicates y axis, `y_labels` indicates x axis**"
   ]
  },
  {
   "cell_type": "code",
   "execution_count": 5,
   "metadata": {},
   "outputs": [],
   "source": [
    "# Draw the histogram\n",
    "horizontal_bar = pygal.HorizontalBar()\n",
    "horizontal_bar.add('Crazy Java',y_data2)\n",
    "horizontal_bar.add('Crazy Python',y_data)\n",
    "\n",
    "horizontal_bar.x_labels = x_data\n",
    "horizontal_bar.y_labels = [20000,40000,60000,80000,100000]\n",
    "horizontal_bar.title = 'Sales of book'\n",
    "\n",
    "horizontal_bar.x_title = 'Sales'\n",
    "horizontal_bar.y_title = 'Year'\n",
    "\n",
    "horizontal_bar.lengend_at_bottom = True\n",
    "horizontal_bar.render_to_file('fk_books4.svg')"
   ]
  },
  {
   "cell_type": "markdown",
   "metadata": {},
   "source": [
    "<img src = 'fk_books4.svg'>"
   ]
  },
  {
   "cell_type": "markdown",
   "metadata": {},
   "source": [
    "## 3. Stacked histogram"
   ]
  },
  {
   "cell_type": "code",
   "execution_count": 6,
   "metadata": {},
   "outputs": [],
   "source": [
    "stacked_bar = pygal.StackedBar()\n",
    "stacked_bar.add('Crazy Python', y_data)\n",
    "stacked_bar.add('Crazy Java',y_data2)\n",
    "\n",
    "stacked_bar.x_labels = x_data\n",
    "stacked_bar.y_labels = [20000,40000,60000,80000,100000]\n",
    "stacked_bar.title = 'Sales of book'\n",
    "stacked_bar.x_title = 'Sales'\n",
    "stacked_bar.y_title = 'Year'\n",
    "\n",
    "stacked_bar.legend_at_bottom = True\n",
    "stacked_bar.render_to_file('fk_books5.svg')"
   ]
  },
  {
   "cell_type": "markdown",
   "metadata": {},
   "source": [
    "<img src = 'fk_books5.svg'>"
   ]
  },
  {
   "cell_type": "code",
   "execution_count": 16,
   "metadata": {},
   "outputs": [],
   "source": [
    "stacked_line = pygal.StackedLine()\n",
    "stacked_line.add('Crazy Python', y_data)\n",
    "stacked_line.add('Crazy Java',y_data2)\n",
    "\n",
    "stacked_line.x_labels = x_data\n",
    "stacked_line.y_labels = [20000,40000,60000,80000,100000]\n",
    "stacked_line.title = 'Sales of book'\n",
    "stacked_line.x_title = 'Sales'\n",
    "stacked_line.y_title = 'Year'\n",
    "\n",
    "stacked_line.legend_at_bottom = True\n",
    "stacked_line.render_to_file('fk_books6.svg')"
   ]
  },
  {
   "cell_type": "markdown",
   "metadata": {},
   "source": [
    "<img src ='fk_books6.svg'>"
   ]
  },
  {
   "cell_type": "markdown",
   "metadata": {},
   "source": [
    "## 4. Pie Chart\n",
    "* `inner_radius`: Set the radius of pie chart\n",
    "* `half_pie`: Set it as True, would create a half circular"
   ]
  },
  {
   "cell_type": "code",
   "execution_count": 17,
   "metadata": {},
   "outputs": [],
   "source": [
    "data = [0.16881,0.14966,0.07471,0.06992,0.04762,0.3541,0.02925,0.02411,0.02316,0.01409,0.36326]\n",
    "labels = ['Java','C','C++','Python','Visual Basic .NET','C#','PHP','JavaScript','SQL','Assembly Language','else']\n",
    "\n",
    "pie = pygal.Pie()\n",
    "# Add data\n",
    "for i,per in enumerate(data):\n",
    "    pie.add(labels[i],per)\n",
    "pie.title = '2018 Most Popular Programming Language'\n",
    "pie.legend_at_bottom = True\n",
    "\n",
    "pie.inner_radius = 0.4\n",
    "pie.half_pie = True\n",
    "pie.render_to_file('language_percent.svg')"
   ]
  },
  {
   "cell_type": "markdown",
   "metadata": {},
   "source": [
    "<img src = 'language_percent.svg'>"
   ]
  },
  {
   "cell_type": "code",
   "execution_count": 19,
   "metadata": {},
   "outputs": [],
   "source": [
    "data = [0.16881,0.14966,0.07471,0.06992,0.04762,0.3541,0.02925,0.02411,0.02316,0.01409,0.36326]\n",
    "labels = ['Java','C','C++','Python','Visual Basic .NET','C#','PHP','JavaScript','SQL','Assembly Language','else']\n",
    "\n",
    "pie = pygal.Pie()\n",
    "# Add data\n",
    "for i,per in enumerate(data):\n",
    "    pie.add(labels[i],per)\n",
    "pie.title = '2018 Most Popular Programming Language'\n",
    "pie.legend_at_bottom = True\n",
    "\n",
    "pie.inner_radius = 0.4\n",
    "pie.render_to_file('language_percent1.svg')"
   ]
  },
  {
   "cell_type": "markdown",
   "metadata": {},
   "source": [
    "<img src = 'language_percent1.svg'>"
   ]
  },
  {
   "cell_type": "markdown",
   "metadata": {},
   "source": [
    "## 5. Points Graph"
   ]
  },
  {
   "cell_type": "code",
   "execution_count": 20,
   "metadata": {},
   "outputs": [],
   "source": [
    "dot = pygal.Dot()\n",
    "\n",
    "# Set the points size\n",
    "dot.dots_size = 5\n",
    "dot.add('Crazy Python',y_data)\n",
    "dot.add('Crazy Java',y_data2)\n",
    "dot.x_labels = x_data\n",
    "dot.y_labels = ['Crazy Python','Crazy Java']\n",
    "\n",
    "# Set the rotation of y labels\n",
    "dot.y_label_rotation = 45\n",
    "dot.title = 'Sales of book'\n",
    "dot.legend_at_bottom = True\n",
    "dot.render_to_file('fk_books7.svg')"
   ]
  },
  {
   "cell_type": "markdown",
   "metadata": {},
   "source": [
    "<img src = 'fk_books7.svg'>"
   ]
  },
  {
   "cell_type": "markdown",
   "metadata": {},
   "source": [
    "## 6. Gauge Graph"
   ]
  },
  {
   "cell_type": "code",
   "execution_count": 24,
   "metadata": {},
   "outputs": [],
   "source": [
    "data = [0.16881,0.14966,0.07471,0.06992,0.04762,0.3541,0.02925,0.02411,0.02316,0.01409,0.36326]\n",
    "labels = ['Java','C','C++','Python','Visual Basic .NET','C#','PHP','JavaScript','SQL','Assembly Language','else']\n",
    "\n",
    "# Draw the gauge graph\n",
    "gauge = pygal.Gauge()\n",
    "gauge.range = [0,1]\n",
    "\n",
    "# Add data\n",
    "for i,per in enumerate(data):\n",
    "    gauge.add(labels[i],per)\n",
    "gauge.title = '2018 Most Popular Programming Language'\n",
    "gauge.legend_at_bottom = True\n",
    "gauge.render_to_file('language_percent2.svg')"
   ]
  },
  {
   "cell_type": "markdown",
   "metadata": {},
   "source": [
    "<img src = 'language_percent2.svg'>"
   ]
  },
  {
   "cell_type": "markdown",
   "metadata": {},
   "source": [
    "## Radar Graph\n",
    "* Using for plot matrix info"
   ]
  },
  {
   "cell_type": "code",
   "execution_count": 25,
   "metadata": {},
   "outputs": [],
   "source": [
    "data = [[5,4.0,5,5,5],\n",
    "       [4.8,2.8,4.8,4.8,4.9],\n",
    "       [4.5,2.9,4.6,4.0,4.9],\n",
    "       [4.0,4.8,4.9,4.0,5],\n",
    "       [3.0,4.2,2.3,3.5,2],\n",
    "       [4.8,4.3,3.9,3.0,4.5]]\n",
    "labels = ['Java','C','C++','Python','C#','PHP']\n",
    "\n",
    "# Draw the radar graph\n",
    "radar = pygal.Radar()\n",
    "\n",
    "# Add data\n",
    "for i,per in enumerate(labels):\n",
    "    radar.add(per,data[i])\n",
    "radar.x_labels = ['Platform','Efficiency','Community','Market','Future']\n",
    "radar.title = 'Programming Language Comparison'\n",
    "\n",
    "# Set point size\n",
    "radar.dot_size = 8\n",
    "radar.legend_at_bottom = True\n",
    "radar.render_to_file('language_compare.svg')"
   ]
  },
  {
   "cell_type": "markdown",
   "metadata": {},
   "source": [
    "<img src = 'language_compare.svg'>"
   ]
  }
 ],
 "metadata": {
  "kernelspec": {
   "display_name": "TensorFlow(GPU)",
   "language": "python",
   "name": "tf-gpu"
  },
  "language_info": {
   "codemirror_mode": {
    "name": "ipython",
    "version": 3
   },
   "file_extension": ".py",
   "mimetype": "text/x-python",
   "name": "python",
   "nbconvert_exporter": "python",
   "pygments_lexer": "ipython3",
   "version": "3.7.6"
  }
 },
 "nbformat": 4,
 "nbformat_minor": 4
}
