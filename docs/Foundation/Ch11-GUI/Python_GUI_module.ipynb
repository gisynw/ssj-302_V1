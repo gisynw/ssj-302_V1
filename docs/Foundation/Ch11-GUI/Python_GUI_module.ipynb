{
 "cells": [
  {
   "cell_type": "markdown",
   "metadata": {},
   "source": [
    "## 1. Tkinter GUI Module\n",
    "### 1.1 Create a Window object"
   ]
  },
  {
   "cell_type": "code",
   "execution_count": 2,
   "metadata": {},
   "outputs": [],
   "source": [
    "from tkinter import *\n",
    "\n",
    "# Create a TK object, TK means window\n",
    "root = Tk()\n",
    "\n",
    "# Set title of the window\n",
    "root.title('First Test')\n",
    "\n",
    "# Create a label object, and put it into root\n",
    "w = Label(root, text = \"First Label!\")\n",
    "\n",
    "# Using pack to do arrangement.\n",
    "w.pack()\n",
    "\n",
    "# Start window\n",
    "root.mainloop()"
   ]
  },
  {
   "cell_type": "markdown",
   "metadata": {},
   "source": [
    "Another method is **creating a subclass of `Frame`**, then it would **automatically create a window object.**"
   ]
  },
  {
   "cell_type": "code",
   "execution_count": 11,
   "metadata": {},
   "outputs": [],
   "source": [
    "class Application(Frame):\n",
    "    \n",
    "    def __init__(self,master = None):\n",
    "        # Do not use super() to call Frame class\n",
    "        Frame.__init__(self,master)\n",
    "        self.pack()\n",
    "        # Use initWidgets() method to initialize interface\n",
    "        self.initWidgets()\n",
    "        \n",
    "    def initWidgets(self):\n",
    "        # Create a label objectm and put it into our window\n",
    "        w = Label(self)\n",
    "        \n",
    "        # Create a photo image\n",
    "        bm = PhotoImage(file = 'pokemon.png')\n",
    "        # Use a variable to refer this photo image, otherwise it would be rrecycled\n",
    "        w.x = bm\n",
    "        w['image'] = bm\n",
    "        w.pack()\n",
    "        \n",
    "        # Create a button object\n",
    "        okButton = Button(self, text = \"Yes\")\n",
    "        okButton['background'] = 'yellow'\n",
    "        okButton.pack()"
   ]
  },
  {
   "cell_type": "code",
   "execution_count": 15,
   "metadata": {},
   "outputs": [
    {
     "name": "stdout",
     "output_type": "stream",
     "text": [
      "<class 'tkinter.Tk'>\n"
     ]
    }
   ],
   "source": [
    "app = Application()\n",
    "# the master of Frame object represents a tk object\n",
    "print(type(app.master))\n",
    "\n",
    "app.master.title(\"Second Try!\")\n",
    "app.mainloop()"
   ]
  },
  {
   "cell_type": "markdown",
   "metadata": {},
   "source": [
    "**How to know what kind of variables we should set when we create a component**"
   ]
  },
  {
   "cell_type": "code",
   "execution_count": 13,
   "metadata": {},
   "outputs": [
    {
     "name": "stdout",
     "output_type": "stream",
     "text": [
      "Help on function __init__ in module tkinter:\n",
      "\n",
      "__init__(self, master=None, cnf={}, **kw)\n",
      "    Construct a button widget with the parent MASTER.\n",
      "    \n",
      "    STANDARD OPTIONS\n",
      "    \n",
      "        activebackground, activeforeground, anchor,\n",
      "        background, bitmap, borderwidth, cursor,\n",
      "        disabledforeground, font, foreground\n",
      "        highlightbackground, highlightcolor,\n",
      "        highlightthickness, image, justify,\n",
      "        padx, pady, relief, repeatdelay,\n",
      "        repeatinterval, takefocus, text,\n",
      "        textvariable, underline, wraplength\n",
      "    \n",
      "    WIDGET-SPECIFIC OPTIONS\n",
      "    \n",
      "        command, compound, default, height,\n",
      "        overrelief, state, width\n",
      "\n"
     ]
    }
   ],
   "source": [
    "help(Button.__init__)"
   ]
  },
  {
   "cell_type": "markdown",
   "metadata": {},
   "source": [
    "### 1.2 Layout Manager\n",
    "* `Pack` : it would follow the adding sequnce to manage the layout (default)"
   ]
  },
  {
   "cell_type": "code",
   "execution_count": 14,
   "metadata": {},
   "outputs": [],
   "source": [
    "root = Tk()\n",
    "root.title('Pack_Demo')\n",
    "\n",
    "for i in range(3):\n",
    "    lab = Label(root, text = \"The %d Label\" %(i+1), bg = \"#eeeeee\")\n",
    "    # use pack function\n",
    "    lab.pack()\n",
    "    \n",
    "root.mainloop()"
   ]
  },
  {
   "cell_type": "markdown",
   "metadata": {},
   "source": [
    "Actually, `pack` also have multiple options"
   ]
  },
  {
   "cell_type": "code",
   "execution_count": 16,
   "metadata": {},
   "outputs": [
    {
     "name": "stdout",
     "output_type": "stream",
     "text": [
      "Help on function pack_configure in module tkinter:\n",
      "\n",
      "pack_configure(self, cnf={}, **kw)\n",
      "    Pack a widget in the parent widget. Use as options:\n",
      "    after=widget - pack it after you have packed widget\n",
      "    anchor=NSEW (or subset) - position widget according to\n",
      "                              given direction\n",
      "    before=widget - pack it before you will pack widget\n",
      "    expand=bool - expand widget if parent size grows\n",
      "    fill=NONE or X or Y or BOTH - fill widget if widget grows\n",
      "    in=master - use master to contain this widget\n",
      "    in_=master - see 'in' option description\n",
      "    ipadx=amount - add internal padding in x direction\n",
      "    ipady=amount - add internal padding in y direction\n",
      "    padx=amount - add padding in x direction\n",
      "    pady=amount - add padding in y direction\n",
      "    side=TOP or BOTTOM or LEFT or RIGHT -  where to add this widget.\n",
      "\n"
     ]
    }
   ],
   "source": [
    "help(Label.pack)"
   ]
  },
  {
   "cell_type": "markdown",
   "metadata": {},
   "source": [
    "#### Making a nested window"
   ]
  },
  {
   "cell_type": "code",
   "execution_count": 17,
   "metadata": {},
   "outputs": [],
   "source": [
    "class App:\n",
    "    def __init__(self,master):\n",
    "        self.master = master\n",
    "        self.initWidgets()\n",
    "        \n",
    "    def initWidgets(self):\n",
    "        \n",
    "        # Create the first container\n",
    "        fm1 = Frame(self.master)\n",
    "        # Put this container to the left side\n",
    "        fm1.pack(side = LEFT, fill = BOTH, expand = YES)\n",
    "        # Add three-button into this container, follow the horizontal sequence\n",
    "        Button(fm1,text = \"First\").pack(side = TOP, fill = X, expand = YES)\n",
    "        Button(fm1,text = \"Second\").pack(side = TOP, fill = X, expand = YES)\n",
    "        Button(fm1,text = \"Third\").pack(side = TOP, fill = X, expand = YES)\n",
    "        \n",
    "        # Create the second container\n",
    "        fm2 = Frame(self.master)\n",
    "        # Put this container to the left side (left side of fm1)\n",
    "        fm2.pack(side = LEFT, padx = 10, expand = YES)\n",
    "        # Add three-button into this container, follow the vertical sequence\n",
    "        Button(fm2,text = \"First\").pack(side = RIGHT , fill = Y, expand = YES)\n",
    "        Button(fm2,text = \"Second\").pack(side = RIGHT , fill = Y, expand = YES)\n",
    "        Button(fm2,text = \"Third\").pack(side = RIGHT , fill = Y, expand = YES)\n",
    "        \n",
    "        # Create the third container\n",
    "        fm3 = Frame(self.master)\n",
    "        # Put this container to the right side (right side of fm1)\n",
    "        fm3.pack(side = RIGHT, padx = 10, fill = BOTH, expand = YES)\n",
    "        # Add three-button into this container, follow the vertical sequence\n",
    "        Button(fm3,text = \"First\").pack(side = BOTTOM , fill = Y, expand = YES)\n",
    "        Button(fm3,text = \"Second\").pack(side = BOTTOM , fill = Y, expand = YES)\n",
    "        Button(fm3,text = \"Third\").pack(side = BOTTOM , fill = Y, expand = YES)\n",
    "        "
   ]
  },
  {
   "cell_type": "code",
   "execution_count": 18,
   "metadata": {},
   "outputs": [],
   "source": [
    "root = Tk()\n",
    "root.title(\"Pack Layout\")\n",
    "display = App(root)\n",
    "root.mainloop()"
   ]
  },
  {
   "cell_type": "code",
   "execution_count": null,
   "metadata": {},
   "outputs": [],
   "source": []
  }
 ],
 "metadata": {
  "kernelspec": {
   "display_name": "TensorFlow(GPU)",
   "language": "python",
   "name": "tf-gpu"
  },
  "language_info": {
   "codemirror_mode": {
    "name": "ipython",
    "version": 3
   },
   "file_extension": ".py",
   "mimetype": "text/x-python",
   "name": "python",
   "nbconvert_exporter": "python",
   "pygments_lexer": "ipython3",
   "version": "3.7.6"
  }
 },
 "nbformat": 4,
 "nbformat_minor": 4
}
