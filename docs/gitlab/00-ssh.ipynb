{
 "cells": [
  {
   "cell_type": "markdown",
   "metadata": {},
   "source": [
    "# SSH (Secure Shell)\n",
    "\n",
    "## Introduction\n",
    "\n",
    "- `SSH`, short for `Secure Shell`, is a cryptographic network protocol used for secure communication over an unsecured network.\n",
    "- It allows users to securely access and control remote systems over an encrypted connection. In this tutorial, we'll cover the basics of SSH, including **how to set it up**, **connect to remote servers**, and **perform common tasks**.\n"
   ]
  },
  {
   "cell_type": "markdown",
   "metadata": {},
   "source": [
    "## SSH Key Generation\n",
    "\n",
    "`SSH keys` are a pair of cryptographic keys used to authenticate and establish a secure connection between two computers. Follow these steps to generate SSH keys:\n",
    "\n",
    "```bash\n",
    "# Generate SSH key pair\n",
    "ssh-keygen -t rsa -b 4096 -C \"your_email@example.com\"\n",
    "```\n",
    "\n",
    "This command will create a `public key` (`id_rsa.pub`) and a `private key` (`id_rsa`) in the `~/.ssh/` directory by default. `-c \"your_email@example.com\"` is the comment to the key\n"
   ]
  },
  {
   "cell_type": "markdown",
   "metadata": {},
   "source": [
    "## Common SSH Commands\n",
    "\n",
    "Here are some common `SSH` commands:\n",
    "\n",
    "- `ssh`: Connect to a remote server.\n",
    "\n",
    "  ```bash\n",
    "  ssh username@remote_host\n",
    "  ## Example\n",
    "  ssh john@example.com\n",
    "  ```\n",
    "\n",
    "- `scp`: Securely **copy files** between local and remote systems.\n",
    "\n",
    "  ```bash\n",
    "  scp source_file username@remote_host:destination_file\n",
    "  ## Example\n",
    "  scp /path/to/local/file.txt john@example.com:/path/to/remote/directory/file.txt\n",
    "  ```\n",
    "\n",
    "- `sftp`: Securely **transfer files** between local and remote systems.\n",
    "\n",
    "  ```bash\n",
    "  sftp username@remote_host\n",
    "  ## Example\n",
    "  sftp john@example.com\n",
    "  ```\n",
    "\n",
    "- `ssh-keygen`: Generate `SSH key` pairs.\n",
    "\n",
    "  ```bash\n",
    "  ssh-keygen -t rsa -b 4096 -C \"your_email@example.com\"\n",
    "  ## Example\n",
    "  ssh-keygen -t rsa -b 4096 -C \"john@example.com\"\n",
    "  ```\n",
    "\n",
    "- `ssh-add`: Add `SSH private keys` to the SSH authentication agent.\n",
    "\n",
    "  ```bash\n",
    "  ssh-add /path/to/private_key\n",
    "  ## Example\n",
    "  ssh-add ~/.ssh/id_rsa\n",
    "  ```\n",
    "\n",
    "- `ssh-copy-id`: Copy your `public SSH key` to a remote server's authorized_keys file.\n",
    "\n",
    "  ```bash\n",
    "  ssh-copy-id username@remote_host\n",
    "  ## Example\n",
    "  ssh-copy-id john@example.com\n",
    "  ```\n",
    "\n",
    "- `exit`: close the current connection\n"
   ]
  },
  {
   "cell_type": "markdown",
   "metadata": {},
   "source": [
    "## Connecting to a Remote Server\n",
    "\n",
    "To connect to a remote server using `SSH`, you'll need the `server's IP address` or domain name and your SSH credentials. Use the following command:\n",
    "\n",
    "```bash\n",
    "ssh username@remote_host\n",
    "```\n",
    "\n",
    "Replace `username` with your username on the remote server and `remote_host` with the server's IP address or domain name.\n",
    "\n",
    "### Connects Server using Public & Private keys\n",
    "\n",
    "1. Generate pair of keys using `ssh-keygen`\n",
    "2. Copy the public SSH key to the server using `ssh-copy-id username@remote_host`\n",
    "3. Connect Server without password verify using `ssh username@remote_host`\n"
   ]
  },
  {
   "cell_type": "markdown",
   "metadata": {},
   "source": [
    "## SSH Configuration\n",
    "\n",
    "`SSH configurations` are stored in the `~/.ssh/config` file. You can customize SSH behavior by modifying this file.\n",
    "\n",
    "Here's an example configuration [The default Port for SSH is `22`]:\n",
    "\n",
    "```bash\n",
    "Host example\n",
    "    HostName example.com\n",
    "    User username\n",
    "    Port 22\n",
    "    IdentityFile ~/.ssh/id_rsa\n",
    "```\n",
    "\n",
    "This configuration allows you to connect to the remote server by typing `ssh example`.\n",
    "\n",
    "```bash\n",
    "Host gitlab.com\n",
    "\tHostname gitlab.com\n",
    "\tUser git\n",
    "\tPreferredAuthentications publickey\n",
    "\tIdentityFile ~/.ssh/gitlab\n",
    "```\n"
   ]
  }
 ],
 "metadata": {
  "language_info": {
   "name": "python"
  }
 },
 "nbformat": 4,
 "nbformat_minor": 2
}
