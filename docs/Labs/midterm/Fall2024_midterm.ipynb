{
 "cells": [
  {
   "cell_type": "markdown",
   "metadata": {},
   "source": [
    "Fall 2024 Midterm"
   ]
  },
  {
   "cell_type": "markdown",
   "metadata": {},
   "source": [
    "## Q1. List\n",
    "- 1.1 : Create a list called cities contianing the following city names: Worcester, Boston, Dallas, Shrewsburry. Add 'Millbury' to the list"
   ]
  },
  {
   "cell_type": "code",
   "execution_count": 15,
   "metadata": {},
   "outputs": [
    {
     "data": {
      "text/plain": [
       "['Worcester', 'Boston', 'Dallas', 'Shresburry', 'Millbury']"
      ]
     },
     "execution_count": 15,
     "metadata": {},
     "output_type": "execute_result"
    }
   ],
   "source": [
    "cities = ['Worcester', 'Boston', 'Dallas', 'Shresburry']\n",
    "cities.append('Millbury')\n",
    "cities"
   ]
  },
  {
   "cell_type": "markdown",
   "metadata": {},
   "source": [
    "- 1.2 Access the variable with index 2 in the cities list."
   ]
  },
  {
   "cell_type": "code",
   "execution_count": 16,
   "metadata": {},
   "outputs": [
    {
     "data": {
      "text/plain": [
       "'Dallas'"
      ]
     },
     "execution_count": 16,
     "metadata": {},
     "output_type": "execute_result"
    }
   ],
   "source": [
    "cities[2]"
   ]
  },
  {
   "cell_type": "markdown",
   "metadata": {},
   "source": [
    "## Q2. Dictionaries\n",
    "- 2.1 Create a dictionary(named as 'city_pop') where the city names are the keys and the populations are the values. Use the following data: 'Toronto': 280,000, 'New York': 840,000, 'Mexico City': 900,000.\n"
   ]
  },
  {
   "cell_type": "code",
   "execution_count": 18,
   "metadata": {},
   "outputs": [],
   "source": [
    "city_pop = {\n",
    "    'Toronto': 280000,\n",
    "    'New York': 840000,\n",
    "    'Mexico City': 900000\n",
    "}"
   ]
  },
  {
   "cell_type": "markdown",
   "metadata": {},
   "source": [
    "- 2.2 Retrieve the population of New York"
   ]
  },
  {
   "cell_type": "code",
   "execution_count": 19,
   "metadata": {},
   "outputs": [
    {
     "data": {
      "text/plain": [
       "840000"
      ]
     },
     "execution_count": 19,
     "metadata": {},
     "output_type": "execute_result"
    }
   ],
   "source": [
    "city_pop['New York']"
   ]
  },
  {
   "cell_type": "markdown",
   "metadata": {},
   "source": [
    "- 2.3 Using 'for...if' to Print the names of city with a population larger than 800,000"
   ]
  },
  {
   "cell_type": "code",
   "execution_count": 20,
   "metadata": {},
   "outputs": [
    {
     "name": "stdout",
     "output_type": "stream",
     "text": [
      "New York\n",
      "Mexico City\n"
     ]
    }
   ],
   "source": [
    "for city, population in city_pop.items():\n",
    "    if population > 800000:\n",
    "        print(city)"
   ]
  },
  {
   "cell_type": "markdown",
   "metadata": {},
   "source": [
    "## Q3. Functions\n",
    "- 3.1 Write a Python function that takes the name of a river as input and returns a classification based on the river's length. Use the following river data and conditions:\n",
    "    - length > 6000, return 'very long river'\n",
    "    - 3000 <= length <= 6000, return 'Long river' \n",
    "    - other values, return 'short river'\n",
    "    - if river name does not exist in dict, return 'River not found' "
   ]
  },
  {
   "cell_type": "code",
   "execution_count": 4,
   "metadata": {},
   "outputs": [
    {
     "name": "stdout",
     "output_type": "stream",
     "text": [
      "Very long river\n",
      "Short river\n",
      "River not found\n"
     ]
    }
   ],
   "source": [
    "river_data = {\n",
    "    'Amazon': 6992,\n",
    "    'Nile': 6650,\n",
    "    'Yangtze': 6300,\n",
    "    'Mississippi': 3730,\n",
    "    'Thames': 346\n",
    "}\n",
    "\n",
    "def classify_river(river_name):\n",
    "    if river_name in river_data:\n",
    "        length = river_data[river_name]\n",
    "        if length > 6000:\n",
    "            return 'Very long river'\n",
    "        elif 3000 <= length <= 6000:\n",
    "            return 'Long river'\n",
    "        else:\n",
    "            return 'Short river'\n",
    "    else:\n",
    "        return 'River not found'\n"
   ]
  },
  {
   "cell_type": "markdown",
   "metadata": {},
   "source": [
    "- 3.2 For the validation, please use 'Amazon', 'Thames', 'Danube' as example to run your function "
   ]
  },
  {
   "cell_type": "code",
   "execution_count": null,
   "metadata": {},
   "outputs": [],
   "source": [
    "# Examples\n",
    "print(classify_river('Amazon'))   # Very long river\n",
    "print(classify_river('Thames'))   # Short river\n",
    "print(classify_river('Danube'))   # River not found"
   ]
  },
  {
   "cell_type": "markdown",
   "metadata": {},
   "source": [
    "## Q4: Pandas\n",
    "Please use Open_Space.csv for Q4: Pandas.\n",
    "Open_Space.csv store the infomration about conservation and recreation in terest in Boston, Massachusetts, USA. "
   ]
  },
  {
   "cell_type": "markdown",
   "metadata": {},
   "source": [
    "- 4.1 Given the dataframe `Open_Space.csv`, display the first 5 rows of the data"
   ]
  },
  {
   "cell_type": "code",
   "execution_count": 5,
   "metadata": {},
   "outputs": [
    {
     "data": {
      "text/plain": [
       "'f:\\\\Clark_Universiy\\\\Clark_Teaching\\\\Git_Repo\\\\ssj-302\\\\docs\\\\Labs\\\\midterm'"
      ]
     },
     "execution_count": 5,
     "metadata": {},
     "output_type": "execute_result"
    }
   ],
   "source": [
    "import pandas as pd\n",
    "from pathlib import Path\n",
    "import os\n",
    "\n",
    "notebook_path = Path(os.path.abspath(\"__file__\")).parent\n",
    "os.chdir(notebook_path)\n",
    "os.getcwd()"
   ]
  },
  {
   "cell_type": "code",
   "execution_count": 6,
   "metadata": {},
   "outputs": [
    {
     "name": "stdout",
     "output_type": "stream",
     "text": [
      "   OBJECTID                    SITE_NAME       OWNERSHIP    PROTECTION  \\\n",
      "0         1                  Wilson Park  City of Boston           NaN   \n",
      "1         2  James H. Roberts Playground  City of Boston           A97   \n",
      "2         3             Smith Playground  City of Boston      A97/LWCF   \n",
      "3         4                  Fern Square  City of Boston           A97   \n",
      "4         5            Ringer Playground  City of Boston  A97/LWCF/USH   \n",
      "\n",
      "   TYPECODE          DISTRICT      ACRES             ADDRESS  \\\n",
      "0         1  Allston-Brighton   0.097184      10 Wilson Park   \n",
      "1         3  Allston-Brighton   1.004136     120 Hooker Str.   \n",
      "2         3  Allston-Brighton  15.025247  235 Western Avenue   \n",
      "3         1  Allston-Brighton   0.044509       1 Fern Street   \n",
      "4         3  Allston-Brighton  10.263093   85 Allston Street   \n",
      "\n",
      "                ZonAgg                              TypeLong  ... AgncyJuris  \\\n",
      "0  Open Space District               Malls, Squares & Plazas  ...        PWD   \n",
      "1  Open Space District  Parks, Playgrounds & Athletic Fields  ...       BPRD   \n",
      "2  Open Space District  Parks, Playgrounds & Athletic Fields  ...       BPRD   \n",
      "3  Open Space District               Malls, Squares & Plazas  ...       BPRD   \n",
      "4  Open Space District  Parks, Playgrounds & Athletic Fields  ...       BPRD   \n",
      "\n",
      "  PARK_ID                     REGION OS_ID F_100ftRule       ZipCode  \\\n",
      "0     NaN  PARK_Maintenance_Region 4  2000         YES         02135   \n",
      "1   156.0  PARK_Maintenance_Region 4   156         YES         02134   \n",
      "2   284.0  PARK_Maintenance_Region 4   284         YES         02134   \n",
      "3   115.0  PARK_Maintenance_Region 4   115         YES         02134   \n",
      "4   259.0  PARK_Maintenance_Region 4   259         YES  02134, 02135   \n",
      "\n",
      "   ParcelNumber YearAcquired    ShapeSTArea ShapeSTLength  \n",
      "0    2102093500            0    4233.047454    256.730008  \n",
      "1    2200030000            0   43737.350616    852.844112  \n",
      "2    2200542000         1894  654457.503289   3624.893621  \n",
      "3    2201194000            0    1938.694719    207.320531  \n",
      "4    2101101000         1916  447031.286329   3765.829546  \n",
      "\n",
      "[5 rows x 25 columns]\n"
     ]
    }
   ],
   "source": [
    "openspace = pd.read_csv('Open_Space.csv')\n",
    "print(openspace.head(5))"
   ]
  },
  {
   "cell_type": "markdown",
   "metadata": {},
   "source": [
    "- 4.2 Write code to filter and display all parks that are owned by `City of Boston\n",
    "`([OWNERSHIP] column) and have more than 3 acres ([ACRES] column), print how many parks that meet this condition"
   ]
  },
  {
   "cell_type": "code",
   "execution_count": 9,
   "metadata": {},
   "outputs": [
    {
     "name": "stdout",
     "output_type": "stream",
     "text": [
      "95\n"
     ]
    }
   ],
   "source": [
    "### Answer 4.2\n",
    "sub_space = openspace.query('OWNERSHIP == \"City of Boston\" & ACRES > 3')\n",
    "print(len(sub_space.index))\n"
   ]
  },
  {
   "cell_type": "markdown",
   "metadata": {},
   "source": [
    "- 4.3 Calculate and display the total acreage ([ACRES] column) of all parks in the DataFrame."
   ]
  },
  {
   "cell_type": "code",
   "execution_count": 11,
   "metadata": {},
   "outputs": [
    {
     "name": "stdout",
     "output_type": "stream",
     "text": [
      "5807.8456675\n"
     ]
    }
   ],
   "source": [
    "total_acres = openspace['ACRES'].sum()\n",
    "print(total_acres)"
   ]
  },
  {
   "cell_type": "markdown",
   "metadata": {},
   "source": [
    "- 4.4 Group the parks by district ([DISTRICT] column) and calculate the total number of acres ([ACRES] column) for each district."
   ]
  },
  {
   "cell_type": "code",
   "execution_count": 12,
   "metadata": {},
   "outputs": [
    {
     "name": "stdout",
     "output_type": "stream",
     "text": [
      "DISTRICT\n",
      "Allston-Brighton        247.553096\n",
      "Back Bay/Beacon Hill     84.579093\n",
      "Central Boston           56.842081\n",
      "Charlestown              65.894338\n",
      "Dorchester              406.244755\n",
      "East Boston             255.831831\n",
      "Fenway/Longwood         118.719114\n",
      "Harbor Islands          407.924446\n",
      "Hyde Park               751.927442\n",
      "Jamaica Plain           744.072693\n",
      "Mattapan                235.100515\n",
      "Mission Hill             27.204386\n",
      "Multi-District          411.411472\n",
      "Roslindale              209.741797\n",
      "Roxbury                 568.753876\n",
      "South Boston            208.251699\n",
      "South End                19.979065\n",
      "West Roxbury            987.813970\n",
      "Name: ACRES, dtype: float64\n"
     ]
    }
   ],
   "source": [
    "acres_avg = openspace.groupby('DISTRICT')['ACRES'].sum()\n",
    "print(acres_avg)"
   ]
  },
  {
   "cell_type": "markdown",
   "metadata": {},
   "source": [
    "- 4.5 Add a new column called `hectares` that converts the park size from acres ([ACRES] column) to hectares. (1 acre = 0.404686 hectares)"
   ]
  },
  {
   "cell_type": "code",
   "execution_count": 13,
   "metadata": {},
   "outputs": [
    {
     "name": "stdout",
     "output_type": "stream",
     "text": [
      "0       0.039329\n",
      "1       0.406360\n",
      "2       6.080507\n",
      "3       0.018012\n",
      "4       4.153330\n",
      "         ...    \n",
      "533     0.031816\n",
      "534    49.193340\n",
      "535    25.067138\n",
      "536     0.047309\n",
      "537     0.447741\n",
      "Name: hectares, Length: 538, dtype: float64\n"
     ]
    }
   ],
   "source": [
    "openspace['hectares'] = openspace['ACRES'] * 0.404686\n",
    "print(openspace['hectares'])"
   ]
  },
  {
   "cell_type": "markdown",
   "metadata": {},
   "source": [
    "## Pandas "
   ]
  },
  {
   "cell_type": "markdown",
   "metadata": {},
   "source": [
    "## Interactive Mapping"
   ]
  },
  {
   "cell_type": "code",
   "execution_count": null,
   "metadata": {},
   "outputs": [],
   "source": []
  }
 ],
 "metadata": {
  "kernelspec": {
   "display_name": "base",
   "language": "python",
   "name": "python3"
  },
  "language_info": {
   "codemirror_mode": {
    "name": "ipython",
    "version": 3
   },
   "file_extension": ".py",
   "mimetype": "text/x-python",
   "name": "python",
   "nbconvert_exporter": "python",
   "pygments_lexer": "ipython3",
   "version": "3.7.6"
  }
 },
 "nbformat": 4,
 "nbformat_minor": 2
}
