{
 "cells": [
  {
   "cell_type": "markdown",
   "metadata": {},
   "source": [
    "<h3 style=\"text-align: center;\">Lab 01: Python Fundamental</h3>\n",
    "\n",
    "- This lab covers the fundamentals of Python data, including topics such as numerics, strings, lists, and dictionaries. \n",
    "\n",
    "- There are ffour questions in total. Please provide your code answers directly below each question.\n",
    "\n",
    "- Make sure to run all cells so that the answers are stored. Once completed, export your .ipynb file as either **HTML** or **PDF**, **ensuring that all answers are included**. Submit the HTML or PDF file to Canvas by **midnight (11:29 PM) on September 8**.\n",
    "\n",
    "- This lab is worth a total of **50 points** and contributes **5%** toward the final grade."
   ]
  },
  {
   "cell_type": "markdown",
   "metadata": {},
   "source": [
    "1. Write a program that can give user the corrent output\n",
    "- If the user input number, the output should be the grade\n",
    "- If the user input value instead of number, the output should be the message 'Pleae input the number'\n",
    "- If the user input valie not in the number range, the output should be the message 'Please input a number that range from 0 to 100'\n",
    "- If the user input `exit`, then the user should exit the program. "
   ]
  },
  {
   "cell_type": "markdown",
   "metadata": {},
   "source": []
  }
 ],
 "metadata": {
  "language_info": {
   "name": "python"
  }
 },
 "nbformat": 4,
 "nbformat_minor": 2
}
