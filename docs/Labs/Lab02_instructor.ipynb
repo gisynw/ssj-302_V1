{
 "cells": [
  {
   "cell_type": "markdown",
   "metadata": {},
   "source": [
    "<h3 style=\"text-align: center;\">Lab 02: Python Fundamental Part 02</h3>\n",
    "\n",
    "- This lab covers the fundamentals of Python data, including topics such as loop, while and functions. \n",
    "\n",
    "- There are three questions in total. Please provide your code answers directly below each question.\n",
    "\n",
    "- Make sure to run all cells so that the answers are stored. Once completed, export your .ipynb file as either **HTML** or **PDF**, **ensuring that all answers are included**. Submit the HTML or PDF file to Canvas by **midnight (11:29 PM) on September 15**.\n",
    "\n",
    "- This lab is worth a total of **65 points** and contributes **6.5%** toward the final grade."
   ]
  },
  {
   "cell_type": "markdown",
   "metadata": {},
   "source": [
    "1. Write a function to provide student's grade in letter\n",
    "If student's score range from 100 - 80 then return A, range from 79-60 then return B, below 60 then return C  \n",
    "\n",
    "The function should:\n",
    "- Take one arguments: score in number\n",
    "- Return the score in letter (A,B, or C)"
   ]
  },
  {
   "cell_type": "markdown",
   "metadata": {},
   "source": [
    "2. Write a function to convert a geographic coordinate in degrees, minutes, and seconds into decimal degrees\n",
    "The function should:\n",
    "- Take three arguments: degrees, minutes, and seconds\n",
    "- Return the equivalent value in decimal degrees"
   ]
  }
 ],
 "metadata": {
  "kernelspec": {
   "display_name": "base",
   "language": "python",
   "name": "python3"
  },
  "language_info": {
   "codemirror_mode": {
    "name": "ipython",
    "version": 3
   },
   "file_extension": ".py",
   "mimetype": "text/x-python",
   "name": "python",
   "nbconvert_exporter": "python",
   "pygments_lexer": "ipython3",
   "version": "3.12.4"
  }
 },
 "nbformat": 4,
 "nbformat_minor": 2
}
