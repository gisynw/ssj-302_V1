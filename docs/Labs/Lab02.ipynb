{
 "cells": [
  {
   "cell_type": "markdown",
   "metadata": {},
   "source": [
    "<a href=\"https://colab.research.google.com/github/gisynw/ssj-30262/blob/main/docs/Labs/Lab02.ipynb\" target=\"_blank\">\n",
    "  <img src=\"https://colab.research.google.com/assets/colab-badge.svg\" alt=\"Open in Colab\" style=\"height: 30px;\"/>\n",
    "</a>\n",
    "&nbsp &nbsp\n",
    "<a href=\"./Lab02.ipynb\" target=\"_blank\"> \n",
    "  <img src=\"https://img.icons8.com/?size=100&id=108635&format=png&color=000000\" alt=\"Download\" style=\"height: 40px;\"/>\n",
    " </a>"
   ]
  },
  {
   "cell_type": "markdown",
   "metadata": {},
   "source": [
    "<h3 style=\"text-align: center;\">Lab 02: HTML Elements</h3>\n",
    "\n",
    "- This lab accomplish two goals. \n",
    "  - Put your newly acquired HTML skills to use\n",
    "\n",
    "- Save the URL in .ipynb file, ensuring that the link is **clikable**. Then export the file as HTML or PDF file. Submit the HTML or PEF file to Canvas by **midnight (11:29 PM) on September 15**.\n",
    "\n",
    "- This lab is worth a total of **65 points** and contributes **6.5%** toward the final grade."
   ]
  },
  {
   "attachments": {
    "image.png": {
     "image/png": "[encoded data removed]"
    }
   },
   "cell_type": "markdown",
   "metadata": {},
   "source": [
    "1. Show 3 elements from heading, paragraph, image, figure, div, footer,navigation  (20 points)\n",
    "\n",
    "![image.png](attachment:image.png)"
   ]
  },
  {
   "cell_type": "markdown",
   "metadata": {},
   "source": [
    "2. Show the example hyperlink, and your hyperlink should be clickable in your personal website (20 points)"
   ]
  },
  {
   "cell_type": "markdown",
   "metadata": {},
   "source": [
    "3. Show nagivation bar (your navigation bar should connect to the corresponding section in your personal website) (20 points)"
   ]
  },
  {
   "cell_type": "markdown",
   "metadata": {},
   "source": [
    "4. URL of your personal website (5 points)"
   ]
  }
 ],
 "metadata": {
  "language_info": {
   "name": "python"
  }
 },
 "nbformat": 4,
 "nbformat_minor": 2
}
