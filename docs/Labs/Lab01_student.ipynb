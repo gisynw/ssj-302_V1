{
 "cells": [
  {
   "cell_type": "markdown",
   "metadata": {},
   "source": [
    "<a href=\"https://colab.research.google.com/github/gisynw/ssj-302/blob/main/docs/Labs/Lab01_student.ipynb\" target=\"_blank\">\n",
    "  <img src=\"https://colab.research.google.com/assets/colab-badge.svg\" alt=\"Open in Colab\" style=\"height: 30px;\"/>\n",
    "</a>\n",
    "&nbsp &nbsp\n",
    "<a href=\"./Lab01_student.ipynb\" target=\"_blank\"> \n",
    "  <img src=\"https://img.icons8.com/?size=100&id=108635&format=png&color=000000\" alt=\"Download\" style=\"height: 40px;\"/>\n",
    " </a>"
   ]
  },
  {
   "cell_type": "markdown",
   "metadata": {},
   "source": [
    "<h3 style=\"text-align: center;\">Lab 01: Python Fundamental</h3>\n",
    "\n",
    "- This lab covers the fundamentals of Python data, including topics such as numerics, strings, lists, and dictionaries. \n",
    "\n",
    "- There are five questions in total. Please provide your code answers directly below each question.\n",
    "\n",
    "- Make sure to run all cells so that the answers are stored. Once completed, export your .ipynb file as either **HTML** or **PDF**, **ensuring that all answers are included**. Submit the HTML or PDF file to Canvas by **midnight (11:29 PM) on September 8**."
   ]
  },
  {
   "cell_type": "markdown",
   "metadata": {},
   "source": [
    "## Numeric\n",
    "Write a Python program that converts a temperature given in Celsius to Fahrenheit. Use the formula:\n",
    "\n",
    "Fahrenheit = (Celsius * 9/5) + 32\n",
    "\n",
    "1. Set the Celsius temperature to 25\n",
    "2. Convert this temperature to Fahrenheit and display the result\n"
   ]
  },
  {
   "cell_type": "markdown",
   "metadata": {},
   "source": [
    "## String\n",
    "\n",
    "idea = 'Python programming is fun'\n",
    "\n",
    "1. Count the number of words in the **idea** using `len()`\n",
    "2. Replace the word 'Python' with 'Coding' using `replace()` method and display the updated string\n",
    "3. Convert the first letter in each word upper case using `title()` method and display the updated string"
   ]
  },
  {
   "cell_type": "markdown",
   "metadata": {},
   "source": [
    "## list\n",
    "list_nums = [12,7,5,51,26,44,5,5]\n",
    "- 1. Sort the list in ascending order using `reverse()` and display the updated list\n",
    "- 2. Append the number '25' to the end of the list using `append()` and displayed the updated list\n",
    "- 3. Return the number of times the value '5' appear in the list using `count()`"
   ]
  },
  {
   "cell_type": "markdown",
   "metadata": {},
   "source": [
    "## Dictionaries\n",
    "Landmarks =\n",
    "{'Worcester Art Museum': {'location': '55 Salisbury Street', 'description': 'Features an extensive collection of art spanning 50 centuries.'}, \n",
    " 'Worcester Common': {'location': '455 Main Street', 'description': 'A large public park in the center of the city with green spaces and historical monuments.'}, \n",
    " 'Hanover Theatre': {'location': '2 Southbridge Street', 'description': 'Offers a range of performances from Broadway shows to local productions.'}}\n",
    "\n",
    " - 1. Display description of 'Worcester Common'\n",
    " - 2. Remove 'Hanaver Theatre' from the dictionary using `pop()` method and display the updated dictionary \n"
   ]
  }
 ],
 "metadata": {
  "kernelspec": {
   "display_name": "arcgispro_arcpy",
   "language": "python",
   "name": "python3"
  },
  "language_info": {
   "codemirror_mode": {
    "name": "ipython",
    "version": 3
   },
   "file_extension": ".py",
   "mimetype": "text/x-python",
   "name": "python",
   "nbconvert_exporter": "python",
   "pygments_lexer": "ipython3",
   "version": "3.12.4"
  }
 },
 "nbformat": 4,
 "nbformat_minor": 2
}
