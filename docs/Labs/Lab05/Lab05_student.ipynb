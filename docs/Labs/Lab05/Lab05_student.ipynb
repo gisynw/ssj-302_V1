{
 "cells": [
  {
   "cell_type": "markdown",
   "metadata": {},
   "source": [
    "<h3 style=\"text-align: center;\">Lab 05: Matplotlib Seaborn Plotly</h3>\n",
    "\n",
    "- This lab covers data visualization techniques using Matplotlib, Seaborn, and Plotly, including topics such as creating line plots, bar charts, scatter plots, and spatial map. \n",
    "\n",
    "- There are three questions in total. Please provide your code answers directly below each question.\n",
    "\n",
    "- Make sure to run all cells so that the answers are stored. Once completed, submit the file (**ensuring that all answers are included**) to Canvas by **midnight (11:29 PM) on October 06**.\n",
    "\n",
    "- This lab is worth a total of **65 points** and contributes **6.5%** toward the final grade.\n",
    "\n",
    "- The data for this lab is: Parking.csv"
   ]
  },
  {
   "cell_type": "code",
   "execution_count": 1,
   "metadata": {},
   "outputs": [
    {
     "data": {
      "text/plain": [
       "'f:\\\\Clark_Universiy\\\\Clark_Teaching\\\\Git_Repo\\\\ssj-302\\\\docs\\\\Labs\\\\Lab05'"
      ]
     },
     "execution_count": 1,
     "metadata": {},
     "output_type": "execute_result"
    }
   ],
   "source": [
    "import pandas as pd\n",
    "import os\n",
    "from pathlib import Path\n",
    "import matplotlib.pyplot as plt\n",
    "import plotly.graph_objects as go\n",
    "\n",
    "notebook_path = Path(os.path.abspath(\"__file__\")).parent\n",
    "os.chdir(notebook_path)\n",
    "os.getcwd()"
   ]
  },
  {
   "cell_type": "markdown",
   "metadata": {},
   "source": [
    "### 1. Create a line plot using Matplotlib or Seaborn to visualize the top ten streets with the highest number of parking meters （20 points）\n",
    "- Street column: STREET"
   ]
  },
  {
   "cell_type": "markdown",
   "metadata": {},
   "source": [
    "### 2. Develop an interactive bar chart that displays the top ten streets with the highest number of parking meters. （20 points）"
   ]
  },
  {
   "cell_type": "markdown",
   "metadata": {},
   "source": [
    "### 3. Create a spatial map to show the location of parking meters (25 points)\n",
    "- The map's center should focus on Boston area\n",
    "- The pop-up window shows: Street and METER_TYPE"
   ]
  }
 ],
 "metadata": {
  "kernelspec": {
   "display_name": "base",
   "language": "python",
   "name": "python3"
  },
  "language_info": {
   "codemirror_mode": {
    "name": "ipython",
    "version": 3
   },
   "file_extension": ".py",
   "mimetype": "text/x-python",
   "name": "python",
   "nbconvert_exporter": "python",
   "pygments_lexer": "ipython3",
   "version": "3.7.6"
  }
 },
 "nbformat": 4,
 "nbformat_minor": 2
}
