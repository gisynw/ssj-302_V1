{
 "cells": [
  {
   "cell_type": "markdown",
   "metadata": {},
   "source": [
    "# Build GP tools with Python\n",
    "\n",
    "## Reference\n",
    "\n",
    "- [Building Geoprocessing Tools with Python: Getting Started](https://www.youtube.com/watch?v=iTZytnBcagQ&ab_channel=EsriEvents)\n",
    "- [Building Geoprocessing Tools with Python: Beyond the Basics](https://www.youtube.com/watch?v=r8CenylJ7c0&ab_channel=EsriEvents)\n"
   ]
  },
  {
   "cell_type": "markdown",
   "metadata": {},
   "source": [
    "## Basics\n",
    "\n",
    "A geoprocessing tool is made from 3 main ingredients\n",
    "\n",
    "1. `Parameters`\n",
    "2. `Validation`\n",
    "3. Source Code\n",
    "\n",
    "How a tool works (life cycle)\n",
    "\n",
    "1. Tool opens\n",
    "\n",
    "   - Tool parameters are initialized based on their definitions\n",
    "\n",
    "2. Any interaction with the tool, the following steps occur\n",
    "\n",
    "   - updateParameters (written by you)\n",
    "   - Internal validation is called\n",
    "   - updateMessages (written by you)\n",
    "\n",
    "3. Run the tool (`Run` button is clicked)\n",
    "\n",
    "   - Arguments are sent\n",
    "   - `.py` is called\n",
    "\n",
    "4. Value are sent to the script\n",
    "\n",
    "   - script receives arguments with `GetParameter` or `GetParameterAsText`\n",
    "\n",
    "5. Script runs\n",
    "\n",
    "   - Script can communicate with the app using `messages`, and the `progressor`\n",
    "   - Can respond to a cancellation\n",
    "\n",
    "6. Derived value are set\n",
    "\n",
    "   - If any, but **every tool should have an output**\n",
    "\n",
    "7. Tool finishes\n",
    "   - Outputs are added to the map, symbology is applied\n",
    "   - Tool result is added to the history\n"
   ]
  },
  {
   "cell_type": "code",
   "execution_count": null,
   "metadata": {},
   "outputs": [],
   "source": []
  }
 ],
 "metadata": {
  "language_info": {
   "name": "python"
  }
 },
 "nbformat": 4,
 "nbformat_minor": 2
}
