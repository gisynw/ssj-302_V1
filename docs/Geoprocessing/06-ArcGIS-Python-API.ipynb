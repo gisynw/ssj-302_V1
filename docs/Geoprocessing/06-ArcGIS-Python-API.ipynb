{
 "cells": [
  {
   "cell_type": "markdown",
   "metadata": {},
   "source": [
    "# ArcGIS Python API\n",
    "\n",
    "- `ArcGIS Python API` empowers users to leverage `Python` programming to interact with `ArcGIS Online` or `ArcGIS Enterprise`, facilitating tasks such as `managing content`, `creating web layers`, `querying data`, and `conducting spatial analysis`.\n",
    "- [ArcGIS Python API Documentation](https://developers.arcgis.com/python/)\n",
    "- [ArcGIS Python API Module](https://developers.arcgis.com/python/api-reference/arcgis.gis.toc.html)\n"
   ]
  },
  {
   "cell_type": "code",
   "execution_count": 1,
   "metadata": {},
   "outputs": [],
   "source": [
    "# import the GIS class in gis module\n",
    "import arcgis\n",
    "from arcgis.gis import GIS\n",
    "from arcgis.features import FeatureLayerCollection\n",
    "from time import strftime\n",
    "import os, requests, zipfile\n",
    "import pandas as pd\n",
    "import geopandas as gpd\n",
    "import arcpy,datetime,json"
   ]
  },
  {
   "cell_type": "markdown",
   "metadata": {},
   "source": [
    "## Installation and Setup\n",
    "\n",
    "- Install the `ArcGIS API for Python` using `pip`\n",
    "- Access `ArcGIS Online` or `ArcGIS Enterprise` by providing your credentials.\n"
   ]
  },
  {
   "cell_type": "markdown",
   "metadata": {},
   "source": [
    "## Managing Content\n",
    "\n",
    "### Connecting to `ArcGIS`\n"
   ]
  },
  {
   "cell_type": "code",
   "execution_count": 2,
   "metadata": {},
   "outputs": [
    {
     "name": "stdout",
     "output_type": "stream",
     "text": [
      "Logged in as yxy180050@utdallas.edu_UTDEPPS\n"
     ]
    }
   ],
   "source": [
    "gis = GIS(\"home\")\n",
    "print(\"Logged in as \" + str(gis.properties.user.username))"
   ]
  },
  {
   "cell_type": "markdown",
   "metadata": {},
   "source": [
    "### Accessing GIS Content\n"
   ]
  },
  {
   "cell_type": "code",
   "execution_count": 3,
   "metadata": {},
   "outputs": [
    {
     "data": {
      "text/plain": [
       "[<Item title:\"Using Python: Homelessness Resource Allocation Project\" type:StoryMap owner:tbh160130@utdallas.edu_UTDEPPS>,\n",
       " <Item title:\"Linear Sampling Toolbox\" type:Geoprocessing Sample owner:elvini>,\n",
       " <Item title:\"Areal Sampling Toolbox\" type:Geoprocessing Sample owner:elvini>,\n",
       " <Item title:\"Kalani's_Personal_Story\" type:Web Mapping Application owner:kct200000@utdallas.edu_UTDEPPS>,\n",
       " <Item title:\"Top 10 Largest Anime Conventions in America\" type:StoryMap owner:acj190002@utdallas.edu_UTDEPPS>]"
      ]
     },
     "execution_count": 3,
     "metadata": {},
     "output_type": "execute_result"
    }
   ],
   "source": [
    "# List user's content\n",
    "user_content = gis.content.search(query=\"*\")\n",
    "user_content[:5]"
   ]
  },
  {
   "cell_type": "markdown",
   "metadata": {},
   "source": [
    "### Uploading Data\n"
   ]
  },
  {
   "cell_type": "code",
   "execution_count": 4,
   "metadata": {},
   "outputs": [
    {
     "name": "stdout",
     "output_type": "stream",
     "text": [
      "Shapefile uploaded successfully.\n"
     ]
    }
   ],
   "source": [
    "    \n",
    "shapefile_path = \"./assets/StorageTankLocations_Active2024_05.zip\"\n",
    "# Search for existing items with the same name\n",
    "existing_items = gis.content.search(query=f'title:\"StorageTankLocations_Active2024_05\"')\n",
    "\n",
    "# Delete existing items\n",
    "for item in existing_items:\n",
    "    item.delete()\n",
    "\n",
    "# Upload the shapefile\n",
    "try:\n",
    "    uploaded_item = gis.content.add({}, shapefile_path)\n",
    "    print(\"Shapefile uploaded successfully.\")\n",
    "except Exception as e:\n",
    "    print(\"Error uploading shapefile:\", e)"
   ]
  },
  {
   "cell_type": "code",
   "execution_count": 5,
   "metadata": {},
   "outputs": [
    {
     "data": {
      "text/html": [
       "<div class=\"item_container\" style=\"height: auto; overflow: hidden; border: 1px solid #cfcfcf; border-radius: 2px; background: #f6fafa; line-height: 1.21429em; padding: 10px;\">\n",
       "                    <div class=\"item_left\" style=\"width: 210px; float: left;\">\n",
       "                       <a href='https://www.arcgis.com//home/item.html?id=d2915733660a42bca34602d3c16ae7d5' target='_blank'>\n",
       "                        <img src='http://static.arcgis.com/images/desktopapp.png' class=\"itemThumbnail\">\n",
       "                       </a>\n",
       "                    </div>\n",
       "\n",
       "                    <div class=\"item_right\"     style=\"float: none; width: auto; overflow: hidden;\">\n",
       "                        <a href='https://www.arcgis.com//home/item.html?id=d2915733660a42bca34602d3c16ae7d5' target='_blank'><b>StorageTankLocations_Active2024_05</b>\n",
       "                        </a>\n",
       "                        <br/><img src='https://www.arcgis.com//home/js/jsapi/esri/css/images/item_type_icons/datafiles16.png' style=\"vertical-align:middle;\" width=16 height=16>Shapefile by yxy180050@utdallas.edu_UTDEPPS\n",
       "                        <br/>Last Modified: June 05, 2024\n",
       "                        <br/>0 comments, 0 views\n",
       "                    </div>\n",
       "                </div>\n",
       "                "
      ],
      "text/plain": [
       "<Item title:\"StorageTankLocations_Active2024_05\" type:Shapefile owner:yxy180050@utdallas.edu_UTDEPPS>"
      ]
     },
     "execution_count": 5,
     "metadata": {},
     "output_type": "execute_result"
    }
   ],
   "source": [
    "uploaded_item"
   ]
  },
  {
   "cell_type": "markdown",
   "metadata": {},
   "source": [
    "## Creating Web Layers\n",
    "\n",
    "### Publishing Feature Layer\n"
   ]
  },
  {
   "cell_type": "code",
   "execution_count": 6,
   "metadata": {},
   "outputs": [],
   "source": [
    "try:\n",
    "    # Publish a feature layer from a shapefile\n",
    "    published_item = uploaded_item.publish()\n",
    "except Exception as e:\n",
    "    print(e)\n"
   ]
  },
  {
   "cell_type": "code",
   "execution_count": 7,
   "metadata": {},
   "outputs": [
    {
     "data": {
      "text/html": [
       "<div class=\"item_container\" style=\"height: auto; overflow: hidden; border: 1px solid #cfcfcf; border-radius: 2px; background: #f6fafa; line-height: 1.21429em; padding: 10px;\">\n",
       "                    <div class=\"item_left\" style=\"width: 210px; float: left;\">\n",
       "                       <a href='https://www.arcgis.com//home/item.html?id=0fb67f50b99e4979a9fc49da11c9148e' target='_blank'>\n",
       "                        <img src='http://static.arcgis.com/images/desktopapp.png' class=\"itemThumbnail\">\n",
       "                       </a>\n",
       "                    </div>\n",
       "\n",
       "                    <div class=\"item_right\"     style=\"float: none; width: auto; overflow: hidden;\">\n",
       "                        <a href='https://www.arcgis.com//home/item.html?id=0fb67f50b99e4979a9fc49da11c9148e' target='_blank'><b>StorageTankLocations_Active2024_05</b>\n",
       "                        </a>\n",
       "                        <br/><img src='https://www.arcgis.com//home/js/jsapi/esri/css/images/item_type_icons/featureshosted16.png' style=\"vertical-align:middle;\" width=16 height=16>Feature Layer Collection by yxy180050@utdallas.edu_UTDEPPS\n",
       "                        <br/>Last Modified: June 05, 2024\n",
       "                        <br/>0 comments, 0 views\n",
       "                    </div>\n",
       "                </div>\n",
       "                "
      ],
      "text/plain": [
       "<Item title:\"StorageTankLocations_Active2024_05\" type:Feature Layer Collection owner:yxy180050@utdallas.edu_UTDEPPS>"
      ]
     },
     "execution_count": 7,
     "metadata": {},
     "output_type": "execute_result"
    }
   ],
   "source": [
    "published_item = gis.content.search(query= 'StorageTankLocations_Active2024_05',item_type= \"Feature Layer\")\n",
    "published_item[0]"
   ]
  },
  {
   "cell_type": "markdown",
   "metadata": {},
   "source": [
    "### Creating Web Map\n"
   ]
  },
  {
   "cell_type": "code",
   "execution_count": 8,
   "metadata": {},
   "outputs": [
    {
     "data": {
      "text/plain": [
       "arcgis.gis.Item"
      ]
     },
     "execution_count": 8,
     "metadata": {},
     "output_type": "execute_result"
    }
   ],
   "source": [
    "type(published_item[0])"
   ]
  },
  {
   "cell_type": "code",
   "execution_count": 9,
   "metadata": {},
   "outputs": [
    {
     "data": {
      "text/plain": [
       "[]"
      ]
     },
     "execution_count": 9,
     "metadata": {},
     "output_type": "execute_result"
    }
   ],
   "source": [
    "# Create a new web map item with required properties\n",
    "web_map_properties = {\n",
    "    'type': 'Web Map',  # Specify the type of item\n",
    "    'title': 'My Web Map', \n",
    "    'snippet': 'Created with ArcGIS Python API'\n",
    "}\n",
    "web_map_item = gis.content.add(web_map_properties)\n",
    "\n",
    "# Get the web map object\n",
    "web_map = arcgis.mapping.WebMap()\n",
    "web_map.definition = {'operationalLayers': []}  # Initialize with empty operational layers\n",
    "\n",
    "web_map.layers"
   ]
  },
  {
   "cell_type": "code",
   "execution_count": 10,
   "metadata": {},
   "outputs": [
    {
     "data": {
      "text/plain": [
       "True"
      ]
     },
     "execution_count": 10,
     "metadata": {},
     "output_type": "execute_result"
    }
   ],
   "source": [
    "# Add the layer to the web map\n",
    "web_map.add_layer(published_item[0])\n",
    "\n",
    "# Save the web map\n",
    "web_map_item.update(data=web_map)"
   ]
  },
  {
   "cell_type": "code",
   "execution_count": 11,
   "metadata": {},
   "outputs": [
    {
     "data": {
      "text/html": [
       "<div class=\"item_container\" style=\"height: auto; overflow: hidden; border: 1px solid #cfcfcf; border-radius: 2px; background: #f6fafa; line-height: 1.21429em; padding: 10px;\">\n",
       "                    <div class=\"item_left\" style=\"width: 210px; float: left;\">\n",
       "                       <a href='https://www.arcgis.com//home/item.html?id=9e5ca5a3c7f34cca989ca4c628014353' target='_blank'>\n",
       "                        <img src='http://static.arcgis.com/images/desktopapp.png' class=\"itemThumbnail\">\n",
       "                       </a>\n",
       "                    </div>\n",
       "\n",
       "                    <div class=\"item_right\"     style=\"float: none; width: auto; overflow: hidden;\">\n",
       "                        <a href='https://www.arcgis.com//home/item.html?id=9e5ca5a3c7f34cca989ca4c628014353' target='_blank'><b>My Web Map</b>\n",
       "                        </a>\n",
       "                        <br/>Created with ArcGIS Python API<img src='https://www.arcgis.com//home/js/jsapi/esri/css/images/item_type_icons/maps16.png' style=\"vertical-align:middle;\" width=16 height=16>Web Map by yxy180050@utdallas.edu_UTDEPPS\n",
       "                        <br/>Last Modified: June 05, 2024\n",
       "                        <br/>0 comments, 0 views\n",
       "                    </div>\n",
       "                </div>\n",
       "                "
      ],
      "text/plain": [
       "<Item title:\"My Web Map\" type:Web Map owner:yxy180050@utdallas.edu_UTDEPPS>"
      ]
     },
     "execution_count": 11,
     "metadata": {},
     "output_type": "execute_result"
    }
   ],
   "source": [
    "web_map_item"
   ]
  },
  {
   "cell_type": "markdown",
   "metadata": {},
   "source": [
    "## Querying Data\n",
    "\n",
    "### Querying Feature Layer\n"
   ]
  },
  {
   "cell_type": "code",
   "execution_count": 12,
   "metadata": {},
   "outputs": [
    {
     "name": "stdout",
     "output_type": "stream",
     "text": [
      "FID, FACILITY_I, FACILITY_N, FACILITY_A, FACILITY_1, FACILITY_C, FACILITY_S, FACILITY_Z, COUNTY_ID, FACILITY_2, MUNICIPALI, FACILITY_M, REG_EXPIRA, TANK_OWNER, TANK_OWN_1, TANK_OWN_2, TANK_OWN_3, TANK_OWN_4, TANK_OWN_5, TANK_OWN_6, PRIMARY_FA, SITE_ID, LATITUDE, LONGITUDE, TANK_INFOR, "
     ]
    }
   ],
   "source": [
    "type(published_item[0])\n",
    "\n",
    "query_layer = arcgis.features.FeatureLayer.fromitem(published_item[0])\n",
    "\n",
    "# Get the fields of the feature layer\n",
    "fields = query_layer.properties.fields\n",
    "\n",
    "# Print field names\n",
    "for field in fields:\n",
    "    print(field[\"name\"], end= \", \")"
   ]
  }
 ],
 "metadata": {
  "kernelspec": {
   "display_name": "Python 3 (ipykernel)",
   "language": "python",
   "name": "python3"
  },
  "language_info": {
   "codemirror_mode": {
    "name": "ipython",
    "version": 3
   },
   "file_extension": ".py",
   "mimetype": "text/x-python",
   "name": "python",
   "nbconvert_exporter": "python",
   "pygments_lexer": "ipython3",
   "version": "3.9.18"
  }
 },
 "nbformat": 4,
 "nbformat_minor": 4
}
